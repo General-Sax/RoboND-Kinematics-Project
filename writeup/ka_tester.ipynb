{
 "cells": [
  {
   "cell_type": "code",
   "execution_count": 22,
   "metadata": {},
   "outputs": [],
   "source": [
    "import sympy as sp\n",
    "from sympy import pi, cos, sin, sqrt, atan2, acos, simplify \n",
    "from sympy.matrices import Matrix, eye\n",
    "from mpmath import degrees, radians"
   ]
  },
  {
   "cell_type": "code",
   "execution_count": 10,
   "metadata": {},
   "outputs": [],
   "source": [
    "sp.init_printing(use_latex='mathjax')"
   ]
  },
  {
   "cell_type": "code",
   "execution_count": 19,
   "metadata": {},
   "outputs": [],
   "source": [
    "# from kinematic_analysis import *\n",
    "# import kinematic_analysis as ka"
   ]
  },
  {
   "cell_type": "code",
   "execution_count": 14,
   "metadata": {},
   "outputs": [
    {
     "data": {
      "text/plain": [
       "Matrix([\n",
       "[1],\n",
       "[2],\n",
       "[d],\n",
       "[1]])"
      ]
     },
     "execution_count": 14,
     "metadata": {},
     "output_type": "execute_result"
    }
   ],
   "source": [
    "ka.column((1, 2, ka.Symbol('d')), homogeneous=True)"
   ]
  },
  {
   "cell_type": "code",
   "execution_count": 17,
   "metadata": {},
   "outputs": [],
   "source": [
    "q1, q2, q3, q4, q5, q6 = ka.symbols('q1:7')"
   ]
  },
  {
   "cell_type": "code",
   "execution_count": 18,
   "metadata": {},
   "outputs": [
    {
     "data": {
      "text/plain": [
       "Matrix([\n",
       "[-sin(q4)*sin(q6)*cos(q5) + cos(q4)*cos(q6), -sin(q4)*cos(q5)*cos(q6) - sin(q6)*cos(q4),  sin(q4)*sin(q5)],\n",
       "[ sin(q4)*cos(q6) + sin(q6)*cos(q4)*cos(q5), -sin(q4)*sin(q6) + cos(q4)*cos(q5)*cos(q6), -sin(q5)*cos(q4)],\n",
       "[                           sin(q5)*sin(q6),                            sin(q5)*cos(q6),          cos(q5)]])"
      ]
     },
     "execution_count": 18,
     "metadata": {},
     "output_type": "execute_result"
    }
   ],
   "source": [
    "# ka.compose_sym_rotations([()])\n",
    "R_wc_ee = ka.simplify(ka.compose_sym_rotations([('z', q6), ('x', q5), ('z', q4)]))\n",
    "R_wc_ee"
   ]
  },
  {
   "cell_type": "code",
   "execution_count": 5,
   "metadata": {},
   "outputs": [],
   "source": [
    "def column(spatial_components, homogeneous=False):\n",
    "    '''\n",
    "    Convenience function that ensures consistent use of appropriate column-aligned sympy vectors.\n",
    "\n",
    "    :param spatial_components: ordered iterable of objects compatible with sympy matrices\n",
    "    :param homogeneous: bool; generate homogeneous coordinate vector by adding a 4th row containing a 1\n",
    "    '''\n",
    "    column_matrix = [[item] for item in spatial_components]\n",
    "    if homogeneous:\n",
    "        column_matrix.append([1])\n",
    "    return Matrix(column_matrix)\n",
    "\n",
    "\n",
    "def sym_rot_x(q):\n",
    "    '''\n",
    "    Construct a symbolic matrix corresponding to a rotatation about the x-axis\n",
    "    '''\n",
    "    R_x = Matrix([\n",
    "        [1, 0, 0],\n",
    "        [0, cos(q), -sin(q)],\n",
    "        [0, sin(q), cos(q)],\n",
    "    ])\n",
    "    return R_x\n",
    "\n",
    "\n",
    "def sym_rot_y(q):\n",
    "    R_y = Matrix([\n",
    "        [cos(q), 0, sin(q)],\n",
    "        [0, 1, 0],\n",
    "        [-sin(q), 0, cos(q)],\n",
    "    ])\n",
    "    return R_y\n",
    "\n",
    "\n",
    "def sym_rot_z(q):\n",
    "    R_z = Matrix([\n",
    "        [cos(q), -sin(q), 0],\n",
    "        [sin(q), cos(q), 0],\n",
    "        [0, 0, 1],\n",
    "    ])\n",
    "    return R_z\n",
    "\n",
    "\n",
    "def compose_sym_rotations(rotations):\n",
    "    '''\n",
    "    Compose a sympy rotation matrix corresponding to the sequence of rotations given.\n",
    "    rotations: ordered iterable (of arbitrary length), which contains iterables of form (axis, radian_angle),\n",
    "        where axis is an element of {'x', 'y', 'z'}.\n",
    "    '''\n",
    "    transform_about = {\n",
    "        'x': sym_rot_x,\n",
    "        'y': sym_rot_y,\n",
    "        'z': sym_rot_z,\n",
    "    }\n",
    "\n",
    "    iteratively_composed_matrix = eye(3)\n",
    "\n",
    "    for rotation in rotations:\n",
    "        rotation_axis, rotation_angle = rotation[0], rotation[1]\n",
    "        new_transform = transform_about[rotation_axis](rotation_angle)\n",
    "        iteratively_composed_matrix = new_transform * iteratively_composed_matrix\n",
    "\n",
    "    return iteratively_composed_matrix\n",
    "\n",
    "\n",
    "def sym_tf_matrix(rotation_list, translation):\n",
    "    '''\n",
    "    :param rotation_list: rotation sequence as specified by compose_sym_rotations function\n",
    "    :param translation: iterable of cartesian coords of cumulative translation (x, y, z)\n",
    "    :return: 4x4 sympy Matrix representing dh transform\n",
    "    '''\n",
    "    rot_matrix = compose_sym_rotations(rotation_list)\n",
    "    return rot_matrix.col_join(Matrix([[0, 0, 0]])).row_join(\n",
    "        column(translation, homogeneous=True))\n",
    "\n",
    "\n",
    "def single_dh_transform_step(alpha, a, d, q):\n",
    "    # alpha, a, d, q = twist_angle, link_length, joint_angle, link_offset\n",
    "    sub_transform_x = sym_tf_matrix([('x', alpha)], (a, 0, 0))\n",
    "    sub_transform_z = sym_tf_matrix([('z', q)], (0, 0, d))\n",
    "    return sp.simplify(sub_transform_x * sub_transform_z)\n",
    "\n",
    "\n",
    "def rotation_sub_matrix(dh_transform_matrix):\n",
    "    return dh_transform_matrix[0:3, 0:3]\n",
    "\n",
    "\n",
    "def translation_sub_matrix(dh_transform_matrix):\n",
    "    return dh_transform_matrix[0:3, 3]"
   ]
  },
  {
   "cell_type": "code",
   "execution_count": 6,
   "metadata": {},
   "outputs": [],
   "source": [
    "# Elementary basis vectors x, y, z (non-homogeneous representation)\n",
    "e_x = column((1, 0, 0))\n",
    "e_y = column((0, 1, 0))\n",
    "e_z = column((0, 0, 1))\n",
    "# Homogeneous elementary basis vectors x, y, z\n",
    "e_x_h = column((1, 0, 0), homogeneous=True)\n",
    "e_y_h = column((0, 1, 0), homogeneous=True)\n",
    "e_z_h = column((0, 0, 1), homogeneous=True)"
   ]
  },
  {
   "cell_type": "code",
   "execution_count": 7,
   "metadata": {},
   "outputs": [],
   "source": [
    "#######################################\n",
    "# Create symbols\n",
    "# symbols for DH parameters\n",
    "q1, q2, q3, q4, q5, q6, q7 = sp.symbols('q1:8')  # theta angles\n",
    "d1, d2, d3, d4, d5, d6, d7 = sp.symbols('d1:8')\n",
    "a0, a1, a2, a3, a4, a5, a6 = sp.symbols('a0:7')\n",
    "alpha0, alpha1, alpha2, alpha3, alpha4, alpha5, alpha6 = sp.symbols('alpha0:7')\n",
    "\n",
    "# symbols for end effector target coordinates in base_link reference frame\n",
    "x_target, y_target, z_target = sp.symbols('x_target y_target z_target')\n",
    "\n",
    "# Create symbols for wrist center location in base frame\n",
    "z_wrist, y_wrist, z_wrist = sp.symbols('wrist wrist z_wrist')\n",
    "\n",
    "# Create Modified DH parameters\n",
    "# Define the symbol dictionary which contains lookup values for the system\n",
    "# ATTENTION! Note that joints 4-6 share a common origin, actually located at the wrist center,\n",
    "# at the intersection of their Z axes.\n",
    "dh_parameters = {alpha0: 0,              a0: 0,      d1: 0.75,\n",
    "                 alpha1: -sp.pi / 2,     a1: 0.35,   d2: 0,      q2: q2 - sp.pi / 2,\n",
    "                 alpha2: 0,              a2: 1.25,   d3: 0,\n",
    "                 alpha3: -sp.pi / 2,     a3: -0.054, d4: 1.50,\n",
    "                 alpha4: sp.pi / 2,      a4: 0,      d5: 0,\n",
    "                 alpha5: -sp.pi / 2,     a5: 0,      d6: 0,\n",
    "                 alpha6: 0,              a6: 0,      d7: 0.303,  q7: 0\n",
    "                 }\n",
    "\n",
    "# Define Modified DH Transformation matrix"
   ]
  },
  {
   "cell_type": "code",
   "execution_count": 11,
   "metadata": {},
   "outputs": [],
   "source": [
    "# Create individual transformation matrices\n",
    "T0_1 = single_dh_transform_step(alpha0, a0, d1, q1).subs(dh_parameters)\n",
    "T1_2 = single_dh_transform_step(alpha1, a1, d2, q2).subs(dh_parameters)\n",
    "T2_3 = single_dh_transform_step(alpha2, a2, d3, q3).subs(dh_parameters)\n",
    "T3_4 = single_dh_transform_step(alpha3, a3, d4, q4).subs(dh_parameters)\n",
    "T4_5 = single_dh_transform_step(alpha4, a4, d5, q5).subs(dh_parameters)\n",
    "T5_6 = single_dh_transform_step(alpha5, a5, d6, q6).subs(dh_parameters)\n",
    "T6_7 = single_dh_transform_step(alpha6, a6, d7, q7).subs(dh_parameters)"
   ]
  },
  {
   "cell_type": "code",
   "execution_count": 12,
   "metadata": {},
   "outputs": [],
   "source": [
    "T0_EE = sp.simplify(T0_1 * T1_2 * T2_3 * T3_4 * T4_5 * T5_6 * T6_7)"
   ]
  },
  {
   "cell_type": "code",
   "execution_count": 13,
   "metadata": {},
   "outputs": [
    {
     "data": {
      "text/latex": [
       "$$\\left[\\begin{matrix}\\left(\\left(\\sin{\\left (q_{1} \\right )} \\sin{\\left (q_{4} \\right )} + \\sin{\\left (q_{2} + q_{3} \\right )} \\cos{\\left (q_{1} \\right )} \\cos{\\left (q_{4} \\right )}\\right) \\cos{\\left (q_{5} \\right )} + \\sin{\\left (q_{5} \\right )} \\cos{\\left (q_{1} \\right )} \\cos{\\left (q_{2} + q_{3} \\right )}\\right) \\cos{\\left (q_{6} \\right )} - \\left(- \\sin{\\left (q_{1} \\right )} \\cos{\\left (q_{4} \\right )} + \\sin{\\left (q_{4} \\right )} \\sin{\\left (q_{2} + q_{3} \\right )} \\cos{\\left (q_{1} \\right )}\\right) \\sin{\\left (q_{6} \\right )} & - \\left(\\left(\\sin{\\left (q_{1} \\right )} \\sin{\\left (q_{4} \\right )} + \\sin{\\left (q_{2} + q_{3} \\right )} \\cos{\\left (q_{1} \\right )} \\cos{\\left (q_{4} \\right )}\\right) \\cos{\\left (q_{5} \\right )} + \\sin{\\left (q_{5} \\right )} \\cos{\\left (q_{1} \\right )} \\cos{\\left (q_{2} + q_{3} \\right )}\\right) \\sin{\\left (q_{6} \\right )} + \\left(\\sin{\\left (q_{1} \\right )} \\cos{\\left (q_{4} \\right )} - \\sin{\\left (q_{4} \\right )} \\sin{\\left (q_{2} + q_{3} \\right )} \\cos{\\left (q_{1} \\right )}\\right) \\cos{\\left (q_{6} \\right )} & - \\left(\\sin{\\left (q_{1} \\right )} \\sin{\\left (q_{4} \\right )} + \\sin{\\left (q_{2} + q_{3} \\right )} \\cos{\\left (q_{1} \\right )} \\cos{\\left (q_{4} \\right )}\\right) \\sin{\\left (q_{5} \\right )} + \\cos{\\left (q_{1} \\right )} \\cos{\\left (q_{5} \\right )} \\cos{\\left (q_{2} + q_{3} \\right )} & - 0.303 \\sin{\\left (q_{1} \\right )} \\sin{\\left (q_{4} \\right )} \\sin{\\left (q_{5} \\right )} + 1.25 \\sin{\\left (q_{2} \\right )} \\cos{\\left (q_{1} \\right )} - 0.303 \\sin{\\left (q_{5} \\right )} \\sin{\\left (q_{2} + q_{3} \\right )} \\cos{\\left (q_{1} \\right )} \\cos{\\left (q_{4} \\right )} - 0.054 \\sin{\\left (q_{2} + q_{3} \\right )} \\cos{\\left (q_{1} \\right )} + 0.303 \\cos{\\left (q_{1} \\right )} \\cos{\\left (q_{5} \\right )} \\cos{\\left (q_{2} + q_{3} \\right )} + 1.5 \\cos{\\left (q_{1} \\right )} \\cos{\\left (q_{2} + q_{3} \\right )} + 0.35 \\cos{\\left (q_{1} \\right )}\\\\\\left(\\left(\\sin{\\left (q_{1} \\right )} \\sin{\\left (q_{2} + q_{3} \\right )} \\cos{\\left (q_{4} \\right )} - \\sin{\\left (q_{4} \\right )} \\cos{\\left (q_{1} \\right )}\\right) \\cos{\\left (q_{5} \\right )} + \\sin{\\left (q_{1} \\right )} \\sin{\\left (q_{5} \\right )} \\cos{\\left (q_{2} + q_{3} \\right )}\\right) \\cos{\\left (q_{6} \\right )} - \\left(\\sin{\\left (q_{1} \\right )} \\sin{\\left (q_{4} \\right )} \\sin{\\left (q_{2} + q_{3} \\right )} + \\cos{\\left (q_{1} \\right )} \\cos{\\left (q_{4} \\right )}\\right) \\sin{\\left (q_{6} \\right )} & - \\left(\\left(\\sin{\\left (q_{1} \\right )} \\sin{\\left (q_{2} + q_{3} \\right )} \\cos{\\left (q_{4} \\right )} - \\sin{\\left (q_{4} \\right )} \\cos{\\left (q_{1} \\right )}\\right) \\cos{\\left (q_{5} \\right )} + \\sin{\\left (q_{1} \\right )} \\sin{\\left (q_{5} \\right )} \\cos{\\left (q_{2} + q_{3} \\right )}\\right) \\sin{\\left (q_{6} \\right )} - \\left(\\sin{\\left (q_{1} \\right )} \\sin{\\left (q_{4} \\right )} \\sin{\\left (q_{2} + q_{3} \\right )} + \\cos{\\left (q_{1} \\right )} \\cos{\\left (q_{4} \\right )}\\right) \\cos{\\left (q_{6} \\right )} & - \\left(\\sin{\\left (q_{1} \\right )} \\sin{\\left (q_{2} + q_{3} \\right )} \\cos{\\left (q_{4} \\right )} - \\sin{\\left (q_{4} \\right )} \\cos{\\left (q_{1} \\right )}\\right) \\sin{\\left (q_{5} \\right )} + \\sin{\\left (q_{1} \\right )} \\cos{\\left (q_{5} \\right )} \\cos{\\left (q_{2} + q_{3} \\right )} & 1.25 \\sin{\\left (q_{1} \\right )} \\sin{\\left (q_{2} \\right )} - 0.303 \\sin{\\left (q_{1} \\right )} \\sin{\\left (q_{5} \\right )} \\sin{\\left (q_{2} + q_{3} \\right )} \\cos{\\left (q_{4} \\right )} - 0.054 \\sin{\\left (q_{1} \\right )} \\sin{\\left (q_{2} + q_{3} \\right )} + 0.303 \\sin{\\left (q_{1} \\right )} \\cos{\\left (q_{5} \\right )} \\cos{\\left (q_{2} + q_{3} \\right )} + 1.5 \\sin{\\left (q_{1} \\right )} \\cos{\\left (q_{2} + q_{3} \\right )} + 0.35 \\sin{\\left (q_{1} \\right )} + 0.303 \\sin{\\left (q_{4} \\right )} \\sin{\\left (q_{5} \\right )} \\cos{\\left (q_{1} \\right )}\\\\- \\left(\\sin{\\left (q_{5} \\right )} \\sin{\\left (q_{2} + q_{3} \\right )} - \\cos{\\left (q_{4} \\right )} \\cos{\\left (q_{5} \\right )} \\cos{\\left (q_{2} + q_{3} \\right )}\\right) \\cos{\\left (q_{6} \\right )} - \\sin{\\left (q_{4} \\right )} \\sin{\\left (q_{6} \\right )} \\cos{\\left (q_{2} + q_{3} \\right )} & \\left(\\sin{\\left (q_{5} \\right )} \\sin{\\left (q_{2} + q_{3} \\right )} - \\cos{\\left (q_{4} \\right )} \\cos{\\left (q_{5} \\right )} \\cos{\\left (q_{2} + q_{3} \\right )}\\right) \\sin{\\left (q_{6} \\right )} - \\sin{\\left (q_{4} \\right )} \\cos{\\left (q_{6} \\right )} \\cos{\\left (q_{2} + q_{3} \\right )} & - \\sin{\\left (q_{5} \\right )} \\cos{\\left (q_{4} \\right )} \\cos{\\left (q_{2} + q_{3} \\right )} - \\sin{\\left (q_{2} + q_{3} \\right )} \\cos{\\left (q_{5} \\right )} & - 0.303 \\sin{\\left (q_{5} \\right )} \\cos{\\left (q_{4} \\right )} \\cos{\\left (q_{2} + q_{3} \\right )} - 0.303 \\sin{\\left (q_{2} + q_{3} \\right )} \\cos{\\left (q_{5} \\right )} - 1.5 \\sin{\\left (q_{2} + q_{3} \\right )} + 1.25 \\cos{\\left (q_{2} \\right )} - 0.054 \\cos{\\left (q_{2} + q_{3} \\right )} + 0.75\\\\0 & 0 & 0 & 1\\end{matrix}\\right]$$"
      ],
      "text/plain": [
       "⎡((sin(q₁)⋅sin(q₄) + sin(q₂ + q₃)⋅cos(q₁)⋅cos(q₄))⋅cos(q₅) + sin(q₅)⋅cos(q₁)⋅c\n",
       "⎢                                                                             \n",
       "⎢((sin(q₁)⋅sin(q₂ + q₃)⋅cos(q₄) - sin(q₄)⋅cos(q₁))⋅cos(q₅) + sin(q₁)⋅sin(q₅)⋅c\n",
       "⎢                                                                             \n",
       "⎢                                -(sin(q₅)⋅sin(q₂ + q₃) - cos(q₄)⋅cos(q₅)⋅cos(\n",
       "⎢                                                                             \n",
       "⎣                                                                             \n",
       "\n",
       "os(q₂ + q₃))⋅cos(q₆) - (-sin(q₁)⋅cos(q₄) + sin(q₄)⋅sin(q₂ + q₃)⋅cos(q₁))⋅sin(q\n",
       "                                                                              \n",
       "os(q₂ + q₃))⋅cos(q₆) - (sin(q₁)⋅sin(q₄)⋅sin(q₂ + q₃) + cos(q₁)⋅cos(q₄))⋅sin(q₆\n",
       "                                                                              \n",
       "q₂ + q₃))⋅cos(q₆) - sin(q₄)⋅sin(q₆)⋅cos(q₂ + q₃)                              \n",
       "                                                                              \n",
       " 0                                                                            \n",
       "\n",
       "₆)  -((sin(q₁)⋅sin(q₄) + sin(q₂ + q₃)⋅cos(q₁)⋅cos(q₄))⋅cos(q₅) + sin(q₅)⋅cos(q\n",
       "                                                                              \n",
       ")   -((sin(q₁)⋅sin(q₂ + q₃)⋅cos(q₄) - sin(q₄)⋅cos(q₁))⋅cos(q₅) + sin(q₁)⋅sin(q\n",
       "                                                                              \n",
       "                                    (sin(q₅)⋅sin(q₂ + q₃) - cos(q₄)⋅cos(q₅)⋅co\n",
       "                                                                              \n",
       "                                                                              \n",
       "\n",
       "₁)⋅cos(q₂ + q₃))⋅sin(q₆) + (sin(q₁)⋅cos(q₄) - sin(q₄)⋅sin(q₂ + q₃)⋅cos(q₁))⋅co\n",
       "                                                                              \n",
       "₅)⋅cos(q₂ + q₃))⋅sin(q₆) - (sin(q₁)⋅sin(q₄)⋅sin(q₂ + q₃) + cos(q₁)⋅cos(q₄))⋅co\n",
       "                                                                              \n",
       "s(q₂ + q₃))⋅sin(q₆) - sin(q₄)⋅cos(q₆)⋅cos(q₂ + q₃)                            \n",
       "                                                                              \n",
       "    0                                                                         \n",
       "\n",
       "s(q₆)  -(sin(q₁)⋅sin(q₄) + sin(q₂ + q₃)⋅cos(q₁)⋅cos(q₄))⋅sin(q₅) + cos(q₁)⋅cos\n",
       "                                                                              \n",
       "s(q₆)  -(sin(q₁)⋅sin(q₂ + q₃)⋅cos(q₄) - sin(q₄)⋅cos(q₁))⋅sin(q₅) + sin(q₁)⋅cos\n",
       "                                                                              \n",
       "                         -sin(q₅)⋅cos(q₄)⋅cos(q₂ + q₃) - sin(q₂ + q₃)⋅cos(q₅) \n",
       "                                                                              \n",
       "                                                  0                           \n",
       "\n",
       "(q₅)⋅cos(q₂ + q₃)  -0.303⋅sin(q₁)⋅sin(q₄)⋅sin(q₅) + 1.25⋅sin(q₂)⋅cos(q₁) - 0.3\n",
       "                                                                              \n",
       "(q₅)⋅cos(q₂ + q₃)  1.25⋅sin(q₁)⋅sin(q₂) - 0.303⋅sin(q₁)⋅sin(q₅)⋅sin(q₂ + q₃)⋅c\n",
       "                                                                              \n",
       "                                                           -0.303⋅sin(q₅)⋅cos(\n",
       "                                                                              \n",
       "                                                                              \n",
       "\n",
       "03⋅sin(q₅)⋅sin(q₂ + q₃)⋅cos(q₁)⋅cos(q₄) - 0.054⋅sin(q₂ + q₃)⋅cos(q₁) + 0.303⋅c\n",
       "                                                                              \n",
       "os(q₄) - 0.054⋅sin(q₁)⋅sin(q₂ + q₃) + 0.303⋅sin(q₁)⋅cos(q₅)⋅cos(q₂ + q₃) + 1.5\n",
       "                                                                              \n",
       "q₄)⋅cos(q₂ + q₃) - 0.303⋅sin(q₂ + q₃)⋅cos(q₅) - 1.5⋅sin(q₂ + q₃) + 1.25⋅cos(q₂\n",
       "                                                                              \n",
       "                                           1                                  \n",
       "\n",
       "os(q₁)⋅cos(q₅)⋅cos(q₂ + q₃) + 1.5⋅cos(q₁)⋅cos(q₂ + q₃) + 0.35⋅cos(q₁)⎤\n",
       "                                                                     ⎥\n",
       "⋅sin(q₁)⋅cos(q₂ + q₃) + 0.35⋅sin(q₁) + 0.303⋅sin(q₄)⋅sin(q₅)⋅cos(q₁) ⎥\n",
       "                                                                     ⎥\n",
       ") - 0.054⋅cos(q₂ + q₃) + 0.75                                        ⎥\n",
       "                                                                     ⎥\n",
       "                                                                     ⎦"
      ]
     },
     "execution_count": 13,
     "metadata": {},
     "output_type": "execute_result"
    }
   ],
   "source": [
    "T0_EE"
   ]
  },
  {
   "cell_type": "code",
   "execution_count": 14,
   "metadata": {},
   "outputs": [],
   "source": [
    "R0_1 = T0_1[0:3, 0:3]\n",
    "R1_2 = T1_2[0:3, 0:3]\n",
    "R2_3 = T2_3[0:3, 0:3]\n",
    "R3_4 = T3_4[0:3, 0:3]\n",
    "R4_5 = T4_5[0:3, 0:3]\n",
    "R5_6 = T5_6[0:3, 0:3]\n",
    "R6_7 = T6_7[0:3, 0:3]"
   ]
  },
  {
   "cell_type": "code",
   "execution_count": 15,
   "metadata": {},
   "outputs": [],
   "source": [
    "R0_EE = sp.simplify(R0_1 * R1_2 * R2_3 * R3_4 * R4_5 * R5_6 * R6_7)"
   ]
  },
  {
   "cell_type": "code",
   "execution_count": 16,
   "metadata": {},
   "outputs": [
    {
     "data": {
      "text/latex": [
       "$$\\left[\\begin{matrix}\\left(\\left(\\sin{\\left (q_{1} \\right )} \\sin{\\left (q_{4} \\right )} + \\sin{\\left (q_{2} + q_{3} \\right )} \\cos{\\left (q_{1} \\right )} \\cos{\\left (q_{4} \\right )}\\right) \\cos{\\left (q_{5} \\right )} + \\sin{\\left (q_{5} \\right )} \\cos{\\left (q_{1} \\right )} \\cos{\\left (q_{2} + q_{3} \\right )}\\right) \\cos{\\left (q_{6} \\right )} - \\left(- \\sin{\\left (q_{1} \\right )} \\cos{\\left (q_{4} \\right )} + \\sin{\\left (q_{4} \\right )} \\sin{\\left (q_{2} + q_{3} \\right )} \\cos{\\left (q_{1} \\right )}\\right) \\sin{\\left (q_{6} \\right )} & - \\left(\\left(\\sin{\\left (q_{1} \\right )} \\sin{\\left (q_{4} \\right )} + \\sin{\\left (q_{2} + q_{3} \\right )} \\cos{\\left (q_{1} \\right )} \\cos{\\left (q_{4} \\right )}\\right) \\cos{\\left (q_{5} \\right )} + \\sin{\\left (q_{5} \\right )} \\cos{\\left (q_{1} \\right )} \\cos{\\left (q_{2} + q_{3} \\right )}\\right) \\sin{\\left (q_{6} \\right )} + \\left(\\sin{\\left (q_{1} \\right )} \\cos{\\left (q_{4} \\right )} - \\sin{\\left (q_{4} \\right )} \\sin{\\left (q_{2} + q_{3} \\right )} \\cos{\\left (q_{1} \\right )}\\right) \\cos{\\left (q_{6} \\right )} & - \\left(\\sin{\\left (q_{1} \\right )} \\sin{\\left (q_{4} \\right )} + \\sin{\\left (q_{2} + q_{3} \\right )} \\cos{\\left (q_{1} \\right )} \\cos{\\left (q_{4} \\right )}\\right) \\sin{\\left (q_{5} \\right )} + \\cos{\\left (q_{1} \\right )} \\cos{\\left (q_{5} \\right )} \\cos{\\left (q_{2} + q_{3} \\right )}\\\\\\left(\\left(\\sin{\\left (q_{1} \\right )} \\sin{\\left (q_{2} + q_{3} \\right )} \\cos{\\left (q_{4} \\right )} - \\sin{\\left (q_{4} \\right )} \\cos{\\left (q_{1} \\right )}\\right) \\cos{\\left (q_{5} \\right )} + \\sin{\\left (q_{1} \\right )} \\sin{\\left (q_{5} \\right )} \\cos{\\left (q_{2} + q_{3} \\right )}\\right) \\cos{\\left (q_{6} \\right )} - \\left(\\sin{\\left (q_{1} \\right )} \\sin{\\left (q_{4} \\right )} \\sin{\\left (q_{2} + q_{3} \\right )} + \\cos{\\left (q_{1} \\right )} \\cos{\\left (q_{4} \\right )}\\right) \\sin{\\left (q_{6} \\right )} & - \\left(\\left(\\sin{\\left (q_{1} \\right )} \\sin{\\left (q_{2} + q_{3} \\right )} \\cos{\\left (q_{4} \\right )} - \\sin{\\left (q_{4} \\right )} \\cos{\\left (q_{1} \\right )}\\right) \\cos{\\left (q_{5} \\right )} + \\sin{\\left (q_{1} \\right )} \\sin{\\left (q_{5} \\right )} \\cos{\\left (q_{2} + q_{3} \\right )}\\right) \\sin{\\left (q_{6} \\right )} - \\left(\\sin{\\left (q_{1} \\right )} \\sin{\\left (q_{4} \\right )} \\sin{\\left (q_{2} + q_{3} \\right )} + \\cos{\\left (q_{1} \\right )} \\cos{\\left (q_{4} \\right )}\\right) \\cos{\\left (q_{6} \\right )} & - \\left(\\sin{\\left (q_{1} \\right )} \\sin{\\left (q_{2} + q_{3} \\right )} \\cos{\\left (q_{4} \\right )} - \\sin{\\left (q_{4} \\right )} \\cos{\\left (q_{1} \\right )}\\right) \\sin{\\left (q_{5} \\right )} + \\sin{\\left (q_{1} \\right )} \\cos{\\left (q_{5} \\right )} \\cos{\\left (q_{2} + q_{3} \\right )}\\\\- \\left(\\sin{\\left (q_{5} \\right )} \\sin{\\left (q_{2} + q_{3} \\right )} - \\cos{\\left (q_{4} \\right )} \\cos{\\left (q_{5} \\right )} \\cos{\\left (q_{2} + q_{3} \\right )}\\right) \\cos{\\left (q_{6} \\right )} - \\sin{\\left (q_{4} \\right )} \\sin{\\left (q_{6} \\right )} \\cos{\\left (q_{2} + q_{3} \\right )} & \\left(\\sin{\\left (q_{5} \\right )} \\sin{\\left (q_{2} + q_{3} \\right )} - \\cos{\\left (q_{4} \\right )} \\cos{\\left (q_{5} \\right )} \\cos{\\left (q_{2} + q_{3} \\right )}\\right) \\sin{\\left (q_{6} \\right )} - \\sin{\\left (q_{4} \\right )} \\cos{\\left (q_{6} \\right )} \\cos{\\left (q_{2} + q_{3} \\right )} & - \\sin{\\left (q_{5} \\right )} \\cos{\\left (q_{4} \\right )} \\cos{\\left (q_{2} + q_{3} \\right )} - \\sin{\\left (q_{2} + q_{3} \\right )} \\cos{\\left (q_{5} \\right )}\\end{matrix}\\right]$$"
      ],
      "text/plain": [
       "⎡((sin(q₁)⋅sin(q₄) + sin(q₂ + q₃)⋅cos(q₁)⋅cos(q₄))⋅cos(q₅) + sin(q₅)⋅cos(q₁)⋅c\n",
       "⎢                                                                             \n",
       "⎢((sin(q₁)⋅sin(q₂ + q₃)⋅cos(q₄) - sin(q₄)⋅cos(q₁))⋅cos(q₅) + sin(q₁)⋅sin(q₅)⋅c\n",
       "⎢                                                                             \n",
       "⎣                                -(sin(q₅)⋅sin(q₂ + q₃) - cos(q₄)⋅cos(q₅)⋅cos(\n",
       "\n",
       "os(q₂ + q₃))⋅cos(q₆) - (-sin(q₁)⋅cos(q₄) + sin(q₄)⋅sin(q₂ + q₃)⋅cos(q₁))⋅sin(q\n",
       "                                                                              \n",
       "os(q₂ + q₃))⋅cos(q₆) - (sin(q₁)⋅sin(q₄)⋅sin(q₂ + q₃) + cos(q₁)⋅cos(q₄))⋅sin(q₆\n",
       "                                                                              \n",
       "q₂ + q₃))⋅cos(q₆) - sin(q₄)⋅sin(q₆)⋅cos(q₂ + q₃)                              \n",
       "\n",
       "₆)  -((sin(q₁)⋅sin(q₄) + sin(q₂ + q₃)⋅cos(q₁)⋅cos(q₄))⋅cos(q₅) + sin(q₅)⋅cos(q\n",
       "                                                                              \n",
       ")   -((sin(q₁)⋅sin(q₂ + q₃)⋅cos(q₄) - sin(q₄)⋅cos(q₁))⋅cos(q₅) + sin(q₁)⋅sin(q\n",
       "                                                                              \n",
       "                                    (sin(q₅)⋅sin(q₂ + q₃) - cos(q₄)⋅cos(q₅)⋅co\n",
       "\n",
       "₁)⋅cos(q₂ + q₃))⋅sin(q₆) + (sin(q₁)⋅cos(q₄) - sin(q₄)⋅sin(q₂ + q₃)⋅cos(q₁))⋅co\n",
       "                                                                              \n",
       "₅)⋅cos(q₂ + q₃))⋅sin(q₆) - (sin(q₁)⋅sin(q₄)⋅sin(q₂ + q₃) + cos(q₁)⋅cos(q₄))⋅co\n",
       "                                                                              \n",
       "s(q₂ + q₃))⋅sin(q₆) - sin(q₄)⋅cos(q₆)⋅cos(q₂ + q₃)                            \n",
       "\n",
       "s(q₆)  -(sin(q₁)⋅sin(q₄) + sin(q₂ + q₃)⋅cos(q₁)⋅cos(q₄))⋅sin(q₅) + cos(q₁)⋅cos\n",
       "                                                                              \n",
       "s(q₆)  -(sin(q₁)⋅sin(q₂ + q₃)⋅cos(q₄) - sin(q₄)⋅cos(q₁))⋅sin(q₅) + sin(q₁)⋅cos\n",
       "                                                                              \n",
       "                         -sin(q₅)⋅cos(q₄)⋅cos(q₂ + q₃) - sin(q₂ + q₃)⋅cos(q₅) \n",
       "\n",
       "(q₅)⋅cos(q₂ + q₃)⎤\n",
       "                 ⎥\n",
       "(q₅)⋅cos(q₂ + q₃)⎥\n",
       "                 ⎥\n",
       "                 ⎦"
      ]
     },
     "execution_count": 16,
     "metadata": {},
     "output_type": "execute_result"
    }
   ],
   "source": [
    "R0_EE"
   ]
  },
  {
   "cell_type": "code",
   "execution_count": 17,
   "metadata": {},
   "outputs": [],
   "source": [
    "R0_EE_from_dhtf = rotation_sub_matrix(T0_EE)"
   ]
  },
  {
   "cell_type": "code",
   "execution_count": 18,
   "metadata": {},
   "outputs": [
    {
     "data": {
      "text/plain": [
       "True"
      ]
     },
     "execution_count": 18,
     "metadata": {},
     "output_type": "execute_result"
    }
   ],
   "source": [
    "R0_EE == R0_EE_from_dhtf"
   ]
  },
  {
   "cell_type": "markdown",
   "metadata": {},
   "source": [
    "### The following cells show the outcome of using the correction matrix from the walkthrough\n",
    "using the mpmath radians function rather than sympy's pi object introduces a miniscule amount of error, but why introduce any numerical error at all when the desired result is encoded PERFECTLY by a clean, symbolic solution?"
   ]
  },
  {
   "cell_type": "code",
   "execution_count": 54,
   "metadata": {},
   "outputs": [
    {
     "data": {
      "text/latex": [
       "$$\\left[\\begin{matrix}\\cos{\\left (p \\right )} \\cos{\\left (y \\right )} & - \\sin{\\left (y \\right )} & \\sin{\\left (p \\right )} \\cos{\\left (y \\right )}\\\\\\sin{\\left (y \\right )} \\cos{\\left (p \\right )} & \\cos{\\left (y \\right )} & \\sin{\\left (p \\right )} \\sin{\\left (y \\right )}\\\\- \\sin{\\left (p \\right )} & 0 & \\cos{\\left (p \\right )}\\end{matrix}\\right]$$"
      ],
      "text/plain": [
       "⎡cos(p)⋅cos(y)  -sin(y)  sin(p)⋅cos(y)⎤\n",
       "⎢                                     ⎥\n",
       "⎢sin(y)⋅cos(p)  cos(y)   sin(p)⋅sin(y)⎥\n",
       "⎢                                     ⎥\n",
       "⎣   -sin(p)        0        cos(p)    ⎦"
      ]
     },
     "execution_count": 54,
     "metadata": {},
     "output_type": "execute_result"
    }
   ],
   "source": [
    "# Conversion Factors - Note that this is using the symbolic definition of pi from SymPy\n",
    "rtd = 180 / sp.pi  # radians to degrees\n",
    "dtr = sp.pi / 180  # degrees to radians\n",
    "\n",
    "r, p, y = sp.symbols('r p y')\n",
    "\n",
    "R_corr_sym = sym_rot_z(y) * sym_rot_y(p)\n",
    "\n",
    "\n",
    "# Walkthrough method\n",
    "R_corr_a = sym_rot_z(y).subs(y, radians(180)) * sym_rot_y(p).subs(p, radians(-90))\n",
    "# Pure symbolic method\n",
    "R_corr_b = R_corr_b.subs({y: dtr * 180, p: dtr * -90})\n",
    "\n",
    "R_corr_sym"
   ]
  },
  {
   "cell_type": "code",
   "execution_count": 55,
   "metadata": {},
   "outputs": [
    {
     "data": {
      "text/latex": [
       "$$\\left ( \\left[\\begin{matrix}-6.12323399573677 \\cdot 10^{-17} & -1.22464679914735 \\cdot 10^{-16} & 1.0\\\\7.49879891330929 \\cdot 10^{-33} & -1.0 & -1.22464679914735 \\cdot 10^{-16}\\\\1.0 & 0 & 6.12323399573677 \\cdot 10^{-17}\\end{matrix}\\right], \\quad \\left[\\begin{matrix}0 & 0 & 1\\\\0 & -1 & 0\\\\1 & 0 & 0\\end{matrix}\\right]\\right )$$"
      ],
      "text/plain": [
       "⎛⎡-6.12323399573677e-17  -1.22464679914735e-16           1.0         ⎤  ⎡0  0 \n",
       "⎜⎢                                                                   ⎥  ⎢     \n",
       "⎜⎢7.49879891330929e-33           -1.0           -1.22464679914735e-16⎥, ⎢0  -1\n",
       "⎜⎢                                                                   ⎥  ⎢     \n",
       "⎝⎣         1.0                     0            6.12323399573677e-17 ⎦  ⎣1  0 \n",
       "\n",
       "  1⎤⎞\n",
       "   ⎥⎟\n",
       "  0⎥⎟\n",
       "   ⎥⎟\n",
       "  0⎦⎠"
      ]
     },
     "execution_count": 55,
     "metadata": {},
     "output_type": "execute_result"
    }
   ],
   "source": [
    "R_corr_a, R_corr_b"
   ]
  },
  {
   "cell_type": "code",
   "execution_count": 39,
   "metadata": {},
   "outputs": [],
   "source": [
    "R_corr = R_corr_b"
   ]
  },
  {
   "cell_type": "code",
   "execution_count": 40,
   "metadata": {},
   "outputs": [
    {
     "data": {
      "text/latex": [
       "$$\\left ( \\left[\\begin{matrix}1 & 0 & 0\\\\0 & \\cos{\\left (r \\right )} & - \\sin{\\left (r \\right )}\\\\0 & \\sin{\\left (r \\right )} & \\cos{\\left (r \\right )}\\end{matrix}\\right], \\quad \\left[\\begin{matrix}\\cos{\\left (p \\right )} & 0 & \\sin{\\left (p \\right )}\\\\0 & 1 & 0\\\\- \\sin{\\left (p \\right )} & 0 & \\cos{\\left (p \\right )}\\end{matrix}\\right], \\quad \\left[\\begin{matrix}\\cos{\\left (y \\right )} & - \\sin{\\left (y \\right )} & 0\\\\\\sin{\\left (y \\right )} & \\cos{\\left (y \\right )} & 0\\\\0 & 0 & 1\\end{matrix}\\right]\\right )$$"
      ],
      "text/plain": [
       "⎛⎡1    0        0   ⎤  ⎡cos(p)   0  sin(p)⎤  ⎡cos(y)  -sin(y)  0⎤⎞\n",
       "⎜⎢                  ⎥  ⎢                  ⎥  ⎢                  ⎥⎟\n",
       "⎜⎢0  cos(r)  -sin(r)⎥, ⎢   0     1    0   ⎥, ⎢sin(y)  cos(y)   0⎥⎟\n",
       "⎜⎢                  ⎥  ⎢                  ⎥  ⎢                  ⎥⎟\n",
       "⎝⎣0  sin(r)  cos(r) ⎦  ⎣-sin(p)  0  cos(p)⎦  ⎣  0        0     1⎦⎠"
      ]
     },
     "execution_count": 40,
     "metadata": {},
     "output_type": "execute_result"
    }
   ],
   "source": [
    "R_roll = sym_rot_x(r)\n",
    "R_pitch = sym_rot_y(p)\n",
    "R_yaw = sym_rot_z(y)\n",
    "R_roll, R_pitch, R_yaw"
   ]
  },
  {
   "cell_type": "code",
   "execution_count": null,
   "metadata": {},
   "outputs": [],
   "source": []
  },
  {
   "cell_type": "code",
   "execution_count": 41,
   "metadata": {},
   "outputs": [
    {
     "data": {
      "text/latex": [
       "$$\\left[\\begin{matrix}\\sin{\\left (p \\right )} \\cos{\\left (r \\right )} \\cos{\\left (y \\right )} + \\sin{\\left (r \\right )} \\sin{\\left (y \\right )} & - \\sin{\\left (p \\right )} \\sin{\\left (r \\right )} \\cos{\\left (y \\right )} + \\sin{\\left (y \\right )} \\cos{\\left (r \\right )} & \\cos{\\left (p \\right )} \\cos{\\left (y \\right )}\\\\\\sin{\\left (p \\right )} \\sin{\\left (y \\right )} \\cos{\\left (r \\right )} - \\sin{\\left (r \\right )} \\cos{\\left (y \\right )} & - \\sin{\\left (p \\right )} \\sin{\\left (r \\right )} \\sin{\\left (y \\right )} - \\cos{\\left (r \\right )} \\cos{\\left (y \\right )} & \\sin{\\left (y \\right )} \\cos{\\left (p \\right )}\\\\\\cos{\\left (p \\right )} \\cos{\\left (r \\right )} & - \\sin{\\left (r \\right )} \\cos{\\left (p \\right )} & - \\sin{\\left (p \\right )}\\end{matrix}\\right]$$"
      ],
      "text/plain": [
       "⎡sin(p)⋅cos(r)⋅cos(y) + sin(r)⋅sin(y)  -sin(p)⋅sin(r)⋅cos(y) + sin(y)⋅cos(r)  \n",
       "⎢                                                                             \n",
       "⎢sin(p)⋅sin(y)⋅cos(r) - sin(r)⋅cos(y)  -sin(p)⋅sin(r)⋅sin(y) - cos(r)⋅cos(y)  \n",
       "⎢                                                                             \n",
       "⎣           cos(p)⋅cos(r)                         -sin(r)⋅cos(p)              \n",
       "\n",
       "cos(p)⋅cos(y)⎤\n",
       "             ⎥\n",
       "sin(y)⋅cos(p)⎥\n",
       "             ⎥\n",
       "   -sin(p)   ⎦"
      ]
     },
     "execution_count": 41,
     "metadata": {},
     "output_type": "execute_result"
    }
   ],
   "source": [
    "R_EE_euler = R_yaw * R_pitch * R_roll * R_corr\n",
    "R_EE_euler"
   ]
  },
  {
   "cell_type": "code",
   "execution_count": 43,
   "metadata": {},
   "outputs": [
    {
     "data": {
      "text/latex": [
       "$$\\left[\\begin{matrix}\\sin{\\left (q_{2} + q_{3} \\right )} \\cos{\\left (q_{1} \\right )} & \\cos{\\left (q_{1} \\right )} \\cos{\\left (q_{2} + q_{3} \\right )} & - \\sin{\\left (q_{1} \\right )}\\\\\\sin{\\left (q_{1} \\right )} \\sin{\\left (q_{2} + q_{3} \\right )} & \\sin{\\left (q_{1} \\right )} \\cos{\\left (q_{2} + q_{3} \\right )} & \\cos{\\left (q_{1} \\right )}\\\\\\cos{\\left (q_{2} + q_{3} \\right )} & - \\sin{\\left (q_{2} + q_{3} \\right )} & 0\\end{matrix}\\right]$$"
      ],
      "text/plain": [
       "⎡sin(q₂ + q₃)⋅cos(q₁)  cos(q₁)⋅cos(q₂ + q₃)  -sin(q₁)⎤\n",
       "⎢                                                    ⎥\n",
       "⎢sin(q₁)⋅sin(q₂ + q₃)  sin(q₁)⋅cos(q₂ + q₃)  cos(q₁) ⎥\n",
       "⎢                                                    ⎥\n",
       "⎣    cos(q₂ + q₃)         -sin(q₂ + q₃)         0    ⎦"
      ]
     },
     "execution_count": 43,
     "metadata": {},
     "output_type": "execute_result"
    }
   ],
   "source": [
    "R0_3 = sp.simplify(R0_1 * R1_2 * R2_3)\n",
    "R0_3"
   ]
  },
  {
   "cell_type": "code",
   "execution_count": 45,
   "metadata": {},
   "outputs": [],
   "source": [
    "R0_EE = sp.simplify(R0_3 * R3_4 * R4_5 * R5_6 * R6_7)"
   ]
  },
  {
   "cell_type": "code",
   "execution_count": 49,
   "metadata": {},
   "outputs": [],
   "source": [
    "R0_3_inverse = sp.simplify(R0_3.inv('LU'))"
   ]
  },
  {
   "cell_type": "code",
   "execution_count": 50,
   "metadata": {},
   "outputs": [
    {
     "data": {
      "text/latex": [
       "$$\\left[\\begin{matrix}\\sin{\\left (q_{2} + q_{3} \\right )} \\cos{\\left (q_{1} \\right )} & \\sin{\\left (q_{1} \\right )} \\sin{\\left (q_{2} + q_{3} \\right )} & \\cos{\\left (q_{2} + q_{3} \\right )}\\\\\\cos{\\left (q_{1} \\right )} \\cos{\\left (q_{2} + q_{3} \\right )} & \\sin{\\left (q_{1} \\right )} \\cos{\\left (q_{2} + q_{3} \\right )} & - \\sin{\\left (q_{2} + q_{3} \\right )}\\\\- \\sin{\\left (q_{1} \\right )} & \\cos{\\left (q_{1} \\right )} & 0\\end{matrix}\\right]$$"
      ],
      "text/plain": [
       "⎡sin(q₂ + q₃)⋅cos(q₁)  sin(q₁)⋅sin(q₂ + q₃)  cos(q₂ + q₃) ⎤\n",
       "⎢                                                         ⎥\n",
       "⎢cos(q₁)⋅cos(q₂ + q₃)  sin(q₁)⋅cos(q₂ + q₃)  -sin(q₂ + q₃)⎥\n",
       "⎢                                                         ⎥\n",
       "⎣      -sin(q₁)              cos(q₁)               0      ⎦"
      ]
     },
     "execution_count": 50,
     "metadata": {},
     "output_type": "execute_result"
    }
   ],
   "source": [
    "R0_3_inverse"
   ]
  },
  {
   "cell_type": "markdown",
   "metadata": {},
   "source": [
    "And to verify that this result is truly what we were seeking, we can multiply it by R0_3 to check that the result is an identity matrix:"
   ]
  },
  {
   "cell_type": "code",
   "execution_count": 53,
   "metadata": {},
   "outputs": [
    {
     "data": {
      "text/latex": [
       "$$\\left[\\begin{matrix}1 & 0 & 0\\\\0 & 1 & 0\\\\0 & 0 & 1\\end{matrix}\\right]$$"
      ],
      "text/plain": [
       "⎡1  0  0⎤\n",
       "⎢       ⎥\n",
       "⎢0  1  0⎥\n",
       "⎢       ⎥\n",
       "⎣0  0  1⎦"
      ]
     },
     "execution_count": 53,
     "metadata": {},
     "output_type": "execute_result"
    }
   ],
   "source": [
    "simplify(R0_3 * R0_3_inverse)"
   ]
  },
  {
   "cell_type": "markdown",
   "metadata": {},
   "source": [
    "This result is totally independent of the pose in question; so long as we can calculate q1, q2, and q3 values, we can determine the numerical-valued form of R0_3_inverse with nothing more than a substitution."
   ]
  },
  {
   "cell_type": "code",
   "execution_count": 57,
   "metadata": {},
   "outputs": [],
   "source": [
    "R3_EE = sp.simplify(R0_3_inverse * R0_EE)"
   ]
  },
  {
   "cell_type": "code",
   "execution_count": 58,
   "metadata": {},
   "outputs": [
    {
     "data": {
      "text/latex": [
       "$$\\left[\\begin{matrix}- \\sin{\\left (q_{4} \\right )} \\sin{\\left (q_{6} \\right )} + \\cos{\\left (q_{4} \\right )} \\cos{\\left (q_{5} \\right )} \\cos{\\left (q_{6} \\right )} & - \\sin{\\left (q_{4} \\right )} \\cos{\\left (q_{6} \\right )} - \\sin{\\left (q_{6} \\right )} \\cos{\\left (q_{4} \\right )} \\cos{\\left (q_{5} \\right )} & \\frac{1}{2} \\sin{\\left (q_{4} - q_{5} \\right )} - \\frac{1}{2} \\sin{\\left (q_{4} + q_{5} \\right )}\\\\\\sin{\\left (q_{5} \\right )} \\cos{\\left (q_{6} \\right )} & - \\sin{\\left (q_{5} \\right )} \\sin{\\left (q_{6} \\right )} & \\cos{\\left (q_{5} \\right )}\\\\- \\sin{\\left (q_{4} \\right )} \\cos{\\left (q_{5} \\right )} \\cos{\\left (q_{6} \\right )} - \\sin{\\left (q_{6} \\right )} \\cos{\\left (q_{4} \\right )} & \\sin{\\left (q_{4} \\right )} \\sin{\\left (q_{6} \\right )} \\cos{\\left (q_{5} \\right )} - \\cos{\\left (q_{4} \\right )} \\cos{\\left (q_{6} \\right )} & \\sin{\\left (q_{4} \\right )} \\sin{\\left (q_{5} \\right )}\\end{matrix}\\right]$$"
      ],
      "text/plain": [
       "⎡                                                                             \n",
       "⎢-sin(q₄)⋅sin(q₆) + cos(q₄)⋅cos(q₅)⋅cos(q₆)  -sin(q₄)⋅cos(q₆) - sin(q₆)⋅cos(q₄\n",
       "⎢                                                                             \n",
       "⎢                                                                             \n",
       "⎢             sin(q₅)⋅cos(q₆)                             -sin(q₅)⋅sin(q₆)    \n",
       "⎢                                                                             \n",
       "⎣-sin(q₄)⋅cos(q₅)⋅cos(q₆) - sin(q₆)⋅cos(q₄)  sin(q₄)⋅sin(q₆)⋅cos(q₅) - cos(q₄)\n",
       "\n",
       "           sin(q₄ - q₅)   sin(q₄ + q₅)⎤\n",
       ")⋅cos(q₅)  ──────────── - ────────────⎥\n",
       "                2              2      ⎥\n",
       "                                      ⎥\n",
       "                     cos(q₅)          ⎥\n",
       "                                      ⎥\n",
       "⋅cos(q₆)         sin(q₄)⋅sin(q₅)      ⎦"
      ]
     },
     "execution_count": 58,
     "metadata": {},
     "output_type": "execute_result"
    }
   ],
   "source": [
    "R3_EE"
   ]
  },
  {
   "cell_type": "code",
   "execution_count": 143,
   "metadata": {},
   "outputs": [
    {
     "data": {
      "text/latex": [
       "$$\\left[\\begin{matrix}- \\sin{\\left (q_{4} \\right )} \\sin{\\left (q_{6} \\right )} + \\cos{\\left (q_{4} \\right )} \\cos{\\left (q_{5} \\right )} \\cos{\\left (q_{6} \\right )} & - \\sin{\\left (q_{4} \\right )} \\cos{\\left (q_{6} \\right )} - \\sin{\\left (q_{6} \\right )} \\cos{\\left (q_{4} \\right )} \\cos{\\left (q_{5} \\right )} & - \\sin{\\left (q_{5} \\right )} \\cos{\\left (q_{4} \\right )}\\\\\\sin{\\left (q_{5} \\right )} \\cos{\\left (q_{6} \\right )} & - \\sin{\\left (q_{5} \\right )} \\sin{\\left (q_{6} \\right )} & \\cos{\\left (q_{5} \\right )}\\\\- \\sin{\\left (q_{4} \\right )} \\cos{\\left (q_{5} \\right )} \\cos{\\left (q_{6} \\right )} - \\sin{\\left (q_{6} \\right )} \\cos{\\left (q_{4} \\right )} & \\sin{\\left (q_{4} \\right )} \\sin{\\left (q_{6} \\right )} \\cos{\\left (q_{5} \\right )} - \\cos{\\left (q_{4} \\right )} \\cos{\\left (q_{6} \\right )} & \\sin{\\left (q_{4} \\right )} \\sin{\\left (q_{5} \\right )}\\end{matrix}\\right]$$"
      ],
      "text/plain": [
       "⎡-sin(q₄)⋅sin(q₆) + cos(q₄)⋅cos(q₅)⋅cos(q₆)  -sin(q₄)⋅cos(q₆) - sin(q₆)⋅cos(q₄\n",
       "⎢                                                                             \n",
       "⎢             sin(q₅)⋅cos(q₆)                             -sin(q₅)⋅sin(q₆)    \n",
       "⎢                                                                             \n",
       "⎣-sin(q₄)⋅cos(q₅)⋅cos(q₆) - sin(q₆)⋅cos(q₄)  sin(q₄)⋅sin(q₆)⋅cos(q₅) - cos(q₄)\n",
       "\n",
       ")⋅cos(q₅)  -sin(q₅)⋅cos(q₄)⎤\n",
       "                           ⎥\n",
       "               cos(q₅)     ⎥\n",
       "                           ⎥\n",
       "⋅cos(q₆)   sin(q₄)⋅sin(q₅) ⎦"
      ]
     },
     "execution_count": 143,
     "metadata": {},
     "output_type": "execute_result"
    }
   ],
   "source": [
    "R3_6 = Matrix([\n",
    "    [-sin(q4)*sin(q6) + cos(q4)*cos(q5)*cos(q6), -sin(q4)*cos(q6) - sin(q6)*cos(q4)*cos(q5), -cos(q4)*sin(q5)],\n",
    "    [                           sin(q5)*cos(q6),                           -sin(q5)*sin(q6),          cos(q5)],\n",
    "    [-sin(q4)*cos(q5)*cos(q6) - sin(q6)*cos(q4),  sin(q4)*sin(q6)*cos(q5) - cos(q4)*cos(q6),  sin(q4)*sin(q5)]])\n",
    "R3_6"
   ]
  },
  {
   "cell_type": "code",
   "execution_count": 76,
   "metadata": {},
   "outputs": [
    {
     "data": {
      "text/latex": [
       "$$-0.357926012846339$$"
      ],
      "text/plain": [
       "-0.357926012846339"
      ]
     },
     "execution_count": 76,
     "metadata": {},
     "output_type": "execute_result"
    }
   ],
   "source": [
    "(0.5*(sin(q4 - q5) - sin(q4 + q5))).evalf(subs={q4: 1.1125, q5: 0.3*sp.pi})"
   ]
  },
  {
   "cell_type": "code",
   "execution_count": 77,
   "metadata": {},
   "outputs": [
    {
     "data": {
      "text/latex": [
       "$$-0.357926012846339$$"
      ],
      "text/plain": [
       "-0.357926012846339"
      ]
     },
     "execution_count": 77,
     "metadata": {},
     "output_type": "execute_result"
    }
   ],
   "source": [
    "(-cos(q4)*sin(q5)).evalf(subs={q4: 1.1125, q5: 0.3*sp.pi})"
   ]
  },
  {
   "cell_type": "code",
   "execution_count": 80,
   "metadata": {},
   "outputs": [
    {
     "data": {
      "text/plain": [
       "True"
      ]
     },
     "execution_count": 80,
     "metadata": {},
     "output_type": "execute_result"
    }
   ],
   "source": [
    "(-cos(q4)*sin(q5)).evalf(subs={q4: 1.1125, q5: 0.3*sp.pi}) == (0.5*(sin(q4 - q5) - sin(q4 + q5))).evalf(subs={q4: 1.1125, q5: 0.3*sp.pi})"
   ]
  },
  {
   "cell_type": "code",
   "execution_count": 81,
   "metadata": {},
   "outputs": [],
   "source": [
    "r_11 = R3_6[0, 0]\n",
    "r_12 = R3_6[0, 1]\n",
    "r_13 = R3_6[0, 2]\n",
    "r_21 = R3_6[1, 0]\n",
    "r_22 = R3_6[1, 1]\n",
    "r_23 = R3_6[1, 2]\n",
    "r_31 = R3_6[2, 0]\n",
    "r_32 = R3_6[2, 1]\n",
    "r_33 = R3_6[2, 2]"
   ]
  },
  {
   "cell_type": "markdown",
   "metadata": {},
   "source": [
    "The objective here is to come up with formulas for q4, q5, and q6 in terms of particular indexed elements of a 3x3 matrix.\n",
    "The rotation matrix R3_6_edit, above, is defined in terms of DH parameters, which we are solving for, but the matrix we will draw values from\n",
    "is the numerical matrix R3_6 = R0_3_inverse.dot(r_EE), where R0_3_inverse is determined by q1-q3, and r_EE is determined by the rpy euler angles from the pose.\n",
    "\n",
    "In a sense, the above 'r_ij' variables can be considered placeholders for numerical values that will be mapped to joint angles through relationships this matrix encodes."
   ]
  },
  {
   "cell_type": "markdown",
   "metadata": {},
   "source": [
    "### Solving q4"
   ]
  },
  {
   "cell_type": "code",
   "execution_count": 107,
   "metadata": {},
   "outputs": [
    {
     "data": {
      "text/latex": [
       "$$\\left ( \\sin{\\left (q_{4} \\right )} \\sin{\\left (q_{5} \\right )}, \\quad - \\sin{\\left (q_{5} \\right )} \\cos{\\left (q_{4} \\right )}\\right )$$"
      ],
      "text/plain": [
       "(sin(q₄)⋅sin(q₅), -sin(q₅)⋅cos(q₄))"
      ]
     },
     "execution_count": 107,
     "metadata": {},
     "output_type": "execute_result"
    }
   ],
   "source": [
    "r_33, r_13"
   ]
  },
  {
   "cell_type": "code",
   "execution_count": 108,
   "metadata": {},
   "outputs": [
    {
     "data": {
      "text/latex": [
       "$$\\frac{\\sin{\\left (q_{4} \\right )}}{\\cos{\\left (q_{4} \\right )}}$$"
      ],
      "text/plain": [
       "sin(q₄)\n",
       "───────\n",
       "cos(q₄)"
      ]
     },
     "execution_count": 108,
     "metadata": {},
     "output_type": "execute_result"
    }
   ],
   "source": [
    "r_33 / -r_13"
   ]
  },
  {
   "cell_type": "markdown",
   "metadata": {},
   "source": [
    "### Solving q5"
   ]
  },
  {
   "cell_type": "code",
   "execution_count": 115,
   "metadata": {},
   "outputs": [
    {
     "data": {
      "text/latex": [
       "$$\\left ( - \\sin{\\left (q_{5} \\right )} \\cos{\\left (q_{4} \\right )}, \\quad \\sin{\\left (q_{4} \\right )} \\sin{\\left (q_{5} \\right )}, \\quad \\cos{\\left (q_{5} \\right )}\\right )$$"
      ],
      "text/plain": [
       "(-sin(q₅)⋅cos(q₄), sin(q₄)⋅sin(q₅), cos(q₅))"
      ]
     },
     "execution_count": 115,
     "metadata": {},
     "output_type": "execute_result"
    }
   ],
   "source": [
    "r_13, r_33, r_23"
   ]
  },
  {
   "cell_type": "code",
   "execution_count": 116,
   "metadata": {},
   "outputs": [
    {
     "data": {
      "text/latex": [
       "$$\\sin^{2}{\\left (q_{4} \\right )} \\sin^{2}{\\left (q_{5} \\right )} + \\sin^{2}{\\left (q_{5} \\right )} \\cos^{2}{\\left (q_{4} \\right )}$$"
      ],
      "text/plain": [
       "   2        2          2        2    \n",
       "sin (q₄)⋅sin (q₅) + sin (q₅)⋅cos (q₄)"
      ]
     },
     "execution_count": 116,
     "metadata": {},
     "output_type": "execute_result"
    }
   ],
   "source": [
    "r_13 ** 2 + r_33 ** 2"
   ]
  },
  {
   "cell_type": "code",
   "execution_count": 131,
   "metadata": {},
   "outputs": [
    {
     "data": {
      "text/latex": [
       "$$\\left(\\sin^{2}{\\left (q_{4} \\right )} + \\cos^{2}{\\left (q_{4} \\right )}\\right) \\sin^{2}{\\left (q_{5} \\right )}$$"
      ],
      "text/plain": [
       "⎛   2          2    ⎞    2    \n",
       "⎝sin (q₄) + cos (q₄)⎠⋅sin (q₅)"
      ]
     },
     "execution_count": 131,
     "metadata": {},
     "output_type": "execute_result"
    }
   ],
   "source": [
    "sp.factor(r_13 ** 2 + r_33 ** 2)"
   ]
  },
  {
   "cell_type": "code",
   "execution_count": 118,
   "metadata": {},
   "outputs": [
    {
     "data": {
      "text/latex": [
       "$$\\sin^{2}{\\left (q_{5} \\right )}$$"
      ],
      "text/plain": [
       "   2    \n",
       "sin (q₅)"
      ]
     },
     "execution_count": 118,
     "metadata": {},
     "output_type": "execute_result"
    }
   ],
   "source": [
    "sp.simplify(r_13 ** 2 + r_33 ** 2)"
   ]
  },
  {
   "cell_type": "code",
   "execution_count": 146,
   "metadata": {},
   "outputs": [
    {
     "data": {
      "text/latex": [
       "$$\\frac{\\sqrt{\\sin^{2}{\\left (q_{5} \\right )}}}{\\cos{\\left (q_{5} \\right )}}$$"
      ],
      "text/plain": [
       "   __________\n",
       "  ╱    2     \n",
       "╲╱  sin (q₅) \n",
       "─────────────\n",
       "   cos(q₅)   "
      ]
     },
     "execution_count": 146,
     "metadata": {},
     "output_type": "execute_result"
    }
   ],
   "source": [
    "sp.sqrt(sp.simplify(r_13 ** 2 + r_33 ** 2)) / r_23"
   ]
  },
  {
   "cell_type": "code",
   "execution_count": 147,
   "metadata": {},
   "outputs": [
    {
     "data": {
      "text/latex": [
       "$$\\frac{\\sin{\\left (q_{5} \\right )}}{\\cos{\\left (q_{5} \\right )}}$$"
      ],
      "text/plain": [
       "sin(q₅)\n",
       "───────\n",
       "cos(q₅)"
      ]
     },
     "execution_count": 147,
     "metadata": {},
     "output_type": "execute_result"
    }
   ],
   "source": [
    "sin(q5)/cos(q5)"
   ]
  },
  {
   "cell_type": "code",
   "execution_count": 141,
   "metadata": {},
   "outputs": [
    {
     "data": {
      "text/plain": [
       "False"
      ]
     },
     "execution_count": 141,
     "metadata": {},
     "output_type": "execute_result"
    }
   ],
   "source": [
    "q5 == sp.atan2(sp.sqrt(R3_6[0, 2] * R3_6[0, 2] + R3_6[2, 2] * R3_6[2, 2]), R3_6[1, 2])"
   ]
  },
  {
   "cell_type": "markdown",
   "metadata": {},
   "source": [
    "### Solving q6"
   ]
  },
  {
   "cell_type": "code",
   "execution_count": null,
   "metadata": {},
   "outputs": [],
   "source": [
    "theta6 = atan2(-R3_6[1, 1], R3_6[1, 0])"
   ]
  },
  {
   "cell_type": "code",
   "execution_count": 136,
   "metadata": {},
   "outputs": [
    {
     "data": {
      "text/latex": [
       "$$\\left ( - \\sin{\\left (q_{5} \\right )} \\sin{\\left (q_{6} \\right )}, \\quad \\sin{\\left (q_{5} \\right )} \\cos{\\left (q_{6} \\right )}\\right )$$"
      ],
      "text/plain": [
       "(-sin(q₅)⋅sin(q₆), sin(q₅)⋅cos(q₆))"
      ]
     },
     "execution_count": 136,
     "metadata": {},
     "output_type": "execute_result"
    }
   ],
   "source": [
    "r_22, r_21"
   ]
  },
  {
   "cell_type": "code",
   "execution_count": 140,
   "metadata": {},
   "outputs": [
    {
     "data": {
      "text/latex": [
       "$$\\frac{\\sin{\\left (q_{6} \\right )}}{\\cos{\\left (q_{6} \\right )}}$$"
      ],
      "text/plain": [
       "sin(q₆)\n",
       "───────\n",
       "cos(q₆)"
      ]
     },
     "execution_count": 140,
     "metadata": {},
     "output_type": "execute_result"
    }
   ],
   "source": [
    "-r_22 / r_21"
   ]
  },
  {
   "cell_type": "markdown",
   "metadata": {},
   "source": [
    "Working Result:\n",
    "```\n",
    "theta5 = atan2(sqrt(R3_6[0, 2] * R3_6[0, 2] + R3_6[2, 2] * R3_6[2, 2]), R3_6[1, 2]) # r_13**2 + r_33**2, r_23\n",
    "theta4 = atan2(R3_6[2, 2], -R3_6[0, 2])\n",
    "theta6 = atan2(-R3_6[1, 1], R3_6[1, 0])\n",
    "```"
   ]
  },
  {
   "cell_type": "code",
   "execution_count": null,
   "metadata": {},
   "outputs": [],
   "source": []
  },
  {
   "cell_type": "code",
   "execution_count": null,
   "metadata": {},
   "outputs": [],
   "source": []
  },
  {
   "cell_type": "code",
   "execution_count": null,
   "metadata": {},
   "outputs": [],
   "source": []
  },
  {
   "cell_type": "code",
   "execution_count": null,
   "metadata": {},
   "outputs": [],
   "source": []
  }
 ],
 "metadata": {
  "kernelspec": {
   "display_name": "Python 3",
   "language": "python",
   "name": "python3"
  },
  "language_info": {
   "codemirror_mode": {
    "name": "ipython",
    "version": 3
   },
   "file_extension": ".py",
   "mimetype": "text/x-python",
   "name": "python",
   "nbconvert_exporter": "python",
   "pygments_lexer": "ipython3",
   "version": "3.6.5"
  }
 },
 "nbformat": 4,
 "nbformat_minor": 2
}
