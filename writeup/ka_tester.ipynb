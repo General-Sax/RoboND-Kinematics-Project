{
 "cells": [
  {
   "cell_type": "code",
   "execution_count": 19,
   "metadata": {},
   "outputs": [],
   "source": [
    "# from kinematic_analysis import *\n",
    "import kinematic_analysis as ka"
   ]
  },
  {
   "cell_type": "code",
   "execution_count": 20,
   "metadata": {},
   "outputs": [
    {
     "data": {
      "text/plain": [
       "['DH_TF',\n",
       " 'Matrix',\n",
       " 'Symbol',\n",
       " '__builtins__',\n",
       " '__cached__',\n",
       " '__doc__',\n",
       " '__file__',\n",
       " '__loader__',\n",
       " '__name__',\n",
       " '__package__',\n",
       " '__spec__',\n",
       " '_atan2',\n",
       " '_cos',\n",
       " '_pi',\n",
       " '_sin',\n",
       " '_sqrt',\n",
       " 'atan2',\n",
       " 'check_joint_limits',\n",
       " 'collections',\n",
       " 'column',\n",
       " 'compose_sym_rotations',\n",
       " 'construct_R0_3_inverse',\n",
       " 'construct_R_EE',\n",
       " 'cos',\n",
       " 'degrees',\n",
       " 'dissect_TF',\n",
       " 'e_x',\n",
       " 'e_x_h',\n",
       " 'e_y',\n",
       " 'e_y_h',\n",
       " 'e_z',\n",
       " 'e_z_h',\n",
       " 'evaluate_EE_error',\n",
       " 'eye',\n",
       " 'np',\n",
       " 'num_rot_x',\n",
       " 'num_rot_y',\n",
       " 'num_rot_z',\n",
       " 'pi',\n",
       " 'plt',\n",
       " 'quick_fk_EE',\n",
       " 'quick_wrist_center',\n",
       " 'radians',\n",
       " 'rotation_matrix_from',\n",
       " 'simplify',\n",
       " 'sin',\n",
       " 'sp',\n",
       " 'sqrt',\n",
       " 'sym_rot_x',\n",
       " 'sym_rot_y',\n",
       " 'sym_rot_z',\n",
       " 'sym_tf_matrix',\n",
       " 'symbols',\n",
       " 'translation_column_from',\n",
       " 'vector_cross_angle',\n",
       " 'vector_cross_unit']"
      ]
     },
     "execution_count": 20,
     "metadata": {},
     "output_type": "execute_result"
    }
   ],
   "source": [
    "dir(ka)"
   ]
  },
  {
   "cell_type": "code",
   "execution_count": 14,
   "metadata": {},
   "outputs": [
    {
     "data": {
      "text/plain": [
       "Matrix([\n",
       "[1],\n",
       "[2],\n",
       "[d],\n",
       "[1]])"
      ]
     },
     "execution_count": 14,
     "metadata": {},
     "output_type": "execute_result"
    }
   ],
   "source": [
    "ka.column((1, 2, ka.Symbol('d')), homogeneous=True)"
   ]
  },
  {
   "cell_type": "code",
   "execution_count": 17,
   "metadata": {},
   "outputs": [],
   "source": [
    "q1, q2, q3, q4, q5, q6 = ka.symbols('q1:7')"
   ]
  },
  {
   "cell_type": "code",
   "execution_count": 18,
   "metadata": {},
   "outputs": [
    {
     "data": {
      "text/plain": [
       "Matrix([\n",
       "[-sin(q4)*sin(q6)*cos(q5) + cos(q4)*cos(q6), -sin(q4)*cos(q5)*cos(q6) - sin(q6)*cos(q4),  sin(q4)*sin(q5)],\n",
       "[ sin(q4)*cos(q6) + sin(q6)*cos(q4)*cos(q5), -sin(q4)*sin(q6) + cos(q4)*cos(q5)*cos(q6), -sin(q5)*cos(q4)],\n",
       "[                           sin(q5)*sin(q6),                            sin(q5)*cos(q6),          cos(q5)]])"
      ]
     },
     "execution_count": 18,
     "metadata": {},
     "output_type": "execute_result"
    }
   ],
   "source": [
    "# ka.compose_sym_rotations([()])\n",
    "R_wc_ee = ka.simplify(ka.compose_sym_rotations([('z', q6), ('x', q5), ('z', q4)]))\n",
    "R_wc_ee"
   ]
  },
  {
   "cell_type": "code",
   "execution_count": null,
   "metadata": {},
   "outputs": [],
   "source": []
  }
 ],
 "metadata": {
  "kernelspec": {
   "display_name": "Python 3",
   "language": "python",
   "name": "python3"
  },
  "language_info": {
   "codemirror_mode": {
    "name": "ipython",
    "version": 3
   },
   "file_extension": ".py",
   "mimetype": "text/x-python",
   "name": "python",
   "nbconvert_exporter": "python",
   "pygments_lexer": "ipython3",
   "version": "3.6.2"
  }
 },
 "nbformat": 4,
 "nbformat_minor": 2
}
