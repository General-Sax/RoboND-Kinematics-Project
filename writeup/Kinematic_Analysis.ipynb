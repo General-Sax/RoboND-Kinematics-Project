{
 "cells": [
  {
   "cell_type": "markdown",
   "metadata": {},
   "source": [
    "### Imports, Environment Setup"
   ]
  },
  {
   "cell_type": "code",
   "execution_count": 10,
   "metadata": {
    "collapsed": true
   },
   "outputs": [],
   "source": [
    "from sympy import *\n",
    "from mpmath import degrees, radians\n",
    "from sympy.matrices import Matrix, eye\n",
    "import numpy as np\n",
    "import pandas as pd\n",
    "import matplotlib.pyplot as plt\n",
    "from pprint import pprint"
   ]
  },
  {
   "cell_type": "code",
   "execution_count": 2,
   "metadata": {
    "collapsed": true
   },
   "outputs": [],
   "source": [
    "init_printing(use_latex='mathjax')"
   ]
  },
  {
   "cell_type": "code",
   "execution_count": 8,
   "metadata": {
    "collapsed": true
   },
   "outputs": [],
   "source": [
    "# Conversion Factors - Note that this is using the symbolic definition of pi from SymPy \n",
    "rtd = 180./pi # radians to degrees\n",
    "dtr = pi/180. # degrees to radians"
   ]
  },
  {
   "cell_type": "code",
   "execution_count": 5,
   "metadata": {
    "collapsed": true
   },
   "outputs": [],
   "source": [
    "# Assembles a translation/position column vector in 3d, option for output in homogeneous coordinates \n",
    "def col(input_tuple, h=0):\n",
    "    matrixArg = [[item] for item in input_tuple]\n",
    "    if h: matrixArg.append([1])\n",
    "    return Matrix(matrixArg)\n",
    "\n",
    "# # TEST:\n",
    "# t = col((1, 0, 0))\n",
    "# th = col((1, 0, 0), h=1)\n",
    "# show(t)\n",
    "# show(th)"
   ]
  },
  {
   "cell_type": "code",
   "execution_count": 6,
   "metadata": {
    "collapsed": true
   },
   "outputs": [],
   "source": [
    "### Create symbols for DH parameters\n",
    "q1, q2, q3, q4, q5, q6, q7 = symbols('q1:8') # theta angles\n",
    "d1, d2, d3, d4, d5, d6, d7 = symbols('d1:8')\n",
    "a0, a1, a2, a3, a4, a5, a6 = symbols('a0:7')\n",
    "alpha0, alpha1, alpha2, alpha3, alpha4, alpha5, alpha6 = symbols('alpha0:7')\n",
    "\n",
    "### Create symbols for end effector target coordinates in base_link reference frame\n",
    "\n",
    "x_target, y_target, z_target = symbols('x_target y_target z_target')\n",
    "\n",
    "### Create symbols for wrist center location in base frame \n",
    "\n",
    "wrist_x, wrist_y, wrist_z = symbols('wrist_x wrist_y wrist_z')\n",
    "\n",
    "# s_wrist = cylindrical radius from Z1 to the wrist center, w.\n",
    "# s_wrist = sqrt(wrist_x**2 + wrist_y**2)"
   ]
  },
  {
   "cell_type": "code",
   "execution_count": 7,
   "metadata": {
    "collapsed": true
   },
   "outputs": [],
   "source": [
    "# Define the symbol dictionary which contains lookup values for the system\n",
    "# ATTENTION! Note that joints 4-6 share a common origin, actually located at the wrist center, \n",
    "# at the intersection of their Z axes.\n",
    "dh_parameter = {alpha0:     0,  a0:      0,  d1:  0.75,  \n",
    "                alpha1: -pi/2,  a1:   0.35,  d2:     0,  q2: q2 - pi/2,\n",
    "                alpha2:     0,  a2:   1.25,  d3:     0,  \n",
    "                alpha3: -pi/2,  a3: -0.054,  d4:  1.50, \n",
    "                alpha4:  pi/2,  a4:      0,  d5:     0, \n",
    "                alpha5: -pi/2,  a5:      0,  d6:     0, \n",
    "                alpha6:     0,  a6:      0,  d7: 0.303,  q7: 0\n",
    "                }\n",
    "\n",
    "# # s is the substitutions dictionary\n",
    "# s = {alpha0:     0,  a0:      0,  d1:  0.75,  q1: atan2(wcP_y, wcP_x),\n",
    "#      alpha1: -pi/2,  a1:   0.35,  d2:     0,  q2: q2 - pi/2,\n",
    "#      alpha2:     0,  a2:   1.25,  d3:     0,  \n",
    "#      alpha3: -pi/2,  a3: -0.054,  d4:  1.50, \n",
    "#      alpha4:  pi/2,  a4:      0,  d5:     0, \n",
    "#      alpha5: -pi/2,  a5:      0,  d6:     0, \n",
    "#      alpha6:     0,  a6:      0,  d7: 0.303,  q7: 0\n",
    "#      }\n",
    "\n",
    "# dh_parameter = {alpha0:     0,  a0:      0,  d1:  0.75,  \n",
    "#                 alpha1: -pi/2,  a1:   0.35,  d2:     0,  q2: q2 - pi/2, # ?????\n",
    "#                 alpha2:     0,  a2:   1.25,  d3:     0,  \n",
    "#                 alpha3: -pi/2,  a3: -0.054,  d4:  1.50, \n",
    "#                 alpha4:  pi/2,  a4:      0,  d5:     0, \n",
    "#                 alpha5: -pi/2,  a5:      0,  d6:     0, \n",
    "#                 alpha6:     0,  a6:      0,  d7: 0.303,  q7: 0\n",
    "#                 }"
   ]
  },
  {
   "cell_type": "code",
   "execution_count": 7,
   "metadata": {
    "collapsed": true
   },
   "outputs": [],
   "source": [
    "joint_decomp = {'urdf': {},\n",
    "                'DH_strict': {},\n",
    "                'DH_actual': {}\n",
    "                }\n",
    "\n",
    "joint_decomp['urdf']['x'] = [0, 0, 0.35, 0.35, 1.31, 1.85, 2.043, 2.153, 2.303]\n",
    "joint_decomp['urdf']['y'] = [0, 0, 0, 0, 0, 0, 0, 0, 0]\n",
    "joint_decomp['urdf']['z'] = [0, 0.33, 0.75, 2.0, 1.946, 1.946, 1.946, 1.946, 1.946]\n",
    "\n",
    "joint_decomp['DH_strict']['x'] = [0, 0, 0.35, 0.35, 1.85, 1.85, 1.85, 2.153, 2.303]\n",
    "joint_decomp['DH_strict']['y'] = [0, 0, 0, 0, 0, 0, 0, 0, 0]\n",
    "joint_decomp['DH_strict']['z'] = [0, 0.75, 0.75, 2.0, 1.946, 1.946, 1.946, 1.946, 1.946]\n",
    "\n",
    "joint_decomp['DH_actual']['x'] = [0, 0, 0.35, 0.35, 1.31, 1.85, 2.043, 2.153, 2.303]\n",
    "joint_decomp['DH_actual']['y'] = [0, 0, 0, 0, 0, 0, 0, 0, 0]\n",
    "joint_decomp['DH_actual']['z'] = [0, 0.75, 0.75, 2.0, 1.946, 1.946, 1.946, 1.946, 1.946]\n",
    "\n",
    "relative_joints = {0: {'urdf': (0, 0, 0), # base_link origin\n",
    "                       'dh':   (0, 0, 0)},\n",
    "                   \n",
    "                   1: {'urdf': (0, 0, 0.33),\n",
    "                       'dh':   (0, 0, 0.75)},\n",
    "                   \n",
    "                   2: {'urdf': (0.35, 0, 0.42),\n",
    "                       'dh':   (0.35, 0, 0)},\n",
    "                   \n",
    "                   3: {'urdf': (0, 0, 1.25),\n",
    "                       'dh':   (0, 0, 1.25)},\n",
    "                   \n",
    "                   4: {'urdf': (0.96, 0, -0.054),\n",
    "                       'dh':   (1.5, 0, -0.054)},\n",
    "                   \n",
    "                   5: {'urdf': (0.54, 0, 0),\n",
    "                       'dh':   (0, 0, 0)},\n",
    "                   \n",
    "                   6: {'urdf': (0, 0, 0),\n",
    "                       'dh':   (0, 0, 0)},\n",
    "                   \n",
    "                   7: {'urdf': (0.11, 0, 0),\n",
    "                       'dh':   (0.11, 0, 0)}, # gripper_joint origin\n",
    "                   \n",
    "                   8: {'urdf': (0, 0, 0),\n",
    "                       'dh':   (0, 0, 0)}  # extended finger target origin\n",
    "}\n",
    "                   \n",
    "joints = {0: {'urdf': (0, 0, 0)}, # base_link origin\n",
    "          1: {'urdf': (0, 0, 0.33)},\n",
    "          2: {'urdf': (0.35, 0, 0.75)},\n",
    "          3: {'urdf': (0.35, 0, 2.00)},\n",
    "          4: {'urdf': (1.31, 0, 1.946)},\n",
    "          5: {'urdf': (1.85, 0, 1.946)},\n",
    "          6: {'urdf': (2.043, 0, 1.946)},\n",
    "          7: {'urdf': (2.153, 0, 1.946)}, # gripper_joint origin\n",
    "          8: {'urdf': (2.303, 0, 1.946)}} # extended finger target origin\n",
    "\n",
    "zero_pose_joint_axes = {1: 'z',\n",
    "                        2: 'y',\n",
    "                        3: 'y',\n",
    "                        4: 'x',\n",
    "                        5: 'y',\n",
    "                        6: 'x'\n",
    "                        }"
   ]
  },
  {
   "cell_type": "markdown",
   "metadata": {},
   "source": [
    "## I. The Inverse Positioning Problem"
   ]
  },
  {
   "cell_type": "markdown",
   "metadata": {},
   "source": [
    "### A. Input Target"
   ]
  },
  {
   "cell_type": "code",
   "execution_count": 8,
   "metadata": {
    "collapsed": true
   },
   "outputs": [],
   "source": [
    "default_target_x = 2.30286\n",
    "default_target_y = 0.0\n",
    "default_target_z = 1.94658\n",
    "\n",
    "t = {x_target: default_target_x,\n",
    "     y_target: default_target_y, \n",
    "     z_target: default_target_z\n",
    "     }\n",
    "\n",
    "def retarget(x=None, y=None, z=None):\n",
    "    global t\n",
    "    if not (x or y or z):\n",
    "        t[x_target] = default_target_x\n",
    "        t[y_target] = default_target_y\n",
    "        t[z_target] = default_target_z\n",
    "        return\n",
    "    else:\n",
    "        if x: t[x_target] = x\n",
    "        if y: t[y_target] = y\n",
    "        if z: t[z_target] = z\n",
    "        return\n",
    "\n",
    "# # TEST:\n",
    "# print(t)\n",
    "# retarget(1,2,1.5)\n",
    "# print(t)\n",
    "# retarget()\n",
    "# print(t)\n",
    "\n",
    "retarget()"
   ]
  },
  {
   "cell_type": "markdown",
   "metadata": {},
   "source": [
    "### B. Constrain Angle of Approach\n",
    "\n",
    "For the purposes of deriving the general form IK solution, this should be defined symbolically.\n",
    "\n",
    "The vector 'p_placeholder' is an x_0 unit vector, i.e. pointing parallel to the x-axis of the base link. \n",
    "\n",
    "This definition for p_placeholder was chosen to reflect the geometric constraints of the pick and place scene (specifically the accessibility of the shelves and the alignment of the target objects).\n",
    "\n",
    "The assertion that the end effector must be at this specific orientation may be more rigid than necessary to ensure smooth operation, but *some* specific orientation must be chosen to constrain the problem, and aligning the end effector with a surface normal vector on the shelf's openings should go a long way towards maximizing the accessible volume of any shelf (if not perfectly optimizing access, which I believe it will, in fact, do - but I haven't tried to prove this).\n",
    "\n",
    "Furthermore, with our end effector aligned along the depth dimension of the shelves, it is natural enough to specify a location on the opening's 'surface' at which to engage the automatic reaching and grasping routines."
   ]
  },
  {
   "cell_type": "code",
   "execution_count": 10,
   "metadata": {
    "collapsed": true
   },
   "outputs": [],
   "source": [
    "shelf_interaction_orientation = col((1, 0, 0))\n",
    "dropoff_orientation = col((0, 1, 0))\n",
    "\n",
    "# end_eff_unitvector set to pp_placeholder as default for this project, as it is already ideal for testing. \n",
    "# Could be made symbolic to generalize the process, to simply set to a different default for other configurations.\n",
    "end_effector_unitvector = shelf_interaction_orientation\n",
    "\n",
    "# All three of these distances are measured along the Z6 axis; \n",
    "# the distances are displacements relative to the previous variable, \n",
    "# with joint_6 measured from the wrist center. \n",
    "joint_6_distance = 0.193\n",
    "gripper_joint_distance = 0.11\n",
    "finger_joint_distance = 0.15 # not included in example value\n",
    "\n",
    "with_grippers = True\n",
    "\n",
    "# End effector length spans distance from wc to target point\n",
    "end_effector_length = joint_6_distance + gripper_joint_distance + (int(with_grippers) * finger_joint_distance)\n",
    "\n",
    "# end_effector_vector points from wc to target point\n",
    "end_effector_vector = end_effector_length * end_effector_unitvector"
   ]
  },
  {
   "cell_type": "markdown",
   "metadata": {},
   "source": [
    "# Rotation of the Positioning Plane: Theta_1\n",
    "\n",
    "Since joints 0-5 are confined to the same vertical plane, and these are sufficient to solve the inverse positioning problem, I will call said plane the 'positioning plane.' With the wrist center determined, this plane's orientation about the Z1 axis is fully constrained. This orientation is determined by the value of theta_1, which is calculated below:"
   ]
  },
  {
   "cell_type": "code",
   "execution_count": 66,
   "metadata": {},
   "outputs": [
    {
     "data": {
      "text/latex": [
       "$$\\left ( x_{target} - 0.453, \\quad y_{target}, \\quad z_{target}\\right )$$"
      ],
      "text/plain": [
       "(x_target - 0.453, y_target, z_target)"
      ]
     },
     "execution_count": 66,
     "metadata": {},
     "output_type": "execute_result"
    }
   ],
   "source": [
    "# retarget(2.2, 1.7, 1.16)\n",
    "retarget()\n",
    "\n",
    "wrist_x = x_target - end_effector_vector[0]\n",
    "wrist_y = y_target - end_effector_vector[1]\n",
    "wrist_z = z_target - end_effector_vector[2]\n",
    "wrist_x, wrist_y, wrist_z"
   ]
  },
  {
   "cell_type": "code",
   "execution_count": 67,
   "metadata": {},
   "outputs": [
    {
     "data": {
      "text/latex": [
       "$$\\operatorname{atan_{2}}{\\left (y_{target},x_{target} - 0.453 \\right )}$$"
      ],
      "text/plain": [
       "atan2(y_target, x_target - 0.453)"
      ]
     },
     "execution_count": 67,
     "metadata": {},
     "output_type": "execute_result"
    }
   ],
   "source": [
    "theta_1 = atan2(wrist_y, wrist_x)\n",
    "theta_1"
   ]
  },
  {
   "cell_type": "code",
   "execution_count": 68,
   "metadata": {},
   "outputs": [
    {
     "data": {
      "text/latex": [
       "$$\\left ( \\operatorname{atan_{2}}{\\left (y_{target},x_{target} - 0.453 \\right )}, \\quad 0\\right )$$"
      ],
      "text/plain": [
       "(atan2(y_target, x_target - 0.453), 0)"
      ]
     },
     "execution_count": 68,
     "metadata": {},
     "output_type": "execute_result"
    }
   ],
   "source": [
    "# Now that we have theta1, we will add it to our lookup dict\n",
    "joint_angle_equations[q1] = theta_1\n",
    "joint_angles[q1] = joint_angle(1)\n",
    "\n",
    "joint_angle_equations[q1], joint_angles[q1]\n",
    "# dh_parameter[q1], angle_equations[q1]"
   ]
  },
  {
   "cell_type": "code",
   "execution_count": 69,
   "metadata": {},
   "outputs": [
    {
     "data": {
      "text/latex": [
       "$$\\left ( \\sqrt{y_{target}^{2} + \\left(x_{target} - 0.453\\right)^{2}}, \\quad 1.84986\\right )$$"
      ],
      "text/plain": [
       "⎛   _________________________________         ⎞\n",
       "⎜  ╱         2                     2          ⎟\n",
       "⎝╲╱  y_target  + (x_target - 0.453)  , 1.84986⎠"
      ]
     },
     "execution_count": 69,
     "metadata": {},
     "output_type": "execute_result"
    }
   ],
   "source": [
    "# wrist_s = sqrt(wrist_x**2 + wrist_y**2).evalf(subs=t)\n",
    "wrist_s = sqrt(wrist_x**2 + wrist_y**2)\n",
    "wrist_s, wrist_s.subs(t)"
   ]
  },
  {
   "cell_type": "markdown",
   "metadata": {},
   "source": [
    "# Solving Theta_2 & Theta_3"
   ]
  },
  {
   "cell_type": "code",
   "execution_count": 70,
   "metadata": {},
   "outputs": [
    {
     "data": {
      "text/latex": [
       "$$\\left ( 1.50097168527591, \\quad \\sqrt{y_{target}^{2} + \\left(x_{target} - 0.453\\right)^{2}} - 0.35, \\quad z_{target} - 0.75\\right )$$"
      ],
      "text/plain": [
       "⎛                     _________________________________                       \n",
       "⎜                    ╱         2                     2                        \n",
       "⎝1.50097168527591, ╲╱  y_target  + (x_target - 0.453)   - 0.35, z_target - 0.7\n",
       "\n",
       " ⎞\n",
       " ⎟\n",
       "5⎠"
      ]
     },
     "execution_count": 70,
     "metadata": {},
     "output_type": "execute_result"
    }
   ],
   "source": [
    "# Regardless of our choice of method, we will need the following values to be loaded:\n",
    "# \n",
    "# radius_j2_j3 = dh_parameter[a2]\n",
    "\n",
    "# The magnitude of the vector pointing from joint_3 to joint_5, although our DH parameter table\n",
    "# files this location under the transformation to joint_4 coordinates, since joints 4 and up \n",
    "# share an origin at the wrist center, coincident with joint 5.\n",
    "radius_j5_j3 = sqrt(dh_parameter[a3]**2 + dh_parameter[d4]**2)\n",
    "\n",
    "# displacements in the positioning plane between the wrist center and joint_2.\n",
    "delta_s = wrist_s - dh_parameter[a1] # dh_parameter[a1] = 0.35 (meters)\n",
    "delta_z = wrist_z - dh_parameter[d1] # dh_parameter[d1] = 0.75 (meters)\n",
    "\n",
    "radius_j5_j3, delta_s, delta_z"
   ]
  },
  {
   "cell_type": "markdown",
   "metadata": {},
   "source": [
    "## The SSS Triangle Method:\n",
    "There is a slight hiccup here, the vertical difference between joints 3 and 4. This  of \n",
    "Since the articulation of joint 4 is revolute about the axis between itself and joint 5 (a.k.a. the wrist center), and since both joint origins lie in plane with joint 3 AND joint 2, finding ain plane with the wrist center - **BUT ONLY APPROXIMATELY; SEE CORRECTION!** - the \n",
    "The origins of joints 2, 3, and 5 all lie in the\n",
    "Let a, b, c represent sides of the triangle \n",
    "\n",
    "The differences between the coordinates of joint_2 and joint_5 are important parameters for solving the SSS triangle, ABC, described above. These differences are also the x and y coordinates of the wrist center in the joint 2 reference frame. The values are denoted here as delta_s and delta_z.\n",
    "\n",
    "With the arm rotated into the positioning plane, the cylindrical radius to joint_2 is a constant 0.35m along s.\n",
    "Similarly, joint_2 is always a constant 0.75m above the base link's z=0 plane, regardless of any other parameters.\n",
    "\n",
    "Together, this means that joint_2 traverses a circle of radius 0.35m, fixed at 0.75m off the ground plane.\n",
    "Setting theta_1 and thus the orientation of s effectively selects a point for j2 on this circle, and that is the origin for the coordinates of the SSS Triangle method."
   ]
  },
  {
   "cell_type": "markdown",
   "metadata": {},
   "source": [
    "[//]: # (Image References)\n",
    "\n",
    "[image1]: ./Pick-and-Place/SSS_Triangle.png\n",
    "\n",
    "![alt text][image1]"
   ]
  },
  {
   "cell_type": "code",
   "execution_count": 71,
   "metadata": {
    "collapsed": true
   },
   "outputs": [],
   "source": [
    "# Let A, B, C name the vertices of the triangle described by the origins of joints 2, 3, and 4.\n",
    "# let the symbols A and B represent the interior angles of triangle ABC at their synonymous vertices.\n",
    "A, B, C = symbols('A B C')\n",
    "# C is not strictly needed, but it may be useful for appraising whether a given pose is possible.\n",
    "# If C comes back imaginary, this would indicate an unviable solution.\n",
    "\n",
    "# Note that vertex angle C is not given a symbol; it simply isn't necessary, as it wouldn't be used in any later step.\n",
    "# A, B = symbols('A B')\n",
    "\n",
    "# let a, b, c represent side lengths of ABC, named conventionally (opposite their angles)\n",
    "a, b, c = symbols('a b c')\n",
    "\n",
    "# Here, A is the vertex located at joint_2, B at joint_3, and C at joint_5 (shared origin with joints 4-6)"
   ]
  },
  {
   "cell_type": "markdown",
   "metadata": {},
   "source": [
    "the x-axis of the joint_1 reference frame, called here 's.' The s-axis is determined by the wrist center: it is parallel to the projection of a vector from the base_link origin to the wrist center. Referring to this dimension or its values as 's' may be unnecessary complication, but it emphasizes the profound cylindrical symmetry of manipulator configurations.\n",
    "\n",
    "\n",
    "Determining theta_1 doesn't simply move us closer to solving for all the joint angles; it permits us to rotate the coordinate system the appropriate amount to locate it into the sz-plane required by the wrist center."
   ]
  },
  {
   "cell_type": "code",
   "execution_count": 72,
   "metadata": {},
   "outputs": [
    {
     "data": {
      "text/latex": [
       "$$\\left \\{ a : 1.50097168527591, \\quad b : \\sqrt{\\left(z_{target} - 0.75\\right)^{2} + \\left(\\sqrt{y_{target}^{2} + \\left(x_{target} - 0.453\\right)^{2}} - 0.35\\right)^{2}}, \\quad c : 1.25\\right \\}$$"
      ],
      "text/plain": [
       "⎧                             ________________________________________________\n",
       "⎪                            ╱                                                \n",
       "⎨                           ╱                       ⎛   ______________________\n",
       "⎪                          ╱                    2   ⎜  ╱         2            \n",
       "⎩a: 1.50097168527591, b: ╲╱    (z_target - 0.75)  + ⎝╲╱  y_target  + (x_target\n",
       "\n",
       "_____________________         ⎫\n",
       "                   2          ⎪\n",
       "___________       ⎞           ⎬\n",
       "         2        ⎟           ⎪\n",
       " - 0.453)   - 0.35⎠  , c: 1.25⎭"
      ]
     },
     "execution_count": 72,
     "metadata": {},
     "output_type": "execute_result"
    }
   ],
   "source": [
    "# Initially we have all side lengths, so let's prepare a dict:\n",
    "sides = {}\n",
    "# ...but only one leg has a known location/orientation: side b, which is coincident with a vector pointing from j2 to j5.\n",
    "# This vector ( we'll just call it \"b_vector\") ultimately determines the existence and nature of any solutions.\n",
    "# The side length b is the magnitude of b_vector:\n",
    "# b = sqrt(delta_s**2 + delta_z**2)\n",
    "\n",
    "# sides[b] = sqrt(delta_s**2 + delta_z**2).evalf(subs=t)\n",
    "sides[b] = sqrt(delta_s**2 + delta_z**2)\n",
    "\n",
    "# a and c are fixed distances, a the distance between joints 3 and 5 (=1.25m) and b between 2 and 3.\n",
    "# These are both defined above, as radius_j5_j3 and radius_j2_j3 respectively\n",
    "sides[a] = radius_j5_j3\n",
    "sides[c] = dh_parameter[a2]\n",
    "\n",
    "sides"
   ]
  },
  {
   "cell_type": "code",
   "execution_count": 73,
   "metadata": {
    "collapsed": true
   },
   "outputs": [],
   "source": [
    "# Solving SSS Triangles is fun and simple!\n",
    "A = acos((b**2 + c**2 - a**2)/(2 * b * c)).subs(sides)\n",
    "B = acos((a**2 + c**2 - b**2)/(2 * a * c)).subs(sides)\n",
    "C = acos((a**2 + b**2 - c**2)/(2 * a * b)).subs(sides)\n",
    "# A, B"
   ]
  },
  {
   "cell_type": "code",
   "execution_count": 74,
   "metadata": {},
   "outputs": [
    {
     "data": {
      "text/latex": [
       "$$\\left ( 0.897530287632943, \\quad 1.53506992311703, \\quad 0.708992442839817, \\quad -3.21624529935327 \\cdot 10^{-16}\\right )$$"
      ],
      "text/plain": [
       "(0.897530287632943, 1.53506992311703, 0.708992442839817, -3.21624529935327e-16\n",
       ")"
      ]
     },
     "execution_count": 74,
     "metadata": {},
     "output_type": "execute_result"
    }
   ],
   "source": [
    "A = A.evalf(subs=t)\n",
    "B = B.evalf(subs=t)\n",
    "C = C.evalf(subs=t)\n",
    "\n",
    "# Calculate numerical error between expected sum of interior angles and the sum of our results.\n",
    "num_error = N(pi - (A + B + C))\n",
    "\n",
    "# If A, B, or C are imaginary or complex, there is no physical solution.\n",
    "# If num_error is not approximately zero, then there is likely an error upstream. \n",
    "A, B, C, num_error"
   ]
  },
  {
   "cell_type": "code",
   "execution_count": 75,
   "metadata": {},
   "outputs": [
    {
     "data": {
      "text/latex": [
       "$$\\left ( \\operatorname{atan_{2}}{\\left (z_{target} - 0.75,\\sqrt{y_{target}^{2} + \\left(x_{target} - 0.453\\right)^{2}} - 0.35 \\right )}, \\quad 0.673394653635177\\right )$$"
      ],
      "text/plain": [
       "⎛     ⎛                    _________________________________       ⎞          \n",
       "⎜     ⎜                   ╱         2                     2        ⎟          \n",
       "⎝atan2⎝z_target - 0.75, ╲╱  y_target  + (x_target - 0.453)   - 0.35⎠, 0.673394\n",
       "\n",
       "         ⎞\n",
       "         ⎟\n",
       "653635177⎠"
      ]
     },
     "execution_count": 75,
     "metadata": {},
     "output_type": "execute_result"
    }
   ],
   "source": [
    "# The rotation of b_vector about Z2 (common normal of s and Z1) sets the orientation of the triangle ABC, \n",
    "# which in turn determines various angular terms in the formulas for theta_2 and theta_3.\n",
    "# One such term is wc_pitch, the angle between b_vector and the s-axis:\n",
    "wc_pitch = atan2(delta_z, delta_s)\n",
    "wc_pitch, wc_pitch.evalf(subs=t)"
   ]
  },
  {
   "cell_type": "code",
   "execution_count": 76,
   "metadata": {
    "collapsed": true
   },
   "outputs": [],
   "source": [
    "theta_2 = pi/2 - wc_pitch - A"
   ]
  },
  {
   "cell_type": "code",
   "execution_count": 77,
   "metadata": {},
   "outputs": [
    {
     "data": {
      "text/latex": [
       "$$0.0359844600820516$$"
      ],
      "text/plain": [
       "0.0359844600820516"
      ]
     },
     "execution_count": 77,
     "metadata": {},
     "output_type": "execute_result"
    }
   ],
   "source": [
    "j4_correction = atan2(0.054, 1.5)\n",
    "j4_correction"
   ]
  },
  {
   "cell_type": "code",
   "execution_count": 78,
   "metadata": {
    "collapsed": true
   },
   "outputs": [],
   "source": [
    "theta_3 = pi/2 - B - j4_correction"
   ]
  },
  {
   "cell_type": "code",
   "execution_count": 79,
   "metadata": {},
   "outputs": [
    {
     "data": {
      "text/latex": [
       "$$\\left ( - \\operatorname{atan_{2}}{\\left (z_{target} - 0.75,\\sqrt{y_{target}^{2} + \\left(x_{target} - 0.453\\right)^{2}} - 0.35 \\right )} - 0.897530287632943 + \\frac{\\pi}{2}, \\quad -1.57105438319909 + \\frac{\\pi}{2}\\right )$$"
      ],
      "text/plain": [
       "⎛       ⎛                    _________________________________       ⎞        \n",
       "⎜       ⎜                   ╱         2                     2        ⎟        \n",
       "⎜- atan2⎝z_target - 0.75, ╲╱  y_target  + (x_target - 0.453)   - 0.35⎠ - 0.897\n",
       "⎝                                                                             \n",
       "\n",
       "                                       ⎞\n",
       "               π                      π⎟\n",
       "530287632943 + ─, -1.57105438319909 + ─⎟\n",
       "               2                      2⎠"
      ]
     },
     "execution_count": 79,
     "metadata": {},
     "output_type": "execute_result"
    }
   ],
   "source": [
    "theta_2, theta_3"
   ]
  },
  {
   "cell_type": "code",
   "execution_count": 80,
   "metadata": {},
   "outputs": [
    {
     "data": {
      "text/latex": [
       "$$\\left ( - \\operatorname{atan_{2}}{\\left (z_{target} - 0.75,\\sqrt{y_{target}^{2} + \\left(x_{target} - 0.453\\right)^{2}} - 0.35 \\right )} - 0.897530287632943 + \\frac{\\pi}{2}, \\quad -0.000128614473223027\\right )$$"
      ],
      "text/plain": [
       "⎛       ⎛                    _________________________________       ⎞        \n",
       "⎜       ⎜                   ╱         2                     2        ⎟        \n",
       "⎜- atan2⎝z_target - 0.75, ╲╱  y_target  + (x_target - 0.453)   - 0.35⎠ - 0.897\n",
       "⎝                                                                             \n",
       "\n",
       "                                       ⎞\n",
       "               π                       ⎟\n",
       "530287632943 + ─, -0.000128614473223027⎟\n",
       "               2                       ⎠"
      ]
     },
     "execution_count": 80,
     "metadata": {},
     "output_type": "execute_result"
    }
   ],
   "source": [
    "# dh_parameter[q2] = theta_2.evalf(subs=t)\n",
    "# dh_parameter[q2] = theta_2.evalf(subs=t)\n",
    "# dh_parameter[q2]\n",
    "\n",
    "joint_angle_equations[q2] = theta_2\n",
    "joint_angles[q2] = joint_angle(2)\n",
    "\n",
    "joint_angle_equations[q2], joint_angles[q2]"
   ]
  },
  {
   "cell_type": "code",
   "execution_count": 81,
   "metadata": {},
   "outputs": [
    {
     "data": {
      "text/latex": [
       "$$\\left ( -1.57105438319909 + \\frac{\\pi}{2}, \\quad -0.000258056404188461\\right )$$"
      ],
      "text/plain": [
       "⎛                    π                       ⎞\n",
       "⎜-1.57105438319909 + ─, -0.000258056404188461⎟\n",
       "⎝                    2                       ⎠"
      ]
     },
     "execution_count": 81,
     "metadata": {},
     "output_type": "execute_result"
    }
   ],
   "source": [
    "# dh_parameter[q3] = theta_3.evalf()\n",
    "# dh_parameter[q3]\n",
    "\n",
    "joint_angle_equations[q3] = theta_3\n",
    "joint_angles[q3] = joint_angle(3)\n",
    "\n",
    "joint_angle_equations[q3], joint_angles[q3]"
   ]
  },
  {
   "cell_type": "code",
   "execution_count": 82,
   "metadata": {},
   "outputs": [
    {
     "data": {
      "text/latex": [
       "$$\\left ( \\left[\\begin{matrix}1.84986\\\\0\\\\1.94658\\end{matrix}\\right], \\quad \\left[\\begin{matrix}\\left ( \\theta_{1}, \\quad 0\\right )\\\\\\left ( \\theta_{2}, \\quad -0.000128614473223027\\right )\\\\\\left ( \\theta_{3}, \\quad -0.000258056404188461\\right )\\end{matrix}\\right]\\right )$$"
      ],
      "text/plain": [
       "⎛⎡1.84986⎤  ⎡          (θ₁, 0)          ⎤⎞\n",
       "⎜⎢       ⎥  ⎢                           ⎥⎟\n",
       "⎜⎢   0   ⎥, ⎢(θ₂, -0.000128614473223027)⎥⎟\n",
       "⎜⎢       ⎥  ⎢                           ⎥⎟\n",
       "⎝⎣1.94658⎦  ⎣(θ₃, -0.000258056404188461)⎦⎠"
      ]
     },
     "execution_count": 82,
     "metadata": {},
     "output_type": "execute_result"
    }
   ],
   "source": [
    "# This cell is useful for comparing with the forward_kinematics.rviz sim; the TF position of link_5 should be coincident\n",
    "# with the location of 'wrist' once the angles of joints 1-3 are set to q1, q2, and q3 respectively,\n",
    "# referred to here as the 'position_angles,' read top to bottom.\n",
    "wrist = col((wrist_x, wrist_y, wrist_z)).evalf(subs=t)\n",
    "positioning_joint_angles = col((('theta_1', joint_angles[q1]),\n",
    "                                ('theta_2', joint_angles[q2]),\n",
    "                                ('theta_3', joint_angles[q3])\n",
    "                               ))\n",
    "\n",
    "\n",
    "wrist, positioning_joint_angles"
   ]
  },
  {
   "cell_type": "code",
   "execution_count": 83,
   "metadata": {
    "collapsed": true
   },
   "outputs": [],
   "source": [
    "# Since angles A, B, C are positive definite, and wc_pitch is measured CCW from the horizontal (opposite sign to theta_2),\n",
    "# the angle (B + wc_pitch) is effectively wc_pitch, with some as-yet-undetermined positive phase shift.\n",
    "# \n",
    "# Theta_2 is initially offset by a phase of 90 degrees in the positive gamma direction"
   ]
  },
  {
   "cell_type": "markdown",
   "metadata": {},
   "source": []
  },
  {
   "cell_type": "markdown",
   "metadata": {},
   "source": [
    "### Simultaneous Circle Solver Method? Describe?"
   ]
  },
  {
   "cell_type": "code",
   "execution_count": 84,
   "metadata": {
    "collapsed": true
   },
   "outputs": [],
   "source": [
    "j2_0 = col((dh_parameter[a1], dh_parameter[d1]))\n",
    "\n",
    "s_3, z_3 = symbols('s_3, z_3')\n",
    "j3_0 = col((s_3, z_3)) + j2_0\n",
    "# j5 = col(wrist_s, 0, wrist_z)\n",
    "\n",
    "j5_0 = col((wrist_s, wrist_z)).subs(t)"
   ]
  },
  {
   "cell_type": "code",
   "execution_count": 85,
   "metadata": {},
   "outputs": [
    {
     "name": "stdout",
     "output_type": "stream",
     "text": [
      "In O0 coordinates: \n"
     ]
    },
    {
     "data": {
      "text/latex": [
       "$$\\left ( \\left[\\begin{matrix}0.35\\\\0.75\\end{matrix}\\right], \\quad \\left[\\begin{matrix}s_{3} + 0.35\\\\z_{3} + 0.75\\end{matrix}\\right], \\quad \\left[\\begin{matrix}1.84986\\\\1.94658\\end{matrix}\\right]\\right )$$"
      ],
      "text/plain": [
       "⎛⎡0.35⎤  ⎡s₃ + 0.35⎤  ⎡1.84986⎤⎞\n",
       "⎜⎢    ⎥, ⎢         ⎥, ⎢       ⎥⎟\n",
       "⎝⎣0.75⎦  ⎣z₃ + 0.75⎦  ⎣1.94658⎦⎠"
      ]
     },
     "execution_count": 85,
     "metadata": {},
     "output_type": "execute_result"
    }
   ],
   "source": [
    "print(\"In O0 coordinates: \")\n",
    "j2_0, j3_0, j5_0"
   ]
  },
  {
   "cell_type": "code",
   "execution_count": 86,
   "metadata": {
    "collapsed": true
   },
   "outputs": [],
   "source": [
    "j2 = col((0, 0))       \n",
    "j3 = col((s_3, z_3))\n",
    "j5 = j5_0 - j2_0"
   ]
  },
  {
   "cell_type": "code",
   "execution_count": 87,
   "metadata": {},
   "outputs": [
    {
     "name": "stdout",
     "output_type": "stream",
     "text": [
      "In O2 coordinates: \n"
     ]
    },
    {
     "data": {
      "text/latex": [
       "$$\\left ( \\left[\\begin{matrix}0\\\\0\\end{matrix}\\right], \\quad \\left[\\begin{matrix}s_{3}\\\\z_{3}\\end{matrix}\\right], \\quad \\left[\\begin{matrix}1.49986\\\\1.19658\\end{matrix}\\right]\\right )$$"
      ],
      "text/plain": [
       "⎛⎡0⎤  ⎡s₃⎤  ⎡1.49986⎤⎞\n",
       "⎜⎢ ⎥, ⎢  ⎥, ⎢       ⎥⎟\n",
       "⎝⎣0⎦  ⎣z₃⎦  ⎣1.19658⎦⎠"
      ]
     },
     "execution_count": 87,
     "metadata": {},
     "output_type": "execute_result"
    }
   ],
   "source": [
    "print(\"In O2 coordinates: \")\n",
    "j2, j3, j5"
   ]
  },
  {
   "cell_type": "code",
   "execution_count": 88,
   "metadata": {},
   "outputs": [
    {
     "data": {
      "text/latex": [
       "$$\\left ( 1.25 \\sin{\\left (q_{2} \\right )}, \\quad 1.25 \\cos{\\left (q_{2} \\right )}\\right )$$"
      ],
      "text/plain": [
       "(1.25⋅sin(q₂), 1.25⋅cos(q₂))"
      ]
     },
     "execution_count": 88,
     "metadata": {},
     "output_type": "execute_result"
    }
   ],
   "source": [
    "s3_expr_1 = dh_parameter[a2] * sin(q2)\n",
    "z3_expr_1 = dh_parameter[a2] * cos(q2)\n",
    "\n",
    "s3_expr_1, z3_expr_1"
   ]
  },
  {
   "cell_type": "code",
   "execution_count": 89,
   "metadata": {
    "collapsed": true
   },
   "outputs": [],
   "source": [
    "# gamma_5 is an intermediate angle in this calculation.\n",
    "# For now, it represents the deflection of the joint 5 radiant from the horizontal,\n",
    "# as shown in illustration. \n",
    "# Behaves identically to theta_2 for ease of explanation. \n",
    "# This is hard to visualize, add illustration!"
   ]
  },
  {
   "cell_type": "code",
   "execution_count": 90,
   "metadata": {},
   "outputs": [
    {
     "data": {
      "text/latex": [
       "$$\\left ( - 1.50097168527591 \\cos{\\left (\\gamma_{5} \\right )} + 1.49986, \\quad 1.50097168527591 \\sin{\\left (\\gamma_{5} \\right )} + 1.19658\\right )$$"
      ],
      "text/plain": [
       "(-1.50097168527591⋅cos(γ₅) + 1.49986, 1.50097168527591⋅sin(γ₅) + 1.19658)"
      ]
     },
     "execution_count": 90,
     "metadata": {},
     "output_type": "execute_result"
    }
   ],
   "source": [
    "gamma_5 = Symbol('gamma_5')\n",
    "\n",
    "s3_expr_2 = j5[0] + (radius_j5_j3 * -cos(gamma_5))\n",
    "z3_expr_2 = j5[1] + (radius_j5_j3 * sin(gamma_5))\n",
    "\n",
    "s3_expr_2, z3_expr_2"
   ]
  },
  {
   "cell_type": "code",
   "execution_count": 91,
   "metadata": {},
   "outputs": [
    {
     "data": {
      "text/latex": [
       "$$\\left ( 1.25 \\sin{\\left (q_{2} \\right )} + 1.50097168527591 \\cos{\\left (\\gamma_{5} \\right )} - 1.49986, \\quad - 1.50097168527591 \\sin{\\left (\\gamma_{5} \\right )} + 1.25 \\cos{\\left (q_{2} \\right )} - 1.19658\\right )$$"
      ],
      "text/plain": [
       "(1.25⋅sin(q₂) + 1.50097168527591⋅cos(γ₅) - 1.49986, -1.50097168527591⋅sin(γ₅) \n",
       "+ 1.25⋅cos(q₂) - 1.19658)"
      ]
     },
     "execution_count": 91,
     "metadata": {},
     "output_type": "execute_result"
    }
   ],
   "source": [
    "# Since expressions 1 and 2 for both s_3 and z_3 must be equal for a solution to exist, subtracting the second expression\n",
    "# from the first should make each of these combined expressions equal to zero. \n",
    "# This format is now suitable as input to SymPy's equation solver.\n",
    "s3_zero_form = s3_expr_1 - s3_expr_2\n",
    "z3_zero_form = z3_expr_1 - z3_expr_2\n",
    "\n",
    "s3_zero_form, z3_zero_form"
   ]
  },
  {
   "cell_type": "code",
   "execution_count": 92,
   "metadata": {},
   "outputs": [
    {
     "data": {
      "text/latex": [
       "$$\\left [ \\left ( -0.000128614473224601, \\quad 0.0355977892046402\\right ), \\quad \\left ( 1.79493196079266, \\quad -1.38238709647499\\right )\\right ]$$"
      ],
      "text/plain": [
       "[(-0.000128614473224601, 0.0355977892046402), (1.79493196079266, -1.3823870964\n",
       "7499)]"
      ]
     },
     "execution_count": 92,
     "metadata": {},
     "output_type": "execute_result"
    }
   ],
   "source": [
    "# solving these expressions simultaneously gives a pair of numerical values for q2 and gamma_5 - \n",
    "# if solution a solution exists.\n",
    "# But even then, there's a catch: generally, there are two possible solutions in the solution set.\n",
    "soln_set = solve([s3_zero_form, z3_zero_form], (q2, gamma_5))\n",
    "\n",
    "soln_set"
   ]
  },
  {
   "cell_type": "markdown",
   "metadata": {},
   "source": [
    "Now we must calculate theta_3 given theta_2 and gamma_5. This is a subtle and confusing step, since we must be "
   ]
  },
  {
   "cell_type": "code",
   "execution_count": 93,
   "metadata": {},
   "outputs": [
    {
     "data": {
      "text/latex": [
       "$$\\left ( 0, \\quad - \\frac{\\pi}{2}, \\quad \\frac{\\pi}{2}, \\quad 0\\right )$$"
      ],
      "text/plain": [
       "⎛   -π   π   ⎞\n",
       "⎜0, ───, ─, 0⎟\n",
       "⎝    2   2   ⎠"
      ]
     },
     "execution_count": 93,
     "metadata": {},
     "output_type": "execute_result"
    }
   ],
   "source": [
    "def theta3from(theta_2, gamma_5):\n",
    "    # when gamma_5 = theta_2, theta_3 == 0\n",
    "    # when gamma_5 = 0, theta_3 == -theta_2\n",
    "    theta_3 = theta_2 - gamma_5\n",
    "    return theta_3\n",
    "\n",
    "theta3from(pi/4, pi/4), theta3from(0, pi/2), theta3from(pi/2, 0), theta3from(0, 0)"
   ]
  },
  {
   "cell_type": "markdown",
   "metadata": {},
   "source": []
  },
  {
   "cell_type": "markdown",
   "metadata": {},
   "source": [
    "## Joint Range Enforcement"
   ]
  },
  {
   "cell_type": "markdown",
   "metadata": {},
   "source": [
    "Before going forward, we should vet any and all solutions to ensure that they are viable commands for the robot. trying to choose between two solutions, or for that matter, accepting the miraculous appearance of a unique solution, First, we must resolve the value of theta_3. This must be calculated from gamma_5 and geometric methods."
   ]
  },
  {
   "cell_type": "code",
   "execution_count": 94,
   "metadata": {
    "collapsed": true
   },
   "outputs": [],
   "source": [
    "# # joint 2 ranges from -45 degrees to +85 degrees;\n",
    "# j2_min = -45 * dtr\n",
    "# j2_max = 85 * dtr\n",
    "\n",
    "# # joint 3 ranges from -210 degrees to +65 degrees;\n",
    "# j3_min = -210 * dtr\n",
    "# j3_max = 65 * dtr\n",
    "\n",
    "# viable_soln_set = []\n",
    "\n",
    "# for solution in soln_set:\n",
    "#     if j2_max > solution[0] > j2_min:\n",
    "#         if j3_max > "
   ]
  },
  {
   "cell_type": "markdown",
   "metadata": {},
   "source": [
    "### Discriminating Between Multiple Viable Solutions\n",
    "\n",
    "From a control and integrity standpoint, it makes sense to keep the robot's center of mass as near to the Z1 axis as possible, which could be calculated more delicately using the inertial information in the URDF file. This would be a bit of an undertaking, to say the least.\n",
    "\n",
    "Another general consideration is similarity to the current pose. This is much easier to assess."
   ]
  },
  {
   "cell_type": "code",
   "execution_count": 95,
   "metadata": {
    "collapsed": true
   },
   "outputs": [],
   "source": [
    "# Interestingly, as long as we solve for "
   ]
  },
  {
   "cell_type": "markdown",
   "metadata": {},
   "source": [
    "## Joints 4-6: The Orientation Problem\n",
    "\n",
    "The process of conforming the wrist links onto the now-constrained arm links breaks down into a few separate elements. \n",
    "    \n",
    "    - Account for the slight misalignment between j3-j5 axis and rotation axis of joint_4\n",
    "    - Find theta_4 such that joint_5's DoF can access the target point.\n",
    "    - Find theta_6 such that the end effector is correctly oriented relative to the target.\n"
   ]
  },
  {
   "cell_type": "markdown",
   "metadata": {},
   "source": [
    "We do, however, have some parts of this process partially complete!\n",
    "The angles of joints 4 and 5 are ,"
   ]
  },
  {
   "cell_type": "code",
   "execution_count": 96,
   "metadata": {
    "collapsed": true
   },
   "outputs": [],
   "source": [
    "def vector_cross_angle(first_vector, second_vector):\n",
    "    # The vector arguments should be Matrix objects with three elements\n",
    "    unit_1 = first_vector.normalized()\n",
    "    unit_2 = second_vector.normalized()\n",
    "    cross_vector = unit_1.cross(unit_2)\n",
    "    return N(asin(cross_vector.norm()))\n",
    "\n",
    "def vector_cross_unit(first_vector, second_vector):\n",
    "    # The vector arguments should be Matrix objects with three elements\n",
    "    unit_1 = first_vector.normalized()\n",
    "    unit_2 = second_vector.normalized()\n",
    "    cross_vector = unit_1.cross(unit_2)\n",
    "    return cross_vector.normalized()"
   ]
  },
  {
   "cell_type": "code",
   "execution_count": 97,
   "metadata": {},
   "outputs": [
    {
     "data": {
      "text/latex": [
       "$$\\left[\\begin{matrix}0.349839231908914\\\\0\\\\1.99999998966145\\end{matrix}\\right]$$"
      ],
      "text/plain": [
       "⎡0.349839231908914⎤\n",
       "⎢                 ⎥\n",
       "⎢        0        ⎥\n",
       "⎢                 ⎥\n",
       "⎣1.99999998966145 ⎦"
      ]
     },
     "execution_count": 97,
     "metadata": {},
     "output_type": "execute_result"
    }
   ],
   "source": [
    "t_0 = col((t[x_target],t[y_target],t[z_target]))\n",
    "w_0 = col((wrist_x, wrist_y, wrist_z))\n",
    "\n",
    "j3_s = (dh_parameter[a1] + dh_parameter[a2] * sin(joint_angles[q2])) # s_coordinate of joint_3 in base frame\n",
    "j3_z = (dh_parameter[d1] + dh_parameter[a2] * cos(joint_angles[q2])) # s_coordinate of joint_3 in base frame\n",
    "\n",
    "j3_x = j3_s * cos(joint_angles[q1])\n",
    "j3_y = j3_s * sin(joint_angles[q1])\n",
    "\n",
    "j3_0 = col((j3_x, j3_y, j3_z))\n",
    "\n",
    "j3_0"
   ]
  },
  {
   "cell_type": "code",
   "execution_count": 98,
   "metadata": {
    "scrolled": true
   },
   "outputs": [
    {
     "data": {
      "text/latex": [
       "$$\\left ( \\left[\\begin{matrix}1.50002076809109\\\\0.0\\\\-0.0534199896614482\\end{matrix}\\right], \\quad \\left[\\begin{matrix}0.453\\\\0\\\\0\\end{matrix}\\right]\\right )$$"
      ],
      "text/plain": [
       "⎛⎡ 1.50002076809109  ⎤  ⎡0.453⎤⎞\n",
       "⎜⎢                   ⎥  ⎢     ⎥⎟\n",
       "⎜⎢        0.0        ⎥, ⎢  0  ⎥⎟\n",
       "⎜⎢                   ⎥  ⎢     ⎥⎟\n",
       "⎝⎣-0.0534199896614482⎦  ⎣  0  ⎦⎠"
      ]
     },
     "execution_count": 98,
     "metadata": {},
     "output_type": "execute_result"
    }
   ],
   "source": [
    "v = w_0 - j3_0\n",
    "w = t_0 - w_0\n",
    "# (v, w)\n",
    "(v.subs(t), w.subs(t))"
   ]
  },
  {
   "cell_type": "code",
   "execution_count": 99,
   "metadata": {},
   "outputs": [
    {
     "data": {
      "text/latex": [
       "$$0.0355977892046402$$"
      ],
      "text/plain": [
       "0.0355977892046402"
      ]
     },
     "execution_count": 99,
     "metadata": {},
     "output_type": "execute_result"
    }
   ],
   "source": [
    "theta_5 = vector_cross_angle(v.subs(t), w.subs(t))\n",
    "theta_5"
   ]
  },
  {
   "cell_type": "code",
   "execution_count": 100,
   "metadata": {},
   "outputs": [
    {
     "data": {
      "text/latex": [
       "$$\\left[\\begin{matrix}0\\\\-0.0241992553166361\\\\0\\end{matrix}\\right]$$"
      ],
      "text/plain": [
       "⎡         0         ⎤\n",
       "⎢                   ⎥\n",
       "⎢-0.0241992553166361⎥\n",
       "⎢                   ⎥\n",
       "⎣         0         ⎦"
      ]
     },
     "execution_count": 100,
     "metadata": {},
     "output_type": "execute_result"
    }
   ],
   "source": [
    "# c = v.cross(w)\n",
    "c = v.cross(w).subs(t)\n",
    "c"
   ]
  },
  {
   "cell_type": "code",
   "execution_count": 101,
   "metadata": {
    "collapsed": true
   },
   "outputs": [],
   "source": [
    "### Define functions for Rotation Matrices about x, y, and z given specific angle.\n",
    "\n",
    "def rot_x(q):\n",
    "    R_x = Matrix([[ 1,              0,        0],\n",
    "                  [ 0,        cos(q),   -sin(q)],\n",
    "                  [ 0,        sin(q),    cos(q)]])\n",
    "    return R_x\n",
    "    \n",
    "def rot_y(q):\n",
    "    R_y =  Matrix([[ cos(q),        0,  sin(q)],\n",
    "                   [       0,        1,        0],\n",
    "                   [-sin(q),        0,  cos(q)]])\n",
    "    return R_y\n",
    "\n",
    "def rot_z(q): \n",
    "    R_z = Matrix([[ cos(q), -sin(q),        0],\n",
    "                  [ sin(q),  cos(q),        0],\n",
    "                  [ 0,            0,        1]])\n",
    "    return R_z\n",
    "\n",
    "\n",
    "def composeRotations(rotation_list):\n",
    "    rMat = eye(3)\n",
    "    for rotation in rotation_list:\n",
    "        rotation_axis, rotation_angle = rotation[0], rotation[1]\n",
    "        rr = eval('rot_{}({})'.format(rotation_axis, rotation_angle))\n",
    "        rMat = rr * rMat\n",
    "    return rMat\n",
    "    \n",
    "    \n",
    "def TF_matrix(rotation_list, translation=[0, 0, 0]):\n",
    "    # rotation axis is element of {'x', 'y', 'z'}\n",
    "#     transcol = Matrix([[translation[0]], [translation[1]], [translation[2]]])\n",
    "    \n",
    "#     rMat = eye(3)\n",
    "#     for rotation in rot_sequence:\n",
    "#         ax, degs = rotation[0], rotation[1]\n",
    "#     rr = eval('rot_{}({})'.format(rotation_axis, rotation_angle))\n",
    "#     rMat = rr * rMat\n",
    "    rr = composeRotations(rotation_list)    \n",
    "    rT = rr.row_join(col((translation[0], translation[1], translation[2])))\n",
    "    rT = rT.col_join(Matrix([[0, 0, 0, 1]]))\n",
    "    \n",
    "    return rT\n",
    "\n",
    "def DH_TF(alpha, a, d, q):\n",
    "    # alpha, a, d, q = twist_angle, link_length, joint_angle, link_offset\n",
    "    subT_x = TF_matrix([('x', alpha)], translation=[a, 0, 0])\n",
    "    subT_z = TF_matrix([('z', q)], translation=[0, 0, d])\n",
    "    return subT_x * subT_z\n"
   ]
  },
  {
   "cell_type": "code",
   "execution_count": 102,
   "metadata": {},
   "outputs": [
    {
     "data": {
      "text/latex": [
       "$$\\left ( \\left[\\begin{matrix}0.999366465607479\\\\0\\\\-0.0355902714125008\\end{matrix}\\right], \\quad \\left[\\begin{matrix}1.0\\\\0\\\\0\\end{matrix}\\right]\\right )$$"
      ],
      "text/plain": [
       "⎛⎡ 0.999366465607479 ⎤  ⎡1.0⎤⎞\n",
       "⎜⎢                   ⎥  ⎢   ⎥⎟\n",
       "⎜⎢         0         ⎥, ⎢ 0 ⎥⎟\n",
       "⎜⎢                   ⎥  ⎢   ⎥⎟\n",
       "⎝⎣-0.0355902714125008⎦  ⎣ 0 ⎦⎠"
      ]
     },
     "execution_count": 102,
     "metadata": {},
     "output_type": "execute_result"
    }
   ],
   "source": [
    "y, p, r = symbols('y, p, r')\n",
    "\n",
    "v_hat = (v.subs(t)).normalized()\n",
    "w_hat = (w.subs(t)).normalized()\n",
    "vh = col((v_hat[0], v_hat[1], v_hat[2]), h=1)\n",
    "wh = col((w_hat[0], w_hat[1], w_hat[2]), h=1)\n",
    "v_hat, w_hat"
   ]
  },
  {
   "cell_type": "code",
   "execution_count": 103,
   "metadata": {},
   "outputs": [
    {
     "data": {
      "text/latex": [
       "$$\\left ( \\left[\\begin{matrix}1 & 0 & 0\\\\0 & \\cos{\\left (r \\right )} & - \\sin{\\left (r \\right )}\\\\0 & \\sin{\\left (r \\right )} & \\cos{\\left (r \\right )}\\end{matrix}\\right], \\quad \\left[\\begin{matrix}\\cos{\\left (p \\right )} & 0 & \\sin{\\left (p \\right )}\\\\0 & 1 & 0\\\\- \\sin{\\left (p \\right )} & 0 & \\cos{\\left (p \\right )}\\end{matrix}\\right], \\quad \\left[\\begin{matrix}1 & 0 & 0\\\\0 & \\cos{\\left (y \\right )} & - \\sin{\\left (y \\right )}\\\\0 & \\sin{\\left (y \\right )} & \\cos{\\left (y \\right )}\\end{matrix}\\right]\\right )$$"
      ],
      "text/plain": [
       "⎛⎡1    0        0   ⎤  ⎡cos(p)   0  sin(p)⎤  ⎡1    0        0   ⎤⎞\n",
       "⎜⎢                  ⎥  ⎢                  ⎥  ⎢                  ⎥⎟\n",
       "⎜⎢0  cos(r)  -sin(r)⎥, ⎢   0     1    0   ⎥, ⎢0  cos(y)  -sin(y)⎥⎟\n",
       "⎜⎢                  ⎥  ⎢                  ⎥  ⎢                  ⎥⎟\n",
       "⎝⎣0  sin(r)  cos(r) ⎦  ⎣-sin(p)  0  cos(p)⎦  ⎣0  sin(y)  cos(y) ⎦⎠"
      ]
     },
     "execution_count": 103,
     "metadata": {},
     "output_type": "execute_result"
    }
   ],
   "source": [
    "R_r = composeRotations([('x', r)])\n",
    "R_p = composeRotations([('y', p)])\n",
    "R_y = composeRotations([('x', y)])\n",
    "\n",
    "R_r, R_p, R_y"
   ]
  },
  {
   "cell_type": "code",
   "execution_count": 104,
   "metadata": {},
   "outputs": [
    {
     "data": {
      "text/latex": [
       "$$\\left[\\begin{matrix}\\cos{\\left (p \\right )} & \\sin{\\left (p \\right )} \\sin{\\left (r \\right )} & \\sin{\\left (p \\right )} \\cos{\\left (r \\right )}\\\\\\sin{\\left (p \\right )} \\sin{\\left (y \\right )} & - \\sin{\\left (r \\right )} \\sin{\\left (y \\right )} \\cos{\\left (p \\right )} + \\cos{\\left (r \\right )} \\cos{\\left (y \\right )} & - \\sin{\\left (r \\right )} \\cos{\\left (y \\right )} - \\sin{\\left (y \\right )} \\cos{\\left (p \\right )} \\cos{\\left (r \\right )}\\\\- \\sin{\\left (p \\right )} \\cos{\\left (y \\right )} & \\sin{\\left (r \\right )} \\cos{\\left (p \\right )} \\cos{\\left (y \\right )} + \\sin{\\left (y \\right )} \\cos{\\left (r \\right )} & - \\sin{\\left (r \\right )} \\sin{\\left (y \\right )} + \\cos{\\left (p \\right )} \\cos{\\left (r \\right )} \\cos{\\left (y \\right )}\\end{matrix}\\right]$$"
      ],
      "text/plain": [
       "⎡    cos(p)                  sin(p)⋅sin(r)                          sin(p)⋅cos\n",
       "⎢                                                                             \n",
       "⎢sin(p)⋅sin(y)   -sin(r)⋅sin(y)⋅cos(p) + cos(r)⋅cos(y)  -sin(r)⋅cos(y) - sin(y\n",
       "⎢                                                                             \n",
       "⎣-sin(p)⋅cos(y)  sin(r)⋅cos(p)⋅cos(y) + sin(y)⋅cos(r)   -sin(r)⋅sin(y) + cos(p\n",
       "\n",
       "(r)            ⎤\n",
       "               ⎥\n",
       ")⋅cos(p)⋅cos(r)⎥\n",
       "               ⎥\n",
       ")⋅cos(r)⋅cos(y)⎦"
      ]
     },
     "execution_count": 104,
     "metadata": {},
     "output_type": "execute_result"
    }
   ],
   "source": [
    "orientation = {r: pi/2,\n",
    "               p: pi/2,\n",
    "               y: pi/2\n",
    "              }\n",
    "\n",
    "R_wrist = R_y * R_p * R_r\n",
    "R_wrist"
   ]
  },
  {
   "cell_type": "code",
   "execution_count": 111,
   "metadata": {},
   "outputs": [
    {
     "data": {
      "text/latex": [
       "$$\\left[\\begin{matrix}0 & 1 & 0\\\\1 & 0 & 0\\\\0 & 0 & -1\\end{matrix}\\right]$$"
      ],
      "text/plain": [
       "⎡0  1  0 ⎤\n",
       "⎢        ⎥\n",
       "⎢1  0  0 ⎥\n",
       "⎢        ⎥\n",
       "⎣0  0  -1⎦"
      ]
     },
     "execution_count": 111,
     "metadata": {},
     "output_type": "execute_result"
    }
   ],
   "source": [
    "w_rot = R_wrist.subs(orientation)\n",
    "w_rot"
   ]
  },
  {
   "cell_type": "code",
   "execution_count": 117,
   "metadata": {},
   "outputs": [
    {
     "data": {
      "text/latex": [
       "$$\\left ( \\left[\\begin{matrix}2.30286\\\\0\\\\1.94658\\end{matrix}\\right], \\quad \\left[\\begin{matrix}1.84986\\\\0.453\\\\1.94658\\end{matrix}\\right], \\quad 1.5707963267949\\right )$$"
      ],
      "text/plain": [
       "⎛⎡2.30286⎤  ⎡1.84986⎤                 ⎞\n",
       "⎜⎢       ⎥  ⎢       ⎥                 ⎟\n",
       "⎜⎢   0   ⎥, ⎢ 0.453 ⎥, 1.5707963267949⎟\n",
       "⎜⎢       ⎥  ⎢       ⎥                 ⎟\n",
       "⎝⎣1.94658⎦  ⎣1.94658⎦                 ⎠"
      ]
     },
     "execution_count": 117,
     "metadata": {},
     "output_type": "execute_result"
    }
   ],
   "source": [
    "(w_0 + w).subs(t), (w_0 + (w_rot * w)).subs(t), N(pi/2)"
   ]
  },
  {
   "cell_type": "code",
   "execution_count": 106,
   "metadata": {},
   "outputs": [
    {
     "ename": "NameError",
     "evalue": "name 'o1_0' is not defined",
     "output_type": "error",
     "traceback": [
      "\u001b[0;31m---------------------------------------------------------------------------\u001b[0m",
      "\u001b[0;31mNameError\u001b[0m                                 Traceback (most recent call last)",
      "\u001b[0;32m<ipython-input-106-f2cd34d47afb>\u001b[0m in \u001b[0;36m<module>\u001b[0;34m()\u001b[0m\n\u001b[1;32m     18\u001b[0m \u001b[0;34m\u001b[0m\u001b[0m\n\u001b[1;32m     19\u001b[0m \u001b[0mo0_1\u001b[0m \u001b[0;34m=\u001b[0m \u001b[0mT0_1\u001b[0m \u001b[0;34m*\u001b[0m \u001b[0mo0_0\u001b[0m\u001b[0;34m\u001b[0m\u001b[0m\n\u001b[0;32m---> 20\u001b[0;31m \u001b[0mo2_0\u001b[0m \u001b[0;34m=\u001b[0m \u001b[0mT1_2\u001b[0m \u001b[0;34m*\u001b[0m \u001b[0mo1_0\u001b[0m\u001b[0;34m\u001b[0m\u001b[0m\n\u001b[0m\u001b[1;32m     21\u001b[0m \u001b[0mo3_0\u001b[0m \u001b[0;34m=\u001b[0m \u001b[0mT2_3\u001b[0m \u001b[0;34m*\u001b[0m \u001b[0mo2_0\u001b[0m\u001b[0;34m\u001b[0m\u001b[0m\n\u001b[1;32m     22\u001b[0m \u001b[0;34m\u001b[0m\u001b[0m\n",
      "\u001b[0;31mNameError\u001b[0m: name 'o1_0' is not defined"
     ]
    }
   ],
   "source": [
    "# T0_1 = DH_TF(alpha0, a0, d1, q1)\n",
    "# T1_2 = DH_TF(alpha1, a1, d2, q2)\n",
    "# T2_3 = DH_TF(alpha2, a2, d3, q3)\n",
    "# T3_4 = DH_TF(alpha3, a3, d4, q4)\n",
    "# T4_5 = DH_TF(alpha4, a4, d5, q5)\n",
    "# T5_6 = DH_TF(alpha5, a5, d6, q6)\n",
    "# T6_E = DH_TF(alpha6, a6, d7, q7)\n",
    "\n",
    "T0_1 = DH_TF(alpha0, a0, d1, q1).subs(dh_parameter)\n",
    "T1_2 = DH_TF(alpha1, a1, d2, q2).subs(dh_parameter)\n",
    "T2_3 = DH_TF(alpha2, a2, d3, q3).subs(dh_parameter)\n",
    "T3_4 = DH_TF(alpha3, a3, d4, q4).subs(dh_parameter)\n",
    "T4_5 = DH_TF(alpha4, a4, d5, q5).subs(dh_parameter)\n",
    "T5_6 = DH_TF(alpha5, a5, d6, q6).subs(dh_parameter)\n",
    "T6_E = DH_TF(alpha6, a6, d7, q7).subs(dh_parameter)\n",
    "\n",
    "o0_0 = col((0, 0, 0), 1)\n",
    "\n",
    "o0_1 = T0_1 * o0_0\n",
    "o2_0 = T1_2 * o1_0\n",
    "o3_0 = T2_3 * o2_0\n",
    "\n",
    "o0_0, o1_0, o2_0, o3_0"
   ]
  },
  {
   "cell_type": "code",
   "execution_count": null,
   "metadata": {
    "collapsed": true
   },
   "outputs": [],
   "source": [
    "do_23 = o3_0 - o2_0\n",
    "\n",
    "do_23, (do_23[0], do_23[1])"
   ]
  },
  {
   "cell_type": "code",
   "execution_count": null,
   "metadata": {
    "collapsed": true
   },
   "outputs": [],
   "source": [
    "o3_0[0]**2"
   ]
  },
  {
   "cell_type": "code",
   "execution_count": 120,
   "metadata": {},
   "outputs": [
    {
     "ename": "TypeError",
     "evalue": "'list' object cannot be interpreted as an integer",
     "output_type": "error",
     "traceback": [
      "\u001b[0;31m---------------------------------------------------------------------------\u001b[0m",
      "\u001b[0;31mTypeError\u001b[0m                                 Traceback (most recent call last)",
      "\u001b[0;32m<ipython-input-120-609f70d7a63f>\u001b[0m in \u001b[0;36m<module>\u001b[0;34m()\u001b[0m\n\u001b[0;32m----> 1\u001b[0;31m \u001b[0mk\u001b[0m \u001b[0;34m=\u001b[0m \u001b[0mMatrix\u001b[0m\u001b[0;34m(\u001b[0m\u001b[0mnp\u001b[0m\u001b[0;34m.\u001b[0m\u001b[0mndarray\u001b[0m\u001b[0;34m(\u001b[0m\u001b[0;34m(\u001b[0m\u001b[0;36m2\u001b[0m\u001b[0;34m,\u001b[0m \u001b[0;36m5\u001b[0m\u001b[0;34m,\u001b[0m \u001b[0;34m[\u001b[0m\u001b[0;36m3\u001b[0m\u001b[0;34m]\u001b[0m\u001b[0;34m)\u001b[0m\u001b[0;34m)\u001b[0m\u001b[0;34m)\u001b[0m\u001b[0;34m\u001b[0m\u001b[0m\n\u001b[0m",
      "\u001b[0;31mTypeError\u001b[0m: 'list' object cannot be interpreted as an integer"
     ]
    }
   ],
   "source": [
    "k = Matrix(np.ndarray((2, 5, [3])))"
   ]
  },
  {
   "cell_type": "code",
   "execution_count": null,
   "metadata": {
    "collapsed": true
   },
   "outputs": [],
   "source": []
  }
 ],
 "metadata": {
  "hide_input": false,
  "kernelspec": {
   "display_name": "Python 3",
   "language": "python",
   "name": "python3"
  },
  "language_info": {
   "codemirror_mode": {
    "name": "ipython",
    "version": 3
   },
   "file_extension": ".py",
   "mimetype": "text/x-python",
   "name": "python",
   "nbconvert_exporter": "python",
   "pygments_lexer": "ipython3",
   "version": "3.6.2"
  },
  "toc": {
   "nav_menu": {},
   "number_sections": true,
   "sideBar": true,
   "skip_h1_title": false,
   "title_cell": "Table of Contents",
   "title_sidebar": "Contents",
   "toc_cell": false,
   "toc_position": {},
   "toc_section_display": true,
   "toc_window_display": false
  },
  "varInspector": {
   "cols": {
    "lenName": 16,
    "lenType": 16,
    "lenVar": 40
   },
   "kernels_config": {
    "python": {
     "delete_cmd_postfix": "",
     "delete_cmd_prefix": "del ",
     "library": "var_list.py",
     "varRefreshCmd": "print(var_dic_list())"
    },
    "r": {
     "delete_cmd_postfix": ") ",
     "delete_cmd_prefix": "rm(",
     "library": "var_list.r",
     "varRefreshCmd": "cat(var_dic_list()) "
    }
   },
   "types_to_exclude": [
    "module",
    "function",
    "builtin_function_or_method",
    "instance",
    "_Feature"
   ],
   "window_display": false
  }
 },
 "nbformat": 4,
 "nbformat_minor": 2
}
