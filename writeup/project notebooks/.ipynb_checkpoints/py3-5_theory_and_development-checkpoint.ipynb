{
 "cells": [
  {
   "cell_type": "code",
   "execution_count": 15,
   "metadata": {
    "ExecuteTime": {
     "end_time": "2018-04-27T21:09:39.692847Z",
     "start_time": "2018-04-27T21:09:39.687856Z"
    },
    "collapsed": true
   },
   "outputs": [],
   "source": [
    "from sympy import symbols, Symbol, cos, sin, pi, sqrt, simplify\n",
    "from sympy.matrices import Matrix, eye\n",
    "import sympy as sp\n",
    "\n",
    "import numpy as np\n",
    "# import pandas as pd"
   ]
  },
  {
   "cell_type": "code",
   "execution_count": 16,
   "metadata": {
    "ExecuteTime": {
     "end_time": "2018-04-27T21:09:40.233717Z",
     "start_time": "2018-04-27T21:09:40.230727Z"
    },
    "collapsed": true
   },
   "outputs": [],
   "source": [
    "sp.init_printing(use_latex='mathjax')"
   ]
  },
  {
   "cell_type": "markdown",
   "metadata": {
    "collapsed": true
   },
   "source": [
    "# Forward Kinematics (General)"
   ]
  },
  {
   "cell_type": "code",
   "execution_count": 17,
   "metadata": {
    "ExecuteTime": {
     "end_time": "2018-04-27T21:09:41.530893Z",
     "start_time": "2018-04-27T21:09:41.526882Z"
    },
    "collapsed": true
   },
   "outputs": [],
   "source": [
    "def col(e1, e2, e3, homogeneous=True):\n",
    "    \"option: h=1 will output a homogenous coordinate column vector\"\n",
    "    matrixArg = [e1, e2, e3]\n",
    "    if homogeneous: matrixArg.append(1)\n",
    "    return Matrix(matrixArg)"
   ]
  },
  {
   "cell_type": "code",
   "execution_count": 18,
   "metadata": {
    "ExecuteTime": {
     "end_time": "2018-04-27T21:09:42.259124Z",
     "start_time": "2018-04-27T21:09:42.198964Z"
    },
    "collapsed": true
   },
   "outputs": [],
   "source": [
    "def rot_x(q):\n",
    "    R_x = Matrix([[ 1,              0,        0],\n",
    "                  [ 0,        cos(q),   -sin(q)],\n",
    "                  [ 0,        sin(q),    cos(q)]])\n",
    "    return R_x\n",
    "    \n",
    "def rot_y(q):\n",
    "    R_y =  Matrix([[ cos(q),        0,  sin(q)],\n",
    "                   [       0,        1,        0],\n",
    "                   [-sin(q),        0,  cos(q)]])\n",
    "    return R_y\n",
    "\n",
    "def rot_z(q): \n",
    "    R_z = Matrix([[ cos(q), -sin(q),        0],\n",
    "                  [ sin(q),  cos(q),        0],\n",
    "                  [ 0,            0,        1]])\n",
    "    return R_z\n",
    "\n",
    "def composeRotations(rotation_list):\n",
    "    rMat = eye(3)\n",
    "    for rotation in rotation_list:\n",
    "        rotation_axis, rotation_angle = rotation[0], rotation[1]\n",
    "        rr = eval('rot_{}({})'.format(rotation_axis, rotation_angle))\n",
    "        rMat = rr * rMat\n",
    "    return rMat\n",
    "    \n",
    "def homogeneousTF(rotation_list=[], translation=[0, 0, 0], intrinsic=True):\n",
    "    rr = composeRotations(rotation_list)    \n",
    "    rT = rr.row_join(col(translation[0], translation[1], translation[2], homogeneous=False))\n",
    "    rT = rT.col_join(Matrix([[0, 0, 0, 1]]))\n",
    "    return rT\n",
    "\n",
    "def DH_TF(alpha, a, d, q):\n",
    "    # alpha, a, d, q = twist_angle, link_length, joint_angle, link_offset\n",
    "    subT_x = homogeneousTF([('x', alpha)], translation=[a, 0, 0])\n",
    "    subT_z = homogeneousTF([('z', q)], translation=[0, 0, d])\n",
    "    return subT_x * subT_z"
   ]
  },
  {
   "cell_type": "code",
   "execution_count": 19,
   "metadata": {
    "ExecuteTime": {
     "end_time": "2018-04-27T21:09:43.048402Z",
     "start_time": "2018-04-27T21:09:43.033362Z"
    }
   },
   "outputs": [
    {
     "data": {
      "text/latex": [
       "$$\\left[\\begin{matrix}\\cos{\\left (q \\right )} & - \\sin{\\left (q \\right )} & 0 & a\\\\\\sin{\\left (q \\right )} \\cos{\\left (\\alpha \\right )} & \\cos{\\left (\\alpha \\right )} \\cos{\\left (q \\right )} & - \\sin{\\left (\\alpha \\right )} & - d \\sin{\\left (\\alpha \\right )}\\\\\\sin{\\left (\\alpha \\right )} \\sin{\\left (q \\right )} & \\sin{\\left (\\alpha \\right )} \\cos{\\left (q \\right )} & \\cos{\\left (\\alpha \\right )} & d \\cos{\\left (\\alpha \\right )}\\\\0 & 0 & 0 & 1\\end{matrix}\\right]$$"
      ],
      "text/plain": [
       "⎡   cos(q)         -sin(q)        0         a    ⎤\n",
       "⎢                                                ⎥\n",
       "⎢sin(q)⋅cos(α)  cos(α)⋅cos(q)  -sin(α)  -d⋅sin(α)⎥\n",
       "⎢                                                ⎥\n",
       "⎢sin(α)⋅sin(q)  sin(α)⋅cos(q)  cos(α)   d⋅cos(α) ⎥\n",
       "⎢                                                ⎥\n",
       "⎣      0              0           0         1    ⎦"
      ]
     },
     "execution_count": 19,
     "metadata": {},
     "output_type": "execute_result"
    }
   ],
   "source": [
    "# These symbols represent the appropriate parameters for a single DH transform matrix, so alpha and a are indexed i-1 implicitly\n",
    "alpha, a, d, q = symbols(\"alpha, a, d, q\")\n",
    "\n",
    "general_DH_matrix = DH_TF(alpha, a, d, q)\n",
    "\n",
    "# This is a generalized pattern for the homogeneous transform between adjacent links;\\n \n",
    "# the transform from joint[i-1] coordinates to joint[i] coordinates is generated by:\n",
    "# matrix_i = dhTransform(alpha[i-1], a[i-1], d[i], q[i]\n",
    "\n",
    "general_DH_matrix"
   ]
  },
  {
   "cell_type": "code",
   "execution_count": 20,
   "metadata": {
    "ExecuteTime": {
     "end_time": "2018-04-27T21:09:46.587878Z",
     "start_time": "2018-04-27T21:09:46.581862Z"
    },
    "collapsed": true
   },
   "outputs": [],
   "source": [
    "def sym_dhTransform(alpha, a, d, q):\n",
    "    TF = Matrix([\n",
    "        [           cos(q),             -sin(q),             0,               a],\n",
    "        [sin(q)*cos(alpha),   cos(q)*cos(alpha),   -sin(alpha),   -d*sin(alpha)],\n",
    "        [sin(q)*sin(alpha),   cos(q)*sin(alpha),    cos(alpha),    d*cos(alpha)],\n",
    "        [                0,                   0,             0,               1]])\n",
    "    return TF"
   ]
  },
  {
   "cell_type": "code",
   "execution_count": 21,
   "metadata": {
    "ExecuteTime": {
     "end_time": "2018-04-27T21:09:47.271078Z",
     "start_time": "2018-04-27T21:09:47.263056Z"
    },
    "collapsed": true
   },
   "outputs": [],
   "source": [
    "# For use in FK applications where all parameters are known numeric values\n",
    "def num_dhTransform(alpha, a, d, q):\n",
    "    # alpha, a, d, and q should be non-symbolic\n",
    "    cos = np.math.cos\n",
    "    sin = np.math.sin\n",
    "    TF = np.array([[           cos(q),             -sin(q),             0,               a],\n",
    "                   [sin(q)*cos(alpha),   cos(q)*cos(alpha),   -sin(alpha),   -d*sin(alpha)],\n",
    "                   [sin(q)*sin(alpha),   cos(q)*sin(alpha),    cos(alpha),    d*cos(alpha)],\n",
    "                   [                0,                   0,             0,               1]], dtype=np.float64)\n",
    "    return TF"
   ]
  },
  {
   "cell_type": "code",
   "execution_count": 11,
   "metadata": {
    "ExecuteTime": {
     "end_time": "2018-04-27T20:43:52.248598Z",
     "start_time": "2018-04-27T20:43:48.224909Z"
    }
   },
   "outputs": [
    {
     "name": "stdout",
     "output_type": "stream",
     "text": [
      "4.96 µs ± 134 ns per loop (mean ± std. dev. of 7 runs, 100000 loops each)\n"
     ]
    }
   ],
   "source": [
    "%%timeit\n",
    "num_dhTransform(np.pi/7.3, 0.15, 1.12, np.pi/4)"
   ]
  },
  {
   "cell_type": "code",
   "execution_count": 12,
   "metadata": {
    "ExecuteTime": {
     "end_time": "2018-04-27T20:44:07.276538Z",
     "start_time": "2018-04-27T20:43:52.255606Z"
    }
   },
   "outputs": [
    {
     "name": "stdout",
     "output_type": "stream",
     "text": [
      "1.85 ms ± 22.4 µs per loop (mean ± std. dev. of 7 runs, 1000 loops each)\n"
     ]
    }
   ],
   "source": [
    "%%timeit\n",
    "general_DH_matrix.evalf(subs={alpha: np.pi/7.3, a: 0.15, d: 1.12, q: np.pi/4})"
   ]
  },
  {
   "cell_type": "markdown",
   "metadata": {},
   "source": [
    "# KR210 Forward Kinematics"
   ]
  },
  {
   "cell_type": "code",
   "execution_count": null,
   "metadata": {
    "collapsed": true
   },
   "outputs": [],
   "source": []
  },
  {
   "cell_type": "markdown",
   "metadata": {},
   "source": [
    "## KR210 DH Parameters"
   ]
  },
  {
   "cell_type": "markdown",
   "metadata": {},
   "source": []
  },
  {
   "cell_type": "markdown",
   "metadata": {
    "collapsed": true
   },
   "source": [
    "## Coordinate System Considerations"
   ]
  },
  {
   "cell_type": "code",
   "execution_count": null,
   "metadata": {
    "collapsed": true
   },
   "outputs": [],
   "source": []
  },
  {
   "cell_type": "markdown",
   "metadata": {},
   "source": [
    "# KR210 Kinematic Analysis and IK Derivations"
   ]
  },
  {
   "cell_type": "code",
   "execution_count": null,
   "metadata": {
    "collapsed": true,
    "deletable": false,
    "editable": false,
    "run_control": {
     "frozen": true
    }
   },
   "outputs": [],
   "source": [
    "shelf_interaction_orientation = col((1, 0, 0))\n",
    "dropoff_orientation = col((0, 1, 0))\n",
    "\n",
    "# end_eff_unitvector set to pp_placeholder as default for this project, as it is already ideal for testing. \n",
    "# Could be made symbolic to generalize the process, to simply set to a different default for other configurations.\n",
    "end_effector_unitvector = shelf_interaction_orientation\n",
    "\n",
    "# All three of these distances are measured along the Z6 axis; \n",
    "# the distances are displacements relative to the previous variable, \n",
    "# with joint_6 measured from the wrist center. \n",
    "joint_6_distance = 0.193\n",
    "gripper_joint_distance = 0.11\n",
    "finger_joint_distance = 0.15 # not included in example value\n",
    "\n",
    "withfingers = True\n",
    "\n",
    "# End effector length spans distance from wc to target point\n",
    "end_effector_length = joint_6_distance + gripper_joint_distance + (int(withfingers) * finger_joint_distance)\n",
    "\n",
    "# end_effector_vector points from wc to target point\n",
    "end_effector_vector = end_effector_length * end_effector_unitvector"
   ]
  },
  {
   "cell_type": "markdown",
   "metadata": {},
   "source": [
    "## Decoupling and Solution Strategy"
   ]
  },
  {
   "cell_type": "markdown",
   "metadata": {},
   "source": [
    "### Positioning Plane Symmetry"
   ]
  },
  {
   "cell_type": "markdown",
   "metadata": {},
   "source": [
    "## Wrist Position Constraint"
   ]
  },
  {
   "cell_type": "markdown",
   "metadata": {},
   "source": [
    "## Joint 1"
   ]
  },
  {
   "cell_type": "markdown",
   "metadata": {},
   "source": [
    "For the purposes of deriving the general form IK solution, this should be defined symbolically.\n",
    "\n",
    "The vector 'p_placeholder' is an x_0 unit vector, i.e. pointing parallel to the x-axis of the base link.\n",
    "\n",
    "This definition for p_placeholder was chosen to reflect the geometric constraints of the pick and place scene (specifically the accessibility of the shelves and the alignment of the target objects).\n",
    "\n",
    "The assertion that the end effector must be at this specific orientation may be more rigid than necessary to ensure smooth operation, but some specific orientation must be chosen to constrain the problem, and aligning the end effector with a surface normal vector on the shelf's openings should go a long way towards maximizing the accessible volume of any shelf (if not perfectly optimizing access, which I believe it will, in fact, do - but I haven't tried to prove this).\n",
    "\n",
    "Furthermore, with our end effector aligned along the depth dimension of the shelves, it is natural enough to specify a location on the opening's 'surface' at which to engage the automatic reaching and grasping routines."
   ]
  },
  {
   "cell_type": "markdown",
   "metadata": {},
   "source": [
    "Since joints 0-5 are confined to the same vertical plane, and these are sufficient to solve the inverse positioning problem, I will call said plane the 'positioning plane.' With the wrist center determined, this plane's orientation about the Z1 axis is fully constrained. This orientation is determined by the value of theta_1, which is calculated below:"
   ]
  },
  {
   "cell_type": "markdown",
   "metadata": {},
   "source": [
    "## Joints 2 & 3"
   ]
  },
  {
   "cell_type": "code",
   "execution_count": null,
   "metadata": {
    "ExecuteTime": {
     "end_time": "2018-04-27T21:06:24.626120Z",
     "start_time": "2018-04-27T21:06:24.575996Z"
    },
    "deletable": false,
    "editable": false,
    "run_control": {
     "frozen": true
    }
   },
   "outputs": [],
   "source": [
    "# Regardless of our choice of method, we will need the following values to be loaded:\n",
    "# \n",
    "# radius_j2_j3 = dh_parameter[a2]\n",
    "\n",
    "# The magnitude of the vector pointing from joint_3 to joint_5, although our DH parameter table\n",
    "# files this location under the transformation to joint_4 coordinates, since joints 4 and up \n",
    "# share an origin at the wrist center, coincident with joint 5.\n",
    "radius_j5_j3 = sqrt(dh_parameter[a3]**2 + dh_parameter[d4]**2)\n",
    "\n",
    "# displacements in the positioning plane between the wrist center and joint_2.\n",
    "delta_s = wrist_s - dh_parameter[a1] # dh_parameter[a1] = 0.35 (meters)\n",
    "delta_z = wrist_z - dh_parameter[d1] # dh_parameter[d1] = 0.75 (meters)\n",
    "\n",
    "radius_j5_j3, delta_s, delta_z"
   ]
  },
  {
   "cell_type": "markdown",
   "metadata": {},
   "source": [
    "### Simultaneous Solver Method"
   ]
  },
  {
   "cell_type": "markdown",
   "metadata": {},
   "source": [
    "### SSS Triangle Method"
   ]
  },
  {
   "cell_type": "markdown",
   "metadata": {},
   "source": [
    "There is a slight hiccup here, the vertical difference between joints 3 and 4. This of Since the articulation of joint 4 is revolute about the axis between itself and joint 5 (a.k.a. the wrist center), and since both joint origins lie in plane with joint 3 AND joint 2, finding ain plane with the wrist center - BUT ONLY APPROXIMATELY; SEE CORRECTION! - the The origins of joints 2, 3, and 5 all lie in the Let a, b, c represent sides of the triangle\n",
    "\n",
    "The differences between the coordinates of joint_2 and joint_5 are important parameters for solving the SSS triangle, ABC, described above. These differences are also the x and y coordinates of the wrist center in the joint 2 reference frame. The values are denoted here as delta_s and delta_z.\n",
    "\n",
    "With the arm rotated into the positioning plane, the cylindrical radius to joint_2 is a constant 0.35m along s. Similarly, joint_2 is always a constant 0.75m above the base link's z=0 plane, regardless of any other parameters.\n",
    "\n",
    "Together, this means that joint_2 traverses a circle of radius 0.35m, fixed at 0.75m off the ground plane. Setting theta_1 and thus the orientation of s effectively selects a point for j2 on this circle, and that is the origin for the coordinates of the SSS Triangle method."
   ]
  },
  {
   "cell_type": "code",
   "execution_count": 14,
   "metadata": {
    "ExecuteTime": {
     "end_time": "2018-04-27T21:07:52.901719Z",
     "start_time": "2018-04-27T21:07:52.895703Z"
    },
    "collapsed": true
   },
   "outputs": [],
   "source": [
    "# Let A, B, C name the vertices of the triangle described by the origins of joints 2, 3, and 4.\n",
    "# let the symbols A and B represent the interior angles of triangle ABC at their synonymous vertices.\n",
    "A, B, C = symbols('A B C')\n",
    "# C is not strictly needed, but it may be useful for appraising whether a given pose is possible.\n",
    "# If C comes back imaginary, this would indicate an unviable solution.\n",
    "\n",
    "# Note that vertex angle C is not given a symbol; it simply isn't necessary, as it wouldn't be used in any later step.\n",
    "# A, B = symbols('A B')\n",
    "\n",
    "# let a, b, c represent side lengths of ABC, named conventionally (opposite their angles)\n",
    "a, b, c = symbols('a b c')\n",
    "\n",
    "# Here, A is the vertex located at joint_2, B at joint_3, and C at joint_5 (shared origin with joints 4-6)"
   ]
  },
  {
   "cell_type": "markdown",
   "metadata": {},
   "source": [
    "the x-axis of the joint_1 reference frame, called here 's.' The s-axis is determined by the wrist center: it is parallel to the projection of a vector from the base_link origin to the wrist center. Referring to this dimension or its values as 's' may be unnecessary complication, but it emphasizes the profound cylindrical symmetry of manipulator configurations.\n",
    "\n",
    "\n",
    "Determining theta_1 doesn't simply move us closer to solving for all the joint angles; it permits us to rotate the coordinate system the appropriate amount to locate it into the sz-plane required by the wrist center."
   ]
  },
  {
   "cell_type": "code",
   "execution_count": null,
   "metadata": {
    "collapsed": true
   },
   "outputs": [],
   "source": [
    "# Initially we have all side lengths, so let's prepare a dict:\n",
    "sides = {}\n",
    "# ...but only one leg has a known location/orientation: side b, which is coincident with a vector pointing from j2 to j5.\n",
    "# This vector ( we'll just call it \"b_vector\") ultimately determines the existence and nature of any solutions.\n",
    "# The side length b is the magnitude of b_vector:\n",
    "# b = sqrt(delta_s**2 + delta_z**2)\n",
    "\n",
    "# sides[b] = sqrt(delta_s**2 + delta_z**2).evalf(subs=t)\n",
    "sides[b] = sqrt(delta_s**2 + delta_z**2)\n",
    "\n",
    "# a and c are fixed distances, a the distance between joints 3 and 5 (=1.25m) and b between 2 and 3.\n",
    "# These are both defined above, as radius_j5_j3 and radius_j2_j3 respectively\n",
    "sides[a] = radius_j5_j3\n",
    "sides[c] = dh_parameter[a2]\n",
    "\n",
    "sides"
   ]
  },
  {
   "cell_type": "code",
   "execution_count": null,
   "metadata": {
    "collapsed": true
   },
   "outputs": [],
   "source": [
    "# Solving SSS Triangles is fun and simple!\n",
    "A = acos((b**2 + c**2 - a**2)/(2 * b * c)).subs(sides)\n",
    "B = acos((a**2 + c**2 - b**2)/(2 * a * c)).subs(sides)\n",
    "C = acos((a**2 + b**2 - c**2)/(2 * a * b)).subs(sides)"
   ]
  },
  {
   "cell_type": "code",
   "execution_count": null,
   "metadata": {
    "collapsed": true
   },
   "outputs": [],
   "source": [
    "A = A.evalf(subs=t)\n",
    "B = B.evalf(subs=t)\n",
    "C = C.evalf(subs=t)\n",
    "\n",
    "# Calculate numerical error between expected sum of interior angles and the sum of our results.\n",
    "num_error = N(pi - (A + B + C))\n",
    "\n",
    "# If A, B, or C are imaginary or complex, there is no physical solution.\n",
    "# If num_error is not approximately zero, then there is likely an error upstream. \n",
    "A, B, C, num_error"
   ]
  },
  {
   "cell_type": "markdown",
   "metadata": {},
   "source": [
    "## Joints 4, 5, & 6 - Euler Angles"
   ]
  },
  {
   "cell_type": "markdown",
   "metadata": {
    "collapsed": true
   },
   "source": [
    "## Joint Range Enforcement"
   ]
  },
  {
   "cell_type": "markdown",
   "metadata": {},
   "source": [
    "## Selecting the 'Best' Solution"
   ]
  }
 ],
 "metadata": {
  "hide_input": false,
  "kernelspec": {
   "display_name": "Python 3",
   "language": "python",
   "name": "python3"
  },
  "language_info": {
   "codemirror_mode": {
    "name": "ipython",
    "version": 3
   },
   "file_extension": ".py",
   "mimetype": "text/x-python",
   "name": "python",
   "nbconvert_exporter": "python",
   "pygments_lexer": "ipython3",
   "version": "3.5.4"
  },
  "toc": {
   "nav_menu": {},
   "number_sections": true,
   "sideBar": true,
   "skip_h1_title": false,
   "title_cell": "Table of Contents",
   "title_sidebar": "Contents",
   "toc_cell": false,
   "toc_position": {},
   "toc_section_display": true,
   "toc_window_display": false
  },
  "varInspector": {
   "cols": {
    "lenName": 16,
    "lenType": 16,
    "lenVar": 40
   },
   "kernels_config": {
    "python": {
     "delete_cmd_postfix": "",
     "delete_cmd_prefix": "del ",
     "library": "var_list.py",
     "varRefreshCmd": "print(var_dic_list())"
    },
    "r": {
     "delete_cmd_postfix": ") ",
     "delete_cmd_prefix": "rm(",
     "library": "var_list.r",
     "varRefreshCmd": "cat(var_dic_list()) "
    }
   },
   "types_to_exclude": [
    "module",
    "function",
    "builtin_function_or_method",
    "instance",
    "_Feature"
   ],
   "window_display": false
  }
 },
 "nbformat": 4,
 "nbformat_minor": 2
}
