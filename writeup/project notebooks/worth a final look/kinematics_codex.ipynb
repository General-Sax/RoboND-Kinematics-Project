{
 "cells": [
  {
   "cell_type": "code",
   "execution_count": 8,
   "metadata": {
    "collapsed": true
   },
   "outputs": [],
   "source": [
    "# # Full import suite:\n",
    "# import numpy as np\n",
    "# import sympy as sp\n",
    "# import math\n",
    "\n",
    "# Limited import suite:\n",
    "from sympy import symbols, cos, sin, pi, simplify\n",
    "from sympy.matrices import Matrix\n",
    "import numpy as np\n",
    "\n",
    "import matplotlib.pyplot as plt\n",
    "%matplotlib inline\n"
   ]
  },
  {
   "cell_type": "code",
   "execution_count": 9,
   "metadata": {
    "collapsed": true
   },
   "outputs": [],
   "source": [
    "# Testing Parameters\n",
    "axes = ['x', 'y', 'z']\n",
    "\n",
    "# deg_angles gives rotation magnitudes around each specified axis.\n",
    "deg_angles = {'x': 45, \n",
    "              'y': 45,\n",
    "              'z': 30\n",
    "             }"
   ]
  },
  {
   "cell_type": "code",
   "execution_count": 26,
   "metadata": {
    "collapsed": true
   },
   "outputs": [],
   "source": [
    "### Create symbols for joint variables\n",
    "q1, q2, q3, q4 = symbols('q1:5') # remember slices do not include the end value \n",
    "# unrelated symbols can be defined like this:\n",
    "A, R, O, C = symbols('A R O C')\n",
    "\n",
    "\n",
    "# Conversion Factors\n",
    "rtd = 180./np.pi # radians to degrees\n",
    "dtr = np.pi/180. # degrees to radians\n",
    "\n",
    "R_x = Matrix([[ 1,              0,        0],\n",
    "              [ 0,        cos(q1), -sin(q1)],\n",
    "              [ 0,        sin(q1),  cos(q1)]])\n",
    "\n",
    "R_y = Matrix([[ cos(q2),        0,  sin(q2)],\n",
    "              [       0,        1,        0],\n",
    "              [-sin(q2),        0,  cos(q2)]])\n",
    "\n",
    "R_z = Matrix([[ cos(q3), -sin(q3),        0],\n",
    "              [ sin(q3),  cos(q3),        0],\n",
    "              [ 0,              0,        1]])\n",
    "\n",
    "ref = {'matrix': {'x': R_x,\n",
    "                  'y': R_y,\n",
    "                  'z': R_z\n",
    "                 },\n",
    "       'symvar': {'x': q1,\n",
    "                  'y': q2,\n",
    "                  'z': q3\n",
    "                 }\n",
    "      }"
   ]
  },
  {
   "cell_type": "code",
   "execution_count": 27,
   "metadata": {
    "collapsed": true
   },
   "outputs": [],
   "source": [
    "def viz_mat(matrix):\n",
    "    npmat = np.array(matrix).astype(np.float)\n",
    "    col_map = 'seismic'\n",
    "    \n",
    "    fig, ax = plt.subplots()\n",
    "    ax.imshow(npmat, vmin=-1, vmax=1, cmap=col_map) #, extent=[0, 1, 0, 1])\n",
    "    ax.axis('off')  # clear x- and y-axes\n",
    "    plt.show()"
   ]
  },
  {
   "cell_type": "code",
   "execution_count": 28,
   "metadata": {},
   "outputs": [
    {
     "name": "stdout",
     "output_type": "stream",
     "text": [
      "\n",
      "Rotation about the X-axis by 45 degrees:\n",
      "Matrix([\n",
      "[1.0,                 0,                  0],\n",
      "[  0, 0.707106781186548, -0.707106781186547],\n",
      "[  0, 0.707106781186547,  0.707106781186548]])\n",
      "\n",
      "Rotation about the Y-axis by 45 degrees:\n",
      "Matrix([\n",
      "[ 0.707106781186548,   0, 0.707106781186547],\n",
      "[                 0, 1.0,                 0],\n",
      "[-0.707106781186547,   0, 0.707106781186548]])\n",
      "\n",
      "Rotation about the Z-axis by 30 degrees:\n",
      "Matrix([\n",
      "[0.866025403784439,              -0.5,   0],\n",
      "[              0.5, 0.866025403784439,   0],\n",
      "[                0,                 0, 1.0]])\n"
     ]
    }
   ],
   "source": [
    "# Evaluate rotation about the X-axis\n",
    "Rx = R_x.evalf(subs={q1: deg_angles['x'] * dtr})\n",
    "# Evaluate rotation about the Y-axis\n",
    "Ry = R_y.evalf(subs={q2: deg_angles['y'] * dtr})\n",
    "# Evaluate rotation about the Z-axis\n",
    "Rz = R_z.evalf(subs={q3: deg_angles['z'] * dtr})\n",
    "\n",
    "print(\"\\nRotation about the X-axis by {} degrees:\".format(deg_angles['x']))\n",
    "print(repr(Rx))\n",
    "print(\"\\nRotation about the Y-axis by {} degrees:\".format(deg_angles['y']))\n",
    "print(repr(Ry))\n",
    "print(\"\\nRotation about the Z-axis by {} degrees:\".format(deg_angles['z']))\n",
    "print(repr(Rz))"
   ]
  },
  {
   "cell_type": "code",
   "execution_count": 29,
   "metadata": {
    "collapsed": true
   },
   "outputs": [],
   "source": [
    "show = lambda matrix: print(repr(matrix))\n",
    "rotmat = lambda angle_deg, axis: ref['matrix'][axis].evalf(subs={ref['symvar'][axis]: angle_deg * dtr})\n",
    "# applyrot = lambda vector, axis,"
   ]
  },
  {
   "cell_type": "code",
   "execution_count": 30,
   "metadata": {},
   "outputs": [
    {
     "name": "stdout",
     "output_type": "stream",
     "text": [
      "Matrix([\n",
      "[ 0.353553390593274, -0.612372435695795, 0.707106781186548],\n",
      "[ 0.866025403784439,                0.5,                 0],\n",
      "[-0.353553390593274,  0.612372435695795, 0.707106781186548]])\n"
     ]
    },
    {
     "data": {
      "image/png": "[encoded data removed]",
      "text/plain": [
       "<matplotlib.figure.Figure at 0x7f3735f763c8>"
      ]
     },
     "metadata": {},
     "output_type": "display_data"
    }
   ],
   "source": [
    "### Create symbols for joint variables\n",
    "q1, q2 = symbols('q1:3')\n",
    "\n",
    "# Conversion Factors\n",
    "rtd = 180./pi # radians to degrees\n",
    "dtr = pi/180. # degrees to radians\n",
    "\n",
    "\n",
    "# Create a symbolic matrix representing an intrinsic sequence of rotations \n",
    "  # about the Y and then Z axes. Let the rotation about the Y axis be described\n",
    "  # by q1 and the rotation about Z by q2. \n",
    "  \n",
    "####### TO DO ########\n",
    "# Replace R_y and R_z with the appropriate (symbolic) elementary rotation matrices \n",
    "  # and then compute YZ_intrinsic. \n",
    "R_y2 = Matrix([[ cos(q1),        0,  sin(q1)],\n",
    "              [       0,        1,        0],\n",
    "              [-sin(q1),        0,  cos(q1)]])\n",
    "\n",
    "R_z2 = Matrix([[ cos(q2), -sin(q2),        0],\n",
    "              [ sin(q2),  cos(q2),        0],\n",
    "              [ 0,              0,        1]])\n",
    "\n",
    "YZ_intrinsic_sym = R_y2 * R_z2\n",
    "\n",
    "####### TO DO ########\n",
    "# Numerically evaluate YZ_intrinsic assuming:\n",
    "dyDeg = 45\n",
    "dzDeg = 60\n",
    "# NOTE: Trigonometric functions in Python assume the input is in radians!  \n",
    "\n",
    "\n",
    "YZ_intrinsic_num = YZ_intrinsic_sym.evalf(subs={q1: dyDeg * dtr,\n",
    "                                                q2: dzDeg * dtr\n",
    "                                                })\n",
    "\n",
    "print(repr(YZ_intrinsic_num))\n",
    "\n",
    "viz_mat(YZ_intrinsic_num)"
   ]
  },
  {
   "cell_type": "code",
   "execution_count": 31,
   "metadata": {},
   "outputs": [
    {
     "name": "stdout",
     "output_type": "stream",
     "text": [
      "141.371669411541/pi 188.495559215388/pi 94.2477796076938/pi\n"
     ]
    }
   ],
   "source": [
    "# ORIGINAL TEXT:\n",
    "# #!/usr/bin/env python\n",
    "# import numpy as np\n",
    "# from sympy.matrices import Matrix\n",
    "# from sympy import symbols, atan2, sqrt\n",
    "\n",
    "\n",
    "# # Fixed Axis X-Y-Z Rotation Matrix\n",
    "# R_XYZ = Matrix([[ 0.353553390593274, -0.306186217847897, 0.883883476483184],\n",
    "#             [ 0.353553390593274,  0.918558653543692, 0.176776695296637],\n",
    "#             [-0.866025403784439,               0.25, 0.433012701892219]])\n",
    "\n",
    "# ######## TO DO ##########\n",
    "# # Calculate the Euler angles that produces a rotation equivalent to R (above)\n",
    "# # NOTE: Be sure your answer has units of DEGREES!\n",
    "# alpha = 1 # rotation about Z-axis\n",
    "# beta  = 1 # rotation about Y-axis\n",
    "# gamma = 1 # rotation about X-axis\n",
    "\n",
    "\n",
    "#!/usr/bin/env python\n",
    "import numpy as np\n",
    "from sympy.matrices import Matrix\n",
    "from sympy import symbols, atan2, sqrt, pi\n",
    "\n",
    "rtd = 180./pi # radians to degrees\n",
    "\n",
    "# Fixed Axis X-Y-Z Rotation Matrix\n",
    "R_XYZ = Matrix([[ 0.353553390593274, -0.306186217847897, 0.883883476483184],\n",
    "            [ 0.353553390593274,  0.918558653543692, 0.176776695296637],\n",
    "            [-0.866025403784439,               0.25, 0.433012701892219]])\n",
    "\n",
    "# alpha, beta, gamma = \n",
    "\n",
    "######## TO DO ##########\n",
    "# Calculate the Euler angles that produces a rotation equivalent to R (above)\n",
    "# NOTE: Be sure your answer has units of DEGREES!\n",
    "alpha = rtd * atan2(R_XYZ[1, 0], R_XYZ[0, 0]) # rotation about Z-axis\n",
    "beta  = rtd * atan2(-1*(R_XYZ[2, 0]), sqrt((R_XYZ[0, 0]**2 + R_XYZ[1, 0]**2))) # rotation about Y-axis\n",
    "gamma = rtd * atan2(R_XYZ[2, 1], R_XYZ[2, 2]) # rotation about X-axis\n",
    "\n",
    "print(alpha, beta, gamma)\n",
    "\n"
   ]
  },
  {
   "cell_type": "code",
   "execution_count": 32,
   "metadata": {
    "collapsed": true
   },
   "outputs": [],
   "source": [
    "R_ZYX = R_z * R_y * R_x"
   ]
  },
  {
   "cell_type": "code",
   "execution_count": 33,
   "metadata": {
    "collapsed": true
   },
   "outputs": [],
   "source": [
    "# #!usr/bin/env python\n",
    "\n",
    "# from sympy import symbols, cos, sin, pi, simplify, sqrt, atan2\n",
    "# from sympy.matrices import Matrix\n",
    "\n",
    "# ###############################################################\n",
    "# # Problem Statement:\n",
    "#   # Let P be a vector expressed in frame {B} with (x,y,z)\n",
    "#   # coordinates = (15.0, 0.0, 42.0)\n",
    "#   # Rotate P about the Y-axis by angle = 110 degrees. \n",
    "#   # Then translate the vector 1 unit\n",
    "#   # in the X-axis and 30 units in the Z-axis. \n",
    "#   # Print the new (x, y, z) coordinates of P after the transformation.  \n",
    "# ###############################################################\n",
    "# #### Create symbols for joint variables\n",
    "# q1 = symbols('q1')\n",
    "# gamma  = symbols('gamma')\n",
    "\n",
    "# #### TO DO ####\n",
    "# # Replace P and T with appropriate expressions and calculate new coordinates of P in {A}. \n",
    "# P = 1     # P should be a 4x1 Matrix\n",
    "# T = 1     # T Should be a 4x4 homogeneous Transform\n",
    "# P_new = 1 # "
   ]
  },
  {
   "cell_type": "code",
   "execution_count": 37,
   "metadata": {
    "collapsed": true
   },
   "outputs": [],
   "source": [
    "q1, q2, q3 = symbols('q1:4')\n",
    "\n",
    "# Conversion Factors\n",
    "rtd = 180./np.pi # radians to degrees\n",
    "dtr = np.pi/180. # degrees to radians\n",
    "\n",
    "R_x = Matrix([[ 1,              0,        0],\n",
    "              [ 0,        cos(q1), -sin(q1)],\n",
    "              [ 0,        sin(q1),  cos(q1)]])\n",
    "\n",
    "R_y = Matrix([[ cos(q2),        0,  sin(q2)],\n",
    "              [       0,        1,        0],\n",
    "              [-sin(q2),        0,  cos(q2)]])\n",
    "\n",
    "R_z = Matrix([[ cos(q3), -sin(q3),        0],\n",
    "              [ sin(q3),  cos(q3),        0],\n",
    "              [ 0,              0,        1]])\n",
    "\n",
    "rot = R_x * R_y * R_z\n",
    "# show(rot)"
   ]
  },
  {
   "cell_type": "code",
   "execution_count": 42,
   "metadata": {},
   "outputs": [
    {
     "name": "stdout",
     "output_type": "stream",
     "text": [
      "Matrix([\n",
      "[15.0],\n",
      "[ 0.0],\n",
      "[42.0],\n",
      "[ 1.0]])\n",
      "Matrix([\n",
      "[                       cos(b)*cos(g),                        -sin(b)*cos(g),         sin(g),  q1],\n",
      "[sin(a)*sin(g)*cos(b) + sin(b)*cos(a), -sin(a)*sin(b)*sin(g) + cos(a)*cos(b), -sin(a)*cos(g),  q2],\n",
      "[sin(a)*sin(b) - sin(g)*cos(a)*cos(b),  sin(a)*cos(b) + sin(b)*sin(g)*cos(a),  cos(a)*cos(g),  q3],\n",
      "[                                 0.0,                                   0.0,            0.0, 1.0]])\n",
      "Matrix([\n",
      "[35.3367879231231],\n",
      "[               0],\n",
      "[1.53976466853328],\n",
      "[             1.0]])\n"
     ]
    }
   ],
   "source": [
    "#!usr/bin/env python\n",
    "\n",
    "from sympy import symbols, cos, sin, pi, simplify, sqrt, atan2\n",
    "from sympy.matrices import Matrix\n",
    "\n",
    "###############################################################\n",
    "# Problem Statement:\n",
    "  # Let P be a vector expressed in frame {B} with (x,y,z)\n",
    "  # coordinates = (15.0, 0.0, 42.0)\n",
    "  # Rotate P about the Y-axis by angle = 110 degrees. \n",
    "  # Then translate the vector 1 unit\n",
    "  # in the X-axis and 30 units in the Z-axis. \n",
    "  # Print the new (x, y, z) coordinates of P after the transformation.  \n",
    "###############################################################\n",
    "#### Create symbols for joint variables\n",
    "# q1 = symbols('q1')\n",
    "translation_x = 1.0\n",
    "translation_y = 0.0\n",
    "translation_z = 30.0\n",
    "\n",
    "rotation_x = 0.0\n",
    "rotation_y = 110.0\n",
    "rotation_z = 0.0\n",
    "\n",
    "# translation distances (x, y, z)\n",
    "q1, q2, q3 = symbols('q1:4')\n",
    "# Rotation angles\n",
    "a, b, g  = symbols('a b g')\n",
    "\n",
    "# Conversion Factors\n",
    "rtd = 180./pi # radians to degrees\n",
    "dtr = pi/180. # degrees to radians\n",
    "\n",
    "R_x = Matrix([[ 1,              0,        0],\n",
    "              [ 0,        cos(a), -sin(a)],\n",
    "              [ 0,        sin(a),  cos(a)]])\n",
    "\n",
    "R_y = Matrix([[ cos(g),        0,  sin(g)],\n",
    "              [       0,        1,        0],\n",
    "              [-sin(g),        0,  cos(g)]])\n",
    "\n",
    "R_z = Matrix([[ cos(b), -sin(b),        0],\n",
    "              [ sin(b),  cos(b),        0],\n",
    "              [ 0,              0,        1]])\n",
    "\n",
    "rot = R_x * R_y * R_z\n",
    "    \n",
    "\n",
    "#### TO DO ####\n",
    "# Replace P and T with appropriate expressions and calculate new coordinates of P in {A}. \n",
    "P = Matrix([[15.0],[0.0],[42.0],[1.0]])     # P should be a 4x1 Matrix\n",
    "show(P)\n",
    "\n",
    "T_general = Matrix([[rot[0, 0], rot[0, 1], rot[0, 2], q1],\n",
    "            [rot[1, 0], rot[1, 1], rot[1, 2], q2],\n",
    "            [rot[2, 0], rot[2, 1], rot[2, 2], q3],\n",
    "            [0.0, 0.0, 0.0, 1.0]])    # T Should be a 4x4 homogeneous Transform\n",
    "\n",
    "show(T_general)\n",
    "\n",
    "T = T_general.evalf(subs={q1: translation_x, \n",
    "                          q2: translation_y, \n",
    "                          q3: translation_z, \n",
    "                          a: dtr * rotation_x,\n",
    "                          g: dtr * rotation_y,\n",
    "                          b: dtr * rotation_z\n",
    "                         }\n",
    "                   )\n",
    "\n",
    "P_new = T * P\n",
    "show(P_new)\n",
    "\n"
   ]
  },
  {
   "cell_type": "code",
   "execution_count": null,
   "metadata": {
    "collapsed": true
   },
   "outputs": [],
   "source": []
  },
  {
   "cell_type": "code",
   "execution_count": null,
   "metadata": {
    "collapsed": true
   },
   "outputs": [],
   "source": []
  }
 ],
 "metadata": {
  "hide_input": false,
  "kernelspec": {
   "display_name": "Python 3",
   "language": "python",
   "name": "python3"
  },
  "language_info": {
   "codemirror_mode": {
    "name": "ipython",
    "version": 3
   },
   "file_extension": ".py",
   "mimetype": "text/x-python",
   "name": "python",
   "nbconvert_exporter": "python",
   "pygments_lexer": "ipython3",
   "version": "3.6.5"
  },
  "toc": {
   "nav_menu": {},
   "number_sections": true,
   "sideBar": true,
   "skip_h1_title": false,
   "title_cell": "Table of Contents",
   "title_sidebar": "Contents",
   "toc_cell": false,
   "toc_position": {},
   "toc_section_display": true,
   "toc_window_display": false
  },
  "varInspector": {
   "cols": {
    "lenName": 16,
    "lenType": 16,
    "lenVar": 40
   },
   "kernels_config": {
    "python": {
     "delete_cmd_postfix": "",
     "delete_cmd_prefix": "del ",
     "library": "var_list.py",
     "varRefreshCmd": "print(var_dic_list())"
    },
    "r": {
     "delete_cmd_postfix": ") ",
     "delete_cmd_prefix": "rm(",
     "library": "var_list.r",
     "varRefreshCmd": "cat(var_dic_list()) "
    }
   },
   "types_to_exclude": [
    "module",
    "function",
    "builtin_function_or_method",
    "instance",
    "_Feature"
   ],
   "window_display": false
  },
  "widgets": {
   "state": {},
   "version": "1.1.2"
  }
 },
 "nbformat": 4,
 "nbformat_minor": 2
}
