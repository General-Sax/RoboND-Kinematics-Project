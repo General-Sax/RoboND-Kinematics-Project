{
 "cells": [
  {
   "cell_type": "markdown",
   "metadata": {},
   "source": [
    "# The Parameters\n",
    "see: https://www.youtube.com/watch?v=10mUtjfGmzw\n",
    "\n",
    "'twist angle' : alpha_i-1 = angle between the Z axes of the previous link and the current link\n",
    "'link length' : a_i-1     = distance between Z\n",
    "'link offset' : \n",
    "''"
   ]
  },
  {
   "cell_type": "code",
   "execution_count": 22,
   "metadata": {
    "ExecuteTime": {
     "end_time": "2018-05-02T23:24:17.826056Z",
     "start_time": "2018-05-02T23:24:17.822025Z"
    },
    "collapsed": true
   },
   "outputs": [],
   "source": [
    "#!/bin/bash\n",
    "import numpy as np\n",
    "import sympy as sp\n",
    "\n",
    "from sympy import symbols, cos, sin, pi, sqrt, simplify\n",
    "from sympy.matrices import Matrix, eye"
   ]
  },
  {
   "cell_type": "code",
   "execution_count": 23,
   "metadata": {
    "ExecuteTime": {
     "end_time": "2018-05-02T23:24:18.136308Z",
     "start_time": "2018-05-02T23:24:18.133298Z"
    },
    "collapsed": true
   },
   "outputs": [],
   "source": [
    "sp.init_printing(use_latex='mathjax')"
   ]
  },
  {
   "cell_type": "code",
   "execution_count": 24,
   "metadata": {
    "ExecuteTime": {
     "end_time": "2018-05-02T23:24:18.699068Z",
     "start_time": "2018-05-02T23:24:18.653944Z"
    },
    "collapsed": true
   },
   "outputs": [],
   "source": [
    "show = lambda matrix: print(repr(matrix))\n",
    "\n",
    "### Define functions for Rotation Matrices about x, y, and z given specific angle.\n",
    "\n",
    "def rot_x(q):\n",
    "    R_x = Matrix([[ 1,              0,        0],\n",
    "                  [ 0,        cos(q),   -sin(q)],\n",
    "                  [ 0,        sin(q),    cos(q)]])\n",
    "    return R_x\n",
    "    \n",
    "def rot_y(q):\n",
    "    R_y =  Matrix([[ cos(q),        0,  sin(q)],\n",
    "                   [       0,        1,        0],\n",
    "                   [-sin(q),        0,  cos(q)]])\n",
    "    return R_y\n",
    "\n",
    "def rot_z(q): \n",
    "    R_z = Matrix([[ cos(q), -sin(q),        0],\n",
    "                  [ sin(q),  cos(q),        0],\n",
    "                  [ 0,            0,        1]])\n",
    "    return R_z\n",
    "              \n",
    "def buildTmatrix(rot_sequence=[], translation=[0, 0, 0]):\n",
    "    # rotation format: (axis, degrees_to_rotate), ex: ('x', -90)\n",
    "    transcol = Matrix([[translation[0]], [translation[1]], [translation[2]]])\n",
    "    \n",
    "    rMat = eye(3)\n",
    "    for rotation in rot_sequence:\n",
    "#         ax, degs = rotation[0], rotation[1]\n",
    "        rr = eval('rot_{}({})'.format(rotation[0], rotation[1]))\n",
    "        rMat = rr * rMat\n",
    "        \n",
    "    rT = Matrix(rMat.row_join(transcol))\n",
    "    rT = rT.col_join(Matrix([[0, 0, 0, 1]]))\n",
    "    \n",
    "    return rT"
   ]
  },
  {
   "cell_type": "code",
   "execution_count": 25,
   "metadata": {
    "ExecuteTime": {
     "end_time": "2018-05-02T23:24:19.291522Z",
     "start_time": "2018-05-02T23:24:19.286509Z"
    },
    "collapsed": true
   },
   "outputs": [],
   "source": [
    "def dhT_1(twist_angle, link_length, joint_angle, link_offset):\n",
    "    subT_x = buildTmatrix(rot_sequence=[('x', twist_angle)], translation=[link_length, 0, 0])\n",
    "    subT_z = buildTmatrix(rot_sequence=[('z', joint_angle)], translation=[0, 0, link_offset])\n",
    "    return subT_x * subT_z\n",
    "    "
   ]
  },
  {
   "cell_type": "code",
   "execution_count": 26,
   "metadata": {
    "ExecuteTime": {
     "end_time": "2018-05-02T23:24:19.982190Z",
     "start_time": "2018-05-02T23:24:19.969157Z"
    }
   },
   "outputs": [
    {
     "data": {
      "text/latex": [
       "$$\\left[\\begin{matrix}\\cos{\\left (\\theta \\right )} & - \\sin{\\left (\\theta \\right )} & 0 & a\\\\\\sin{\\left (\\theta \\right )} \\cos{\\left (\\alpha \\right )} & \\cos{\\left (\\alpha \\right )} \\cos{\\left (\\theta \\right )} & - \\sin{\\left (\\alpha \\right )} & - d \\sin{\\left (\\alpha \\right )}\\\\\\sin{\\left (\\alpha \\right )} \\sin{\\left (\\theta \\right )} & \\sin{\\left (\\alpha \\right )} \\cos{\\left (\\theta \\right )} & \\cos{\\left (\\alpha \\right )} & d \\cos{\\left (\\alpha \\right )}\\\\0 & 0 & 0 & 1\\end{matrix}\\right]$$"
      ],
      "text/plain": [
       "⎡   cos(θ)         -sin(θ)        0         a    ⎤\n",
       "⎢                                                ⎥\n",
       "⎢sin(θ)⋅cos(α)  cos(α)⋅cos(θ)  -sin(α)  -d⋅sin(α)⎥\n",
       "⎢                                                ⎥\n",
       "⎢sin(α)⋅sin(θ)  sin(α)⋅cos(θ)  cos(α)   d⋅cos(α) ⎥\n",
       "⎢                                                ⎥\n",
       "⎣      0              0           0         1    ⎦"
      ]
     },
     "execution_count": 26,
     "metadata": {},
     "output_type": "execute_result"
    }
   ],
   "source": [
    "alpha, a, theta, d = symbols('alpha a theta d')\n",
    "\n",
    "general_T = dhT_1(alpha, a, theta, d)\n",
    "\n",
    "# show(general_T)\n",
    "general_T"
   ]
  },
  {
   "cell_type": "code",
   "execution_count": 28,
   "metadata": {
    "ExecuteTime": {
     "end_time": "2018-05-02T23:24:25.088430Z",
     "start_time": "2018-05-02T23:24:25.070382Z"
    }
   },
   "outputs": [],
   "source": [
    "q1, q2, q3, q4 = symbols('q1:5')\n",
    "d1, d2, d3, d4 = symbols('d1:5')\n",
    "a0, a1, a2, a3 = symbols('a0:4')\n",
    "alpha0, alpha1, alpha2, alpha3 = symbols('alpha0:4')\n",
    "\n",
    "a12 = 0.4500 # meters\n",
    "a23 = 0.3000 # meters\n",
    "\n",
    "\n",
    "\n",
    "# Constant DH parameter table is stored in this dictionary - but note that the variable DoF for each joint is excluded.\n",
    "s = {alpha0: 0,  a0:   0, d1: 0, \n",
    "     alpha1: 0,  a1: a12, d2: 0,  \n",
    "     alpha2: 0,  a2: a23,        q3: 0,\n",
    "     alpha3: 0,  a3:   0, d4: 0}\n",
    "\n",
    "dhp = lambda handle, index: s[handle+'']\n",
    "\n",
    "\n",
    "# def compose_sym_dhT(parameter_table):\n",
    "    \n",
    "    "
   ]
  },
  {
   "cell_type": "code",
   "execution_count": 29,
   "metadata": {
    "ExecuteTime": {
     "end_time": "2018-05-02T23:24:25.993985Z",
     "start_time": "2018-05-02T23:24:25.990977Z"
    }
   },
   "outputs": [
    {
     "ename": "SyntaxError",
     "evalue": "unexpected EOF while parsing (<ipython-input-29-ad500c153c26>, line 2)",
     "output_type": "error",
     "traceback": [
      "\u001b[1;36m  File \u001b[1;32m\"<ipython-input-29-ad500c153c26>\"\u001b[1;36m, line \u001b[1;32m2\u001b[0m\n\u001b[1;33m    \u001b[0m\n\u001b[1;37m    ^\u001b[0m\n\u001b[1;31mSyntaxError\u001b[0m\u001b[1;31m:\u001b[0m unexpected EOF while parsing\n"
     ]
    }
   ],
   "source": [
    "def calcXi(z, z_prev):\n",
    "        "
   ]
  },
  {
   "cell_type": "code",
   "execution_count": null,
   "metadata": {
    "collapsed": true
   },
   "outputs": [],
   "source": []
  }
 ],
 "metadata": {
  "hide_input": false,
  "kernelspec": {
   "display_name": "Python 3",
   "language": "python",
   "name": "python3"
  },
  "language_info": {
   "codemirror_mode": {
    "name": "ipython",
    "version": 3
   },
   "file_extension": ".py",
   "mimetype": "text/x-python",
   "name": "python",
   "nbconvert_exporter": "python",
   "pygments_lexer": "ipython3",
   "version": "3.6.5"
  },
  "toc": {
   "nav_menu": {},
   "number_sections": true,
   "sideBar": true,
   "skip_h1_title": false,
   "title_cell": "Table of Contents",
   "title_sidebar": "Contents",
   "toc_cell": false,
   "toc_position": {},
   "toc_section_display": true,
   "toc_window_display": false
  },
  "varInspector": {
   "cols": {
    "lenName": 16,
    "lenType": 16,
    "lenVar": 40
   },
   "kernels_config": {
    "python": {
     "delete_cmd_postfix": "",
     "delete_cmd_prefix": "del ",
     "library": "var_list.py",
     "varRefreshCmd": "print(var_dic_list())"
    },
    "r": {
     "delete_cmd_postfix": ") ",
     "delete_cmd_prefix": "rm(",
     "library": "var_list.r",
     "varRefreshCmd": "cat(var_dic_list()) "
    }
   },
   "types_to_exclude": [
    "module",
    "function",
    "builtin_function_or_method",
    "instance",
    "_Feature"
   ],
   "window_display": false
  },
  "widgets": {
   "state": {},
   "version": "1.1.2"
  }
 },
 "nbformat": 4,
 "nbformat_minor": 2
}
