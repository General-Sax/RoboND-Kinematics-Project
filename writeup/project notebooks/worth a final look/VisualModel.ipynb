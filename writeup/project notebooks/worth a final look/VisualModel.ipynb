{
 "cells": [
  {
   "cell_type": "code",
   "execution_count": 1,
   "metadata": {
    "ExecuteTime": {
     "end_time": "2018-04-27T20:20:54.238900Z",
     "start_time": "2018-04-27T20:20:51.211263Z"
    },
    "collapsed": true
   },
   "outputs": [],
   "source": [
    "from sympy import *\n",
    "from sympy.matrices import Matrix, eye\n",
    "# from mpmath import radians, degrees\n",
    "import numpy as np\n",
    "# import matplotlib as mpl\n",
    "import matplotlib.pyplot as plt\n",
    "# from __future__ import print_function\n",
    "from mpl_toolkits.mplot3d import Axes3D\n",
    "from ipywidgets.widgets import *\n",
    "# from d"
   ]
  },
  {
   "cell_type": "code",
   "execution_count": 2,
   "metadata": {
    "ExecuteTime": {
     "end_time": "2018-04-27T20:20:56.726497Z",
     "start_time": "2018-04-27T20:20:56.561033Z"
    },
    "collapsed": true
   },
   "outputs": [],
   "source": [
    "def col(input_tuple, h=0):\n",
    "    matrixArg = [[item] for item in input_tuple]\n",
    "    if h: matrixArg.append([1])\n",
    "    return Matrix(matrixArg)\n",
    "\n",
    "def composeRotations(rotation_list=[]):\n",
    "    \"rotation_list contains tuples of form (axis, radian_angle), where axis is an element of {'x', 'y', 'z'}\"\n",
    "    rMat = eye(3)\n",
    "    def rot_x(q):\n",
    "        R_x = Matrix([[1, 0, 0],\n",
    "                      [0, cos(q), -sin(q)],\n",
    "                      [0, sin(q), cos(q)]])\n",
    "        return R_x\n",
    "\n",
    "    def rot_y(q):\n",
    "        R_y = Matrix([[cos(q), 0, sin(q)],\n",
    "                      [0, 1, 0],\n",
    "                      [-sin(q), 0, cos(q)]])\n",
    "        return R_y\n",
    "\n",
    "    def rot_z(q):\n",
    "        R_z = Matrix([[cos(q), -sin(q), 0],\n",
    "                      [sin(q), cos(q), 0],\n",
    "                      [0, 0, 1]])\n",
    "        return R_z\n",
    "\n",
    "    for rotation in rotation_list:\n",
    "        rotation_axis, rotation_angle = rotation[0], rotation[1]\n",
    "        rr = eval('rot_{}({})'.format(rotation_axis, rotation_angle))\n",
    "        rMat = rr * rMat\n",
    "    return rMat\n",
    "\n",
    "\n",
    "def TF_matrix(rotation_matrix, translation=(0, 0, 0)):\n",
    "    \"rotation_list formatted for composeRotations(),\"\n",
    "    TFmat = rotation_matrix.row_join(col(translation))\n",
    "    TFmat = TFmat.col_join(Matrix([[0, 0, 0, 1]]))\n",
    "    return TFmat\n",
    "\n",
    "\n",
    "def DH_TF(alpha, a, d, q, correction_matrix=None):\n",
    "    R_corr = correction_matrix\n",
    "\n",
    "\n",
    "    if not correction_matrix: R_corr = eye(4)\n",
    "    # alpha, a, d, q = twist_angle, link_length, joint_angle, link_offset\n",
    "    subT_x = TF_matrix(composeRotations([('x', alpha)]), (a, 0, 0))\n",
    "    subT_z = TF_matrix(composeRotations([('z', q)]), (0, 0, d))\n",
    "    return subT_x * subT_z * R_corr\n",
    "\n",
    "\n",
    "def rotation_matrix_from(DH_TF_mat):\n",
    "    return DH_TF_mat[0:3, 0:3]\n",
    "\n",
    "\n",
    "def translation_column_from(DH_TF_mat):\n",
    "    return DH_TF_mat[0:3, 3]\n",
    "\n",
    "def vector_cross_angle(first_vector, second_vector):\n",
    "    # The vector arguments should be Matrix objects with three elements\n",
    "    unit_1 = first_vector.normalized()\n",
    "    unit_2 = second_vector.normalized()\n",
    "    cross_vector = unit_1.cross(unit_2)\n",
    "    return N(asin(cross_vector.norm()))\n",
    "\n",
    "def vector_cross_unit(first_vector, second_vector):\n",
    "    # The vector arguments should be Matrix objects with three elements\n",
    "    unit_1 = first_vector.normalized()\n",
    "    unit_2 = second_vector.normalized()\n",
    "    cross_vector = unit_1.cross(unit_2)\n",
    "    return cross_vector.normalized()"
   ]
  },
  {
   "cell_type": "code",
   "execution_count": 3,
   "metadata": {
    "ExecuteTime": {
     "end_time": "2018-04-27T20:20:57.589653Z",
     "start_time": "2018-04-27T20:20:57.570600Z"
    },
    "collapsed": true
   },
   "outputs": [],
   "source": [
    "joint_decomp = {'urdf': {},\n",
    "                'DH_strict': {},\n",
    "                'DH_actual': {}\n",
    "                }\n",
    "\n",
    "joint_decomp['urdf']['x'] = [0, 0, 0.35, 0.35, 1.31, 1.85, 2.043, 2.153, 2.303]\n",
    "joint_decomp['urdf']['y'] = [0, 0, 0, 0, 0, 0, 0, 0, 0]\n",
    "joint_decomp['urdf']['z'] = [0, 0.33, 0.75, 2.0, 1.946, 1.946, 1.946, 1.946, 1.946]\n",
    "\n",
    "joint_decomp['DH_strict']['x'] = [0, 0, 0.35, 0.35, 1.85, 1.85, 1.85, 2.153, 2.303]\n",
    "joint_decomp['DH_strict']['y'] = [0, 0, 0, 0, 0, 0, 0, 0, 0]\n",
    "joint_decomp['DH_strict']['z'] = [0, 0.75, 0.75, 2.0, 1.946, 1.946, 1.946, 1.946, 1.946]\n",
    "\n",
    "joint_decomp['DH_actual']['x'] = [0, 0, 0.35, 0.35, 1.31, 1.85, 2.043, 2.153, 2.303]\n",
    "joint_decomp['DH_actual']['y'] = [0, 0, 0, 0, 0, 0, 0, 0, 0]\n",
    "joint_decomp['DH_actual']['z'] = [0, 0.75, 0.75, 2.0, 1.946, 1.946, 1.946, 1.946, 1.946]"
   ]
  },
  {
   "cell_type": "code",
   "execution_count": 4,
   "metadata": {
    "ExecuteTime": {
     "end_time": "2018-04-27T20:20:59.444647Z",
     "start_time": "2018-04-27T20:20:59.201813Z"
    },
    "collapsed": true
   },
   "outputs": [],
   "source": [
    "relative_joints = {0: {'urdf': (0, 0, 0), # base_link origin\n",
    "                       'dh':   (0, 0, 0)},\n",
    "                   \n",
    "                   1: {'urdf': (0, 0, 0.33),\n",
    "                       'dh':   (0, 0, 0.75)},\n",
    "                   \n",
    "                   2: {'urdf': (0.35, 0, 0.42),\n",
    "                       'dh':   (0.35, 0, 0)},\n",
    "                   \n",
    "                   3: {'urdf': (0, 0, 1.25),\n",
    "                       'dh':   (0, 0, 1.25)},\n",
    "                   \n",
    "                   4: {'urdf': (0.96, 0, -0.054),\n",
    "                       'dh':   (1.5, 0, -0.054)},\n",
    "                   \n",
    "                   5: {'urdf': (0.54, 0, 0),\n",
    "                       'dh':   (0, 0, 0)},\n",
    "                   \n",
    "                   6: {'urdf': (0, 0, 0),\n",
    "                       'dh':   (0, 0, 0)},\n",
    "                   \n",
    "                   7: {'urdf': (0.11, 0, 0),\n",
    "                       'dh':   (0.11, 0, 0)}, # gripper_joint origin\n",
    "                   \n",
    "                   8: {'urdf': (0, 0, 0),\n",
    "                       'dh':   (0, 0, 0)}  # extended finger target origin\n",
    "}\n",
    "                   \n",
    "joints = {0: {'urdf': (0, 0, 0)}, # base_link origin\n",
    "          1: {'urdf': (0, 0, 0.33)},\n",
    "          2: {'urdf': (0.35, 0, 0.75)},\n",
    "          3: {'urdf': (0.35, 0, 2.00)},\n",
    "          4: {'urdf': (1.31, 0, 1.946)},\n",
    "          5: {'urdf': (1.85, 0, 1.946)},\n",
    "          6: {'urdf': (2.043, 0, 1.946)},\n",
    "          7: {'urdf': (2.153, 0, 1.946)}, # gripper_joint origin\n",
    "          8: {'urdf': (2.303, 0, 1.946)}} # extended finger target origin\n",
    "\n",
    "zero_pose_joint_axes = {1: 'z',\n",
    "                        2: 'y',\n",
    "                        3: 'y',\n",
    "                        4: 'x',\n",
    "                        5: 'y',\n",
    "                        6: 'x'\n",
    "                        }\n",
    "\n",
    "def link_vector(link_number, convention, unit=False):\n",
    "    if link_number not in range(0, 8):\n",
    "        print('invalid link index!')\n",
    "        return None\n",
    "    og_vect, targ_vect = col(joints[link_number][convention]), col(joints[link_number+1][convention])\n",
    "    if unit:\n",
    "        return (targ_vect - og_vect).normalized()\n",
    "    return targ_vect - og_vect\n",
    "\n",
    "def lists_from_points(joint_convention):\n",
    "    x, y, z = [], [], []\n",
    "    for n in range(0, 9):\n",
    "        x.append(joints[n][joint_convention][0])\n",
    "        y.append(joints[n][joint_convention][1])\n",
    "        z.append(joints[n][joint_convention][2])\n",
    "    return x, y, z\n",
    "\n",
    "# def transform\n",
    "\n",
    "def render_pose(q_list, convention):\n",
    "    temp_joints = [col(joints[i][convention],h=1) for i in range(0, 9)]\n",
    "    # for each joint q, calculate a rotation matrix to apply to all joints after q, about Z_q.\n",
    "    for i in range(1, 7):\n",
    "#         print('q{}'.format(i))\n",
    "        xlate = (temp_joints[i][0], temp_joints[i][1], temp_joints[i][2])\n",
    "        \n",
    "        move_from_og = TF_matrix(eye(3), translation=xlate)\n",
    "        \n",
    "        R = TF_matrix(composeRotations([(zero_pose_joint_axes[i], q_list[i-1])]))\n",
    "        \n",
    "        TF = move_from_og.inv() * R * move_from_og\n",
    "        \n",
    "        for j in range(0, len(temp_joints[i::])):\n",
    "#             print('rotating joint {}'.format(i+j))\n",
    "            temp_joints[i+j] = N(TF * temp_joints[i+j])\n",
    "        \n",
    "    x, y, z = [], [], []\n",
    "    for n in range(0, 9):\n",
    "        x.append(temp_joints[n][0])\n",
    "        y.append(temp_joints[n][1])\n",
    "        z.append(temp_joints[n][2])\n",
    "        \n",
    "    # ax.legend()\n",
    "\n",
    "    return x, y, z"
   ]
  },
  {
   "cell_type": "code",
   "execution_count": 5,
   "metadata": {
    "ExecuteTime": {
     "end_time": "2018-04-27T20:21:01.207098Z",
     "start_time": "2018-04-27T20:21:01.137915Z"
    }
   },
   "outputs": [
    {
     "data": {
      "application/vnd.jupyter.widget-view+json": {
       "model_id": "72f65cbc02804d9ba720ce86ec371856",
       "version_major": 2,
       "version_minor": 0
      },
      "text/html": [
       "<p>Failed to display Jupyter Widget of type <code>interactive</code>.</p>\n",
       "<p>\n",
       "  If you're reading this message in the Jupyter Notebook or JupyterLab Notebook, it may mean\n",
       "  that the widgets JavaScript is still loading. If this message persists, it\n",
       "  likely means that the widgets JavaScript library is either not installed or\n",
       "  not enabled. See the <a href=\"https://ipywidgets.readthedocs.io/en/stable/user_install.html\">Jupyter\n",
       "  Widgets Documentation</a> for setup instructions.\n",
       "</p>\n",
       "<p>\n",
       "  If you're reading this message in another frontend (for example, a static\n",
       "  rendering on GitHub or <a href=\"https://nbviewer.jupyter.org/\">NBViewer</a>),\n",
       "  it may mean that your frontend doesn't currently support widgets.\n",
       "</p>\n"
      ],
      "text/plain": [
       "interactive(children=(IntSlider(value=0, description='q1', max=1), IntSlider(value=0, description='q2', max=1), IntSlider(value=0, description='q3', max=1), IntSlider(value=0, description='q4', max=1), IntSlider(value=0, description='q5', max=1), IntSlider(value=0, description='q6', max=1), Output()), _dom_classes=('widget-interact',))"
      ]
     },
     "metadata": {},
     "output_type": "display_data"
    }
   ],
   "source": [
    "q_list = [0, 0, 0, 0, 0, 0]\n",
    "\n",
    "@interact\n",
    "def get_q_values(q1=0, q2=0, q3=0, q4=0, q5=0, q6=0):\n",
    "    global q_list\n",
    "    q_list[0] = q1\n",
    "    q_list[1] = q2\n",
    "    q_list[2] = q3\n",
    "    q_list[3] = q4\n",
    "    q_list[4] = q5\n",
    "    q_list[5] = q6\n",
    "    print(q_list)    "
   ]
  },
  {
   "cell_type": "code",
   "execution_count": 6,
   "metadata": {
    "ExecuteTime": {
     "end_time": "2018-04-27T20:21:02.893866Z",
     "start_time": "2018-04-27T20:21:02.762487Z"
    }
   },
   "outputs": [
    {
     "name": "stdout",
     "output_type": "stream",
     "text": [
      "[0, 0, 0, 0, 0, 0]\n"
     ]
    },
    {
     "ename": "TypeError",
     "evalue": "'NoneType' object is not subscriptable",
     "output_type": "error",
     "traceback": [
      "\u001b[1;31m---------------------------------------------------------------------------\u001b[0m",
      "\u001b[1;31mTypeError\u001b[0m                                 Traceback (most recent call last)",
      "\u001b[1;32m<ipython-input-6-ac02b73db8a8>\u001b[0m in \u001b[0;36m<module>\u001b[1;34m()\u001b[0m\n\u001b[1;32m----> 1\u001b[1;33m \u001b[0mx\u001b[0m\u001b[1;33m,\u001b[0m \u001b[0my\u001b[0m\u001b[1;33m,\u001b[0m \u001b[0mz\u001b[0m \u001b[1;33m=\u001b[0m \u001b[0mrender_pose\u001b[0m\u001b[1;33m(\u001b[0m\u001b[0mget_q_values\u001b[0m\u001b[1;33m(\u001b[0m\u001b[1;33m)\u001b[0m\u001b[1;33m,\u001b[0m \u001b[1;34m'urdf'\u001b[0m\u001b[1;33m)\u001b[0m\u001b[1;33m\u001b[0m\u001b[0m\n\u001b[0m\u001b[0;32m      2\u001b[0m \u001b[1;33m\u001b[0m\u001b[0m\n\u001b[0;32m      3\u001b[0m \u001b[1;32mdef\u001b[0m \u001b[0mlivedraw\u001b[0m\u001b[1;33m(\u001b[0m\u001b[0mx\u001b[0m\u001b[1;33m,\u001b[0m \u001b[0my\u001b[0m\u001b[1;33m,\u001b[0m \u001b[0mz\u001b[0m\u001b[1;33m)\u001b[0m\u001b[1;33m:\u001b[0m\u001b[1;33m\u001b[0m\u001b[0m\n\u001b[0;32m      4\u001b[0m     \u001b[0mget_ipython\u001b[0m\u001b[1;33m(\u001b[0m\u001b[1;33m)\u001b[0m\u001b[1;33m.\u001b[0m\u001b[0mmagic\u001b[0m\u001b[1;33m(\u001b[0m\u001b[1;34m'matplotlib inline'\u001b[0m\u001b[1;33m)\u001b[0m\u001b[1;33m\u001b[0m\u001b[0m\n\u001b[0;32m      5\u001b[0m     \u001b[0mfig\u001b[0m \u001b[1;33m=\u001b[0m \u001b[0mplt\u001b[0m\u001b[1;33m.\u001b[0m\u001b[0mfigure\u001b[0m\u001b[1;33m(\u001b[0m\u001b[1;33m)\u001b[0m\u001b[1;33m\u001b[0m\u001b[0m\n",
      "\u001b[1;32m<ipython-input-4-e7d1101716e8>\u001b[0m in \u001b[0;36mrender_pose\u001b[1;34m(q_list, convention)\u001b[0m\n\u001b[0;32m     73\u001b[0m         \u001b[0mmove_from_og\u001b[0m \u001b[1;33m=\u001b[0m \u001b[0mTF_matrix\u001b[0m\u001b[1;33m(\u001b[0m\u001b[0meye\u001b[0m\u001b[1;33m(\u001b[0m\u001b[1;36m3\u001b[0m\u001b[1;33m)\u001b[0m\u001b[1;33m,\u001b[0m \u001b[0mtranslation\u001b[0m\u001b[1;33m=\u001b[0m\u001b[0mxlate\u001b[0m\u001b[1;33m)\u001b[0m\u001b[1;33m\u001b[0m\u001b[0m\n\u001b[0;32m     74\u001b[0m \u001b[1;33m\u001b[0m\u001b[0m\n\u001b[1;32m---> 75\u001b[1;33m         \u001b[0mR\u001b[0m \u001b[1;33m=\u001b[0m \u001b[0mTF_matrix\u001b[0m\u001b[1;33m(\u001b[0m\u001b[0mcomposeRotations\u001b[0m\u001b[1;33m(\u001b[0m\u001b[1;33m[\u001b[0m\u001b[1;33m(\u001b[0m\u001b[0mzero_pose_joint_axes\u001b[0m\u001b[1;33m[\u001b[0m\u001b[0mi\u001b[0m\u001b[1;33m]\u001b[0m\u001b[1;33m,\u001b[0m \u001b[0mq_list\u001b[0m\u001b[1;33m[\u001b[0m\u001b[0mi\u001b[0m\u001b[1;33m-\u001b[0m\u001b[1;36m1\u001b[0m\u001b[1;33m]\u001b[0m\u001b[1;33m)\u001b[0m\u001b[1;33m]\u001b[0m\u001b[1;33m)\u001b[0m\u001b[1;33m)\u001b[0m\u001b[1;33m\u001b[0m\u001b[0m\n\u001b[0m\u001b[0;32m     76\u001b[0m \u001b[1;33m\u001b[0m\u001b[0m\n\u001b[0;32m     77\u001b[0m         \u001b[0mTF\u001b[0m \u001b[1;33m=\u001b[0m \u001b[0mmove_from_og\u001b[0m\u001b[1;33m.\u001b[0m\u001b[0minv\u001b[0m\u001b[1;33m(\u001b[0m\u001b[1;33m)\u001b[0m \u001b[1;33m*\u001b[0m \u001b[0mR\u001b[0m \u001b[1;33m*\u001b[0m \u001b[0mmove_from_og\u001b[0m\u001b[1;33m\u001b[0m\u001b[0m\n",
      "\u001b[1;31mTypeError\u001b[0m: 'NoneType' object is not subscriptable"
     ]
    }
   ],
   "source": [
    "x, y, z = render_pose(get_q_values(), 'urdf')\n",
    "\n",
    "def livedraw(x, y, z):\n",
    "    %matplotlib inline\n",
    "    fig = plt.figure()\n",
    "    ax = fig.gca(projection='3d')\n",
    "\n",
    "    ax.plot(x, y, z, label='urdf_joint_positions')\n",
    "    \n",
    "    ax.scatter(x, y, z, marker='o')\n",
    "\n",
    "    plt.show()\n",
    "\n",
    "# x, y, z"
   ]
  },
  {
   "cell_type": "code",
   "execution_count": 15,
   "metadata": {
    "collapsed": true
   },
   "outputs": [],
   "source": [
    "interact?\n"
   ]
  },
  {
   "cell_type": "code",
   "execution_count": null,
   "metadata": {
    "collapsed": true
   },
   "outputs": [],
   "source": [
    "# def fk_orientation(q_list):\n",
    "# help(Matrix.inv)"
   ]
  },
  {
   "cell_type": "code",
   "execution_count": 7,
   "metadata": {
    "ExecuteTime": {
     "end_time": "2018-04-27T20:21:20.454506Z",
     "start_time": "2018-04-27T20:21:19.513417Z"
    }
   },
   "outputs": [
    {
     "name": "stdout",
     "output_type": "stream",
     "text": [
      "Using matplotlib backend: Qt5Agg\n"
     ]
    },
    {
     "ename": "NameError",
     "evalue": "name 'x' is not defined",
     "output_type": "error",
     "traceback": [
      "\u001b[1;31m---------------------------------------------------------------------------\u001b[0m",
      "\u001b[1;31mNameError\u001b[0m                                 Traceback (most recent call last)",
      "\u001b[1;32m<ipython-input-7-a2796336b747>\u001b[0m in \u001b[0;36m<module>\u001b[1;34m()\u001b[0m\n\u001b[0;32m      9\u001b[0m \u001b[1;31m# z = joint_decomp['urdf']['z']\u001b[0m\u001b[1;33m\u001b[0m\u001b[1;33m\u001b[0m\u001b[0m\n\u001b[0;32m     10\u001b[0m \u001b[1;33m\u001b[0m\u001b[0m\n\u001b[1;32m---> 11\u001b[1;33m \u001b[0max\u001b[0m\u001b[1;33m.\u001b[0m\u001b[0mplot\u001b[0m\u001b[1;33m(\u001b[0m\u001b[0mx\u001b[0m\u001b[1;33m,\u001b[0m \u001b[0my\u001b[0m\u001b[1;33m,\u001b[0m \u001b[0mz\u001b[0m\u001b[1;33m,\u001b[0m \u001b[0mlabel\u001b[0m\u001b[1;33m=\u001b[0m\u001b[1;34m'urdf_joint_positions'\u001b[0m\u001b[1;33m)\u001b[0m\u001b[1;33m\u001b[0m\u001b[0m\n\u001b[0m\u001b[0;32m     12\u001b[0m \u001b[0mfinger_center\u001b[0m \u001b[1;33m=\u001b[0m \u001b[0mx\u001b[0m\u001b[1;33m.\u001b[0m\u001b[0mpop\u001b[0m\u001b[1;33m(\u001b[0m\u001b[1;33m)\u001b[0m\u001b[1;33m\u001b[0m\u001b[0m\n\u001b[0;32m     13\u001b[0m \u001b[0max\u001b[0m\u001b[1;33m.\u001b[0m\u001b[0mscatter\u001b[0m\u001b[1;33m(\u001b[0m\u001b[0mx\u001b[0m\u001b[1;33m,\u001b[0m \u001b[0my\u001b[0m\u001b[1;33m,\u001b[0m \u001b[0mz\u001b[0m\u001b[1;33m,\u001b[0m \u001b[0mmarker\u001b[0m\u001b[1;33m=\u001b[0m\u001b[1;34m'o'\u001b[0m\u001b[1;33m)\u001b[0m\u001b[1;33m\u001b[0m\u001b[0m\n",
      "\u001b[1;31mNameError\u001b[0m: name 'x' is not defined"
     ]
    }
   ],
   "source": [
    "%matplotlib\n",
    "# mpl.rcParams['legend.fontsize'] = 10\n",
    "\n",
    "fig = plt.figure()\n",
    "ax = fig.gca(projection='3d')\n",
    "\n",
    "# x = joint_decomp['urdf']['x']\n",
    "# y = joint_decomp['urdf']['y']\n",
    "# z = joint_decomp['urdf']['z']\n",
    "\n",
    "ax.plot(x, y, z, label='urdf_joint_positions')\n",
    "finger_center = x.pop()\n",
    "ax.scatter(x, y, z, marker='o')\n",
    "# ax.legend()\n",
    "\n",
    "plt.show()"
   ]
  },
  {
   "cell_type": "code",
   "execution_count": null,
   "metadata": {
    "collapsed": true
   },
   "outputs": [],
   "source": [
    "import plotly.plotly as py\n",
    "import numpy as np\n",
    "\n",
    "data = [dict(\n",
    "        visible = False,\n",
    "        line=dict(color='00CED1', width=6),\n",
    "        name = '𝜈 = '+str(step),\n",
    "        x = np.arange(0,10,0.01),\n",
    "        y = np.sin(step*np.arange(0,10,0.01))) for step in np.arange(0,5,0.1)]\n",
    "data[10]['visible'] = True\n",
    "\n",
    "steps = []\n",
    "for i in range(len(data)):\n",
    "    step = dict(\n",
    "        method = 'restyle',\n",
    "        args = ['visible', [False] * len(data)],\n",
    "    )\n",
    "    step['args'][1][i] = True # Toggle i'th trace to \"visible\"\n",
    "    steps.append(step)\n",
    "\n",
    "sliders = [dict(\n",
    "    active = 10,\n",
    "    currentvalue = {\"prefix\": \"Frequency: \"},\n",
    "    pad = {\"t\": 50},\n",
    "    steps = steps\n",
    ")]\n",
    "\n",
    "layout = dict(sliders=sliders)\n",
    "fig = dict(data=data, layout=layout)\n",
    "\n",
    "py.plot(fig, filename='Sine Wave Slider')"
   ]
  },
  {
   "cell_type": "code",
   "execution_count": null,
   "metadata": {
    "collapsed": true
   },
   "outputs": [],
   "source": [
    "dir(py)"
   ]
  },
  {
   "cell_type": "code",
   "execution_count": null,
   "metadata": {
    "collapsed": true
   },
   "outputs": [],
   "source": [
    "help(py.get_config);"
   ]
  },
  {
   "cell_type": "code",
   "execution_count": null,
   "metadata": {
    "collapsed": true
   },
   "outputs": [],
   "source": [
    "# py.sign_in('General-Sax', '8AWT8Kb7EEH3tgqBTnJm')\n",
    "py.get_config()"
   ]
  },
  {
   "cell_type": "code",
   "execution_count": 22,
   "metadata": {},
   "outputs": [
    {
     "data": {
      "application/json": {
       "cell": {
        "!": "OSMagics",
        "HTML": "Other",
        "SVG": "Other",
        "bash": "Other",
        "capture": "ExecutionMagics",
        "debug": "ExecutionMagics",
        "file": "Other",
        "html": "DisplayMagics",
        "javascript": "DisplayMagics",
        "js": "DisplayMagics",
        "latex": "DisplayMagics",
        "markdown": "DisplayMagics",
        "perl": "Other",
        "prun": "ExecutionMagics",
        "pypy": "Other",
        "python": "Other",
        "python2": "Other",
        "python3": "Other",
        "ruby": "Other",
        "script": "ScriptMagics",
        "sh": "Other",
        "svg": "DisplayMagics",
        "sx": "OSMagics",
        "system": "OSMagics",
        "time": "ExecutionMagics",
        "timeit": "ExecutionMagics",
        "writefile": "OSMagics"
       },
       "line": {
        "alias": "OSMagics",
        "alias_magic": "BasicMagics",
        "autocall": "AutoMagics",
        "automagic": "AutoMagics",
        "autosave": "KernelMagics",
        "bookmark": "OSMagics",
        "cat": "Other",
        "cd": "OSMagics",
        "clear": "KernelMagics",
        "colors": "BasicMagics",
        "config": "ConfigMagics",
        "connect_info": "KernelMagics",
        "cp": "Other",
        "debug": "ExecutionMagics",
        "dhist": "OSMagics",
        "dirs": "OSMagics",
        "doctest_mode": "BasicMagics",
        "ed": "Other",
        "edit": "KernelMagics",
        "env": "OSMagics",
        "gui": "BasicMagics",
        "hist": "Other",
        "history": "HistoryMagics",
        "killbgscripts": "ScriptMagics",
        "ldir": "Other",
        "less": "KernelMagics",
        "lf": "Other",
        "lk": "Other",
        "ll": "Other",
        "load": "CodeMagics",
        "load_ext": "ExtensionMagics",
        "loadpy": "CodeMagics",
        "logoff": "LoggingMagics",
        "logon": "LoggingMagics",
        "logstart": "LoggingMagics",
        "logstate": "LoggingMagics",
        "logstop": "LoggingMagics",
        "ls": "Other",
        "lsmagic": "BasicMagics",
        "lx": "Other",
        "macro": "ExecutionMagics",
        "magic": "BasicMagics",
        "man": "KernelMagics",
        "matplotlib": "PylabMagics",
        "mkdir": "Other",
        "more": "KernelMagics",
        "mv": "Other",
        "notebook": "BasicMagics",
        "page": "BasicMagics",
        "pastebin": "CodeMagics",
        "pdb": "ExecutionMagics",
        "pdef": "NamespaceMagics",
        "pdoc": "NamespaceMagics",
        "pfile": "NamespaceMagics",
        "pinfo": "NamespaceMagics",
        "pinfo2": "NamespaceMagics",
        "pip": "BasicMagics",
        "popd": "OSMagics",
        "pprint": "BasicMagics",
        "precision": "BasicMagics",
        "profile": "BasicMagics",
        "prun": "ExecutionMagics",
        "psearch": "NamespaceMagics",
        "psource": "NamespaceMagics",
        "pushd": "OSMagics",
        "pwd": "OSMagics",
        "pycat": "OSMagics",
        "pylab": "PylabMagics",
        "qtconsole": "KernelMagics",
        "quickref": "BasicMagics",
        "recall": "HistoryMagics",
        "rehashx": "OSMagics",
        "reload_ext": "ExtensionMagics",
        "rep": "Other",
        "rerun": "HistoryMagics",
        "reset": "NamespaceMagics",
        "reset_selective": "NamespaceMagics",
        "rm": "Other",
        "rmdir": "Other",
        "run": "ExecutionMagics",
        "save": "CodeMagics",
        "sc": "OSMagics",
        "set_env": "OSMagics",
        "store": "StoreMagics",
        "sx": "OSMagics",
        "system": "OSMagics",
        "tb": "ExecutionMagics",
        "time": "ExecutionMagics",
        "timeit": "ExecutionMagics",
        "unalias": "OSMagics",
        "unload_ext": "ExtensionMagics",
        "who": "NamespaceMagics",
        "who_ls": "NamespaceMagics",
        "whos": "NamespaceMagics",
        "xdel": "NamespaceMagics",
        "xmode": "BasicMagics"
       }
      },
      "text/plain": [
       "Available line magics:\n",
       "%alias  %alias_magic  %autocall  %automagic  %autosave  %bookmark  %cat  %cd  %clear  %colors  %config  %connect_info  %cp  %debug  %dhist  %dirs  %doctest_mode  %ed  %edit  %env  %gui  %hist  %history  %killbgscripts  %ldir  %less  %lf  %lk  %ll  %load  %load_ext  %loadpy  %logoff  %logon  %logstart  %logstate  %logstop  %ls  %lsmagic  %lx  %macro  %magic  %man  %matplotlib  %mkdir  %more  %mv  %notebook  %page  %pastebin  %pdb  %pdef  %pdoc  %pfile  %pinfo  %pinfo2  %popd  %pprint  %precision  %profile  %prun  %psearch  %psource  %pushd  %pwd  %pycat  %pylab  %qtconsole  %quickref  %recall  %rehashx  %reload_ext  %rep  %rerun  %reset  %reset_selective  %rm  %rmdir  %run  %save  %sc  %set_env  %store  %sx  %system  %tb  %time  %timeit  %unalias  %unload_ext  %who  %who_ls  %whos  %xdel  %xmode\n",
       "\n",
       "Available cell magics:\n",
       "%%!  %%HTML  %%SVG  %%bash  %%capture  %%debug  %%file  %%html  %%javascript  %%js  %%latex  %%markdown  %%perl  %%prun  %%pypy  %%python  %%python2  %%python3  %%ruby  %%script  %%sh  %%svg  %%sx  %%system  %%time  %%timeit  %%writefile\n",
       "\n",
       "Automagic is ON, % prefix IS NOT needed for line magics."
      ]
     },
     "execution_count": 22,
     "metadata": {},
     "output_type": "execute_result"
    }
   ],
   "source": [
    "%lsmagic"
   ]
  },
  {
   "cell_type": "code",
   "execution_count": 1,
   "metadata": {},
   "outputs": [
    {
     "name": "stderr",
     "output_type": "stream",
     "text": [
      "ERROR:root:Cell magic `%%dot` not found.\n"
     ]
    }
   ],
   "source": [
    "%%dot\n",
    "digraph G {\n",
    "    rankdir=RL;\n",
    "    theta_1 -> wrist_x\n",
    "    theta_1 -> wrist_y\n",
    "    wrist_x -> wrist_center\n",
    "    wrist_y -> wrist_center\n",
    "    wrist_center -> EE_ori\n",
    "    wrist_center -> EE_pos\n",
    "    wrist_center -> EE_length\n",
    "    EE_ori -> req\n",
    "    EE_pos -> req\n",
    "    EE_length -> dh_d7\n",
    "    alt_theta_1 -> theta_1\n",
    "}\n",
    "    "
   ]
  },
  {
   "cell_type": "code",
   "execution_count": 36,
   "metadata": {
    "scrolled": true
   },
   "outputs": [
    {
     "name": "stdout",
     "output_type": "stream",
     "text": [
      "Fetching package metadata .........\n",
      "Solving package specifications: .\n",
      "\n",
      "Package plan for installation in environment /home/robond/miniconda3/envs/RoboND:\n",
      "\n",
      "The following NEW packages will be INSTALLED:\n",
      "\n",
      "    pydotplus: 2.0.2-py35_0\n",
      "\n",
      "Proceed ([y]/n)? \n",
      "pydotplus-2.0. 100% |###############################| Time: 0:00:00 480.60 kB/s\n"
     ]
    }
   ],
   "source": [
    "# %%bash\n",
    "# conda install pydotplus"
   ]
  },
  {
   "cell_type": "markdown",
   "metadata": {},
   "source": [
    "The angle theta4 is measured about Z4 on the (X4,Y4)-plane. It is equal to the angle between X4 and a vector Nxy, the projection of the v, w common normal onto the aforementioned plane."
   ]
  },
  {
   "cell_type": "code",
   "execution_count": null,
   "metadata": {
    "collapsed": true
   },
   "outputs": [],
   "source": [
    "Nh = N(vector_cross_unit(v, w)) \n",
    "Vh = v.normalized()\n",
    "proj_Nh_Vh = Nh.dot(Vh)\n",
    "# As with gram-schmidt orthogonoalization, the xy-projection of Nh can be found by\n",
    "# subtracting the projection of Nh onto Vh, which is definitionally orthogonal to X4 and Y4.\n",
    "# This vector is then normalized.\n",
    "Nh_xy = (Nh - (proj_Nh_Vh * Vh)).normalized()\n",
    "# We need one last item to extract theta4: an x unit vector from the joint_4 reference frame,\n",
    "# taken with theta4=0.\n",
    "theta_4_val = N(acos(dot(Nh_xy, )))"
   ]
  }
 ],
 "metadata": {
  "hide_input": false,
  "kernelspec": {
   "display_name": "Python 3",
   "language": "python",
   "name": "python3"
  },
  "language_info": {
   "codemirror_mode": {
    "name": "ipython",
    "version": 3
   },
   "file_extension": ".py",
   "mimetype": "text/x-python",
   "name": "python",
   "nbconvert_exporter": "python",
   "pygments_lexer": "ipython3",
   "version": "3.6.5"
  },
  "toc": {
   "nav_menu": {},
   "number_sections": true,
   "sideBar": true,
   "skip_h1_title": false,
   "title_cell": "Table of Contents",
   "title_sidebar": "Contents",
   "toc_cell": false,
   "toc_position": {},
   "toc_section_display": true,
   "toc_window_display": false
  },
  "varInspector": {
   "cols": {
    "lenName": 16,
    "lenType": 16,
    "lenVar": 40
   },
   "kernels_config": {
    "python": {
     "delete_cmd_postfix": "",
     "delete_cmd_prefix": "del ",
     "library": "var_list.py",
     "varRefreshCmd": "print(var_dic_list())"
    },
    "r": {
     "delete_cmd_postfix": ") ",
     "delete_cmd_prefix": "rm(",
     "library": "var_list.r",
     "varRefreshCmd": "cat(var_dic_list()) "
    }
   },
   "types_to_exclude": [
    "module",
    "function",
    "builtin_function_or_method",
    "instance",
    "_Feature"
   ],
   "window_display": false
  }
 },
 "nbformat": 4,
 "nbformat_minor": 2
}
