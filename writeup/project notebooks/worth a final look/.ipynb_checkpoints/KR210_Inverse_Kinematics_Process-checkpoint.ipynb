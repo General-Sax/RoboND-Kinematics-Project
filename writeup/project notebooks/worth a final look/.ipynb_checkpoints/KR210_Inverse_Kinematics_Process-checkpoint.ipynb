{
 "cells": [
  {
   "cell_type": "code",
   "execution_count": 1,
   "metadata": {
    "collapsed": true
   },
   "outputs": [],
   "source": [
    "import numpy as np\n",
    "import pandas as pd\n",
    "from sympy import Symbol, symbols, init_printing, cos, sin, pi, simplify, sqrt, atan2, acos, N\n",
    "from sympy.matrices import Matrix, eye"
   ]
  },
  {
   "cell_type": "code",
   "execution_count": 2,
   "metadata": {
    "collapsed": true
   },
   "outputs": [],
   "source": [
    "init_printing(use_latex='mathjax')"
   ]
  },
  {
   "cell_type": "code",
   "execution_count": 3,
   "metadata": {
    "collapsed": true
   },
   "outputs": [],
   "source": [
    "# Conversion Factors\n",
    "rtd = 180./pi # radians to degrees\n",
    "dtr = pi/180. # degrees to radians"
   ]
  },
  {
   "cell_type": "code",
   "execution_count": 4,
   "metadata": {
    "collapsed": true
   },
   "outputs": [],
   "source": [
    "show = lambda matrix: print(repr(matrix))"
   ]
  },
  {
   "cell_type": "code",
   "execution_count": 5,
   "metadata": {
    "collapsed": true
   },
   "outputs": [],
   "source": [
    "# Assembles a translation column vector in homogeneous coordinates \n",
    "def col3(dx, dy, dz):\n",
    "    return Matrix([[dx], [dy], [dz]])"
   ]
  },
  {
   "cell_type": "code",
   "execution_count": 6,
   "metadata": {
    "collapsed": true
   },
   "outputs": [],
   "source": [
    "# p0 = Matrix([[0], [0], [0], [1]])\n",
    "# T0_1 = buildTmatrix(rotation_list=[], translation=[0, 0, 0.75])\n",
    "# show(T0_1)\n",
    "# p1 = T0_1 * p0\n",
    "# show(p1)\n",
    "\n",
    "# p0 = col3(0, 0, 1)\n",
    "\n",
    "# T0_1 = buildTmatrix(translation=[0, 0, 0.75])\n",
    "# show(T0_1)\n",
    "# # T1_2 = buildTmatrix(rotation_axis=)\n",
    "\n",
    "# p1 = T0_1 * p0\n",
    "# show(p1)"
   ]
  },
  {
   "cell_type": "code",
   "execution_count": 7,
   "metadata": {
    "collapsed": true
   },
   "outputs": [],
   "source": [
    "# # Twist angle, alpha:\n",
    "# # \n",
    "# alpha = [0, -pi/2, 0, -pi/2, pi/2, -pi/2, 0, 0]\n",
    " \n",
    "# # \n",
    "# a = [0, 0.35, 1.25, -0.054, 0, 0, 0, 0]\n",
    "\n",
    "# # \n",
    "# d = [0, 0.75, 0, 0, 1.5, 0, 0, 0.303] \n",
    " \n",
    "# # \n",
    "# theta = [0, q1, q2, q3, q4, q5, q6, q7]\n",
    "\n",
    "# dh_param_table = pd.DataFrame(alpha, columns=['alpha'])\n",
    "# dh_param_table['a'] = a\n",
    "# dh_param_table['d'] = d\n",
    "# dh_param_table['theta'] = theta\n",
    "\n",
    "# # NOTE: the value of d7 = 0.303 is the distance to the gripper origin, not the grasping center of the end effector!\n",
    "# # The 0.303 value is given in the problem description and intro, but seems to me a less natural choice than 0.453,\n",
    "# # which is the actual distance between the target point and the wrist center. \n",
    "# # For alternate form, uncomment next line:\n",
    "# # dh_param_table['d'] = [None, 0.75, 0, 0, 1.5, 0, 0, 0.453] \n",
    "\n",
    "# dh_param_table"
   ]
  },
  {
   "cell_type": "markdown",
   "metadata": {},
   "source": [
    "## Analysis and Techniques\n",
    "\n",
    "While the position and orientation of the wrist center may be decoupled problems, they have a subtle interdependence. \n",
    "I am a very spatial and visual thinker, and I often benefit profoundly from attempting to break down a problem into stages or steps with clear geometric analogs. I appreciate how powerful the matrix representations are for calculating these transformations efficiently, and I am happy to employ them as a computational shorthand, but when I'm learning a to solve a new kind of problem I have to map it out first. I have to find its symmetries, diagram it, and generally let my visual imagination explore the shape of the solution, manually, in detail.\n",
    "\n",
    "### My Plan, Roughly - In Pictures\n",
    "\n",
    "\n",
    "\n",
    "### The Positioning Plane\n",
    "\n",
    "When I first began to analyze the inverse kinematics of the KR210 manipulator, I wanted to break down its geometry in detail, so I could rebuild the problem from the base link up. And the base link seemed like the right place to start, since the whole manipulator and all of the non-static reference frames pivot around it. The origin of the base_link coordinate system lies on the axis of rotation for joint_1, naturally and unsurprisingly.\n",
    "\n",
    "While scrutinizing the coordinates of the link reference frames in RViz and comparing them with the joint origins in the URDF file, I immediately noticed that (when joint variables are zeroed) the entire manipulator is essentially embedded in a plane. This plane is coincident with the xz-plane in the zeroed pose, but its yaw relative to the base link is determined by the angle of joint 1, represented by theta_1. Joint limits on joint 1 give it symmetrical CW/CCW range of motion, capable of rotation left or right by 185 degrees from zero (aligned with the base x-axis). This allows the robot to rotate through a maximum of 370 degrees in a single turn, giving a nice cushion of flexibility to a fully circular work envelope.\n",
    "\n",
    "NOTE: By comparing the slider bounds of the joint_state_publisher to the urdf, I observe that they are accurate representations of the urdf joint limits, as expected, although the slider gives its values in radians rather than degrees.\n",
    "\n",
    "The aforementioned plane is a nice symmetry of this problem, as it allows us to collapse the Since the DH Z-axes of joints 2 and 3 are orthogonal to said plane, their corresponding degrees of freedom are constrained to specify a subset of the points in this plane. Furthermore, since joint 4 is a coaxial revolute, it cannot move joint 5 out of the plane either - it can only indirectly alter the location of the end effector by rotating the direction at which joint 5 may leave this plane. so,  of them,  offer subsequent links any angle out of this plane. Since the \n",
    "\n",
    "One result of this\n",
    "\n",
    "### Spatial and Operational Constraints on the Wrist Center\n",
    "\n",
    "We happen to know that our gripper will be approaching its target horizontally, \n",
    "and this allows us to constrain/determine the wrist center's location, with respect to a given target location.\n",
    "\n",
    "We can draw some further insights from the geometry of the shelf, robot, and targets as illustrated in the \n",
    "Gazebo scene and RViz demo.\n",
    "\n",
    "If we know what "
   ]
  },
  {
   "cell_type": "code",
   "execution_count": 9,
   "metadata": {},
   "outputs": [
    {
     "name": "stdout",
     "output_type": "stream",
     "text": [
      "Target column symbol matrix, \"target\" :\n",
      "Matrix([\n",
      "[t_x],\n",
      "[t_y],\n",
      "[t_z]])\n",
      "\n",
      "Target column value matrix, \"target_val\" :\n",
      "Matrix([\n",
      "[1.5],\n",
      "[  0],\n",
      "[1.3]])\n",
      "Matrix([\n",
      "[-0.4523],\n",
      "[      0],\n",
      "[      0]])\n",
      "Matrix([\n",
      "[1.0477],\n",
      "[     0],\n",
      "[   1.3]])\n",
      "Matrix([\n",
      "[t_x - 0.4523],\n",
      "[         t_y],\n",
      "[         t_z]])\n"
     ]
    }
   ],
   "source": [
    "# The first step is to determine the location of the wrist center\n",
    "# To do this, we must know where the target point is, and we must impose constraints or assertions\n",
    "# on the approach orientation of the gripper.\n",
    "target_x = 1.5\n",
    "target_y = 0.0\n",
    "target_z = 1.3\n",
    "\n",
    "# In the base_link reference frame:\n",
    "t_x, t_y, t_z = symbols('t_x t_y t_z')\n",
    "\n",
    "s = {t_x: target_x,\n",
    "     t_y: target_y,\n",
    "     t_z: target_z\n",
    "    }\n",
    "\n",
    "print('Target column symbol matrix, \"target\" :')\n",
    "target = Matrix([[t_x], [t_y], [t_z]])\n",
    "show(target)\n",
    "\n",
    "print('\\nTarget column value matrix, \"target_val\" :')\n",
    "target_val = target.evalf(subs=s)\n",
    "show(target_val)\n",
    "\n",
    "\n",
    "wx, wy, wz = symbols('wx wy, wz')\n",
    "w_sym = col3(wx, wy, wz)\n",
    "# print(type(w))\n",
    "\n",
    "# A unit vector pointing along axis from wc to target in base reference frame\n",
    "ee_unit_vector = col3(-1, 0, 0)\n",
    "ee_length = 0.4523\n",
    "\n",
    "# The end effector's reach; the displacement vector from the target point to the wrist center:\n",
    "ee_vect = ee_length * ee_unit_vector\n",
    "\n",
    "w_val = w_sym.evalf(subs={\n",
    "    wx: target_val[0] + ee_vect[0],\n",
    "    wy: target_val[1] + ee_vect[1],\n",
    "    wz: target_val[2] + ee_vect[2]\n",
    "})\n",
    "w = w_sym.subs({\n",
    "    wx: target[0] + ee_vect[0],\n",
    "    wy: target[1] + ee_vect[1],\n",
    "    wz: target[2] + ee_vect[2]\n",
    "})\n",
    "\n",
    "show(ee_vect)\n",
    "show(w_val)\n",
    "show(w)"
   ]
  },
  {
   "cell_type": "code",
   "execution_count": 10,
   "metadata": {
    "collapsed": true
   },
   "outputs": [],
   "source": [
    "theta1, theta2, theta3 = symbols('theta1:4')\n",
    "s_wc = Symbol('s_wc')\n",
    "z_wc = Symbol('z_wc')\n",
    "gamma_A = Symbol('gamma_A')"
   ]
  },
  {
   "cell_type": "markdown",
   "metadata": {},
   "source": [
    "### The Position Problem: Simultaneous Plane Angles from SSS Theorem"
   ]
  },
  {
   "cell_type": "code",
   "execution_count": 11,
   "metadata": {},
   "outputs": [
    {
     "name": "stdout",
     "output_type": "stream",
     "text": [
      "theta1 =  0\n",
      "1.04770000000000  <-  wrist center radius in base frame\n",
      "\n",
      "1.30000000000000  <-  wrist center altitude in base frame\n",
      "\n",
      "0.0359844600820516 delta_0\n",
      "\n",
      "1.50097168527591 1.25 0.888417294968980\n",
      "1.56250000000000 0.789285290000000 2.25291600000000\n",
      "1.52626681463822  <-  A_val\n",
      "\n",
      "0.667568699910256  <-  gamma_A angle\n",
      "\n",
      "acos((-a**2 + b**2 + c**2)/(2*b*c)) - pi/2 + 0.667568699910256  <-  theta2\n"
     ]
    },
    {
     "data": {
      "text/latex": [
       "$$0.623039187753584$$"
      ],
      "text/plain": [
       "0.623039187753584"
      ]
     },
     "execution_count": 11,
     "metadata": {},
     "output_type": "execute_result"
    }
   ],
   "source": [
    "s[theta1] = atan2(w_val[1], w_val[0])\n",
    "print('theta1 = ', s[theta1])\n",
    "s[s_wc] = sqrt(w_val[0]**2 + w_val[1]**2)\n",
    "print(s[s_wc], ' <-  wrist center radius in base frame\\n')\n",
    "s[z_wc] = w_val[2]\n",
    "print(s[z_wc], ' <-  wrist center altitude in base frame\\n')\n",
    "\n",
    "\n",
    "delta_0 = atan2(0.054, 1.5)\n",
    "print(delta_0,'delta_0\\n')\n",
    "\n",
    "\n",
    "# find differences between the s, z coordinates of the wc and those of joint_2, after link_1 is rotated\n",
    "delta_s = s[s_wc] - 0.35\n",
    "delta_z = s[z_wc] - 0.75\n",
    "\n",
    "A, B, C = symbols('A B C')\n",
    "a, b, c = symbols('a b c')\n",
    "\n",
    "\n",
    "# Side lengths corresponding to the arms\n",
    "# dist(j3, wc) = sqrt(0.054**2 + 1.5**2)\n",
    "s[a] = sqrt(0.054**2 + 1.5**2)\n",
    "\n",
    "# dist(j2, j3) = 1.25\n",
    "s[b] = 1.25\n",
    "\n",
    "# length of triangle side between joint 2 and wrist center\n",
    "# dist(j2, wc) = sqrt(delta_s**2 + delta_z**2)\n",
    "s[c] = sqrt(delta_s**2 + delta_z**2)\n",
    "print(s[a], s[b], s[c])\n",
    "\n",
    "A = acos(((b**2) + (c**2) - (a**2)) / (2 * b * c))\n",
    "print((b.subs(s)**2), (c.subs(s)**2), (a.subs(s)**2))\n",
    "A_val = A.evalf(subs=s)\n",
    "print(A_val,' <-  A_val\\n')\n",
    "\n",
    "gamma_A = atan2(delta_z, delta_s)\n",
    "print(gamma_A, ' <-  gamma_A angle\\n')\n",
    "\n",
    "theta2 = gamma_A + A - pi/2\n",
    "print(theta2, ' <-  theta2')\n",
    "\n",
    "# s[theta2]\n",
    "theta2_val = theta2.evalf(subs=s)\n",
    "theta2_val"
   ]
  },
  {
   "cell_type": "code",
   "execution_count": 12,
   "metadata": {},
   "outputs": [
    {
     "data": {
      "text/latex": [
       "$$0.624134810589506$$"
      ],
      "text/plain": [
       "0.624134810589506"
      ]
     },
     "execution_count": 12,
     "metadata": {},
     "output_type": "execute_result"
    }
   ],
   "source": [
    "B = acos((a**2 + c**2 - b**2) / (2 * a * c))\n",
    "B_val = B.evalf(subs=s)\n",
    "\n",
    "theta3 = pi/2 - B + delta_0\n",
    "\n",
    "theta3_val = theta3.evalf(subs=s)\n",
    "N(theta3_val)\n",
    "# theta3 = N(pi/2) - B_val\n"
   ]
  },
  {
   "cell_type": "code",
   "execution_count": 11,
   "metadata": {
    "collapsed": true
   },
   "outputs": [],
   "source": [
    "### Define functions for Rotation Matrices about x, y, and z given specific angle.\n",
    "\n",
    "def rot_x(q):\n",
    "    R_x = Matrix([[ 1,              0,        0],\n",
    "                  [ 0,        cos(q),   -sin(q)],\n",
    "                  [ 0,        sin(q),    cos(q)]])\n",
    "    return R_x\n",
    "    \n",
    "def rot_y(q):\n",
    "    R_y =  Matrix([[ cos(q),        0,  sin(q)],\n",
    "                   [       0,        1,        0],\n",
    "                   [-sin(q),        0,  cos(q)]])\n",
    "    return R_y\n",
    "\n",
    "def rot_z(q): \n",
    "    R_z = Matrix([[ cos(q), -sin(q),        0],\n",
    "                  [ sin(q),  cos(q),        0],\n",
    "                  [ 0,            0,        1]])\n",
    "    return R_z\n",
    "\n",
    "\n",
    "matrix_ref = {'x': rot_x,\n",
    "              'y': rot_y,\n",
    "              'z': rot_z\n",
    "              }\n",
    "\n",
    "rotmat = lambda angle_deg, axis: ref['matrix'][axis].evalf(subs={ref['symvar'][axis]: angle_deg * dtr})"
   ]
  },
  {
   "cell_type": "code",
   "execution_count": 12,
   "metadata": {
    "collapsed": true
   },
   "outputs": [],
   "source": [
    "def composeRotations():\n",
    "    rMat = eye(3)\n",
    "    for rotation in rotation_list:\n",
    "        ax, degs = rotation[0], rotation[1]\n",
    "        rr = eval('rot_{}({})'.format(rotation_axis, n, rotation_angle))\n",
    "        rMat = rr * rMat\n",
    "    \n",
    "    return rMat\n",
    "    \n",
    "    \n",
    "def buildTmatrix(rotation_list, translation=[0, 0, 0]):\n",
    "    # rotation axis is element of {'x', 'y', 'z'}\n",
    "#     transcol = Matrix([[translation[0]], [translation[1]], [translation[2]]])\n",
    "    \n",
    "#     rMat = eye(3)\n",
    "#     for rotation in rot_sequence:\n",
    "#         ax, degs = rotation[0], rotation[1]\n",
    "#     rr = eval('rot_{}({})'.format(rotation_axis, rotation_angle))\n",
    "#     rMat = rr * rMat\n",
    "    rr = composeRotations(rotation_list)    \n",
    "    rT = rr.row_join(xlate(translation[0], translation[1], translation[2]))\n",
    "    rT = rT.col_join(Matrix([[0, 0, 0, 1]]))\n",
    "    \n",
    "    return rT"
   ]
  }
 ],
 "metadata": {
  "hide_input": false,
  "kernelspec": {
   "display_name": "Python 3",
   "language": "python",
   "name": "python3"
  },
  "language_info": {
   "codemirror_mode": {
    "name": "ipython",
    "version": 3
   },
   "file_extension": ".py",
   "mimetype": "text/x-python",
   "name": "python",
   "nbconvert_exporter": "python",
   "pygments_lexer": "ipython3",
   "version": "3.6.5"
  },
  "toc": {
   "nav_menu": {},
   "number_sections": true,
   "sideBar": true,
   "skip_h1_title": false,
   "title_cell": "Table of Contents",
   "title_sidebar": "Contents",
   "toc_cell": false,
   "toc_position": {},
   "toc_section_display": true,
   "toc_window_display": false
  },
  "varInspector": {
   "cols": {
    "lenName": 16,
    "lenType": 16,
    "lenVar": 40
   },
   "kernels_config": {
    "python": {
     "delete_cmd_postfix": "",
     "delete_cmd_prefix": "del ",
     "library": "var_list.py",
     "varRefreshCmd": "print(var_dic_list())"
    },
    "r": {
     "delete_cmd_postfix": ") ",
     "delete_cmd_prefix": "rm(",
     "library": "var_list.r",
     "varRefreshCmd": "cat(var_dic_list()) "
    }
   },
   "types_to_exclude": [
    "module",
    "function",
    "builtin_function_or_method",
    "instance",
    "_Feature"
   ],
   "window_display": false
  }
 },
 "nbformat": 4,
 "nbformat_minor": 2
}
