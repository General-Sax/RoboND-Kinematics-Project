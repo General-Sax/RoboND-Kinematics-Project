{
 "cells": [
  {
   "cell_type": "markdown",
   "metadata": {},
   "source": [
    "# The Parameters\n",
    "see: https://www.youtube.com/watch?v=10mUtjfGmzw\n",
    "\n",
    "'twist angle' : alpha_i-1 = angle between the Z axes of the previous link and the current link\n",
    "'link length' : a_i-1     = distance between Z\n",
    "'link offset' : \n",
    "''"
   ]
  },
  {
   "cell_type": "code",
   "execution_count": 1,
   "metadata": {
    "collapsed": true
   },
   "outputs": [],
   "source": [
    "#!/bin/bash\n",
    "import numpy as np\n",
    "from sympy import symbols, cos, sin, pi, sqrt, simplify\n",
    "from sympy.matrices import Matrix, eye"
   ]
  },
  {
   "cell_type": "code",
   "execution_count": 2,
   "metadata": {
    "collapsed": true
   },
   "outputs": [],
   "source": [
    "show = lambda matrix: print(repr(matrix))\n",
    "\n",
    "### Define functions for Rotation Matrices about x, y, and z given specific angle.\n",
    "\n",
    "def rot_x(q):\n",
    "    R_x = Matrix([[ 1,              0,        0],\n",
    "                  [ 0,        cos(q),   -sin(q)],\n",
    "                  [ 0,        sin(q),    cos(q)]])\n",
    "    return R_x\n",
    "    \n",
    "def rot_y(q):\n",
    "    R_y =  Matrix([[ cos(q),        0,  sin(q)],\n",
    "                   [       0,        1,        0],\n",
    "                   [-sin(q),        0,  cos(q)]])\n",
    "    return R_y\n",
    "\n",
    "def rot_z(q): \n",
    "    R_z = Matrix([[ cos(q), -sin(q),        0],\n",
    "                  [ sin(q),  cos(q),        0],\n",
    "                  [ 0,            0,        1]])\n",
    "    return R_z\n",
    "              \n",
    "def buildTmatrix(rot_sequence=[], translation=[0, 0, 0]):\n",
    "    # rotation format: (axis, degrees_to_rotate), ex: ('x', -90)\n",
    "    transcol = Matrix([[translation[0]], [translation[1]], [translation[2]]])\n",
    "    \n",
    "    rMat = eye(3)\n",
    "    for rotation in rot_sequence:\n",
    "#         ax, degs = rotation[0], rotation[1]\n",
    "        rr = eval('rot_{}({})'.format(rotation[0], rotation[1]))\n",
    "        rMat = rr * rMat\n",
    "        \n",
    "    rT = Matrix(rMat.row_join(transcol))\n",
    "    rT = rT.col_join(Matrix([[0, 0, 0, 1]]))\n",
    "    \n",
    "    return rT"
   ]
  },
  {
   "cell_type": "code",
   "execution_count": 3,
   "metadata": {
    "collapsed": true
   },
   "outputs": [],
   "source": [
    "def dhT_1(twist_angle, link_length, joint_angle, link_offset):\n",
    "    subT_x = buildTmatrix(rot_sequence=[('x', twist_angle)], translation=[link_length, 0, 0])\n",
    "    subT_z = buildTmatrix(rot_sequence=[('z', joint_angle)], translation=[0, 0, link_offset])\n",
    "    return subT_x * subT_z\n",
    "    "
   ]
  },
  {
   "cell_type": "code",
   "execution_count": 5,
   "metadata": {},
   "outputs": [
    {
     "name": "stdout",
     "output_type": "stream",
     "text": [
      "Matrix([\n",
      "[           cos(theta),           -sin(theta),           0,             a],\n",
      "[sin(theta)*cos(alpha), cos(alpha)*cos(theta), -sin(alpha), -d*sin(alpha)],\n",
      "[sin(alpha)*sin(theta), sin(alpha)*cos(theta),  cos(alpha),  d*cos(alpha)],\n",
      "[                    0,                     0,           0,             1]])\n"
     ]
    }
   ],
   "source": [
    "alpha, a, theta, d = symbols('alpha a theta d')\n",
    "\n",
    "general_T = dhT_1(alpha, a, theta, d)\n",
    "\n",
    "show(general_T)"
   ]
  },
  {
   "cell_type": "code",
   "execution_count": null,
   "metadata": {
    "collapsed": true
   },
   "outputs": [],
   "source": [
    "q1, q2, q3, q4 = symbols('q1:5')\n",
    "d1, d2, d3, d4 = symbols('d1:5')\n",
    "a0, a1, a2, a3 = symbols('a0:4')\n",
    "alpha0, alpha1, alpha2, alpha3 = symbols('alpha0:4')\n",
    "\n",
    "a12 = 0.4500 # meters\n",
    "a23 = 0.3000 # meters\n",
    "\n",
    "\n",
    "\n",
    "# Constant DH parameter table is stored in this dictionary - but note that the variable DoF for each joint is excluded.\n",
    "s = {alpha0: 0,  a0:   0, d1: 0, \n",
    "     alpha1: 0,  a1: a12, d2: 0,  \n",
    "     alpha2: 0,  a2: a23,        q3: 0,\n",
    "     alpha3: 0,  a3:   0, d4: 0}\n",
    "\n",
    "dhp = lambda handle, index: s[handle+'']\n",
    "\n",
    "\n",
    "def compose_sym_dhT(parameter_table):\n",
    "    \n",
    "    "
   ]
  },
  {
   "cell_type": "code",
   "execution_count": null,
   "metadata": {
    "collapsed": true
   },
   "outputs": [],
   "source": [
    "def calcXi(z, z_prev):\n",
    "        "
   ]
  }
 ],
 "metadata": {
  "kernelspec": {
   "display_name": "Python 3",
   "language": "python",
   "name": "python3"
  },
  "language_info": {
   "codemirror_mode": {
    "name": "ipython",
    "version": 3
   },
   "file_extension": ".py",
   "mimetype": "text/x-python",
   "name": "python",
   "nbconvert_exporter": "python",
   "pygments_lexer": "ipython3",
   "version": "3.5.4"
  },
  "widgets": {
   "state": {},
   "version": "1.1.2"
  }
 },
 "nbformat": 4,
 "nbformat_minor": 2
}
