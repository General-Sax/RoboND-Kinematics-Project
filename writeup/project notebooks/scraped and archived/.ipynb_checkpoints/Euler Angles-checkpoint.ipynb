{
 "cells": [
  {
   "cell_type": "code",
   "execution_count": 1,
   "metadata": {
    "collapsed": true
   },
   "outputs": [],
   "source": [
    "from sympy import *\n",
    "from sympy.matrices import Matrix, eye\n",
    "from mpmath import degrees, radians\n",
    "import numpy as np\n",
    "import matplotlib.pyplot as plt\n",
    "from mpl_toolkits.mplot3d import Axes3D"
   ]
  },
  {
   "cell_type": "code",
   "execution_count": 2,
   "metadata": {
    "collapsed": true
   },
   "outputs": [],
   "source": [
    "def rotation_matrix_from(DH_TF_mat):\n",
    "    return DH_TF_mat[0:3, 0:3]\n",
    "\n",
    "def translation_column_from(DH_TF_mat):\n",
    "    return DH_TF_mat[0:3, 3]\n",
    "\n",
    "def composeRotations(rotation_list):\n",
    "    \"rotation_list contains tuples of form (axis, radian_angle), where axis is an element of {'x', 'y', 'z'}\"\n",
    "    def rot_x(q):\n",
    "        R_x = Matrix([[ 1,              0,        0],\n",
    "                      [ 0,        cos(q),   -sin(q)],\n",
    "                      [ 0,        sin(q),    cos(q)]])\n",
    "        return R_x\n",
    "\n",
    "    def rot_y(q):\n",
    "        R_y =  Matrix([[ cos(q),        0,  sin(q)],\n",
    "                       [       0,        1,        0],\n",
    "                       [-sin(q),        0,  cos(q)]])\n",
    "        return R_y\n",
    "\n",
    "    def rot_z(q): \n",
    "        R_z = Matrix([[ cos(q), -sin(q),        0],\n",
    "                      [ sin(q),  cos(q),        0],\n",
    "                      [ 0,            0,        1]])\n",
    "        return R_z\n",
    "    \n",
    "    rMat = eye(3)\n",
    "    for rotation in rotation_list:\n",
    "        rotation_axis, rotation_angle = rotation[0], rotation[1]\n",
    "        rr = eval('rot_{}({})'.format(rotation_axis, rotation_angle))\n",
    "        rMat = rr * rMat\n",
    "    return rMat\n",
    "\n",
    "def col(input_tuple, h=0):\n",
    "    \"option: h=1 will output a homogenous coordinate column vector\"\n",
    "    matrixArg = [[item] for item in input_tuple]\n",
    "    if h: matrixArg.append([1])\n",
    "    return Matrix(matrixArg)"
   ]
  },
  {
   "cell_type": "code",
   "execution_count": 3,
   "metadata": {
    "collapsed": true
   },
   "outputs": [],
   "source": [
    "e_x = col((1, 0, 0))\n",
    "e_y = col((0, 1, 0))\n",
    "e_z = col((0, 0, 1))\n",
    "\n",
    "T0_4."
   ]
  },
  {
   "cell_type": "code",
   "execution_count": null,
   "metadata": {
    "collapsed": true
   },
   "outputs": [],
   "source": [
    "%matplotlib inline\n",
    "fig = plt.figure()\n",
    "ax = fig.gca(projection='3d')\n",
    "\n",
    "ax.plot(x, y, z, label='urdf_joint_positions')\n",
    "\n",
    "ax.scatter(x, y, z, marker='o')\n",
    "\n",
    "plt.show()"
   ]
  },
  {
   "cell_type": "code",
   "execution_count": null,
   "metadata": {
    "collapsed": true
   },
   "outputs": [],
   "source": [
    "rawRrpy = Matrix([\n",
    "    [ 0.88065855,  0.47319775,  0.02289974],\n",
    "    [ 0.05501757, -0.05414285, -0.99701636],\n",
    "    [-0.47054604,  0.87929087, -0.07371555]])\n",
    "\n",
    "\n",
    "Rrpy = Matrix([\n",
    "    [0.0228997426720887, -0.473197751193797,  0.880658554747914],\n",
    "    [-0.997016358482613, 0.0541428488017547, 0.0550175684822593],\n",
    "    [-0.073715552657644, -0.879290873482014, -0.470546041432307]])\n",
    "\n"
   ]
  }
 ],
 "metadata": {
  "hide_input": false,
  "kernelspec": {
   "display_name": "Python 3",
   "language": "python",
   "name": "python3"
  },
  "language_info": {
   "codemirror_mode": {
    "name": "ipython",
    "version": 3
   },
   "file_extension": ".py",
   "mimetype": "text/x-python",
   "name": "python",
   "nbconvert_exporter": "python",
   "pygments_lexer": "ipython3",
   "version": "3.5.4"
  },
  "toc": {
   "nav_menu": {},
   "number_sections": true,
   "sideBar": true,
   "skip_h1_title": false,
   "title_cell": "Table of Contents",
   "title_sidebar": "Contents",
   "toc_cell": false,
   "toc_position": {},
   "toc_section_display": true,
   "toc_window_display": false
  },
  "varInspector": {
   "cols": {
    "lenName": 16,
    "lenType": 16,
    "lenVar": 40
   },
   "kernels_config": {
    "python": {
     "delete_cmd_postfix": "",
     "delete_cmd_prefix": "del ",
     "library": "var_list.py",
     "varRefreshCmd": "print(var_dic_list())"
    },
    "r": {
     "delete_cmd_postfix": ") ",
     "delete_cmd_prefix": "rm(",
     "library": "var_list.r",
     "varRefreshCmd": "cat(var_dic_list()) "
    }
   },
   "types_to_exclude": [
    "module",
    "function",
    "builtin_function_or_method",
    "instance",
    "_Feature"
   ],
   "window_display": false
  }
 },
 "nbformat": 4,
 "nbformat_minor": 2
}
