{
 "cells": [
  {
   "cell_type": "code",
   "execution_count": 1,
   "metadata": {
    "ExecuteTime": {
     "end_time": "2018-04-27T20:46:45.478146Z",
     "start_time": "2018-04-27T20:46:45.090943Z"
    },
    "collapsed": true
   },
   "outputs": [],
   "source": [
    "from sympy import *\n",
    "from mpmath import *\n",
    "from sympy.matrices import Matrix"
   ]
  },
  {
   "cell_type": "code",
   "execution_count": 2,
   "metadata": {
    "ExecuteTime": {
     "end_time": "2018-04-27T20:46:46.615103Z",
     "start_time": "2018-04-27T20:46:46.353188Z"
    },
    "collapsed": true
   },
   "outputs": [],
   "source": [
    "init_printing(use_latex='mathjax')"
   ]
  },
  {
   "cell_type": "code",
   "execution_count": 3,
   "metadata": {},
   "outputs": [
    {
     "name": "stdout",
     "output_type": "stream",
     "text": [
      "Help on function cross in module sympy.matrices.matrices:\n",
      "\n",
      "cross(self, b)\n",
      "    Return the cross product of `self` and `b` relaxing the condition\n",
      "    of compatible dimensions: if each has 3 elements, a matrix of the\n",
      "    same type and shape as `self` will be returned. If `b` has the same\n",
      "    shape as `self` then common identities for the cross product (like\n",
      "    `a x b = - b x a`) will hold.\n",
      "    \n",
      "    See Also\n",
      "    ========\n",
      "    \n",
      "    dot\n",
      "    multiply\n",
      "    multiply_elementwise\n",
      "\n"
     ]
    }
   ],
   "source": [
    "help(Matrix.cross)"
   ]
  },
  {
   "cell_type": "code",
   "execution_count": 4,
   "metadata": {
    "ExecuteTime": {
     "end_time": "2018-04-27T20:46:54.530650Z",
     "start_time": "2018-04-27T20:46:54.521626Z"
    }
   },
   "outputs": [
    {
     "data": {
      "text/latex": [
       "$$\\left ( \\left[\\begin{matrix}1\\\\0\\\\0\\end{matrix}\\right], \\quad \\left[\\begin{matrix}0\\\\1\\\\0\\end{matrix}\\right], \\quad \\left[\\begin{matrix}0\\\\0\\\\1\\end{matrix}\\right]\\right )$$"
      ],
      "text/plain": [
       "⎛⎡1⎤  ⎡0⎤  ⎡0⎤⎞\n",
       "⎜⎢ ⎥  ⎢ ⎥  ⎢ ⎥⎟\n",
       "⎜⎢0⎥, ⎢1⎥, ⎢0⎥⎟\n",
       "⎜⎢ ⎥  ⎢ ⎥  ⎢ ⎥⎟\n",
       "⎝⎣0⎦  ⎣0⎦  ⎣1⎦⎠"
      ]
     },
     "execution_count": 4,
     "metadata": {},
     "output_type": "execute_result"
    }
   ],
   "source": [
    "e_x = Matrix([[1], [0], [0]])\n",
    "e_y = Matrix([[0], [1], [0]])\n",
    "e_z = Matrix([[0], [0], [1]])\n",
    "\n",
    "e_x, e_y, e_z"
   ]
  },
  {
   "cell_type": "code",
   "execution_count": 5,
   "metadata": {
    "ExecuteTime": {
     "end_time": "2018-04-27T20:46:55.281377Z",
     "start_time": "2018-04-27T20:46:55.273357Z"
    }
   },
   "outputs": [
    {
     "data": {
      "text/latex": [
       "$$\\left ( \\left[\\begin{matrix}0\\\\0\\\\1\\end{matrix}\\right], \\quad \\left[\\begin{matrix}1\\\\0\\\\0\\end{matrix}\\right], \\quad \\left[\\begin{matrix}0\\\\1\\\\0\\end{matrix}\\right]\\right )$$"
      ],
      "text/plain": [
       "⎛⎡0⎤  ⎡1⎤  ⎡0⎤⎞\n",
       "⎜⎢ ⎥  ⎢ ⎥  ⎢ ⎥⎟\n",
       "⎜⎢0⎥, ⎢0⎥, ⎢1⎥⎟\n",
       "⎜⎢ ⎥  ⎢ ⎥  ⎢ ⎥⎟\n",
       "⎝⎣1⎦  ⎣0⎦  ⎣0⎦⎠"
      ]
     },
     "execution_count": 5,
     "metadata": {},
     "output_type": "execute_result"
    }
   ],
   "source": [
    "e_x.cross(e_y), e_y.cross(e_z), e_z.cross(e_x)"
   ]
  },
  {
   "cell_type": "code",
   "execution_count": 6,
   "metadata": {
    "ExecuteTime": {
     "end_time": "2018-04-27T20:46:55.816094Z",
     "start_time": "2018-04-27T20:46:55.810079Z"
    }
   },
   "outputs": [
    {
     "data": {
      "text/latex": [
       "$$\\left ( \\left[\\begin{matrix}0\\\\0\\\\-1\\end{matrix}\\right], \\quad \\left[\\begin{matrix}-1\\\\0\\\\0\\end{matrix}\\right], \\quad \\left[\\begin{matrix}0\\\\-1\\\\0\\end{matrix}\\right]\\right )$$"
      ],
      "text/plain": [
       "⎛⎡0 ⎤  ⎡-1⎤  ⎡0 ⎤⎞\n",
       "⎜⎢  ⎥  ⎢  ⎥  ⎢  ⎥⎟\n",
       "⎜⎢0 ⎥, ⎢0 ⎥, ⎢-1⎥⎟\n",
       "⎜⎢  ⎥  ⎢  ⎥  ⎢  ⎥⎟\n",
       "⎝⎣-1⎦  ⎣0 ⎦  ⎣0 ⎦⎠"
      ]
     },
     "execution_count": 6,
     "metadata": {},
     "output_type": "execute_result"
    }
   ],
   "source": [
    "e_y.cross(e_x), e_z.cross(e_y), e_x.cross(e_z)"
   ]
  },
  {
   "cell_type": "code",
   "execution_count": 7,
   "metadata": {
    "ExecuteTime": {
     "end_time": "2018-04-27T20:46:56.401754Z",
     "start_time": "2018-04-27T20:46:56.392730Z"
    },
    "collapsed": true
   },
   "outputs": [],
   "source": [
    "def vector_cross_angle(first_vector, second_vector):\n",
    "    # The vector arguments should be Matrix objects with three elements\n",
    "    unit_1 = first_vector.normalized()\n",
    "    unit_2 = second_vector.normalized()\n",
    "    cross_vector = unit_1.cross(unit_2)\n",
    "    return N(asin(cross_vector.norm()))\n",
    "\n",
    "def vector_cross_unit(first_vector, second_vector):\n",
    "    # The vector arguments should be Matrix objects with three elements\n",
    "    unit_1 = first_vector.normalized()\n",
    "    unit_2 = second_vector.normalized()\n",
    "    cross_vector = unit_1.cross(unit_2)\n",
    "    return cross_vector.normalized()"
   ]
  },
  {
   "cell_type": "code",
   "execution_count": 8,
   "metadata": {
    "ExecuteTime": {
     "end_time": "2018-04-27T20:46:56.975064Z",
     "start_time": "2018-04-27T20:46:56.888344Z"
    }
   },
   "outputs": [
    {
     "name": "stdout",
     "output_type": "stream",
     "text": [
      "1.57079632679490\n"
     ]
    },
    {
     "ename": "NameError",
     "evalue": "name 'v' is not defined",
     "output_type": "error",
     "traceback": [
      "\u001b[1;31m---------------------------------------------------------------------------\u001b[0m",
      "\u001b[1;31mNameError\u001b[0m                                 Traceback (most recent call last)",
      "\u001b[1;32m<ipython-input-8-cf0c0878891b>\u001b[0m in \u001b[0;36m<module>\u001b[1;34m()\u001b[0m\n\u001b[0;32m      2\u001b[0m \u001b[0mdegrees\u001b[0m\u001b[1;33m(\u001b[0m\u001b[0mvector_cross_angle\u001b[0m\u001b[1;33m(\u001b[0m\u001b[0me_x\u001b[0m\u001b[1;33m,\u001b[0m \u001b[0me_y\u001b[0m\u001b[1;33m)\u001b[0m\u001b[1;33m)\u001b[0m\u001b[1;33m\u001b[0m\u001b[0m\n\u001b[0;32m      3\u001b[0m \u001b[1;33m\u001b[0m\u001b[0m\n\u001b[1;32m----> 4\u001b[1;33m \u001b[0mtheta_5\u001b[0m \u001b[1;33m=\u001b[0m \u001b[0mvector_cross_angle\u001b[0m\u001b[1;33m(\u001b[0m\u001b[0mv\u001b[0m\u001b[1;33m,\u001b[0m \u001b[0mw\u001b[0m\u001b[1;33m)\u001b[0m\u001b[1;33m\u001b[0m\u001b[0m\n\u001b[0m",
      "\u001b[1;31mNameError\u001b[0m: name 'v' is not defined"
     ]
    }
   ],
   "source": [
    "print(vector_cross_angle(e_x, e_y))\n",
    "degrees(vector_cross_angle(e_x, e_y))\n",
    "\n",
    "theta_5 = vector_cross_angle(v, w)"
   ]
  },
  {
   "cell_type": "code",
   "execution_count": null,
   "metadata": {},
   "outputs": [],
   "source": []
  },
  {
   "cell_type": "code",
   "execution_count": null,
   "metadata": {
    "collapsed": true
   },
   "outputs": [],
   "source": []
  },
  {
   "cell_type": "code",
   "execution_count": null,
   "metadata": {
    "collapsed": true
   },
   "outputs": [],
   "source": []
  }
 ],
 "metadata": {
  "hide_input": false,
  "kernelspec": {
   "display_name": "Python 3",
   "language": "python",
   "name": "python3"
  },
  "language_info": {
   "codemirror_mode": {
    "name": "ipython",
    "version": 3
   },
   "file_extension": ".py",
   "mimetype": "text/x-python",
   "name": "python",
   "nbconvert_exporter": "python",
   "pygments_lexer": "ipython3",
   "version": "3.6.5"
  },
  "toc": {
   "nav_menu": {},
   "number_sections": true,
   "sideBar": true,
   "skip_h1_title": false,
   "title_cell": "Table of Contents",
   "title_sidebar": "Contents",
   "toc_cell": false,
   "toc_position": {},
   "toc_section_display": true,
   "toc_window_display": false
  },
  "varInspector": {
   "cols": {
    "lenName": 16,
    "lenType": 16,
    "lenVar": 40
   },
   "kernels_config": {
    "python": {
     "delete_cmd_postfix": "",
     "delete_cmd_prefix": "del ",
     "library": "var_list.py",
     "varRefreshCmd": "print(var_dic_list())"
    },
    "r": {
     "delete_cmd_postfix": ") ",
     "delete_cmd_prefix": "rm(",
     "library": "var_list.r",
     "varRefreshCmd": "cat(var_dic_list()) "
    }
   },
   "types_to_exclude": [
    "module",
    "function",
    "builtin_function_or_method",
    "instance",
    "_Feature"
   ],
   "window_display": false
  }
 },
 "nbformat": 4,
 "nbformat_minor": 2
}
