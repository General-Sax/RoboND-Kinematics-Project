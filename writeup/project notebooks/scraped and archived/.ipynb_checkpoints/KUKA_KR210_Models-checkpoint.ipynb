{
 "cells": [
  {
   "cell_type": "code",
   "execution_count": null,
   "metadata": {
    "collapsed": true
   },
   "outputs": [],
   "source": [
    "#!/usr/bin/env python"
   ]
  },
  {
   "cell_type": "code",
   "execution_count": null,
   "metadata": {
    "collapsed": true
   },
   "outputs": [],
   "source": [
    "import numpy as np\n",
    "from numpy import array\n",
    "from sympy import symbols, cos, sin, pi, simplify, sqrt, atan2, N\n",
    "from sympy.matrices import Matrix, eye\n",
    "import pandas as pd\n",
    "\n",
    "# Conversion Factors\n",
    "rtd = 180./pi # radians to degrees\n",
    "dtr = pi/180. # degrees to radians\n",
    "\n",
    "show = lambda matrix: print(repr(matrix))\n",
    "\n",
    "# class ex"
   ]
  },
  {
   "cell_type": "code",
   "execution_count": null,
   "metadata": {
    "collapsed": true
   },
   "outputs": [],
   "source": [
    "### Create symbols for dh parameters\n",
    "\n",
    "q1, q2, q3, q4, q5, q6, q7 = symbols('q1:8')\n",
    "d1, d2, d3, d4, d5, d6, d7 = symbols('d1:8')\n",
    "a0, a1, a2, a3, a4, a5, a6 = symbols('a0:7')\n",
    "alpha0, alpha1, alpha2, alpha3, alpha4, alpha5, alpha6 = symbols('alpha0:7')\n",
    "\n",
    "### Create symbols for end effector target coordinates in base_link reference frame\n",
    "\n",
    "x_target, y_target, z_target = symbols('x_target y_target z_target')\n",
    "\n",
    "### Create symbols for wrist center location in base frame \n",
    "\n",
    "wrist_x, wrist_y, wrist_z = symbols('wrist_x wrist_y wrist_z')\n",
    "\n",
    "\n",
    "# s_wrist = cylindrical radius from Z1 to the wrist center, w.\n",
    "s_wrist = sqrt(wrist_x**2 + wrist_y**2)\n",
    "\n"
   ]
  },
  {
   "cell_type": "code",
   "execution_count": null,
   "metadata": {
    "collapsed": true
   },
   "outputs": [],
   "source": []
  },
  {
   "cell_type": "code",
   "execution_count": null,
   "metadata": {
    "collapsed": true
   },
   "outputs": [],
   "source": [
    "### KUKA"
   ]
  },
  {
   "cell_type": "code",
   "execution_count": null,
   "metadata": {
    "collapsed": true
   },
   "outputs": [],
   "source": [
    "n_links = 7\n",
    "\n",
    "dh_parameter_dict = {i : {'q' : eval} for i in range(0, 8)}\n",
    "\n",
    "\n",
    "dh = lambda num, name: dh_parameter_dict[num][name]"
   ]
  },
  {
   "cell_type": "code",
   "execution_count": null,
   "metadata": {
    "collapsed": true
   },
   "outputs": [],
   "source": [
    "def symz(handle_string, n, )\n",
    "\n",
    "def dh_syms_up(n_links):\n",
    "    \n",
    "    if n_links < 2:\n",
    "        return None\n",
    "    \n",
    "    ns = ['q'+str(i) for i in range(1, n_links+1)]\n",
    "    q_str = 'q1'\n",
    "    d_str = 'd1'\n",
    "    a_str = 'a0'\n",
    "    alpha_str = 'alpha0'\n",
    "    \n",
    "    if n_links = 2:\n",
    "        return \n",
    "    for i in range(2, n_links):\n",
    "        qs_str += 'q'+str()\n",
    "        eval('q')\n",
    "    \n",
    "\n",
    "q1, q2, q3, q4, q5, q6, q7 = symbols('q1:8')\n",
    "q1, q2, q3, q4, q5, q6, q7 = symbols('q1:8')\n"
   ]
  },
  {
   "cell_type": "code",
   "execution_count": null,
   "metadata": {
    "collapsed": true
   },
   "outputs": [],
   "source": [
    "# s is the substitutions dictionary\n",
    "s = {alpha0:     0,  a0:      0,  d1:  0.75,  q1: atan2(wcP_y, wcP_x),\n",
    "     alpha1: -pi/2,  a1:   0.35,  d2:     0,  q2: q2 - pi/2,\n",
    "     alpha2:     0,  a2:   1.25,  d3:     0,  \n",
    "     alpha3: -pi/2,  a3: -0.054,  d4:  1.50, \n",
    "     alpha4:  pi/2,  a4:      0,  d5:     0, \n",
    "     alpha5: -pi/2,  a5:      0,  d6:     0, \n",
    "     alpha6:     0,  a6:      0,  d7: 0.303,  q7: 0\n",
    "     }"
   ]
  },
  {
   "cell_type": "code",
   "execution_count": null,
   "metadata": {},
   "outputs": [],
   "source": [
    "# print(type(d1))\n",
    "# for print(s)"
   ]
  },
  {
   "cell_type": "code",
   "execution_count": null,
   "metadata": {
    "collapsed": true
   },
   "outputs": [],
   "source": [
    "# URDF Joint Descriptions:\n",
    "jurdf = {0 : {'xyz' : (0, 0, 0),\n",
    "              'rpy' : (0, 0, 0)},\n",
    "         1 : {'xyz' : (0, 0, 0.33), # joint_1's origin is directly above the fixed_base_joint\n",
    "              'rpy' : (0, 0, 0)},\n",
    "         2 : {'xyz' : (0.35, 0, 0.42), # joint_2 is above and ahead of joint_1, as suggested by the model's geometry\n",
    "              'rpy' : (0, 0, 0)},\n",
    "         3 : {'xyz' : (0, 0, 1.25), # joint_3 is placed directly above joint_2 when zeroed.\n",
    "              'rpy' : (0, 0, 0)},\n",
    "         # wrist roll\n",
    "         4 : {'xyz' : (0.96, 0, -0.054), # joint_4 is in front of joint_3, and also slightly below it in the z direction\n",
    "              'rpy' : (0, 0, 0)},\n",
    "         # wrist pitch; also the wrist center\n",
    "         5 : {'xyz' : (0.54, 0, 0), # joint_5 is directly ahead of joint_4\n",
    "              'rpy' : (0, 0, 0)},\n",
    "         # end-effector roll joint\n",
    "         6 : {'xyz' : (0.193, 0, 0), \n",
    "              'rpy' : (0, 0, 0)}\n",
    "        }\n",
    "\n",
    "ext_jurdf = jurdf.copy()\n",
    "\n",
    "ext_jurdf['G'] = {'xyz' : (0.11, 0, 0), 'rpy' : (0, 0, 0)}\n",
    "ext_jurdf['G_center'] = {'xyz' : (0.15, 0, 0), 'rpy' : (0, 0, 0)}\n",
    "ext_jurdf['G_l_finger'] = {'xyz' : (0.15, 0.0725, 0), 'rpy' : (0, 0, 0)}\n",
    "ext_jurdf['G_r_finger'] = {'xyz' : (0.15, -0.0725, 0), 'rpy' : (0, 0, 0)}\n"
   ]
  },
  {
   "cell_type": "code",
   "execution_count": null,
   "metadata": {
    "collapsed": true
   },
   "outputs": [],
   "source": [
    "jurdf_locs = {}\n",
    "\n",
    "for i in range()"
   ]
  },
  {
   "cell_type": "code",
   "execution_count": null,
   "metadata": {
    "collapsed": true
   },
   "outputs": [],
   "source": [
    "jdh = {0 : {'xyz' : (0, 0, 0),\n",
    "            'rpy' : (0, 0, 0)},\n",
    "       1 : {'xyz' : (0, 0, 0.75), # joint_1's origin is directly above the fixed_base_joint\n",
    "            'rpy' : (0, 0, 0)},\n",
    "       2 : {'xyz' : (0.35, 0, 0), # joint_2 is above and ahead of joint_1, as suggested by the model's geometry\n",
    "            'rpy' : (0, 0, 0)},\n",
    "       3 : {'xyz' : (0, 0, 1.25), # joint_3 is placed directly above joint_2 when zeroed.\n",
    "            'rpy' : (0, 0, 0)},\n",
    "     # wrist roll\n",
    "       4 : {'xyz' : (0.96, 0, -0.054), # joint_4 is in front of joint_3, and also slightly below it in the z direction\n",
    "            'rpy' : (0, 0, 0)},\n",
    "     # wrist pitch; also the wrist center\n",
    "       5 : {'xyz' : (0.54, 0, 0), # joint_5 is directly ahead of joint_4\n",
    "            'rpy' : (0, 0, 0)},\n",
    "     # end-effector roll joint\n",
    "       6 : {'xyz' : (0.193, 0, 0), \n",
    "            'rpy' : (0, 0, 0)}\n",
    "      }"
   ]
  },
  {
   "cell_type": "code",
   "execution_count": null,
   "metadata": {
    "collapsed": true
   },
   "outputs": [],
   "source": [
    "links = {0: {'length' : 0.33}, \n",
    "         1: {'length' : 0.33}, \n",
    "         \n",
    "        \n",
    "        }"
   ]
  },
  {
   "cell_type": "code",
   "execution_count": null,
   "metadata": {},
   "outputs": [],
   "source": [
    "delta0 = atan2(0.054, 1.5)\n",
    "print(delta0, 'radians')\n",
    "# print(N(delta0), 'radians')\n",
    "print(N(rtd * delta0), 'degrees')\n",
    "\n",
    "l_wc = sqrt(0.054**2 + 1.5**2)\n",
    "print(l_wc)"
   ]
  },
  {
   "cell_type": "code",
   "execution_count": null,
   "metadata": {
    "collapsed": true
   },
   "outputs": [],
   "source": [
    "# Forward Kinematics of Wrist Position\n",
    "theta0, theta1, theta2 = symbols('theta0:3')\n",
    "\n",
    "vr1 = Matrix([[0.35], [0], [0.75]])\n",
    "\n",
    "r2 = 1.25\n",
    "r3 = 1.50097168527591\n",
    "\n",
    "gamma_x = theta1 + theta2 - delta0\n",
    "\n",
    "\n",
    "vr2 = r2 * Matrix([[sin(-1.0 * theta1)], [0], [cos(theta1)]])\n",
    "vr3 = r3 * Matrix([[cos(gamma_x)], [0], [sin(gamma_x)]])\n",
    "\n",
    "# Vector from origin to wrist center, in default xz-plane\n",
    "v_wc = vr1 + vr2 + vr3\n",
    "\n",
    "# print(v_wc)"
   ]
  },
  {
   "cell_type": "code",
   "execution_count": null,
   "metadata": {
    "collapsed": true
   },
   "outputs": [],
   "source": [
    "\n",
    "wc_num = v_wc.evalf(subs={theta1: 0, theta2: 0})\n",
    "\n",
    "print(wc_num)"
   ]
  },
  {
   "cell_type": "code",
   "execution_count": null,
   "metadata": {
    "collapsed": true
   },
   "outputs": [],
   "source": [
    "# Rotating active plane about Z0\n",
    "\n",
    "R_z = Matrix([[ cos(theta0), -sin(theta0),        0],\n",
    "              [ sin(theta0),  cos(theta0),        0],\n",
    "              [           0,            0,        1]])\n",
    "\n",
    "v_wc = R_z * v_wc\n",
    "\n",
    "wc_num = v_wc.evalf(subs={theta0: 0, theta1: 0, theta2: 0})\n",
    "print(wc_num)"
   ]
  },
  {
   "cell_type": "code",
   "execution_count": null,
   "metadata": {
    "collapsed": true
   },
   "outputs": [],
   "source": [
    "def wc_vector(q0=None, q1=None, q2=None):\n",
    "    'arguments are the first three joint angles for the kr210 arm, given in radians'\n",
    "    \n",
    "    # Phase offset in joint 3 from the horizontal - fixed property of arm\n",
    "    # delta0 = atan2(0.054, 1.5)\n",
    "    delta0_val = 0.0359844600820516 # radians\n",
    "    \n",
    "    # Length of link_2\n",
    "    r2_val = 1.25\n",
    "    \n",
    "    # Distance between joint_3 and wrist center\n",
    "    # x:  0.96 + 0.54 = 1.5m\n",
    "    # z: -0.054 + 0 = -0.054m\n",
    "    # r3 = sqrt(((-0.054) ** 2) + (1.5 ** 2)) = 1.50097168527591\n",
    "    r3_val = 1.50097168527591\n",
    "    \n",
    "    d_0, r2, r3 = symbols('d_0 r2 r3')\n",
    "    theta1, theta2, theta3 = symbols('theta1:4')\n",
    "    gamma_x = theta1 + theta2 + d_0\n",
    "    \n",
    "    # Rotation about Z0/Z1 axis:\n",
    "    rZ = Matrix([[ cos(theta0), -sin(theta0),        0],\n",
    "                 [ sin(theta0),  cos(theta0),        0],\n",
    "                 [           0,            0,        1]])\n",
    "    \n",
    "    # Apart for rotations of the working plane, the vector locating joint_2 is fixed:\n",
    "    vr1 = Matrix([[0.35], [0], [0.75]])\n",
    "    \n",
    "    vr2 = r2 * Matrix([[sin(theta1)], [0], [cos(theta1)]])\n",
    "    vr3 = r3 * Matrix([[cos(gamma_x)], [0], [-sin(gamma_x)]])\n",
    "    \n",
    "    v_wc = simplify(rZ * (vr1 + vr2 + vr3))\n",
    "    show(v_wc)\n",
    "    \n",
    "#     if syms:\n",
    "#         return v_wc\n",
    "    \n",
    "#     if q1:\n",
    "#         v_out = v_wc.evalf(subs={theta1: q1})\n",
    "#     else:\n",
    "#         pass\n",
    "    \n",
    "#     if q2:\n",
    "#         v_wc = v_wc.evalf(subs={theta2: q2})\n",
    "#     else:\n",
    "#         pass\n",
    "    \n",
    "#     if q0:\n",
    "#         v_wc = v_wc.evalf(subs={theta0: q0})\n",
    "#     else:\n",
    "#         pass\n",
    "    \n",
    "    return v_wc.evalf(subs={theta0: q0, theta1: q1, theta2: q2, d_0: delta0_val, r2: r2_val, r3: r3_val})\n"
   ]
  },
  {
   "cell_type": "code",
   "execution_count": null,
   "metadata": {},
   "outputs": [],
   "source": [
    "p = wc_vector(q0=0.4, q1=-0.5, q2=-0.6)\n",
    "show(p)"
   ]
  },
  {
   "cell_type": "code",
   "execution_count": null,
   "metadata": {},
   "outputs": [],
   "source": [
    "print(N(-pi/4))\n",
    "print(N(pi/6))"
   ]
  },
  {
   "cell_type": "code",
   "execution_count": null,
   "metadata": {
    "collapsed": true
   },
   "outputs": [],
   "source": [
    "# def mag():\n",
    "    \n",
    "\n",
    "def cyl(x, y):\n",
    "    s = sqrt(x**2, y**2)\n",
    "    return s, phi"
   ]
  },
  {
   "cell_type": "code",
   "execution_count": null,
   "metadata": {},
   "outputs": [],
   "source": [
    "print(2.30286 - 1.84986)"
   ]
  },
  {
   "cell_type": "code",
   "execution_count": null,
   "metadata": {
    "collapsed": true
   },
   "outputs": [],
   "source": [
    "def brute_pos_IK(wc=(1.84986, 0, 1.94645)):\n",
    "    w_len = 0.4523\n",
    "    # x, y, z given in base link reference frame, in meters\n",
    "    \n",
    "    theta1 = atan2(y, x)\n",
    "    # rotate robot at joint_1 to theta0\n",
    "    # s is now x, in the rotated link_1 reference frame\n",
    "    \n",
    "    # calculate cylindrical radius of wrist center\n",
    "    s_wc = sqrt(x**2, y**2)\n",
    "    \n",
    "    # Side lengths corresponding to the arms\n",
    "    d_j2_j3 = 1.25\n",
    "    d_j3_wc = atan2(0.054, 1.5)\n",
    "    \n",
    "    # find differences between the s, z coordinates of the wc and those of joint_2, after link_1 is rotated\n",
    "    delta_s = s_wc - 0.35\n",
    "    delta_z = z - 0.75\n",
    "    \n",
    "    # \n",
    "    d_j2_wc = sqrt(delta_s**2 + delta_z**2)\n",
    "    \n",
    "    \n",
    "    return theta0, theta1, theta2"
   ]
  },
  {
   "cell_type": "code",
   "execution_count": null,
   "metadata": {},
   "outputs": [],
   "source": [
    "help('sympy.symbols')"
   ]
  },
  {
   "cell_type": "code",
   "execution_count": null,
   "metadata": {
    "collapsed": true
   },
   "outputs": [],
   "source": [
    "# In bash, open urdf in Sublime Text from catkin_ws via:\n",
    "# $ subl src/RoboND-Kinematics-Project/kuka_arm/urdf/kr210.urdf.xacro\n",
    "\n",
    "links = ['base_link', \n",
    "         'link_1', 'link_2', 'link_3', 'link_4', 'link_5', 'link_6', \n",
    "         'gripper_link', \n",
    "         'left_gripper_finger_link', 'right_gripper_finger_link', \n",
    "         'pseudo_end_effector_link'\n",
    "        ]\n",
    "\n",
    "# joints are numbered corresponding to the link they directly control;\n",
    "# e.g. joint_1 is located between base_link and link_1, and the value of q1 - \n",
    "# (aka DH parameter theta_1) - determines the orientation of link_1.\n",
    "# Wherever there is a fixed link in the URDF, code may attempt to refer to its parent joint, or that joint's value.\n",
    "# Since this must be handled separately, the None type is substituted.\n",
    "\n",
    "joints = ['fixed_base_joint', # immobile parent joint frame for base_link\n",
    "          'joint_1', 'joint_2', 'joint_3', 'joint_4', 'joint_5', 'joint_6', \n",
    "          None, # No gripper_ joint - controlled by joint_6\n",
    "          'left_gripper_finger_joint', 'right_gripper_finger_joint', \n",
    "          'pseudo_end_effector_joint'\n",
    "         ]\n",
    "\n",
    "urdf_link_origins_xyz = []\n",
    "\n",
    "# These must be the CoM coordinates, the most natural choice of origin for solving dynamics problems.\n",
    "urdf_inertial_link_origins = [((0, 0, 0), (0, 0, 0)), \n",
    "                              ((0, 0, 0.4), (0, 0, 0)), \n",
    "                              ((0, 0, 0.44751), (0, 0, 0)), \n",
    "                              ((0, 0, 0), (0, 0, 0)), \n",
    "                              ((0, 0, 0), (0, 0, 0)), \n",
    "                              ((0, 0, 0), (0, 0, 0)), \n",
    "                              ((0, 0, 0), (0, 0, 0)),\n",
    "                              ((0, 0, 0), (0, 0, 0)),\n",
    "                              ((0, 0, 0), (0, 0, 0)),\n",
    "                              ((0, 0, 0), (0, 0, 0)),\n",
    "                              ((0, 0, 0), (0, 0, 0))\n",
    "                        ]\n",
    "\n",
    "urdf_link_ref = pd.DataFrame(links, columns=['link'])\n",
    "urdf_link_ref['parent_joint'] = joints\n",
    "urdf_link_ref['inertial_origin_(xyz, rpy)'] = ['']\n",
    "urdf_link_ref['urdf_origin_rpy'] = \n",
    "\n",
    "\n",
    "joint_ref = pd."
   ]
  }
 ],
 "metadata": {
  "kernelspec": {
   "display_name": "Python 3",
   "language": "python",
   "name": "python3"
  },
  "language_info": {
   "codemirror_mode": {
    "name": "ipython",
    "version": 3
   },
   "file_extension": ".py",
   "mimetype": "text/x-python",
   "name": "python",
   "nbconvert_exporter": "python",
   "pygments_lexer": "ipython3",
   "version": "3.5.3"
  }
 },
 "nbformat": 4,
 "nbformat_minor": 2
}
