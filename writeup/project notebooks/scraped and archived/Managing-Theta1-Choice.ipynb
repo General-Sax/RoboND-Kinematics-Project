{
 "cells": [
  {
   "cell_type": "code",
   "execution_count": 4,
   "metadata": {
    "collapsed": true
   },
   "outputs": [],
   "source": [
    "from sympy import *\n",
    "from mpmath import degrees, radians\n",
    "from ipywidgets import interact"
   ]
  },
  {
   "cell_type": "code",
   "execution_count": 6,
   "metadata": {
    "collapsed": true
   },
   "outputs": [],
   "source": [
    "# from sympy import *\n",
    "# from mpmath import radians\n",
    "# from ipywidgets import interact\n",
    "\n",
    "# @interact\n",
    "def q1_options(wrist_x=2.0, wrist_y=0.0):\n",
    "    q1, q2, q3 = symbols('q1, q2, q3')\n",
    "    q1_a, q1_b = symbols('q1_a, q1_b')\n",
    "\n",
    "    solved = {q1: 0, q2: 0, q3: 0}\n",
    "\n",
    "    q1_a = N(atan2(wrist_y, wrist_x))\n",
    "    print('q1_a initial: ', q1_a)\n",
    "    \n",
    "    q1_lims = [-1*radians(185), radians(185)]\n",
    "\n",
    "    if q1_a < q1_lims[0]:\n",
    "        q1_a = N((q1_a + 2*pi))\n",
    "        print('modified (+) to: ', q1_a)\n",
    "    elif q1_a > q1_lims[1]:\n",
    "        q1_a = N((q1_a - 2*pi))\n",
    "        print('modified (-) to: ', q1_a)\n",
    "    \n",
    "    q1_b = N((q1_a + pi) % (2*pi))\n",
    "    print('q1_b initial: ', q1_b)\n",
    "    \n",
    "    if q1_b < q1_lims[0]:\n",
    "        q1_b = N((q1_b + 2*pi))\n",
    "        print('q1_b modified (+) to: ', q1_b)\n",
    "    elif q1_b > q1_lims[1]:\n",
    "        q1_b = N((q1_b - 2*pi))\n",
    "        print('q1_b modified (-) to: ', q1_b)\n",
    "\n",
    "    print('corrected options phase error: ', N(pi) - (abs(q1_a)+abs(q1_b)))\n",
    "    \n",
    "    return q1_a, q1_b\n",
    "\n",
    "# while not (solved[q1] & solved[q2] & solved[q3]):"
   ]
  },
  {
   "cell_type": "code",
   "execution_count": 3,
   "metadata": {},
   "outputs": [
    {
     "ename": "ValueError",
     "evalue": "cannot find widget or abbreviation for argument: 'wrist_x'",
     "output_type": "error",
     "traceback": [
      "\u001b[0;31m---------------------------------------------------------------------------\u001b[0m",
      "\u001b[0;31mValueError\u001b[0m                                Traceback (most recent call last)",
      "\u001b[0;32m<ipython-input-3-7a890b32e8b1>\u001b[0m in \u001b[0;36m<module>\u001b[0;34m()\u001b[0m\n\u001b[1;32m      3\u001b[0m \u001b[0;32mfrom\u001b[0m \u001b[0mipywidgets\u001b[0m \u001b[0;32mimport\u001b[0m \u001b[0minteract\u001b[0m\u001b[0;34m\u001b[0m\u001b[0m\n\u001b[1;32m      4\u001b[0m \u001b[0;34m\u001b[0m\u001b[0m\n\u001b[0;32m----> 5\u001b[0;31m \u001b[0;34m@\u001b[0m\u001b[0minteract\u001b[0m\u001b[0;34m\u001b[0m\u001b[0m\n\u001b[0m\u001b[1;32m      6\u001b[0m \u001b[0;32mdef\u001b[0m \u001b[0mpositionsolver\u001b[0m\u001b[0;34m(\u001b[0m\u001b[0mwrist_x\u001b[0m\u001b[0;34m,\u001b[0m \u001b[0mwrist_y\u001b[0m\u001b[0;34m,\u001b[0m \u001b[0mwrist_z\u001b[0m\u001b[0;34m)\u001b[0m\u001b[0;34m:\u001b[0m\u001b[0;34m\u001b[0m\u001b[0m\n\u001b[1;32m      7\u001b[0m     \u001b[0mq1\u001b[0m\u001b[0;34m,\u001b[0m \u001b[0mq2\u001b[0m\u001b[0;34m,\u001b[0m \u001b[0mq3\u001b[0m \u001b[0;34m=\u001b[0m \u001b[0msymbols\u001b[0m\u001b[0;34m(\u001b[0m\u001b[0;34m'q1, q2, q3'\u001b[0m\u001b[0;34m)\u001b[0m\u001b[0;34m\u001b[0m\u001b[0m\n",
      "\u001b[0;32m~/miniconda3/envs/RoboND/lib/python3.5/site-packages/ipywidgets/widgets/interaction.py\u001b[0m in \u001b[0;36m__call__\u001b[0;34m(self, _InteractFactory__interact_f, **kwargs)\u001b[0m\n\u001b[1;32m    486\u001b[0m         \u001b[0;31m#    def f(*args, **kwargs):\u001b[0m\u001b[0;34m\u001b[0m\u001b[0;34m\u001b[0m\u001b[0m\n\u001b[1;32m    487\u001b[0m         \u001b[0;31m#        ...\u001b[0m\u001b[0;34m\u001b[0m\u001b[0;34m\u001b[0m\u001b[0m\n\u001b[0;32m--> 488\u001b[0;31m         \u001b[0mw\u001b[0m \u001b[0;34m=\u001b[0m \u001b[0mself\u001b[0m\u001b[0;34m.\u001b[0m\u001b[0mwidget\u001b[0m\u001b[0;34m(\u001b[0m\u001b[0mf\u001b[0m\u001b[0;34m)\u001b[0m\u001b[0;34m\u001b[0m\u001b[0m\n\u001b[0m\u001b[1;32m    489\u001b[0m         \u001b[0;32mtry\u001b[0m\u001b[0;34m:\u001b[0m\u001b[0;34m\u001b[0m\u001b[0m\n\u001b[1;32m    490\u001b[0m             \u001b[0mf\u001b[0m\u001b[0;34m.\u001b[0m\u001b[0mwidget\u001b[0m \u001b[0;34m=\u001b[0m \u001b[0mw\u001b[0m\u001b[0;34m\u001b[0m\u001b[0m\n",
      "\u001b[0;32m~/miniconda3/envs/RoboND/lib/python3.5/site-packages/ipywidgets/widgets/interaction.py\u001b[0m in \u001b[0;36mwidget\u001b[0;34m(self, f)\u001b[0m\n\u001b[1;32m    402\u001b[0m             \u001b[0mThe\u001b[0m \u001b[0mfunction\u001b[0m \u001b[0mto\u001b[0m \u001b[0mwhich\u001b[0m \u001b[0mthe\u001b[0m \u001b[0minteractive\u001b[0m \u001b[0mwidgets\u001b[0m \u001b[0mare\u001b[0m \u001b[0mtied\u001b[0m\u001b[0;34m.\u001b[0m\u001b[0;34m\u001b[0m\u001b[0m\n\u001b[1;32m    403\u001b[0m         \"\"\"\n\u001b[0;32m--> 404\u001b[0;31m         \u001b[0;32mreturn\u001b[0m \u001b[0mself\u001b[0m\u001b[0;34m.\u001b[0m\u001b[0mcls\u001b[0m\u001b[0;34m(\u001b[0m\u001b[0mf\u001b[0m\u001b[0;34m,\u001b[0m \u001b[0mself\u001b[0m\u001b[0;34m.\u001b[0m\u001b[0mopts\u001b[0m\u001b[0;34m,\u001b[0m \u001b[0;34m**\u001b[0m\u001b[0mself\u001b[0m\u001b[0;34m.\u001b[0m\u001b[0mkwargs\u001b[0m\u001b[0;34m)\u001b[0m\u001b[0;34m\u001b[0m\u001b[0m\n\u001b[0m\u001b[1;32m    405\u001b[0m \u001b[0;34m\u001b[0m\u001b[0m\n\u001b[1;32m    406\u001b[0m     \u001b[0;32mdef\u001b[0m \u001b[0m__call__\u001b[0m\u001b[0;34m(\u001b[0m\u001b[0mself\u001b[0m\u001b[0;34m,\u001b[0m \u001b[0m__interact_f\u001b[0m\u001b[0;34m=\u001b[0m\u001b[0;32mNone\u001b[0m\u001b[0;34m,\u001b[0m \u001b[0;34m**\u001b[0m\u001b[0mkwargs\u001b[0m\u001b[0;34m)\u001b[0m\u001b[0;34m:\u001b[0m\u001b[0;34m\u001b[0m\u001b[0m\n",
      "\u001b[0;32m~/miniconda3/envs/RoboND/lib/python3.5/site-packages/ipywidgets/widgets/interaction.py\u001b[0m in \u001b[0;36m__init__\u001b[0;34m(self, _interactive__interact_f, _interactive__options, **kwargs)\u001b[0m\n\u001b[1;32m    148\u001b[0m         \u001b[0mself\u001b[0m\u001b[0;34m.\u001b[0m\u001b[0mauto_display\u001b[0m \u001b[0;34m=\u001b[0m \u001b[0m__options\u001b[0m\u001b[0;34m.\u001b[0m\u001b[0mget\u001b[0m\u001b[0;34m(\u001b[0m\u001b[0;34m\"auto_display\"\u001b[0m\u001b[0;34m,\u001b[0m \u001b[0;32mFalse\u001b[0m\u001b[0;34m)\u001b[0m\u001b[0;34m\u001b[0m\u001b[0m\n\u001b[1;32m    149\u001b[0m \u001b[0;34m\u001b[0m\u001b[0m\n\u001b[0;32m--> 150\u001b[0;31m         \u001b[0mnew_kwargs\u001b[0m \u001b[0;34m=\u001b[0m \u001b[0mself\u001b[0m\u001b[0;34m.\u001b[0m\u001b[0mfind_abbreviations\u001b[0m\u001b[0;34m(\u001b[0m\u001b[0mkwargs\u001b[0m\u001b[0;34m)\u001b[0m\u001b[0;34m\u001b[0m\u001b[0m\n\u001b[0m\u001b[1;32m    151\u001b[0m         \u001b[0;31m# Before we proceed, let's make sure that the user has passed a set of args+kwargs\u001b[0m\u001b[0;34m\u001b[0m\u001b[0;34m\u001b[0m\u001b[0m\n\u001b[1;32m    152\u001b[0m         \u001b[0;31m# that will lead to a valid call of the function. This protects against unspecified\u001b[0m\u001b[0;34m\u001b[0m\u001b[0;34m\u001b[0m\u001b[0m\n",
      "\u001b[0;32m~/miniconda3/envs/RoboND/lib/python3.5/site-packages/ipywidgets/widgets/interaction.py\u001b[0m in \u001b[0;36mfind_abbreviations\u001b[0;34m(self, kwargs)\u001b[0m\n\u001b[1;32m    246\u001b[0m             \u001b[0;32mfor\u001b[0m \u001b[0mname\u001b[0m\u001b[0;34m,\u001b[0m \u001b[0mvalue\u001b[0m\u001b[0;34m,\u001b[0m \u001b[0mdefault\u001b[0m \u001b[0;32min\u001b[0m \u001b[0m_yield_abbreviations_for_parameter\u001b[0m\u001b[0;34m(\u001b[0m\u001b[0mparam\u001b[0m\u001b[0;34m,\u001b[0m \u001b[0mkwargs\u001b[0m\u001b[0;34m)\u001b[0m\u001b[0;34m:\u001b[0m\u001b[0;34m\u001b[0m\u001b[0m\n\u001b[1;32m    247\u001b[0m                 \u001b[0;32mif\u001b[0m \u001b[0mvalue\u001b[0m \u001b[0;32mis\u001b[0m \u001b[0mempty\u001b[0m\u001b[0;34m:\u001b[0m\u001b[0;34m\u001b[0m\u001b[0m\n\u001b[0;32m--> 248\u001b[0;31m                     \u001b[0;32mraise\u001b[0m \u001b[0mValueError\u001b[0m\u001b[0;34m(\u001b[0m\u001b[0;34m'cannot find widget or abbreviation for argument: {!r}'\u001b[0m\u001b[0;34m.\u001b[0m\u001b[0mformat\u001b[0m\u001b[0;34m(\u001b[0m\u001b[0mname\u001b[0m\u001b[0;34m)\u001b[0m\u001b[0;34m)\u001b[0m\u001b[0;34m\u001b[0m\u001b[0m\n\u001b[0m\u001b[1;32m    249\u001b[0m                 \u001b[0mnew_kwargs\u001b[0m\u001b[0;34m.\u001b[0m\u001b[0mappend\u001b[0m\u001b[0;34m(\u001b[0m\u001b[0;34m(\u001b[0m\u001b[0mname\u001b[0m\u001b[0;34m,\u001b[0m \u001b[0mvalue\u001b[0m\u001b[0;34m,\u001b[0m \u001b[0mdefault\u001b[0m\u001b[0;34m)\u001b[0m\u001b[0;34m)\u001b[0m\u001b[0;34m\u001b[0m\u001b[0m\n\u001b[1;32m    250\u001b[0m         \u001b[0;32mreturn\u001b[0m \u001b[0mnew_kwargs\u001b[0m\u001b[0;34m\u001b[0m\u001b[0m\n",
      "\u001b[0;31mValueError\u001b[0m: cannot find widget or abbreviation for argument: 'wrist_x'"
     ]
    }
   ],
   "source": [
    "@interact\n",
    "def positionsolver(wrist_x, wrist_y, wrist_z):\n",
    "    q1, q2, q3 = symbols('q1, q2, q3')\n",
    "    q1_a, q1_b = symbols('q1_a, q1_b')\n",
    "    \n",
    "    solved = {q1: 0, q2: 0, q3: 0}\n",
    "    \n",
    "    q1_a = N(atan2(wrist_y, wrist_x))\n",
    "    q1_lims = [-1*radians(185), radians(185)]\n",
    "    \n",
    "    while not (solved[q1] & solved[q2] & solved[q3]):\n",
    "        pass\n",
    "        \n",
    "\n",
    "    # If the magnitude of theta_1 is greater than pi radians, it shares a representational degeneracy with \n",
    "    # If outside this [-pi, pi] range, adding or subtracting\n",
    "    if joint_1_angle <= -pi:\n",
    "            joint_1_angle = (joint_1_angle + 2*pi) \n",
    "    elif joint_1_angle >= pi:\n",
    "            joint_1_angle -= 2 * pi\n",
    "\n",
    "    if wrist.leanback_attempt:\n",
    "        return (joint_1_angle + pi)\n",
    "    \n",
    "    return q1, q2, q3"
   ]
  },
  {
   "cell_type": "code",
   "execution_count": 1,
   "metadata": {},
   "outputs": [],
   "source": [
    "# help(interact)"
   ]
  },
  {
   "cell_type": "code",
   "execution_count": 15,
   "metadata": {},
   "outputs": [
    {
     "name": "stdout",
     "output_type": "stream",
     "text": [
      "preferred range: (-1.04719755119660, 2.61799387799149)\n",
      "central q1 heading: 0.785398163397448\n",
      "q1_a initial:  0.540419500270584\n",
      "q1_b initial:  -2.60117315331921\n",
      "corrected options phase error:  0\n"
     ]
    },
    {
     "data": {
      "text/plain": [
       "(0.540419500270584, -2.60117315331921)"
      ]
     },
     "execution_count": 15,
     "metadata": {},
     "output_type": "execute_result"
    }
   ],
   "source": [
    "def q1_options(wrist_x, wrist_y):\n",
    "    # Discretionary bounds: discriminate in favor of solutions with theta_1 between:\n",
    "    discLower_lim = N(-pi / 3)\n",
    "    discUpper_lim = N(5 * pi / 6)\n",
    "    preferred_heading = discLower_lim + ((discUpper_lim - discLower_lim)/2)\n",
    "    print('preferred range: ({}, {})'.format(discLower_lim, discUpper_lim))\n",
    "    print('central q1 heading: {}'.format(preferred_heading))\n",
    "    \n",
    "    q1, q2, q3 = symbols('q1, q2, q3')\n",
    "    q1_a, q1_b = symbols('q1_a, q1_b')\n",
    "\n",
    "#     solved = {q1: 0, q2: 0, q3: 0}\n",
    "\n",
    "    q1_a = N(atan2(wrist_y, wrist_x))\n",
    "    print('q1_a initial: ', q1_a)\n",
    "    \n",
    "    if q1_a < -N(pi/2):\n",
    "        print('q1_a initial in overshoot buffer range (magnitude greater than pi/2); re-orienting...')\n",
    "        q1_a = q1_a + N(2*pi) \n",
    "    \n",
    "    \n",
    "    # Assign alternate q1_b value\n",
    "    if q1_a >=0:\n",
    "        q1_b = N(q1_a - pi)\n",
    "        print('q1_b initial: ', q1_b)\n",
    "    else:\n",
    "        q1_b = N((q1_a + pi))\n",
    "        print('q1_b initial: ', q1_b)\n",
    "    \n",
    "    if q1_a < discLower_lim or q1_a > discUpper_lim:\n",
    "        print('naming convention manually enforced: name swap q1_a <-> q1_b')\n",
    "        q1_a, q1_b = q1_b, q1_a\n",
    "        \n",
    "    \n",
    "#     q1_lims = [-1*radians(185), radians(185)]\n",
    "\n",
    "#     if q1_a < q1_lims[0]:\n",
    "#         q1_a = N((q1_a + 2*pi))\n",
    "#         print('modified (+) to: ', q1_a)\n",
    "#     elif q1_a > q1_lims[1]:\n",
    "#         q1_a = N((q1_a - 2*pi))\n",
    "#         print('modified (-) to: ', q1_a)\n",
    "    \n",
    "#     q1_b = N((q1_a + pi) % (2*pi))\n",
    "    \n",
    "\n",
    "    \n",
    "    print('corrected options phase error: ', N(pi) - (abs(q1_a)+abs(q1_b)))\n",
    "    \n",
    "    return (q1_a, q1_b)\n",
    "\n",
    "q1_options(wrist.x, wrist.y)"
   ]
  },
  {
   "cell_type": "code",
   "execution_count": 19,
   "metadata": {},
   "outputs": [
    {
     "name": "stdout",
     "output_type": "stream",
     "text": [
      "Help on built-in function strftime in module time:\n",
      "\n",
      "strftime(...)\n",
      "    strftime(format[, tuple]) -> string\n",
      "    \n",
      "    Convert a time tuple to a string according to a format specification.\n",
      "    See the library reference manual for formatting codes. When the time tuple\n",
      "    is not present, current time as returned by localtime() is used.\n",
      "    \n",
      "    Commonly used format codes:\n",
      "    \n",
      "    %Y  Year with century as a decimal number.\n",
      "    %m  Month as a decimal number [01,12].\n",
      "    %d  Day of the month as a decimal number [01,31].\n",
      "    %H  Hour (24-hour clock) as a decimal number [00,23].\n",
      "    %M  Minute as a decimal number [00,59].\n",
      "    %S  Second as a decimal number [00,61].\n",
      "    %z  Time zone offset from UTC.\n",
      "    %a  Locale's abbreviated weekday name.\n",
      "    %A  Locale's full weekday name.\n",
      "    %b  Locale's abbreviated month name.\n",
      "    %B  Locale's full month name.\n",
      "    %c  Locale's appropriate date and time representation.\n",
      "    %I  Hour (12-hour clock) as a decimal number [01,12].\n",
      "    %p  Locale's equivalent of either AM or PM.\n",
      "    \n",
      "    Other codes may be available on your platform.  See documentation for\n",
      "    the C library strftime function.\n",
      "\n"
     ]
    }
   ],
   "source": [
    "import time\n",
    "# dir(time)\n",
    "help(time.strftime)"
   ]
  },
  {
   "cell_type": "code",
   "execution_count": 10,
   "metadata": {},
   "outputs": [
    {
     "name": "stdout",
     "output_type": "stream",
     "text": [
      "Using matplotlib backend: Qt5Agg\n"
     ]
    },
    {
     "name": "stderr",
     "output_type": "stream",
     "text": [
      "/home/robond/miniconda3/envs/RoboND/lib/python3.5/site-packages/matplotlib/backend_bases.py:2453: MatplotlibDeprecationWarning:\n",
      "\n",
      "Using default event loop until function specific to this GUI is implemented\n",
      "\n"
     ]
    },
    {
     "name": "stdout",
     "output_type": "stream",
     "text": [
      "Average FPS: 17.669895\n"
     ]
    }
   ],
   "source": [
    "\"\"\"\n",
    "==========================\n",
    "Rotating 3D wireframe plot\n",
    "==========================\n",
    "\n",
    "A very simple 'animation' of a 3D plot.  See also rotate_axes3d_demo.\n",
    "\"\"\"\n",
    "\n",
    "%matplotlib\n",
    "\n",
    "from __future__ import print_function\n",
    "\n",
    "from mpl_toolkits.mplot3d import axes3d\n",
    "import matplotlib.pyplot as plt\n",
    "import numpy as np\n",
    "import time\n",
    "\n",
    "\n",
    "def generate(X, Y, phi):\n",
    "    '''\n",
    "    Generates Z data for the points in the X, Y meshgrid and parameter phi.\n",
    "    '''\n",
    "    R = 1 - np.sqrt(X**2 + Y**2)\n",
    "    return np.cos(2 * np.pi * X + phi) * R\n",
    "\n",
    "\n",
    "fig = plt.figure()\n",
    "ax = fig.add_subplot(111, projection='3d')\n",
    "\n",
    "# Make the X, Y meshgrid.\n",
    "xs = np.linspace(-1, 1, 50)\n",
    "ys = np.linspace(-1, 1, 50)\n",
    "X, Y = np.meshgrid(xs, ys)\n",
    "\n",
    "# Set the z axis limits so they aren't recalculated each frame.\n",
    "ax.set_zlim(-1, 1)\n",
    "\n",
    "# Begin plotting.\n",
    "wframe = None\n",
    "tstart = time.time()\n",
    "for phi in np.linspace(0, 180. / np.pi, 100):\n",
    "    # If a line collection is already remove it before drawing.\n",
    "    if wframe:\n",
    "        ax.collections.remove(wframe)\n",
    "\n",
    "    # Plot the new wireframe and pause briefly before continuing.\n",
    "    Z = generate(X, Y, phi)\n",
    "    wframe = ax.plot_wireframe(X, Y, Z, rstride=2, cstride=2)\n",
    "    plt.pause(.001)\n",
    "\n",
    "plt.show()\n",
    "print('Average FPS: %f' % (100 / (time.time() - tstart)))"
   ]
  },
  {
   "cell_type": "code",
   "execution_count": 1,
   "metadata": {},
   "outputs": [
    {
     "name": "stdout",
     "output_type": "stream",
     "text": [
      "Using matplotlib backend: Qt5Agg\n"
     ]
    }
   ],
   "source": [
    "%matplotlib\n",
    "\n",
    "import matplotlib as mpl\n",
    "from mpl_toolkits.mplot3d import Axes3D\n",
    "import numpy as np\n",
    "import matplotlib.pyplot as plt\n"
   ]
  },
  {
   "cell_type": "code",
   "execution_count": 17,
   "metadata": {},
   "outputs": [
    {
     "data": {
      "text/plain": [
       "1.31"
      ]
     },
     "execution_count": 17,
     "metadata": {},
     "output_type": "execute_result"
    }
   ],
   "source": [
    "\n",
    "    "
   ]
  },
  {
   "cell_type": "code",
   "execution_count": 18,
   "metadata": {},
   "outputs": [
    {
     "data": {
      "text/plain": [
       "1.85"
      ]
     },
     "execution_count": 18,
     "metadata": {},
     "output_type": "execute_result"
    }
   ],
   "source": [
    "_+0.54"
   ]
  },
  {
   "cell_type": "code",
   "execution_count": 21,
   "metadata": {},
   "outputs": [
    {
     "data": {
      "text/plain": [
       "2.303"
      ]
     },
     "execution_count": 21,
     "metadata": {},
     "output_type": "execute_result"
    }
   ],
   "source": [
    "_+0.15"
   ]
  },
  {
   "cell_type": "code",
   "execution_count": 26,
   "metadata": {},
   "outputs": [
    {
     "data": {
      "text/plain": [
       "['_Figure__remove_ax',\n",
       " '__class__',\n",
       " '__delattr__',\n",
       " '__dict__',\n",
       " '__dir__',\n",
       " '__doc__',\n",
       " '__eq__',\n",
       " '__format__',\n",
       " '__ge__',\n",
       " '__getattribute__',\n",
       " '__getstate__',\n",
       " '__gt__',\n",
       " '__hash__',\n",
       " '__init__',\n",
       " '__le__',\n",
       " '__lt__',\n",
       " '__module__',\n",
       " '__ne__',\n",
       " '__new__',\n",
       " '__reduce__',\n",
       " '__reduce_ex__',\n",
       " '__repr__',\n",
       " '__setattr__',\n",
       " '__setstate__',\n",
       " '__sizeof__',\n",
       " '__str__',\n",
       " '__subclasshook__',\n",
       " '__weakref__',\n",
       " '_agg_filter',\n",
       " '_alpha',\n",
       " '_animated',\n",
       " '_axobservers',\n",
       " '_axstack',\n",
       " '_cachedRenderer',\n",
       " '_clipon',\n",
       " '_clippath',\n",
       " '_contains',\n",
       " '_dpi',\n",
       " '_gci',\n",
       " '_get_axes',\n",
       " '_get_dpi',\n",
       " '_gid',\n",
       " '_hold',\n",
       " '_label',\n",
       " '_make_key',\n",
       " '_mouseover',\n",
       " '_oid',\n",
       " '_original_dpi',\n",
       " '_path_effects',\n",
       " '_picker',\n",
       " '_prop_order',\n",
       " '_propobservers',\n",
       " '_rasterized',\n",
       " '_remove_method',\n",
       " '_repr_html_',\n",
       " '_set_artist_props',\n",
       " '_set_dpi',\n",
       " '_set_gc_clip',\n",
       " '_sketch',\n",
       " '_snap',\n",
       " '_stale',\n",
       " '_sticky_edges',\n",
       " '_suptitle',\n",
       " '_tight',\n",
       " '_tight_parameters',\n",
       " '_transform',\n",
       " '_transformSet',\n",
       " '_url',\n",
       " '_visible',\n",
       " 'add_axes',\n",
       " 'add_axobserver',\n",
       " 'add_callback',\n",
       " 'add_subplot',\n",
       " 'aname',\n",
       " 'artists',\n",
       " 'autofmt_xdate',\n",
       " 'axes',\n",
       " 'bbox',\n",
       " 'bbox_inches',\n",
       " 'callbacks',\n",
       " 'canvas',\n",
       " 'clear',\n",
       " 'clf',\n",
       " 'clipbox',\n",
       " 'colorbar',\n",
       " 'contains',\n",
       " 'convert_xunits',\n",
       " 'convert_yunits',\n",
       " 'delaxes',\n",
       " 'dpi',\n",
       " 'dpi_scale_trans',\n",
       " 'draw',\n",
       " 'draw_artist',\n",
       " 'eventson',\n",
       " 'figimage',\n",
       " 'figure',\n",
       " 'figurePatch',\n",
       " 'findobj',\n",
       " 'format_cursor_data',\n",
       " 'frameon',\n",
       " 'gca',\n",
       " 'get_agg_filter',\n",
       " 'get_alpha',\n",
       " 'get_animated',\n",
       " 'get_axes',\n",
       " 'get_children',\n",
       " 'get_clip_box',\n",
       " 'get_clip_on',\n",
       " 'get_clip_path',\n",
       " 'get_contains',\n",
       " 'get_cursor_data',\n",
       " 'get_default_bbox_extra_artists',\n",
       " 'get_dpi',\n",
       " 'get_edgecolor',\n",
       " 'get_facecolor',\n",
       " 'get_figheight',\n",
       " 'get_figure',\n",
       " 'get_figwidth',\n",
       " 'get_frameon',\n",
       " 'get_gid',\n",
       " 'get_label',\n",
       " 'get_path_effects',\n",
       " 'get_picker',\n",
       " 'get_rasterized',\n",
       " 'get_size_inches',\n",
       " 'get_sketch_params',\n",
       " 'get_snap',\n",
       " 'get_tight_layout',\n",
       " 'get_tightbbox',\n",
       " 'get_transform',\n",
       " 'get_transformed_clip_path_and_affine',\n",
       " 'get_url',\n",
       " 'get_visible',\n",
       " 'get_window_extent',\n",
       " 'get_zorder',\n",
       " 'ginput',\n",
       " 'have_units',\n",
       " 'hitlist',\n",
       " 'hold',\n",
       " 'images',\n",
       " 'is_figure_set',\n",
       " 'is_transform_set',\n",
       " 'legend',\n",
       " 'legends',\n",
       " 'lines',\n",
       " 'mouseover',\n",
       " 'number',\n",
       " 'patch',\n",
       " 'patches',\n",
       " 'pchanged',\n",
       " 'pick',\n",
       " 'pickable',\n",
       " 'properties',\n",
       " 'remove',\n",
       " 'remove_callback',\n",
       " 'savefig',\n",
       " 'sca',\n",
       " 'set',\n",
       " 'set_agg_filter',\n",
       " 'set_alpha',\n",
       " 'set_animated',\n",
       " 'set_axes',\n",
       " 'set_canvas',\n",
       " 'set_clip_box',\n",
       " 'set_clip_on',\n",
       " 'set_clip_path',\n",
       " 'set_contains',\n",
       " 'set_dpi',\n",
       " 'set_edgecolor',\n",
       " 'set_facecolor',\n",
       " 'set_figheight',\n",
       " 'set_figure',\n",
       " 'set_figwidth',\n",
       " 'set_frameon',\n",
       " 'set_gid',\n",
       " 'set_label',\n",
       " 'set_path_effects',\n",
       " 'set_picker',\n",
       " 'set_rasterized',\n",
       " 'set_size_inches',\n",
       " 'set_sketch_params',\n",
       " 'set_snap',\n",
       " 'set_tight_layout',\n",
       " 'set_transform',\n",
       " 'set_url',\n",
       " 'set_visible',\n",
       " 'set_zorder',\n",
       " 'show',\n",
       " 'stale',\n",
       " 'stale_callback',\n",
       " 'sticky_edges',\n",
       " 'subplotpars',\n",
       " 'subplots_adjust',\n",
       " 'suppressComposite',\n",
       " 'suptitle',\n",
       " 'text',\n",
       " 'texts',\n",
       " 'tight_layout',\n",
       " 'transFigure',\n",
       " 'update',\n",
       " 'update_from',\n",
       " 'waitforbuttonpress',\n",
       " 'zorder']"
      ]
     },
     "execution_count": 26,
     "metadata": {},
     "output_type": "execute_result"
    }
   ],
   "source": [
    "dir(fig)"
   ]
  },
  {
   "cell_type": "code",
   "execution_count": null,
   "metadata": {
    "collapsed": true
   },
   "outputs": [],
   "source": []
  }
 ],
 "metadata": {
  "hide_input": false,
  "kernelspec": {
   "display_name": "Python 3",
   "language": "python",
   "name": "python3"
  },
  "language_info": {
   "codemirror_mode": {
    "name": "ipython",
    "version": 3
   },
   "file_extension": ".py",
   "mimetype": "text/x-python",
   "name": "python",
   "nbconvert_exporter": "python",
   "pygments_lexer": "ipython3",
   "version": "3.6.5"
  },
  "toc": {
   "nav_menu": {},
   "number_sections": true,
   "sideBar": true,
   "skip_h1_title": false,
   "title_cell": "Table of Contents",
   "title_sidebar": "Contents",
   "toc_cell": false,
   "toc_position": {},
   "toc_section_display": true,
   "toc_window_display": false
  },
  "varInspector": {
   "cols": {
    "lenName": 16,
    "lenType": 16,
    "lenVar": 40
   },
   "kernels_config": {
    "python": {
     "delete_cmd_postfix": "",
     "delete_cmd_prefix": "del ",
     "library": "var_list.py",
     "varRefreshCmd": "print(var_dic_list())"
    },
    "r": {
     "delete_cmd_postfix": ") ",
     "delete_cmd_prefix": "rm(",
     "library": "var_list.r",
     "varRefreshCmd": "cat(var_dic_list()) "
    }
   },
   "types_to_exclude": [
    "module",
    "function",
    "builtin_function_or_method",
    "instance",
    "_Feature"
   ],
   "window_display": false
  },
  "widgets": {
   "state": {
    "011e93786e3a42af9e756128c37b012c": {
     "views": []
    },
    "07d49faa387041d595d7002760eadba6": {
     "views": []
    },
    "0bb848f14aa9466f92164c922012c83a": {
     "views": []
    },
    "0d81c47bcc4d4d05b02ddba7c9153052": {
     "views": []
    },
    "0f8ce3e5d8e541d39150f41b4d370f9f": {
     "views": []
    },
    "1599d56c062344a78a91111b81f3e871": {
     "views": []
    },
    "1d58bb8955f54552b95414bb1b56caf5": {
     "views": []
    },
    "20821a09fb7d490bbdadc1973856885a": {
     "views": []
    },
    "2208f3d0205e440e8739290d2fe7fde2": {
     "views": []
    },
    "236ad6338d0e4236a671f1cf848f293e": {
     "views": []
    },
    "23f95b0c86a44053b33cc67a382cefca": {
     "views": []
    },
    "27329dbeb798408bbacf272c34d50970": {
     "views": []
    },
    "27d98f12c05149b8b8a98b15abf8fabe": {
     "views": []
    },
    "2ed83705b0f34d1982b88defc295aaa3": {
     "views": []
    },
    "32a7cff237764f9ebd5590a548a1a316": {
     "views": []
    },
    "33d6968c6f6d41abac806ac3e0da9505": {
     "views": []
    },
    "3a271e135b9d4f21949fbd0670bf3368": {
     "views": []
    },
    "3a700e2873784477969a95876ac806f3": {
     "views": []
    },
    "407e7edc76104cbaa74b9befd8444464": {
     "views": []
    },
    "40b0ef612a3f423cb86fd32a2e037f12": {
     "views": []
    },
    "4475b48593234a838b7f7ce3895c1f0f": {
     "views": []
    },
    "4af35c87527c4cf182b66b42c769328c": {
     "views": []
    },
    "4d44f1de424340859041c3aea1c42161": {
     "views": []
    },
    "4e7aff7429f24cb7a8fe01566ec15fbd": {
     "views": []
    },
    "5036533187c442eea4c45fcc707b5725": {
     "views": []
    },
    "5095c753a2e44dd08a4b67082108fa95": {
     "views": []
    },
    "5a0aabd53dfe4f76b67f444e40f303b8": {
     "views": []
    },
    "5b6b48a52155442588dd5166b65bc47a": {
     "views": []
    },
    "5e509909d8f3463b94ca32b075a3d13f": {
     "views": []
    },
    "5f99fc083aae468faa423d864e4f6d5b": {
     "views": []
    },
    "627c5e450eac4bdeb250f7268adc6754": {
     "views": []
    },
    "629d1e0caff149db8e94235bf013ee04": {
     "views": []
    },
    "68d22a31ba004eefbc147e2a9d956a97": {
     "views": []
    },
    "795a58aeea9e4922ab834ea0c3d6ab07": {
     "views": [
      {
       "cell_index": 1
      }
     ]
    },
    "7ee0a7a520c547b28984f33bac743388": {
     "views": []
    },
    "88475e6d561a493a852d707a4985c4e6": {
     "views": []
    },
    "892abed372234f888956d3ab8e5005ff": {
     "views": []
    },
    "89870cf4bfa34f7c9281ab97827a5b58": {
     "views": []
    },
    "8c37a7635767402b9109cdbce0885649": {
     "views": []
    },
    "8d5ab2a6802a4da2a59836665bc7a716": {
     "views": []
    },
    "96ea71610fa54f97b4f4587fc8d93701": {
     "views": []
    },
    "989c6ef3cf7b44ea876f97643f1fb48d": {
     "views": []
    },
    "9bb69ddd725a4b1188bc957baf919669": {
     "views": []
    },
    "a1c769e4f92848a78590fb214e6e0964": {
     "views": []
    },
    "a434b9b8262948ea94bffd51aca0ff1f": {
     "views": []
    },
    "a6eaa3a18c344220a604636492d1d2af": {
     "views": []
    },
    "ae91df5e14854e5a9f32b09d0fa84155": {
     "views": []
    },
    "b0ff0cb032ad4c34a5c5e6f2b6b36d78": {
     "views": []
    },
    "b1f9ce6a6b204e52aad99f99c7bf42bd": {
     "views": []
    },
    "b4419567f0aa44a8a6b31aa15bf2da56": {
     "views": []
    },
    "b79bfc7e6bc648fbad6f669f2699e7e9": {
     "views": []
    },
    "b79d45cc116847b78a7b33d02a977dff": {
     "views": []
    },
    "b8cc30111c26435fac96cca525a418a7": {
     "views": []
    },
    "c0d7cac8d6d74129ab7588f9fb89146d": {
     "views": []
    },
    "c421e229f4324245a5a6be4865fb32ff": {
     "views": []
    },
    "c781f8f27e7642c1b95a02db2ff42133": {
     "views": []
    },
    "cc42446492604d0586328a32b5925ef0": {
     "views": []
    },
    "d615751b95bd4b8fb1d1f3f0789bdf2d": {
     "views": []
    },
    "de4b84be1af74d01ab6f6993d0f896a0": {
     "views": []
    },
    "e01a0a6009064d39b7142581ddc6f89d": {
     "views": []
    },
    "e2bbcb0bbc28426ba530b91a567f4108": {
     "views": []
    },
    "e5276bd3e4184a76a9ce5a79eeb977b1": {
     "views": []
    },
    "e7d5703916a34ac7a6ed53dde734830f": {
     "views": []
    },
    "ea056ef9c9db4bd4aa82aa7d76bb2174": {
     "views": []
    },
    "ea8a95ea9cad4254adf5c9773124651f": {
     "views": []
    },
    "eddd79c65c7f45958d3cc56af0d44483": {
     "views": []
    },
    "efa0db13e6494d5897ff6cc494ed5c34": {
     "views": []
    },
    "f1555460fa1e4cdc8efd459beff726f7": {
     "views": []
    },
    "f42c6a7672a0439b86729e07039cd863": {
     "views": []
    },
    "f8eb6df811124a268d40538d76577faa": {
     "views": []
    },
    "fb71ece12ad84f0596c64eec2666a7af": {
     "views": []
    },
    "fbf740037c7d49249ebe7138d5857ebd": {
     "views": []
    },
    "fc5f82c1846f4a6eb96ace571841ed34": {
     "views": []
    },
    "fcf38c7e179449c28e3e3218ba240891": {
     "views": []
    }
   },
   "version": "1.1.2"
  }
 },
 "nbformat": 4,
 "nbformat_minor": 2
}
