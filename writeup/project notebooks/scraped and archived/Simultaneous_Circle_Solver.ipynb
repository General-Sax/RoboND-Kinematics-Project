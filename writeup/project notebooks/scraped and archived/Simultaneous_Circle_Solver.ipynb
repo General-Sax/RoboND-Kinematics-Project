{
 "cells": [
  {
   "cell_type": "markdown",
   "metadata": {},
   "source": [
    "[//]: # (Image References)\n",
    "\n",
    "[image1]: ./Pick-and-Place/intercept_illustration_bkgrnd_crop.png\n",
    "[image2]: ./Pick-and-Place/simultaneous_solution_multiplicity_edit.png\n",
    "\n",
    "## The Simultaneous Solver Method:\n",
    "\n",
    "The SSS Triangle method is elegant, and performs well, generally, but it only finds one of the two possible solutions for most configurations.\n",
    "\n",
    "Another solution model which I investigated essentially amounts to solving for the the intersections of the sets of allowed locations for joint 3 given fixed locations for joint 2 and 5.\n",
    "\n",
    "![alt text][image1]\n",
    "\n",
    "Before enforcing the URDF model's joint range limits, joint 2 is free to move joint 3 to any location on a circle of radius 1.25m about its Z-axis, the length of link 2. This circle lies in the plane containing the origins of joints 0-5, the 'positioning plane.' This circle is the locus of all points \n",
    "\n",
    "In an analogous (but inverted) manner, joint 5 is the center may be accessed by joint 3 from any point\n",
    "\n",
    "Joint 2 is taken to be the natural origin for solving this step in the problem.\n",
    "For the sake of cognitive simplicity, we will consider the next steps as purely 2-dimensional.\n",
    "In that frame of reference, Joint 5 is located at (s5, z5)\n",
    "\n",
    "![alt text][image2]"
   ]
  },
  {
   "cell_type": "code",
   "execution_count": 1,
   "metadata": {
    "collapsed": true
   },
   "outputs": [],
   "source": [
    "from mpmath import *\n",
    "from sympy import *\n",
    "from sympy.matrices import Matrix, eye\n",
    "import numpy as np\n",
    "import pandas as pd\n",
    "import matplotlib.pyplot as plt\n"
   ]
  },
  {
   "cell_type": "code",
   "execution_count": 2,
   "metadata": {
    "collapsed": true
   },
   "outputs": [],
   "source": [
    "init_printing(use_latex='mathjax')"
   ]
  },
  {
   "cell_type": "code",
   "execution_count": 3,
   "metadata": {
    "collapsed": true
   },
   "outputs": [],
   "source": [
    "# Conversion Factors - Note that this is using the SymPy definition of pi\n",
    "rtd = 180./pi # radians to degrees\n",
    "dtr = pi/180. # degrees to radians"
   ]
  },
  {
   "cell_type": "code",
   "execution_count": 4,
   "metadata": {
    "collapsed": true
   },
   "outputs": [],
   "source": [
    "def col(input_tuple, h=False):\n",
    "    matrixArg = [[item] for item in input_tuple]\n",
    "    if h: matrixArg.append([1])\n",
    "    return Matrix(matrixArg)"
   ]
  },
  {
   "cell_type": "code",
   "execution_count": 5,
   "metadata": {
    "collapsed": true
   },
   "outputs": [],
   "source": [
    "### Create symbols for DH parameters\n",
    "q1, q2, q3, q4, q5, q6, q7 = symbols('q1:8') # theta angles\n",
    "d1, d2, d3, d4, d5, d6, d7 = symbols('d1:8')\n",
    "a0, a1, a2, a3, a4, a5, a6 = symbols('a0:7')\n",
    "alpha0, alpha1, alpha2, alpha3, alpha4, alpha5, alpha6 = symbols('alpha0:7')\n",
    "\n",
    "### Create symbols for end effector target coordinates in base_link reference frame\n",
    "\n",
    "x_target, y_target, z_target = symbols('x_target y_target z_target')\n",
    "\n",
    "### Create symbols for wrist center location in base frame \n",
    "\n",
    "wrist_x, wrist_y, wrist_z = symbols('wrist_x wrist_y wrist_z')"
   ]
  },
  {
   "cell_type": "code",
   "execution_count": 6,
   "metadata": {
    "collapsed": true
   },
   "outputs": [],
   "source": [
    "dh_parameter = {alpha0:     0,  a0:      0,  d1:  0.75,  \n",
    "                alpha1: -pi/2,  a1:   0.35,  d2:     0,  q2: q2 - pi/2, # ?????\n",
    "                alpha2:     0,  a2:   1.25,  d3:     0,  \n",
    "                alpha3: -pi/2,  a3: -0.054,  d4:  1.50, \n",
    "                alpha4:  pi/2,  a4:      0,  d5:     0, \n",
    "                alpha5: -pi/2,  a5:      0,  d6:     0, \n",
    "                alpha6:     0,  a6:      0,  d7: 0.303,  q7: 0\n",
    "                }\n",
    "\n",
    "angle_equations = {}"
   ]
  },
  {
   "cell_type": "code",
   "execution_count": 7,
   "metadata": {
    "collapsed": true
   },
   "outputs": [],
   "source": [
    "default_target_x = 2.30286\n",
    "default_target_y = 0.0\n",
    "default_target_z = 1.94658\n",
    "\n",
    "t = {x_target: default_target_x,\n",
    "     y_target: default_target_y, \n",
    "     z_target: default_target_z\n",
    "     }\n",
    "\n",
    "def retarget(x=None, y=None, z=None):\n",
    "    global t\n",
    "    if not (x or y or z):\n",
    "        t[x_target] = default_target_x\n",
    "        t[y_target] = default_target_y\n",
    "        t[z_target] = default_target_z\n",
    "        return\n",
    "    else:\n",
    "        if x: t[x_target] = x\n",
    "        if y: t[y_target] = y\n",
    "        if z: t[z_target] = z\n",
    "        return\n",
    "\n",
    "# # TEST:\n",
    "# print(t)\n",
    "# retarget(1,2,1.5)\n",
    "# print(t)\n",
    "# retarget()\n",
    "# print(t)\n",
    "\n",
    "retarget()"
   ]
  },
  {
   "cell_type": "code",
   "execution_count": 8,
   "metadata": {},
   "outputs": [
    {
     "data": {
      "text/latex": [
       "$$\\left ( x_{target} - 0.453, \\quad y_{target}, \\quad z_{target}\\right )$$"
      ],
      "text/plain": [
       "(x_target - 0.453, y_target, z_target)"
      ]
     },
     "execution_count": 8,
     "metadata": {},
     "output_type": "execute_result"
    }
   ],
   "source": [
    "shelf_interaction_orientation = col((1, 0, 0))\n",
    "dropoff_orientation = col((0, 1, 0))\n",
    "\n",
    "# end_eff_unitvector set to pp_placeholder as default for this project, as it is already ideal for testing. \n",
    "# Could be made symbolic to generalize the process, to simply set to a different default for other configurations.\n",
    "end_effector_unitvector = shelf_interaction_orientation\n",
    "\n",
    "# All three of these distances are measured along the Z6 axis; \n",
    "# the distances are displacements relative to the previous variable, \n",
    "# with joint_6 measured from the wrist center. \n",
    "joint_6_distance = 0.193\n",
    "gripper_joint_distance = 0.11\n",
    "finger_joint_distance = 0.15 # not included in example value\n",
    "\n",
    "withfingers = True\n",
    "\n",
    "# End effector length spans distance from wc to target point\n",
    "end_effector_length = joint_6_distance + gripper_joint_distance + (int(withfingers) * finger_joint_distance)\n",
    "\n",
    "# end_effector_vector points from wc to target point\n",
    "end_effector_vector = end_effector_length * end_effector_unitvector\n",
    "\n",
    "wrist_x = x_target - end_effector_vector[0]\n",
    "wrist_y = y_target - end_effector_vector[1]\n",
    "wrist_z = z_target - end_effector_vector[2]\n",
    "\n",
    "wrist_x, wrist_y, wrist_z"
   ]
  },
  {
   "cell_type": "code",
   "execution_count": 9,
   "metadata": {},
   "outputs": [
    {
     "data": {
      "text/latex": [
       "$$\\left ( 0, \\quad \\operatorname{atan_{2}}{\\left (y_{target},x_{target} - 0.453 \\right )}\\right )$$"
      ],
      "text/plain": [
       "(0, atan2(y_target, x_target - 0.453))"
      ]
     },
     "execution_count": 9,
     "metadata": {},
     "output_type": "execute_result"
    }
   ],
   "source": [
    "theta_1 = atan2(wrist_y, wrist_x)\n",
    "# Now that we have theta1, we will add it to our lookup dict\n",
    "dh_parameter[q1] = theta_1.evalf(subs=t)\n",
    "angle_equations[q1] = theta_1\n",
    "\n",
    "dh_parameter[q1], angle_equations[q1]"
   ]
  },
  {
   "cell_type": "code",
   "execution_count": 10,
   "metadata": {
    "collapsed": true
   },
   "outputs": [],
   "source": [
    "# Regardless of our choice of method, we will need the following values to be loaded:\n",
    "radius_j2_j3 = dh_parameter[a2]\n",
    "radius_j5_j3 = sqrt(dh_parameter[a3]**2 + dh_parameter[d4]**2)\n",
    "\n",
    "radius_j2_j3, radius_j5_j3\n",
    "\n",
    "wrist_s = sqrt(wrist_x**2 + wrist_y**2)\n",
    "\n",
    "delta_s = wrist_s - dh_parameter[a1] # dh_parameter[a1] = 0.35 (meters)\n",
    "delta_z = wrist_z - dh_parameter[d1] # dh_parameter[d1] = 0.75 (meters)"
   ]
  },
  {
   "cell_type": "code",
   "execution_count": 11,
   "metadata": {},
   "outputs": [
    {
     "name": "stdout",
     "output_type": "stream",
     "text": [
      "In O0 coordinates: \n"
     ]
    },
    {
     "data": {
      "text/latex": [
       "$$\\left ( \\left[\\begin{matrix}0.35\\\\0.75\\end{matrix}\\right], \\quad \\left[\\begin{matrix}s_{3} + 0.35\\\\z_{3} + 0.75\\end{matrix}\\right], \\quad \\left[\\begin{matrix}1.84986\\\\1.94658\\end{matrix}\\right]\\right )$$"
      ],
      "text/plain": [
       "⎛⎡0.35⎤  ⎡s₃ + 0.35⎤  ⎡1.84986⎤⎞\n",
       "⎜⎢    ⎥, ⎢         ⎥, ⎢       ⎥⎟\n",
       "⎝⎣0.75⎦  ⎣z₃ + 0.75⎦  ⎣1.94658⎦⎠"
      ]
     },
     "execution_count": 11,
     "metadata": {},
     "output_type": "execute_result"
    }
   ],
   "source": [
    "j2_0 = col((dh_parameter[a1], dh_parameter[d1]))\n",
    "\n",
    "s_3, z_3 = symbols('s_3, z_3')\n",
    "j3_0 = col((s_3, z_3)) + j2_0\n",
    "# j5 = col(wrist_s, 0, wrist_z)\n",
    "\n",
    "j5_0 = col((wrist_s, wrist_z)).subs(t)\n",
    "\n",
    "print(\"In O0 coordinates: \")\n",
    "j2_0, j3_0, j5_0"
   ]
  },
  {
   "cell_type": "code",
   "execution_count": 12,
   "metadata": {},
   "outputs": [
    {
     "name": "stdout",
     "output_type": "stream",
     "text": [
      "In O2 coordinates: \n"
     ]
    },
    {
     "data": {
      "text/latex": [
       "$$\\left ( \\left[\\begin{matrix}0\\\\0\\end{matrix}\\right], \\quad \\left[\\begin{matrix}s_{3}\\\\z_{3}\\end{matrix}\\right], \\quad \\left[\\begin{matrix}1.49986\\\\1.19658\\end{matrix}\\right]\\right )$$"
      ],
      "text/plain": [
       "⎛⎡0⎤  ⎡s₃⎤  ⎡1.49986⎤⎞\n",
       "⎜⎢ ⎥, ⎢  ⎥, ⎢       ⎥⎟\n",
       "⎝⎣0⎦  ⎣z₃⎦  ⎣1.19658⎦⎠"
      ]
     },
     "execution_count": 12,
     "metadata": {},
     "output_type": "execute_result"
    }
   ],
   "source": [
    "j2 = col((0, 0))       \n",
    "j3 = col((s_3, z_3))\n",
    "j5 = j5_0 - j2_0\n",
    "\n",
    "print(\"In O2 coordinates: \")\n",
    "j2, j3, j5"
   ]
  },
  {
   "cell_type": "code",
   "execution_count": 13,
   "metadata": {},
   "outputs": [
    {
     "data": {
      "text/latex": [
       "$$\\left ( 1.25 \\sin{\\left (q_{2} \\right )}, \\quad 1.25 \\cos{\\left (q_{2} \\right )}\\right )$$"
      ],
      "text/plain": [
       "(1.25⋅sin(q₂), 1.25⋅cos(q₂))"
      ]
     },
     "execution_count": 13,
     "metadata": {},
     "output_type": "execute_result"
    }
   ],
   "source": [
    "s3_expr_1 = radius_j2_j3 * sin(q2)\n",
    "z3_expr_1 = radius_j2_j3 * cos(q2)\n",
    "\n",
    "s3_expr_1, z3_expr_1"
   ]
  },
  {
   "cell_type": "markdown",
   "metadata": {},
   "source": [
    "[//]: # (Image References)\n",
    "[image2]: ./Pick-and-Place/simultaneous_solution_multiplicity_edit.png\n",
    "\n",
    "![alt_text][image2]\n",
    "\n",
    "We define an intermediate generalized angular coordinate, gamma_5, to be the angle between a horizontal line through the wrist center and\n",
    "It is important that the reference axis for this angle be defined relative to a static coordinate system, and not one dependent on theta_2. Other than that, the selection is somewhat arbitrary. I chose this particular angle \n",
    "a line\n",
    "as shown in illustration. \n",
    "Behaves identically to theta_2 for ease of explanation. \n",
    "This is hard to visualize, add illustration!"
   ]
  },
  {
   "cell_type": "code",
   "execution_count": 14,
   "metadata": {},
   "outputs": [
    {
     "data": {
      "text/latex": [
       "$$\\left ( - 1.50097168527591 \\cos{\\left (\\gamma_{5} \\right )} + 1.49986, \\quad 1.50097168527591 \\sin{\\left (\\gamma_{5} \\right )} + 1.19658\\right )$$"
      ],
      "text/plain": [
       "(-1.50097168527591⋅cos(γ₅) + 1.49986, 1.50097168527591⋅sin(γ₅) + 1.19658)"
      ]
     },
     "execution_count": 14,
     "metadata": {},
     "output_type": "execute_result"
    }
   ],
   "source": [
    "gamma_5 = Symbol('gamma_5')\n",
    "\n",
    "s3_expr_2 = j5[0] + (radius_j5_j3 * -cos(gamma_5))\n",
    "z3_expr_2 = j5[1] + (radius_j5_j3 * sin(gamma_5))\n",
    "\n",
    "s3_expr_2, z3_expr_2"
   ]
  },
  {
   "cell_type": "code",
   "execution_count": 15,
   "metadata": {},
   "outputs": [
    {
     "data": {
      "text/latex": [
       "$$\\left ( 1.25 \\sin{\\left (q_{2} \\right )} + 1.50097168527591 \\cos{\\left (\\gamma_{5} \\right )} - 1.49986, \\quad - 1.50097168527591 \\sin{\\left (\\gamma_{5} \\right )} + 1.25 \\cos{\\left (q_{2} \\right )} - 1.19658\\right )$$"
      ],
      "text/plain": [
       "(1.25⋅sin(q₂) + 1.50097168527591⋅cos(γ₅) - 1.49986, -1.50097168527591⋅sin(γ₅) \n",
       "+ 1.25⋅cos(q₂) - 1.19658)"
      ]
     },
     "execution_count": 15,
     "metadata": {},
     "output_type": "execute_result"
    }
   ],
   "source": [
    "# Since expressions 1 and 2 for both s_3 and z_3 must be equal for a solution to exist, \n",
    "# subtracting the second expression from the first should make each of these \n",
    "# combined expressions equal to zero, suitable as input to SymPy's equation solver.\n",
    "s3_zero_form = s3_expr_1 - s3_expr_2\n",
    "z3_zero_form = z3_expr_1 - z3_expr_2\n",
    "\n",
    "s3_zero_form, z3_zero_form"
   ]
  },
  {
   "cell_type": "code",
   "execution_count": 16,
   "metadata": {},
   "outputs": [
    {
     "data": {
      "text/latex": [
       "$$\\left [ \\left ( -0.000128614473224601, \\quad 0.0355977892046402\\right ), \\quad \\left ( 1.79493196079266, \\quad -1.38238709647499\\right )\\right ]$$"
      ],
      "text/plain": [
       "[(-0.000128614473224601, 0.0355977892046402), (1.79493196079266, -1.3823870964\n",
       "7499)]"
      ]
     },
     "execution_count": 16,
     "metadata": {},
     "output_type": "execute_result"
    }
   ],
   "source": [
    "# solving these expressions simultaneously gives a pair of numerical values for q2 and gamma_5 - \n",
    "# if solution a solution exists.\n",
    "# But even then, there's a catch: generally, there are two possible solutions in the solution set.\n",
    "soln_set = solve([s3_zero_form, z3_zero_form], (q2, gamma_5))\n",
    "\n",
    "soln_set"
   ]
  },
  {
   "cell_type": "code",
   "execution_count": 17,
   "metadata": {},
   "outputs": [
    {
     "data": {
      "text/latex": [
       "$$0.0359844600820516$$"
      ],
      "text/plain": [
       "0.0359844600820516"
      ]
     },
     "execution_count": 17,
     "metadata": {},
     "output_type": "execute_result"
    }
   ],
   "source": [
    "atan2(0.054, 1.5)"
   ]
  },
  {
   "cell_type": "markdown",
   "metadata": {},
   "source": [
    "Now we must calculate theta_3 given theta_2 and gamma_5. This is a subtle and confusing step, since we must be "
   ]
  },
  {
   "cell_type": "code",
   "execution_count": 18,
   "metadata": {
    "collapsed": true
   },
   "outputs": [],
   "source": [
    "def theta3from(theta_2, gamma_5):\n",
    "    # when gamma_5 = theta_2, theta_3 == 0\n",
    "    # when gamma_5 = 0, theta_3 == -theta_2\n",
    "    theta_3 = theta_2 - gamma_5\n",
    "    return theta_3"
   ]
  },
  {
   "cell_type": "markdown",
   "metadata": {},
   "source": [
    "In theory, there are cases where the solver will yield only a single solution, but these are unlikely to\n",
    "occur in practice. \n",
    "As mentioned above, this method can be visualized as solving for the intersection points of two circles in a plane. \n",
    "If the circles do not overlap, the desired wrist center is not reachable, as there is no location j3 in reach of j2 which can satisfy the access constraint on j5.\n",
    "\n",
    "In order for there to be any solutions, these circular sets must intersect.\n",
    "\n",
    "A unique solution is found IFF the circular loci of permitted locations touch at a single tangent point. \n",
    "Put another way, these single solutions represent the maximum possible extension of the wrist center from joint 2, bringing the long axes of links 2, 3, and 4 (essentially) parallel. \n",
    "\n",
    "The set of unique solutions corresponds to the set of poses where the arm is at its full span, at least up to joint 5.\n",
    "This is more or less the 'work envelope' of the wrist center."
   ]
  },
  {
   "cell_type": "markdown",
   "metadata": {},
   "source": [
    "### Discriminating Between Multiple Viable Solutions\n",
    "\n",
    "From a control and integrity standpoint, it makes sense to keep the robot's center of mass as near to the Z1 axis as possible, which could be calculated more delicately using the inertial information in the URDF file. This would be a bit of an undertaking, to say the least.\n",
    "\n",
    "Another general consideration is similarity to the current pose. This is much easier to assess."
   ]
  },
  {
   "cell_type": "code",
   "execution_count": null,
   "metadata": {
    "collapsed": true
   },
   "outputs": [],
   "source": []
  },
  {
   "cell_type": "code",
   "execution_count": 19,
   "metadata": {
    "collapsed": true
   },
   "outputs": [],
   "source": [
    "def col(input_tuple, h=0):\n",
    "    \"option: h=1 will output a homogenous coordinate column vector\"\n",
    "    matrixArg = [[item] for item in input_tuple]\n",
    "    if h: matrixArg.append([1])\n",
    "    return Matrix(matrixArg)\n",
    "\n",
    "def rot_x(q):\n",
    "    R_x = Matrix([[ 1,              0,        0],\n",
    "                  [ 0,        cos(q),   -sin(q)],\n",
    "                  [ 0,        sin(q),    cos(q)]])\n",
    "    return R_x\n",
    "\n",
    "def rot_y(q):\n",
    "    R_y =  Matrix([[ cos(q),        0,  sin(q)],\n",
    "                   [       0,        1,        0],\n",
    "                   [-sin(q),        0,  cos(q)]])\n",
    "    return R_y\n",
    "\n",
    "def rot_z(q): \n",
    "    R_z = Matrix([[ cos(q), -sin(q),        0],\n",
    "                  [ sin(q),  cos(q),        0],\n",
    "                  [ 0,            0,        1]])\n",
    "    return R_z\n",
    "\n",
    "def composeRotations(rotation_list):\n",
    "    \"rotation_list contains tuples of form (axis, radian_angle), where axis is an element of {'x', 'y', 'z'}\"\n",
    "    rMat = eye(3)\n",
    "    for rotation in rotation_list:\n",
    "        rotation_axis, rotation_angle = rotation[0], rotation[1]\n",
    "        rr = eval('rot_{}({})'.format(rotation_axis, rotation_angle))\n",
    "        rMat = rr * rMat\n",
    "    return rMat\n",
    "\n",
    "def TF_matrix(rotation_list=[], translation=(0, 0, 0)):\n",
    "    \"rotation_list formatted for composeRotations(),\"\n",
    "    TFmat = composeRotations(rotation_list)    \n",
    "    TFmat = TFmat.row_join(col(translation))\n",
    "    TFmat = TFmat.col_join(Matrix([[0, 0, 0, 1]]))\n",
    "    return TFmat\n",
    "\n",
    "def DH_TF(alpha, a, d, q):\n",
    "    # alpha, a, d, q = twist_angle, link_length, joint_angle, link_offset\n",
    "    subT_x = TF_matrix([('x', alpha)], (a, 0, 0))\n",
    "    subT_z = TF_matrix([('z', q)], (0, 0, d))\n",
    "    return subT_x * subT_z\n",
    "\n",
    "def dissect_TF(DH_TF_mat):\n",
    "    rot_mat = DH_TF_mat[0:3, 0:3]\n",
    "    xlt_mat = DH_TF_mat[0:3, 3]\n",
    "    return rot_mat, xlt_mat\n",
    "\n",
    "def rotation_matrix_from(DH_TF_mat):\n",
    "    return DH_TF_mat[0:3, 0:3]\n",
    "\n",
    "def translation_column_from(DH_TF_mat):\n",
    "    return DH_TF_mat[0:3, 3]"
   ]
  },
  {
   "cell_type": "code",
   "execution_count": 80,
   "metadata": {
    "collapsed": true
   },
   "outputs": [],
   "source": [
    "T1 = DH_TF(alpha0, a0, d1, q1).subs(dh_parameter)"
   ]
  },
  {
   "cell_type": "code",
   "execution_count": 81,
   "metadata": {
    "collapsed": true
   },
   "outputs": [],
   "source": [
    "rotation = rotation_matrix_from(T1)"
   ]
  },
  {
   "cell_type": "code",
   "execution_count": 82,
   "metadata": {},
   "outputs": [
    {
     "data": {
      "text/latex": [
       "$$\\left[\\begin{matrix}1 & 0 & 0\\\\0 & 1 & 0\\\\0 & 0 & 1\\end{matrix}\\right]$$"
      ],
      "text/plain": [
       "⎡1  0  0⎤\n",
       "⎢       ⎥\n",
       "⎢0  1  0⎥\n",
       "⎢       ⎥\n",
       "⎣0  0  1⎦"
      ]
     },
     "execution_count": 82,
     "metadata": {},
     "output_type": "execute_result"
    }
   ],
   "source": [
    "rotation"
   ]
  },
  {
   "cell_type": "code",
   "execution_count": null,
   "metadata": {
    "collapsed": true
   },
   "outputs": [],
   "source": []
  }
 ],
 "metadata": {
  "hide_input": false,
  "kernelspec": {
   "display_name": "Python 3",
   "language": "python",
   "name": "python3"
  },
  "language_info": {
   "codemirror_mode": {
    "name": "ipython",
    "version": 3
   },
   "file_extension": ".py",
   "mimetype": "text/x-python",
   "name": "python",
   "nbconvert_exporter": "python",
   "pygments_lexer": "ipython3",
   "version": "3.6.5"
  },
  "toc": {
   "nav_menu": {},
   "number_sections": true,
   "sideBar": true,
   "skip_h1_title": false,
   "title_cell": "Table of Contents",
   "title_sidebar": "Contents",
   "toc_cell": false,
   "toc_position": {},
   "toc_section_display": true,
   "toc_window_display": false
  },
  "varInspector": {
   "cols": {
    "lenName": 16,
    "lenType": 16,
    "lenVar": 40
   },
   "kernels_config": {
    "python": {
     "delete_cmd_postfix": "",
     "delete_cmd_prefix": "del ",
     "library": "var_list.py",
     "varRefreshCmd": "print(var_dic_list())"
    },
    "r": {
     "delete_cmd_postfix": ") ",
     "delete_cmd_prefix": "rm(",
     "library": "var_list.r",
     "varRefreshCmd": "cat(var_dic_list()) "
    }
   },
   "types_to_exclude": [
    "module",
    "function",
    "builtin_function_or_method",
    "instance",
    "_Feature"
   ],
   "window_display": false
  }
 },
 "nbformat": 4,
 "nbformat_minor": 2
}
