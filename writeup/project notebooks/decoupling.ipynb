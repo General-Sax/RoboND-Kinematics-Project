{
 "cells": [
  {
   "cell_type": "code",
   "execution_count": 1,
   "metadata": {
    "collapsed": true
   },
   "outputs": [],
   "source": [
    "from mpmath import degrees, radians\n",
    "from sympy import *\n",
    "from sympy.matrices import Matrix, eye"
   ]
  },
  {
   "cell_type": "code",
   "execution_count": 2,
   "metadata": {
    "collapsed": true
   },
   "outputs": [],
   "source": [
    "def col(input_tuple, h=0):\n",
    "    \"option: h=1 will output a homogenous coordinate column vector\"\n",
    "    matrixArg = [[item] for item in input_tuple]\n",
    "    if h: matrixArg.append([1])\n",
    "    return Matrix(matrixArg)"
   ]
  },
  {
   "cell_type": "code",
   "execution_count": 3,
   "metadata": {
    "collapsed": true
   },
   "outputs": [],
   "source": [
    "e_x = col((1, 0, 0))\n",
    "e_y = col((0, 1, 0))\n",
    "e_z = col((0, 0, 1))"
   ]
  },
  {
   "cell_type": "code",
   "execution_count": 6,
   "metadata": {
    "collapsed": true
   },
   "outputs": [],
   "source": [
    "### Create symbols for DH parameters\n",
    "# General parameters:\n",
    "# alpha, a, d, q = symbols('alpha, a, d, q')\n",
    "# Indexed parameters:\n",
    "q1, q2, q3, q4, q5, q6, q7 = symbols('q1:8')  # theta angles\n",
    "d1, d2, d3, d4, d5, d6, d7 = symbols('d1:8')\n",
    "a0, a1, a2, a3, a4, a5, a6 = symbols('a0:7')\n",
    "alpha0, alpha1, alpha2, alpha3, alpha4, alpha5, alpha6 = symbols('alpha0:7')\n",
    "# Enter table of values:\n",
    "dh = {alpha0: 0,        a0: 0,      d1: 0.75,   #q1: q1,\n",
    "      alpha1: -pi / 2,  a1: 0.35,   d2: 0,      q2: q2 - pi / 2,\n",
    "      alpha2: 0,        a2: 1.25,   d3: 0,      #q3: q3,\n",
    "      alpha3: -pi / 2,  a3: -0.054, d4: 1.50,   #q4: q4,\n",
    "      alpha4: pi / 2,   a4: 0,      d5: 0,      #q5: q5,\n",
    "      alpha5: -pi / 2,  a5: 0,      d6: 0,      #q6: q6,\n",
    "      alpha6: 0,        a6: 0,      d7: 0.303,  q7: 0\n",
    "      }"
   ]
  },
  {
   "cell_type": "code",
   "execution_count": 7,
   "metadata": {
    "collapsed": true
   },
   "outputs": [],
   "source": [
    "def composeRotations(rotation_list):\n",
    "    \"rotation_list contains tuples of form (axis, radian_angle), where axis is an element of {'x', 'y', 'z'}\"\n",
    "    def rot_x(q):\n",
    "        R_x = Matrix([[ 1,              0,        0],\n",
    "                      [ 0,        cos(q),   -sin(q)],\n",
    "                      [ 0,        sin(q),    cos(q)]])\n",
    "        return R_x\n",
    "\n",
    "    def rot_y(q):\n",
    "        R_y =  Matrix([[ cos(q),        0,  sin(q)],\n",
    "                       [       0,        1,        0],\n",
    "                       [-sin(q),        0,  cos(q)]])\n",
    "        return R_y\n",
    "\n",
    "    def rot_z(q): \n",
    "        R_z = Matrix([[ cos(q), -sin(q),        0],\n",
    "                      [ sin(q),  cos(q),        0],\n",
    "                      [ 0,            0,        1]])\n",
    "        return R_z\n",
    "    \n",
    "    rMat = eye(3)\n",
    "    for rotation in rotation_list:\n",
    "        rotation_axis, rotation_angle = rotation[0], rotation[1]\n",
    "        rr = eval('rot_{}({})'.format(rotation_axis, rotation_angle))\n",
    "        rMat = rr * rMat\n",
    "    return rMat\n",
    "\n",
    "def TF_matrix(rotation_list=[], translation=(0, 0, 0)):\n",
    "    \"rotation_list formatted for composeRotations(),\"\n",
    "    TFmat = composeRotations(rotation_list)    \n",
    "    TFmat = TFmat.row_join(col(translation))\n",
    "    TFmat = TFmat.col_join(Matrix([[0, 0, 0, 1]]))\n",
    "    return TFmat\n",
    "\n",
    "def DH_TF(alpha, a, d, q):\n",
    "    # alpha, a, d, q = twist_angle, link_length, joint_angle, link_offset\n",
    "    subT_x = TF_matrix([('x', alpha)], (a, 0, 0))\n",
    "    subT_z = TF_matrix([('z', q)], (0, 0, d))\n",
    "    return subT_x * subT_z\n",
    "\n",
    "def dissect_TF(DH_TF_mat):\n",
    "    rot_mat = DH_TF_mat[0:3, 0:3]\n",
    "    xlt_mat = DH_TF_mat[0:3, 3]\n",
    "    return rot_mat, xlt_mat\n",
    "\n",
    "def rotation_matrix_from(DH_TF_mat):\n",
    "    return DH_TF_mat[0:3, 0:3]\n",
    "\n",
    "def translation_column_from(DH_TF_mat):\n",
    "    return DH_TF_mat[0:3, 3]\n",
    "\n",
    "def vector_cross_angle(first_vector, second_vector):\n",
    "    # The vector arguments should be Matrix objects with three elements\n",
    "    unit_1 = first_vector.normalized()\n",
    "    unit_2 = second_vector.normalized()\n",
    "    cross_vector = unit_1.cross(unit_2)\n",
    "    return N(asin(cross_vector.norm()))\n",
    "\n",
    "def vector_cross_unit(first_vector, second_vector):\n",
    "    # The vector arguments should be Matrix objects with three elements\n",
    "    unit_1 = first_vector.normalized()\n",
    "    unit_2 = second_vector.normalized()\n",
    "    cross_vector = unit_1.cross(unit_2)\n",
    "    return cross_vector.normalized()"
   ]
  },
  {
   "cell_type": "code",
   "execution_count": 8,
   "metadata": {
    "collapsed": true
   },
   "outputs": [
    {
     "data": {
      "text/plain": [
       "Matrix([\n",
       "[-sin(q4)*sin(q6)*cos(q5) + cos(q4)*cos(q6), -sin(q4)*cos(q5)*cos(q6) - sin(q6)*cos(q4),  sin(q4)*sin(q5)],\n",
       "[ sin(q4)*cos(q6) + sin(q6)*cos(q4)*cos(q5), -sin(q4)*sin(q6) + cos(q4)*cos(q5)*cos(q6), -sin(q5)*cos(q4)],\n",
       "[                           sin(q5)*sin(q6),                            sin(q5)*cos(q6),          cos(q5)]])"
      ]
     },
     "execution_count": 8,
     "metadata": {},
     "output_type": "execute_result"
    }
   ],
   "source": [
    "# t4, t5, t6 = symbols('t4, t5, t6')\n",
    "R_abc = simplify(composeRotations([('z', q6), ('x', q5), ('z', q4)]))\n",
    "R_abc"
   ]
  },
  {
   "cell_type": "code",
   "execution_count": 9,
   "metadata": {
    "collapsed": true
   },
   "outputs": [],
   "source": [
    "init_printing(use_latex='mathjax')"
   ]
  },
  {
   "cell_type": "code",
   "execution_count": 10,
   "metadata": {
    "collapsed": true
   },
   "outputs": [
    {
     "data": {
      "text/latex": [
       "$$\\left[\\begin{matrix}\\sin{\\left (q_{4} \\right )} \\sin{\\left (q_{5} \\right )} & \\sin{\\left (q_{4} \\right )} \\cos{\\left (q_{5} \\right )} \\cos{\\left (q_{6} \\right )} + \\sin{\\left (q_{6} \\right )} \\cos{\\left (q_{4} \\right )} & - \\sin{\\left (q_{4} \\right )} \\sin{\\left (q_{6} \\right )} \\cos{\\left (q_{5} \\right )} + \\cos{\\left (q_{4} \\right )} \\cos{\\left (q_{6} \\right )}\\\\- \\sin{\\left (q_{5} \\right )} \\cos{\\left (q_{4} \\right )} & \\sin{\\left (q_{4} \\right )} \\sin{\\left (q_{6} \\right )} - \\cos{\\left (q_{4} \\right )} \\cos{\\left (q_{5} \\right )} \\cos{\\left (q_{6} \\right )} & \\sin{\\left (q_{4} \\right )} \\cos{\\left (q_{6} \\right )} + \\sin{\\left (q_{6} \\right )} \\cos{\\left (q_{4} \\right )} \\cos{\\left (q_{5} \\right )}\\\\\\cos{\\left (q_{5} \\right )} & - \\sin{\\left (q_{5} \\right )} \\cos{\\left (q_{6} \\right )} & \\sin{\\left (q_{5} \\right )} \\sin{\\left (q_{6} \\right )}\\end{matrix}\\right]$$"
      ],
      "text/plain": [
       "⎡sin(q₄)⋅sin(q₅)   sin(q₄)⋅cos(q₅)⋅cos(q₆) + sin(q₆)⋅cos(q₄)  -sin(q₄)⋅sin(q₆)\n",
       "⎢                                                                             \n",
       "⎢-sin(q₅)⋅cos(q₄)  sin(q₄)⋅sin(q₆) - cos(q₄)⋅cos(q₅)⋅cos(q₆)  sin(q₄)⋅cos(q₆) \n",
       "⎢                                                                             \n",
       "⎣    cos(q₅)                   -sin(q₅)⋅cos(q₆)                            sin\n",
       "\n",
       "⋅cos(q₅) + cos(q₄)⋅cos(q₆)⎤\n",
       "                          ⎥\n",
       "+ sin(q₆)⋅cos(q₄)⋅cos(q₅) ⎥\n",
       "                          ⎥\n",
       "(q₅)⋅sin(q₆)              ⎦"
      ]
     },
     "execution_count": 10,
     "metadata": {},
     "output_type": "execute_result"
    }
   ],
   "source": [
    "R_corr = Matrix([\n",
    "    [0,  0,  1,  0],\n",
    "    [0, -1,  0,  0],\n",
    "    [1,  0,  0,  0],\n",
    "    [0,  0,  0,  1]])\n",
    "\n",
    "def composeRotations(rotation_list):\n",
    "    \"rotation_list contains tuples of form (axis, radian_angle), where axis is an element of {'x', 'y', 'z'}\"\n",
    "    def rot_x(q):\n",
    "        R_x = Matrix([[ 1,              0,        0],\n",
    "                      [ 0,        cos(q),   -sin(q)],\n",
    "                      [ 0,        sin(q),    cos(q)]])\n",
    "        return R_x\n",
    "\n",
    "    def rot_y(q):\n",
    "        R_y =  Matrix([[ cos(q),        0,  sin(q)],\n",
    "                       [       0,        1,        0],\n",
    "                       [-sin(q),        0,  cos(q)]])\n",
    "        return R_y\n",
    "\n",
    "    def rot_z(q): \n",
    "        R_z = Matrix([[ cos(q), -sin(q),        0],\n",
    "                      [ sin(q),  cos(q),        0],\n",
    "                      [ 0,            0,        1]])\n",
    "        return R_z\n",
    "    \n",
    "    rMat = eye(3)\n",
    "    for rotation in rotation_list:\n",
    "        rotation_axis, rotation_angle = rotation[0], rotation[1]\n",
    "        rr = eval('rot_{}({})'.format(rotation_axis, rotation_angle))\n",
    "        rMat = rr * rMat\n",
    "    return rMat\n",
    "\n",
    "R_abc = simplify(composeRotations([('z', q6), ('x', q5), ('z', q4)])) * R_corr[0:3, 0:3]\n",
    "r11 = R_abc[0, 0]\n",
    "r12 = R_abc[0, 1]\n",
    "r21 = R_abc[1, 0]\n",
    "r22 = R_abc[1, 1]\n",
    "term1 = simplify((r21*r21) + (r22*r22))\n",
    "term2 = simplify((r12*r12) + (r11*r11))\n",
    "sin_q5 = sqrt(-1 * (term1 + term2 - 2))\n",
    "R_abc"
   ]
  },
  {
   "cell_type": "code",
   "execution_count": 11,
   "metadata": {
    "collapsed": true
   },
   "outputs": [
    {
     "data": {
      "text/latex": [
       "$$\\operatorname{atan_{2}}{\\left (\\sqrt{- \\left(\\sin{\\left (q_{4} \\right )} \\sin{\\left (q_{6} \\right )} - \\cos{\\left (q_{4} \\right )} \\cos{\\left (q_{5} \\right )} \\cos{\\left (q_{6} \\right )}\\right)^{2} - \\left(\\sin{\\left (q_{4} \\right )} \\cos{\\left (q_{5} \\right )} \\cos{\\left (q_{6} \\right )} + \\sin{\\left (q_{6} \\right )} \\cos{\\left (q_{4} \\right )}\\right)^{2} - \\sin^{2}{\\left (q_{4} \\right )} \\sin^{2}{\\left (q_{5} \\right )} - \\sin^{2}{\\left (q_{5} \\right )} \\cos^{2}{\\left (q_{4} \\right )} + 2},\\sin{\\left (q_{5} \\right )} \\sin{\\left (q_{6} \\right )} \\right )}$$"
      ],
      "text/plain": [
       "     ⎛   _____________________________________________________________________\n",
       "     ⎜  ╱                                              2                      \n",
       "atan2⎝╲╱  - (sin(q₄)⋅sin(q₆) - cos(q₄)⋅cos(q₅)⋅cos(q₆))  - (sin(q₄)⋅cos(q₅)⋅co\n",
       "\n",
       "______________________________________________________________________        \n",
       "                        2      2        2          2        2                 \n",
       "s(q₆) + sin(q₆)⋅cos(q₄))  - sin (q₄)⋅sin (q₅) - sin (q₅)⋅cos (q₄) + 2 , sin(q₅\n",
       "\n",
       "         ⎞\n",
       "         ⎟\n",
       ")⋅sin(q₆)⎠"
      ]
     },
     "execution_count": 11,
     "metadata": {},
     "output_type": "execute_result"
    }
   ],
   "source": [
    "theta5 = atan2(sin_q5, R_abc[2, 2])\n",
    "theta5"
   ]
  },
  {
   "cell_type": "code",
   "execution_count": 12,
   "metadata": {
    "collapsed": true
   },
   "outputs": [],
   "source": [
    "# term2 = simplify((r12*r12) + (r11*r11))"
   ]
  },
  {
   "cell_type": "code",
   "execution_count": 13,
   "metadata": {
    "collapsed": true
   },
   "outputs": [
    {
     "data": {
      "text/latex": [
       "$$\\left(\\sin{\\left (q_{4} \\right )} \\cos{\\left (q_{5} \\right )} \\cos{\\left (q_{6} \\right )} + \\sin{\\left (q_{6} \\right )} \\cos{\\left (q_{4} \\right )}\\right)^{2} + \\sin^{2}{\\left (q_{4} \\right )} \\sin^{2}{\\left (q_{5} \\right )}$$"
      ],
      "text/plain": [
       "                                           2      2        2    \n",
       "(sin(q₄)⋅cos(q₅)⋅cos(q₆) + sin(q₆)⋅cos(q₄))  + sin (q₄)⋅sin (q₅)"
      ]
     },
     "execution_count": 13,
     "metadata": {},
     "output_type": "execute_result"
    }
   ],
   "source": [
    "simplify((r12*r12) + (r11*r11))"
   ]
  },
  {
   "cell_type": "code",
   "execution_count": 14,
   "metadata": {
    "collapsed": true
   },
   "outputs": [],
   "source": [
    "# %%timeit\n",
    "# alpha, a, d, q = symbols('alpha, a, d, q')\n",
    "# # Indexed parameters:\n",
    "# q1, q2, q3, q4, q5, q6, q7 = symbols('q1:8')  # theta angles\n",
    "# d1, d2, d3, d4, d5, d6, d7 = symbols('d1:8')\n",
    "# a0, a1, a2, a3, a4, a5, a6 = symbols('a0:7')\n",
    "# alpha0, alpha1, alpha2, alpha3, alpha4, alpha5, alpha6 = symbols('alpha0:7')\n",
    "# # Enter table of values:\n",
    "# dh = {alpha0: 0,        a0: 0,      d1: 0.75,   q1: q1,\n",
    "#       alpha1: -pi / 2,  a1: 0.35,   d2: 0,      q2: q2 # - pi / 2,\n",
    "#       alpha2: 0,        a2: 1.25,   d3: 0,      q3: q3,\n",
    "#       alpha3: -pi / 2,  a3: -0.054, d4: 1.50,   q4: q4,\n",
    "#       alpha4: pi / 2,   a4: 0,      d5: 0,      q5: q5,\n",
    "#       alpha5: -pi / 2,  a5: 0,      d6: 0,      q6: q6,\n",
    "#       alpha6: 0,        a6: 0,      d7: 0.303,  q7: 0\n",
    "#       }"
   ]
  },
  {
   "cell_type": "code",
   "execution_count": 15,
   "metadata": {
    "collapsed": true
   },
   "outputs": [],
   "source": [
    "# %%lsmagic"
   ]
  },
  {
   "cell_type": "code",
   "execution_count": 16,
   "metadata": {
    "collapsed": true
   },
   "outputs": [],
   "source": [
    "def TF_matrix(alpha, a, d, q):\n",
    "    TF = Matrix([\n",
    "        [           cos(q),             -sin(q),             0,               a],\n",
    "        [sin(q)*cos(alpha),   cos(q)*cos(alpha),   -sin(alpha),   -d*sin(alpha)],\n",
    "        [sin(q)*sin(alpha),   cos(q)*sin(alpha),    cos(alpha),    d*cos(alpha)],\n",
    "        [                0,                   0,             0,               1]])\n",
    "    return TF"
   ]
  },
  {
   "cell_type": "code",
   "execution_count": 17,
   "metadata": {
    "collapsed": true
   },
   "outputs": [
    {
     "ename": "SyntaxError",
     "evalue": "invalid syntax (<ipython-input-17-024c89e5e211>, line 1)",
     "output_type": "error",
     "traceback": [
      "\u001b[1;36m  File \u001b[1;32m\"<ipython-input-17-024c89e5e211>\"\u001b[1;36m, line \u001b[1;32m1\u001b[0m\n\u001b[1;33m    T0_1 =\u001b[0m\n\u001b[1;37m           ^\u001b[0m\n\u001b[1;31mSyntaxError\u001b[0m\u001b[1;31m:\u001b[0m invalid syntax\n"
     ]
    }
   ],
   "source": [
    "T0_1 = \n",
    "T1_2 = "
   ]
  },
  {
   "cell_type": "code",
   "execution_count": 20,
   "metadata": {
    "collapsed": true
   },
   "outputs": [],
   "source": [
    "# %%timeit\n",
    "T0_1 = Matrix([\n",
    "    [cos(q1),              -sin(q1),            0,              a0],\n",
    "    [sin(q1)*cos(alpha0),   cos(q1)*cos(alpha0),  -sin(alpha0),    -d1*sin(alpha0)],\n",
    "    [sin(q1)*sin(alpha0),   cos(q1)*sin(alpha0),  cos(alpha0),     d1*cos(alpha0)],\n",
    "    [0,                   0,                  0,              1]])\n",
    "T0_1 = T0_1.subs(dh)\n",
    "\n",
    "T1_2 = Matrix([\n",
    "    [cos(q2),              -sin(q2),            0,              a1],\n",
    "    [sin(q2)*cos(alpha1),   cos(q2)*cos(alpha1),  -sin(alpha1),    -d2*sin(alpha1)],\n",
    "    [sin(q2)*sin(alpha1),   cos(q2)*sin(alpha1),  cos(alpha1),     d2*cos(alpha1)],\n",
    "    [0,                   0,                  0,              1]])\n",
    "T1_2 = T1_2.subs(dh)\n",
    "\n",
    "T2_3 = Matrix([\n",
    "    [cos(q3),              -sin(q3),            0,              a2],\n",
    "    [sin(q3)*cos(alpha2),   cos(q3)*cos(alpha2),  -sin(alpha2),    -d3*sin(alpha2)],\n",
    "    [sin(q3)*sin(alpha2),   cos(q3)*sin(alpha2),  cos(alpha2),     d3*cos(alpha2)],\n",
    "    [0,                   0,                  0,              1]])\n",
    "T2_3 = T2_3.subs(dh)\n",
    "\n",
    "T3_4 = Matrix([\n",
    "    [cos(q4),               -sin(q4),               0,                  a3],\n",
    "    [sin(q4)*cos(alpha3),   cos(q4)*cos(alpha3),    -sin(alpha3),       -d4*sin(alpha3)],\n",
    "    [sin(q4)*sin(alpha3),   cos(q4)*sin(alpha3),    cos(alpha3),     d4*cos(alpha3)],\n",
    "    [0,                     0,                      0,              1]])\n",
    "T3_4 = T3_4.subs(dh)\n",
    "\n",
    "T4_5 = Matrix([\n",
    "    [cos(q5),               -sin(q5),            0,                  a4],\n",
    "    [sin(q5)*cos(alpha4),   cos(q5)*cos(alpha4), -sin(alpha4),     -d5*sin(alpha4)],\n",
    "    [sin(q5)*sin(alpha4),   cos(q5)*sin(alpha4), cos(alpha4),      d5*cos(alpha4)],\n",
    "    [0,                     0,                   0,              1]])\n",
    "T4_5 = T4_5.subs(dh)\n",
    "\n",
    "T5_6 = Matrix([\n",
    "    [cos(q6),               -sin(q6),               0,               a5],\n",
    "    [sin(q6)*cos(alpha5),   cos(q6)*cos(alpha5),    -sin(alpha5),    -d6*sin(alpha5)],\n",
    "    [sin(q6)*sin(alpha5),   cos(q6)*sin(alpha5),    cos(alpha5),     d6*cos(alpha5)],\n",
    "    [0,                     0,                      0,               1]])\n",
    "T5_6 = T5_6.subs(dh)\n",
    "\n",
    "T6_7 = Matrix([\n",
    "    [cos(q7),               -sin(q7),               0,              a6],\n",
    "    [sin(q7)*cos(alpha6),   cos(q7)*cos(alpha6),    -sin(alpha6),   -d7*sin(alpha6)],\n",
    "    [sin(q7)*sin(alpha6),   cos(q7)*sin(alpha6),    cos(alpha6),    d7*cos(alpha6)],\n",
    "    [0,                     0,                      0,              1]])\n",
    "T6_7 = T6_7.subs(dh)"
   ]
  },
  {
   "cell_type": "code",
   "execution_count": 21,
   "metadata": {
    "collapsed": true
   },
   "outputs": [],
   "source": [
    "R0_1 = T0_1[0:3, 0:3]\n",
    "R1_2 = T1_2[0:3, 0:3]\n",
    "R2_3 = T2_3[0:3, 0:3]\n",
    "R3_4 = T3_4[0:3, 0:3]\n",
    "R4_5 = T4_5[0:3, 0:3]\n",
    "R5_6 = T5_6[0:3, 0:3]"
   ]
  },
  {
   "cell_type": "code",
   "execution_count": 22,
   "metadata": {},
   "outputs": [
    {
     "data": {
      "text/latex": [
       "$$\\left[\\begin{matrix}\\left(\\left(\\sin{\\left (q_{1} \\right )} \\sin{\\left (q_{4} \\right )} + \\sin{\\left (q_{2} + q_{3} \\right )} \\cos{\\left (q_{1} \\right )} \\cos{\\left (q_{4} \\right )}\\right) \\cos{\\left (q_{5} \\right )} + \\sin{\\left (q_{5} \\right )} \\cos{\\left (q_{1} \\right )} \\cos{\\left (q_{2} + q_{3} \\right )}\\right) \\cos{\\left (q_{6} \\right )} - \\left(- \\sin{\\left (q_{1} \\right )} \\cos{\\left (q_{4} \\right )} + \\sin{\\left (q_{4} \\right )} \\sin{\\left (q_{2} + q_{3} \\right )} \\cos{\\left (q_{1} \\right )}\\right) \\sin{\\left (q_{6} \\right )} & - \\left(\\left(\\sin{\\left (q_{1} \\right )} \\sin{\\left (q_{4} \\right )} + \\sin{\\left (q_{2} + q_{3} \\right )} \\cos{\\left (q_{1} \\right )} \\cos{\\left (q_{4} \\right )}\\right) \\cos{\\left (q_{5} \\right )} + \\sin{\\left (q_{5} \\right )} \\cos{\\left (q_{1} \\right )} \\cos{\\left (q_{2} + q_{3} \\right )}\\right) \\sin{\\left (q_{6} \\right )} + \\left(\\sin{\\left (q_{1} \\right )} \\cos{\\left (q_{4} \\right )} - \\sin{\\left (q_{4} \\right )} \\sin{\\left (q_{2} + q_{3} \\right )} \\cos{\\left (q_{1} \\right )}\\right) \\cos{\\left (q_{6} \\right )} & - \\left(\\sin{\\left (q_{1} \\right )} \\sin{\\left (q_{4} \\right )} + \\sin{\\left (q_{2} + q_{3} \\right )} \\cos{\\left (q_{1} \\right )} \\cos{\\left (q_{4} \\right )}\\right) \\sin{\\left (q_{5} \\right )} + \\cos{\\left (q_{1} \\right )} \\cos{\\left (q_{5} \\right )} \\cos{\\left (q_{2} + q_{3} \\right )}\\\\\\left(\\left(\\sin{\\left (q_{1} \\right )} \\sin{\\left (q_{2} + q_{3} \\right )} \\cos{\\left (q_{4} \\right )} - \\sin{\\left (q_{4} \\right )} \\cos{\\left (q_{1} \\right )}\\right) \\cos{\\left (q_{5} \\right )} + \\sin{\\left (q_{1} \\right )} \\sin{\\left (q_{5} \\right )} \\cos{\\left (q_{2} + q_{3} \\right )}\\right) \\cos{\\left (q_{6} \\right )} - \\left(\\sin{\\left (q_{1} \\right )} \\sin{\\left (q_{4} \\right )} \\sin{\\left (q_{2} + q_{3} \\right )} + \\cos{\\left (q_{1} \\right )} \\cos{\\left (q_{4} \\right )}\\right) \\sin{\\left (q_{6} \\right )} & - \\left(\\left(\\sin{\\left (q_{1} \\right )} \\sin{\\left (q_{2} + q_{3} \\right )} \\cos{\\left (q_{4} \\right )} - \\sin{\\left (q_{4} \\right )} \\cos{\\left (q_{1} \\right )}\\right) \\cos{\\left (q_{5} \\right )} + \\sin{\\left (q_{1} \\right )} \\sin{\\left (q_{5} \\right )} \\cos{\\left (q_{2} + q_{3} \\right )}\\right) \\sin{\\left (q_{6} \\right )} - \\left(\\sin{\\left (q_{1} \\right )} \\sin{\\left (q_{4} \\right )} \\sin{\\left (q_{2} + q_{3} \\right )} + \\cos{\\left (q_{1} \\right )} \\cos{\\left (q_{4} \\right )}\\right) \\cos{\\left (q_{6} \\right )} & - \\left(\\sin{\\left (q_{1} \\right )} \\sin{\\left (q_{2} + q_{3} \\right )} \\cos{\\left (q_{4} \\right )} - \\sin{\\left (q_{4} \\right )} \\cos{\\left (q_{1} \\right )}\\right) \\sin{\\left (q_{5} \\right )} + \\sin{\\left (q_{1} \\right )} \\cos{\\left (q_{5} \\right )} \\cos{\\left (q_{2} + q_{3} \\right )}\\\\- \\left(\\sin{\\left (q_{5} \\right )} \\sin{\\left (q_{2} + q_{3} \\right )} - \\cos{\\left (q_{4} \\right )} \\cos{\\left (q_{5} \\right )} \\cos{\\left (q_{2} + q_{3} \\right )}\\right) \\cos{\\left (q_{6} \\right )} - \\sin{\\left (q_{4} \\right )} \\sin{\\left (q_{6} \\right )} \\cos{\\left (q_{2} + q_{3} \\right )} & \\left(\\sin{\\left (q_{5} \\right )} \\sin{\\left (q_{2} + q_{3} \\right )} - \\cos{\\left (q_{4} \\right )} \\cos{\\left (q_{5} \\right )} \\cos{\\left (q_{2} + q_{3} \\right )}\\right) \\sin{\\left (q_{6} \\right )} - \\sin{\\left (q_{4} \\right )} \\cos{\\left (q_{6} \\right )} \\cos{\\left (q_{2} + q_{3} \\right )} & - \\sin{\\left (q_{5} \\right )} \\cos{\\left (q_{4} \\right )} \\cos{\\left (q_{2} + q_{3} \\right )} - \\sin{\\left (q_{2} + q_{3} \\right )} \\cos{\\left (q_{5} \\right )}\\end{matrix}\\right]$$"
      ],
      "text/plain": [
       "⎡((sin(q₁)⋅sin(q₄) + sin(q₂ + q₃)⋅cos(q₁)⋅cos(q₄))⋅cos(q₅) + sin(q₅)⋅cos(q₁)⋅c\n",
       "⎢                                                                             \n",
       "⎢((sin(q₁)⋅sin(q₂ + q₃)⋅cos(q₄) - sin(q₄)⋅cos(q₁))⋅cos(q₅) + sin(q₁)⋅sin(q₅)⋅c\n",
       "⎢                                                                             \n",
       "⎣                                -(sin(q₅)⋅sin(q₂ + q₃) - cos(q₄)⋅cos(q₅)⋅cos(\n",
       "\n",
       "os(q₂ + q₃))⋅cos(q₆) - (-sin(q₁)⋅cos(q₄) + sin(q₄)⋅sin(q₂ + q₃)⋅cos(q₁))⋅sin(q\n",
       "                                                                              \n",
       "os(q₂ + q₃))⋅cos(q₆) - (sin(q₁)⋅sin(q₄)⋅sin(q₂ + q₃) + cos(q₁)⋅cos(q₄))⋅sin(q₆\n",
       "                                                                              \n",
       "q₂ + q₃))⋅cos(q₆) - sin(q₄)⋅sin(q₆)⋅cos(q₂ + q₃)                              \n",
       "\n",
       "₆)  -((sin(q₁)⋅sin(q₄) + sin(q₂ + q₃)⋅cos(q₁)⋅cos(q₄))⋅cos(q₅) + sin(q₅)⋅cos(q\n",
       "                                                                              \n",
       ")   -((sin(q₁)⋅sin(q₂ + q₃)⋅cos(q₄) - sin(q₄)⋅cos(q₁))⋅cos(q₅) + sin(q₁)⋅sin(q\n",
       "                                                                              \n",
       "                                    (sin(q₅)⋅sin(q₂ + q₃) - cos(q₄)⋅cos(q₅)⋅co\n",
       "\n",
       "₁)⋅cos(q₂ + q₃))⋅sin(q₆) + (sin(q₁)⋅cos(q₄) - sin(q₄)⋅sin(q₂ + q₃)⋅cos(q₁))⋅co\n",
       "                                                                              \n",
       "₅)⋅cos(q₂ + q₃))⋅sin(q₆) - (sin(q₁)⋅sin(q₄)⋅sin(q₂ + q₃) + cos(q₁)⋅cos(q₄))⋅co\n",
       "                                                                              \n",
       "s(q₂ + q₃))⋅sin(q₆) - sin(q₄)⋅cos(q₆)⋅cos(q₂ + q₃)                            \n",
       "\n",
       "s(q₆)  -(sin(q₁)⋅sin(q₄) + sin(q₂ + q₃)⋅cos(q₁)⋅cos(q₄))⋅sin(q₅) + cos(q₁)⋅cos\n",
       "                                                                              \n",
       "s(q₆)  -(sin(q₁)⋅sin(q₂ + q₃)⋅cos(q₄) - sin(q₄)⋅cos(q₁))⋅sin(q₅) + sin(q₁)⋅cos\n",
       "                                                                              \n",
       "                         -sin(q₅)⋅cos(q₄)⋅cos(q₂ + q₃) - sin(q₂ + q₃)⋅cos(q₅) \n",
       "\n",
       "(q₅)⋅cos(q₂ + q₃)⎤\n",
       "                 ⎥\n",
       "(q₅)⋅cos(q₂ + q₃)⎥\n",
       "                 ⎥\n",
       "                 ⎦"
      ]
     },
     "execution_count": 22,
     "metadata": {},
     "output_type": "execute_result"
    }
   ],
   "source": [
    "R0_6 = simplify(((((R0_1 * R1_2) * R2_3) * R3_4) * R4_5) * R5_6)\n",
    "R0_6"
   ]
  },
  {
   "cell_type": "code",
   "execution_count": 23,
   "metadata": {},
   "outputs": [
    {
     "data": {
      "text/latex": [
       "$$\\left[\\begin{matrix}\\sin{\\left (q_{2} + q_{3} \\right )} \\cos{\\left (q_{1} \\right )} & \\cos{\\left (q_{1} \\right )} \\cos{\\left (q_{2} + q_{3} \\right )} & - \\sin{\\left (q_{1} \\right )}\\\\\\sin{\\left (q_{1} \\right )} \\sin{\\left (q_{2} + q_{3} \\right )} & \\sin{\\left (q_{1} \\right )} \\cos{\\left (q_{2} + q_{3} \\right )} & \\cos{\\left (q_{1} \\right )}\\\\\\cos{\\left (q_{2} + q_{3} \\right )} & - \\sin{\\left (q_{2} + q_{3} \\right )} & 0\\end{matrix}\\right]$$"
      ],
      "text/plain": [
       "⎡sin(q₂ + q₃)⋅cos(q₁)  cos(q₁)⋅cos(q₂ + q₃)  -sin(q₁)⎤\n",
       "⎢                                                    ⎥\n",
       "⎢sin(q₁)⋅sin(q₂ + q₃)  sin(q₁)⋅cos(q₂ + q₃)  cos(q₁) ⎥\n",
       "⎢                                                    ⎥\n",
       "⎣    cos(q₂ + q₃)         -sin(q₂ + q₃)         0    ⎦"
      ]
     },
     "execution_count": 23,
     "metadata": {},
     "output_type": "execute_result"
    }
   ],
   "source": [
    "R0_3 = simplify((R0_1 * R1_2) * R2_3)\n",
    "R0_3"
   ]
  },
  {
   "cell_type": "code",
   "execution_count": 24,
   "metadata": {},
   "outputs": [
    {
     "name": "stdout",
     "output_type": "stream",
     "text": [
      "Matrix([\n",
      "[sin(q2 + q3)*cos(q1), sin(q1)*sin(q2 + q3),  cos(q2 + q3)],\n",
      "[cos(q1)*cos(q2 + q3), sin(q1)*cos(q2 + q3), -sin(q2 + q3)],\n",
      "[            -sin(q1),              cos(q1),             0]])\n"
     ]
    }
   ],
   "source": [
    "invR03 = simplify(R0_3.inv(method=\"LU\"))\n",
    "print(repr(invR03))"
   ]
  },
  {
   "cell_type": "code",
   "execution_count": null,
   "metadata": {
    "collapsed": true
   },
   "outputs": [],
   "source": [
    "# # %%timeit\n",
    "# print(\"Method 1:\\n\")\n",
    "# %time T0_2 = simplify(T0_1 * T1_2)\n",
    "# %time T0_3 = simplify(T0_2 * T2_3)\n",
    "# %time T0_4 = simplify(T0_3 * T3_4)\n",
    "# %time T0_5 = simplify(T0_4 * T4_5)\n",
    "# %time T0_6 = simplify(T0_5 * T5_6)\n",
    "# %time T0_7 = simplify(T0_6 * T6_7)\n",
    "# # print(\"Method 2:\\n\")\n",
    "# %time T0_3_alt = simplify(T0_1 * T1_2 * T2_3)\n",
    "# %time T3_7_alt = simplify(T3_4 * T4_5 * T5_6 * T6_7)\n",
    "# %time T0_7_alt = T0_3_alt * T3_7_alt\n",
    "# %time T0_7_alt = simplify(T0_7_alt)\n",
    "\n",
    "\n",
    "# # %time T0_4 = simplify(T0_3 * T3_4)\n",
    "# # %time T0_5 = simplify(T0_4 * T4_5)\n",
    "# # %time T0_6 = simplify(T0_5 * T5_6)\n",
    "# # %time T0_7 = simplify(T0_6 * T6_7)"
   ]
  },
  {
   "cell_type": "code",
   "execution_count": 25,
   "metadata": {
    "collapsed": true
   },
   "outputs": [],
   "source": [
    "T0_2 = simplify(T0_1 * T1_2)\n",
    "T0_3 = simplify(T0_2 * T2_3)\n",
    "T0_4 = simplify(T0_3 * T3_4)\n",
    "T0_5 = simplify(T0_4 * T4_5)\n",
    "T0_6 = simplify(T0_5 * T5_6)\n",
    "T0_7 = simplify(T0_6 * T6_7)\n",
    "\n",
    "R0_3 = T0_3[0:3, 0:3]\n",
    "wc = T0_4[0:3, 3]"
   ]
  },
  {
   "cell_type": "code",
   "execution_count": 26,
   "metadata": {},
   "outputs": [],
   "source": [
    "# R0_6 = T0_6[0:3, 0:3]\n",
    "# R0_6"
   ]
  },
  {
   "cell_type": "code",
   "execution_count": 27,
   "metadata": {
    "collapsed": true
   },
   "outputs": [
    {
     "ename": "NameError",
     "evalue": "name 'R0_6_alt' is not defined",
     "output_type": "error",
     "traceback": [
      "\u001b[1;31m---------------------------------------------------------------------------\u001b[0m",
      "\u001b[1;31mNameError\u001b[0m                                 Traceback (most recent call last)",
      "\u001b[1;32m<ipython-input-27-ed909b4d1a5d>\u001b[0m in \u001b[0;36m<module>\u001b[1;34m()\u001b[0m\n\u001b[1;32m----> 1\u001b[1;33m \u001b[0mR0_6\u001b[0m \u001b[1;33m==\u001b[0m \u001b[0mR0_6_alt\u001b[0m\u001b[1;33m\u001b[0m\u001b[0m\n\u001b[0m",
      "\u001b[1;31mNameError\u001b[0m: name 'R0_6_alt' is not defined"
     ]
    }
   ],
   "source": [
    "R0_6 == R0_6_alt"
   ]
  },
  {
   "cell_type": "code",
   "execution_count": null,
   "metadata": {},
   "outputs": [],
   "source": [
    "fk_EE = simplify(T0_7[0:3, 3])\n",
    "print(fk_EE)"
   ]
  },
  {
   "cell_type": "code",
   "execution_count": null,
   "metadata": {
    "collapsed": true
   },
   "outputs": [],
   "source": [
    "# T0_4 = simplify(((T0_1 * T1_2) * T2_3) * T3_4)\n",
    "# T0_4"
   ]
  },
  {
   "cell_type": "code",
   "execution_count": null,
   "metadata": {
    "collapsed": true
   },
   "outputs": [],
   "source": [
    "# T0_4 = simplify((simplify(T0_1 * T1_2) * T2_3) * T3_4))\n",
    "# print(repr(T0_4))"
   ]
  },
  {
   "cell_type": "code",
   "execution_count": null,
   "metadata": {
    "collapsed": true
   },
   "outputs": [],
   "source": [
    "# R0_3 = T0_3[0:3, 0:3]\n",
    "# wc = T0_4[0:3, 3]\n",
    "# R0_3"
   ]
  },
  {
   "cell_type": "code",
   "execution_count": null,
   "metadata": {
    "collapsed": true
   },
   "outputs": [],
   "source": [
    "# print(repr(wc))"
   ]
  },
  {
   "cell_type": "code",
   "execution_count": null,
   "metadata": {
    "collapsed": true
   },
   "outputs": [],
   "source": [
    "# %%timeit\n",
    "# T3_7 = simplify(T3_4 * T4_5) * simplify(T5_6 * T6_7)\n",
    "# T0_7 = simplify(T0"
   ]
  },
  {
   "cell_type": "code",
   "execution_count": null,
   "metadata": {
    "collapsed": true
   },
   "outputs": [],
   "source": [
    "qdict = {q1: 0, q2: 0, q3: 0, q4: 0, q5: 0, q6: 0}"
   ]
  },
  {
   "cell_type": "code",
   "execution_count": null,
   "metadata": {
    "collapsed": true
   },
   "outputs": [],
   "source": [
    "# T0_7 = simplify(T0_3 * T3_7)"
   ]
  },
  {
   "cell_type": "code",
   "execution_count": null,
   "metadata": {
    "collapsed": true
   },
   "outputs": [],
   "source": [
    "# ee = T0_7[0:3, 3]\n",
    "# ee.subs(qdict)"
   ]
  },
  {
   "cell_type": "code",
   "execution_count": null,
   "metadata": {
    "collapsed": true
   },
   "outputs": [],
   "source": [
    "# T0_7 = simplify(T0_3 * (simplify(T3_4 * T4_5) * simplify(T5_6 * T6_7)))\n",
    "# T0_7 = simplify(T0_7)"
   ]
  },
  {
   "cell_type": "code",
   "execution_count": null,
   "metadata": {
    "collapsed": true
   },
   "outputs": [],
   "source": [
    "# print(repr(T0_3"
   ]
  },
  {
   "cell_type": "code",
   "execution_count": null,
   "metadata": {
    "collapsed": true
   },
   "outputs": [],
   "source": [
    "# T0_7"
   ]
  },
  {
   "cell_type": "code",
   "execution_count": null,
   "metadata": {
    "collapsed": true
   },
   "outputs": [],
   "source": [
    "# print(repr(R0_3))"
   ]
  },
  {
   "cell_type": "code",
   "execution_count": null,
   "metadata": {},
   "outputs": [],
   "source": [
    "# %%timeit\n",
    "Rinv0_3 = simplify(R0_3.inv(method=\"LU\"))\n",
    "print(repr(Rinv0_3))"
   ]
  },
  {
   "cell_type": "code",
   "execution_count": null,
   "metadata": {},
   "outputs": [],
   "source": [
    "Rinv0_3 == invR03_alt"
   ]
  },
  {
   "cell_type": "code",
   "execution_count": null,
   "metadata": {
    "collapsed": true
   },
   "outputs": [],
   "source": [
    "# %%timeit\n",
    "# R_z = Matrix([[ cos(pi),     -sin(pi),        0,        0],\n",
    "#               [ sin(pi),      cos(pi),        0,        0],\n",
    "#               [       0,            0,        1,        0],\n",
    "#               [       0,            0,        0,        1]\n",
    "#               ]) \n",
    "# R_y = Matrix([[ cos(-pi/2),        0,  sin(-pi/2),        0],\n",
    "#               [          0,        1,           0,        0],\n",
    "#               [-sin(-pi/2),        0,  cos(-pi/2),        0],\n",
    "#               [          0,        0,           0,        1]\n",
    "#               ])\n",
    "# R_corr = N(R_z * R_y)"
   ]
  },
  {
   "cell_type": "code",
   "execution_count": null,
   "metadata": {
    "collapsed": true
   },
   "outputs": [],
   "source": [
    "# %%timeit\n",
    "R_corr = Matrix([\n",
    "    [0,  0,  1,  0],\n",
    "    [0, -1,  0,  0],\n",
    "    [1,  0,  0,  0],\n",
    "    [0,  0,  0,  1]])"
   ]
  },
  {
   "cell_type": "code",
   "execution_count": null,
   "metadata": {},
   "outputs": [],
   "source": [
    "R3_6_alt = simplify(Rinv0_3 * R0_6_alt)\n",
    "R3_6_alt"
   ]
  },
  {
   "cell_type": "code",
   "execution_count": 9,
   "metadata": {
    "collapsed": true
   },
   "outputs": [],
   "source": [
    "T_total = simplify(T0_7 * R_corr)"
   ]
  },
  {
   "cell_type": "code",
   "execution_count": null,
   "metadata": {
    "collapsed": true
   },
   "outputs": [],
   "source": [
    "T_total"
   ]
  },
  {
   "cell_type": "code",
   "execution_count": null,
   "metadata": {
    "collapsed": true
   },
   "outputs": [],
   "source": [
    "T_total = simplify(T_total)\n",
    "# T_total"
   ]
  },
  {
   "cell_type": "code",
   "execution_count": 47,
   "metadata": {},
   "outputs": [
    {
     "data": {
      "text/latex": [
       "$$\\left[\\begin{matrix}- \\sin{\\left (q_{4} \\right )} \\sin{\\left (q_{6} \\right )} + \\cos{\\left (q_{4} \\right )} \\cos{\\left (q_{5} \\right )} \\cos{\\left (q_{6} \\right )} & - \\sin{\\left (q_{4} \\right )} \\cos{\\left (q_{6} \\right )} - \\sin{\\left (q_{6} \\right )} \\cos{\\left (q_{4} \\right )} \\cos{\\left (q_{5} \\right )} & \\frac{1}{2} \\sin{\\left (q_{4} - q_{5} \\right )} - \\frac{1}{2} \\sin{\\left (q_{4} + q_{5} \\right )}\\\\\\sin{\\left (q_{5} \\right )} \\cos{\\left (q_{6} \\right )} & - \\sin{\\left (q_{5} \\right )} \\sin{\\left (q_{6} \\right )} & \\cos{\\left (q_{5} \\right )}\\\\- \\sin{\\left (q_{4} \\right )} \\cos{\\left (q_{5} \\right )} \\cos{\\left (q_{6} \\right )} - \\sin{\\left (q_{6} \\right )} \\cos{\\left (q_{4} \\right )} & \\sin{\\left (q_{4} \\right )} \\sin{\\left (q_{6} \\right )} \\cos{\\left (q_{5} \\right )} - \\cos{\\left (q_{4} \\right )} \\cos{\\left (q_{6} \\right )} & \\sin{\\left (q_{4} \\right )} \\sin{\\left (q_{5} \\right )}\\end{matrix}\\right]$$"
      ],
      "text/plain": [
       "⎡                                                                             \n",
       "⎢-sin(q₄)⋅sin(q₆) + cos(q₄)⋅cos(q₅)⋅cos(q₆)  -sin(q₄)⋅cos(q₆) - sin(q₆)⋅cos(q₄\n",
       "⎢                                                                             \n",
       "⎢                                                                             \n",
       "⎢             sin(q₅)⋅cos(q₆)                             -sin(q₅)⋅sin(q₆)    \n",
       "⎢                                                                             \n",
       "⎣-sin(q₄)⋅cos(q₅)⋅cos(q₆) - sin(q₆)⋅cos(q₄)  sin(q₄)⋅sin(q₆)⋅cos(q₅) - cos(q₄)\n",
       "\n",
       "           sin(q₄ - q₅)   sin(q₄ + q₅)⎤\n",
       ")⋅cos(q₅)  ──────────── - ────────────⎥\n",
       "                2              2      ⎥\n",
       "                                      ⎥\n",
       "                     cos(q₅)          ⎥\n",
       "                                      ⎥\n",
       "⋅cos(q₆)         sin(q₄)⋅sin(q₅)      ⎦"
      ]
     },
     "execution_count": 47,
     "metadata": {},
     "output_type": "execute_result"
    }
   ],
   "source": [
    "R3_6 = simplify(Rinv0_3 * R0_6)\n",
    "R3_6"
   ]
  },
  {
   "cell_type": "code",
   "execution_count": 58,
   "metadata": {},
   "outputs": [
    {
     "data": {
      "text/latex": [
       "$$- \\sin{\\left (q_{5} \\right )} \\cos{\\left (q_{4} \\right )}$$"
      ],
      "text/plain": [
       "-sin(q₅)⋅cos(q₄)"
      ]
     },
     "execution_count": 58,
     "metadata": {},
     "output_type": "execute_result"
    }
   ],
   "source": [
    "simplify(sin(q4 - q5)/2 - sin(q4 + q5)/2)"
   ]
  },
  {
   "cell_type": "code",
   "execution_count": 65,
   "metadata": {},
   "outputs": [
    {
     "data": {
      "text/latex": [
       "$$\\left[\\begin{matrix}- \\sin{\\left (q_{4} \\right )} \\sin{\\left (q_{6} \\right )} + \\cos{\\left (q_{4} \\right )} \\cos{\\left (q_{5} \\right )} \\cos{\\left (q_{6} \\right )} & - \\sin{\\left (q_{4} \\right )} \\cos{\\left (q_{6} \\right )} - \\sin{\\left (q_{6} \\right )} \\cos{\\left (q_{4} \\right )} \\cos{\\left (q_{5} \\right )} & - \\sin{\\left (q_{5} \\right )} \\cos{\\left (q_{4} \\right )}\\\\\\sin{\\left (q_{5} \\right )} \\cos{\\left (q_{6} \\right )} & - \\sin{\\left (q_{5} \\right )} \\sin{\\left (q_{6} \\right )} & \\cos{\\left (q_{5} \\right )}\\\\- \\sin{\\left (q_{4} \\right )} \\cos{\\left (q_{5} \\right )} \\cos{\\left (q_{6} \\right )} - \\sin{\\left (q_{6} \\right )} \\cos{\\left (q_{4} \\right )} & \\sin{\\left (q_{4} \\right )} \\sin{\\left (q_{6} \\right )} \\cos{\\left (q_{5} \\right )} - \\cos{\\left (q_{4} \\right )} \\cos{\\left (q_{6} \\right )} & \\sin{\\left (q_{4} \\right )} \\sin{\\left (q_{5} \\right )}\\end{matrix}\\right]$$"
      ],
      "text/plain": [
       "⎡-sin(q₄)⋅sin(q₆) + cos(q₄)⋅cos(q₅)⋅cos(q₆)  -sin(q₄)⋅cos(q₆) - sin(q₆)⋅cos(q₄\n",
       "⎢                                                                             \n",
       "⎢             sin(q₅)⋅cos(q₆)                             -sin(q₅)⋅sin(q₆)    \n",
       "⎢                                                                             \n",
       "⎣-sin(q₄)⋅cos(q₅)⋅cos(q₆) - sin(q₆)⋅cos(q₄)  sin(q₄)⋅sin(q₆)⋅cos(q₅) - cos(q₄)\n",
       "\n",
       ")⋅cos(q₅)  -sin(q₅)⋅cos(q₄)⎤\n",
       "                           ⎥\n",
       "               cos(q₅)     ⎥\n",
       "                           ⎥\n",
       "⋅cos(q₆)   sin(q₄)⋅sin(q₅) ⎦"
      ]
     },
     "execution_count": 65,
     "metadata": {},
     "output_type": "execute_result"
    }
   ],
   "source": [
    "R3_6_edit = Matrix([\n",
    "    [-sin(q4)*sin(q6) + cos(q4)*cos(q5)*cos(q6), -sin(q4)*cos(q6) - sin(q6)*cos(q4)*cos(q5), -cos(q4)*sin(q5)],\n",
    "    [                           sin(q5)*cos(q6),                           -sin(q5)*sin(q6),          cos(q5)],\n",
    "    [-sin(q4)*cos(q5)*cos(q6) - sin(q6)*cos(q4),  sin(q4)*sin(q6)*cos(q5) - cos(q4)*cos(q6),  sin(q4)*sin(q5)]])\n",
    "R3_6_edit"
   ]
  },
  {
   "cell_type": "code",
   "execution_count": 66,
   "metadata": {
    "collapsed": true
   },
   "outputs": [],
   "source": [
    "r11 = R3_6_edit[0, 0]\n",
    "r12 = R3_6_edit[0, 1]\n",
    "r13 = R3_6_edit[0, 2]\n",
    "r21 = R3_6_edit[1, 0]\n",
    "r22 = R3_6_edit[1, 1]\n",
    "r23 = R3_6_edit[1, 2]\n",
    "r31 = R3_6_edit[2, 0]\n",
    "r32 = R3_6_edit[2, 1]\n",
    "r33 = R3_6_edit[2, 2]"
   ]
  },
  {
   "cell_type": "code",
   "execution_count": 1,
   "metadata": {},
   "outputs": [
    {
     "ename": "NameError",
     "evalue": "name 'simplify' is not defined",
     "output_type": "error",
     "traceback": [
      "\u001b[1;31m---------------------------------------------------------------------------\u001b[0m",
      "\u001b[1;31mNameError\u001b[0m                                 Traceback (most recent call last)",
      "\u001b[1;32m<ipython-input-1-162c1502219d>\u001b[0m in \u001b[0;36m<module>\u001b[1;34m()\u001b[0m\n\u001b[1;32m----> 1\u001b[1;33m \u001b[0msimplify\u001b[0m\u001b[1;33m(\u001b[0m\u001b[0mr11\u001b[0m\u001b[1;33m*\u001b[0m\u001b[0mr11\u001b[0m \u001b[1;33m+\u001b[0m \u001b[0mr12\u001b[0m\u001b[1;33m*\u001b[0m\u001b[0mr12\u001b[0m\u001b[1;33m)\u001b[0m\u001b[1;33m\u001b[0m\u001b[0m\n\u001b[0m",
      "\u001b[1;31mNameError\u001b[0m: name 'simplify' is not defined"
     ]
    }
   ],
   "source": [
    "# simplify(r11*r11 + r12*r12)"
   ]
  },
  {
   "cell_type": "code",
   "execution_count": 60,
   "metadata": {},
   "outputs": [
    {
     "data": {
      "text/latex": [
       "$$- \\tan{\\left (q_{6} \\right )}$$"
      ],
      "text/plain": [
       "-tan(q₆)"
      ]
     },
     "execution_count": 60,
     "metadata": {},
     "output_type": "execute_result"
    }
   ],
   "source": [
    "simplify(r22/r21)"
   ]
  },
  {
   "cell_type": "code",
   "execution_count": 61,
   "metadata": {
    "collapsed": true
   },
   "outputs": [],
   "source": [
    "theta6 = -atan2(r22, r21)"
   ]
  },
  {
   "cell_type": "code",
   "execution_count": 68,
   "metadata": {},
   "outputs": [
    {
     "data": {
      "text/latex": [
       "$$- \\tan{\\left (q_{4} \\right )}$$"
      ],
      "text/plain": [
       "-tan(q₄)"
      ]
     },
     "execution_count": 68,
     "metadata": {},
     "output_type": "execute_result"
    }
   ],
   "source": [
    "simplify(r33/r13)"
   ]
  },
  {
   "cell_type": "code",
   "execution_count": 69,
   "metadata": {
    "collapsed": true
   },
   "outputs": [],
   "source": [
    "theta4 = -atan2(r33, r13)"
   ]
  },
  {
   "cell_type": "code",
   "execution_count": null,
   "metadata": {
    "collapsed": true
   },
   "outputs": [],
   "source": [
    "sin_q5 = sqrt(-1 * (simplify(r11*r11 + r12*r12) + simplify(r31*r31 + r32*r32) - 2))\n",
    "theta5 = atan2(sin_q5, r23)"
   ]
  },
  {
   "cell_type": "code",
   "execution_count": null,
   "metadata": {
    "collapsed": true
   },
   "outputs": [],
   "source": [
    "# r11 = R3_6_edit[0, 0]\n",
    "# r12 = R3_6_edit[0, 1]\n",
    "# r13 = R3_6_edit[0, 2]\n",
    "# r21 = R3_6_edit[1, 0]\n",
    "# r22 = R3_6_edit[1, 1]\n",
    "# r23 = R3_6_edit[1, 2]\n",
    "# r31 = R3_6_edit[2, 0]\n",
    "# r32 = R3_6_edit[2, 1]\n",
    "# r33 = R3_6_edit[2, 2]\n",
    "\n",
    "# theta4 = -atan2(r33, r13)\n",
    "\n",
    "# sin_q5 = sqrt(-1 * (simplify(r11*r11 + r12*r12) + simplify(r31*r31 + r32*r32) - 2))\n",
    "# theta5 = atan2(sin_q5, r23)\n",
    "\n",
    "# theta6 = -atan2(r22, r21)"
   ]
  },
  {
   "cell_type": "code",
   "execution_count": 3,
   "metadata": {},
   "outputs": [
    {
     "data": {
      "text/plain": [
       "0.0359844600820516"
      ]
     },
     "execution_count": 3,
     "metadata": {},
     "output_type": "execute_result"
    }
   ],
   "source": [
    "# j4_correction = \n",
    "N(atan2(0.054, 1.50))"
   ]
  },
  {
   "cell_type": "code",
   "execution_count": 19,
   "metadata": {
    "collapsed": true
   },
   "outputs": [],
   "source": [
    "r, p, y = symbols('r p y')\n",
    "\n",
    "\n",
    "R_x = Matrix([[ 1,            0,       0],\n",
    "              [ 0,       cos(r), -sin(r)],\n",
    "              [ 0,       sin(r),  cos(r)]])\n",
    "\n",
    "R_y = Matrix([[ cos(p),       0,  sin(p)],\n",
    "              [      0,       1,       0],\n",
    "              [-sin(p),       0,  cos(p)]])\n",
    "\n",
    "R_z = Matrix([[ cos(y), -sin(y),       0],\n",
    "              [ sin(y),  cos(y),       0],\n",
    "              [ 0,            0,       1]])\n",
    "\n",
    "R_EE = R_z * R_y * R_x\n",
    "\n",
    "R_error = R_z.subs(y, radians(180)) * R_y.subs(p, radians(-90))\n",
    "\n",
    "R_corr = Matrix([\n",
    "            [ 0,  0,  1],\n",
    "            [ 0, -1,  0],\n",
    "            [ 1,  0,  0]])\n",
    "\n",
    "R_EE = R_EE * R_error\n",
    "\n",
    "# R_EE = R_EE.subs({r: roll, p: pitch, y: yaw})"
   ]
  },
  {
   "cell_type": "code",
   "execution_count": 21,
   "metadata": {},
   "outputs": [
    {
     "data": {
      "text/plain": [
       "Matrix([\n",
       "[sin(p)*cos(r)*cos(y) + sin(r)*sin(y), -sin(p)*sin(r)*cos(y) + sin(y)*cos(r), cos(p)*cos(y)],\n",
       "[sin(p)*sin(y)*cos(r) - sin(r)*cos(y), -sin(p)*sin(r)*sin(y) - cos(r)*cos(y), sin(y)*cos(p)],\n",
       "[                       cos(p)*cos(r),                        -sin(r)*cos(p),       -sin(p)]])"
      ]
     },
     "execution_count": 21,
     "metadata": {},
     "output_type": "execute_result"
    }
   ],
   "source": [
    "R_EE = R_z * R_y * R_x\n",
    "simplify(R_EE * R_corr)"
   ]
  },
  {
   "cell_type": "code",
   "execution_count": null,
   "metadata": {
    "collapsed": true
   },
   "outputs": [],
   "source": []
  }
 ],
 "metadata": {
  "kernelspec": {
   "display_name": "Python 3",
   "language": "python",
   "name": "python3"
  },
  "language_info": {
   "codemirror_mode": {
    "name": "ipython",
    "version": 3
   },
   "file_extension": ".py",
   "mimetype": "text/x-python",
   "name": "python",
   "nbconvert_exporter": "python",
   "pygments_lexer": "ipython3",
   "version": "3.6.5"
  }
 },
 "nbformat": 4,
 "nbformat_minor": 2
}
